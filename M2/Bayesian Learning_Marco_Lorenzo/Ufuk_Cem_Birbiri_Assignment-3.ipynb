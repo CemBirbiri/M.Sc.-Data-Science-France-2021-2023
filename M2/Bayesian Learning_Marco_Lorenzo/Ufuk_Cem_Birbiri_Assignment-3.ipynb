{
  "cells": [
    {
      "cell_type": "markdown",
      "metadata": {
        "id": "xcbBUuc3WK3c"
      },
      "source": [
        "# Assignment 3"
      ]
    },
    {
      "cell_type": "markdown",
      "metadata": {
        "collapsed": true,
        "id": "ksPSNOkUWK3d"
      },
      "source": [
        "**Exercise**\n",
        "\n",
        "\n",
        "In this exercise, you will use the ADNI dataset from the past lesson."
      ]
    },
    {
      "cell_type": "code",
      "execution_count": 47,
      "metadata": {
        "colab": {
          "base_uri": "https://localhost:8080/"
        },
        "id": "FV8veTijWK3e",
        "outputId": "bc64a935-5187-4c4c-8b0d-00e0081f6ccc"
      },
      "outputs": [
        {
          "output_type": "stream",
          "name": "stdout",
          "text": [
            "   RID  APOE4  DX   AGE  WholeBrain.bl           ICV  norm_brain\n",
            "0    2    0.0   0  74.3      1229738.0  1.984657e+06   -0.907716\n",
            "1    3    1.0   1  81.3      1129834.0  1.920691e+06   -1.508346\n",
            "3    5    0.0   0  73.7      1116633.0  1.640766e+06    0.258629\n",
            "5    7    1.0   1  75.4       875798.0  1.353519e+06   -0.382669\n",
            "6    8    0.0   0  84.5       948684.0  1.396068e+06    0.239182\n"
          ]
        }
      ],
      "source": [
        "import numpy as np\n",
        "import pandas as pd\n",
        "import matplotlib.pyplot as plt\n",
        "import scipy\n",
        "from scipy.stats import norm\n",
        "\n",
        "\n",
        "data = pd.read_csv('/content/adni_data')\n",
        "pd.set_option('mode.chained_assignment', None) \n",
        "\n",
        "data_ct_ad = data.query('DX == 1 | DX == 3') \n",
        "data_ct_ad['DX'] = data_ct_ad['DX'].map({1: 0, 3: 1})\n",
        "\n",
        "data_ct_ad['norm_brain'] = data_ct_ad['WholeBrain.bl']/data_ct_ad['ICV']\n",
        "data_ct_ad['norm_brain'] = (data_ct_ad['norm_brain'] - np.mean(data_ct_ad['norm_brain']))/np.std(data_ct_ad['norm_brain'])\n",
        "data_ct_ad.dropna(inplace = True)\n",
        "\n",
        "\n",
        "print(data_ct_ad[:5])"
      ]
    },
    {
      "cell_type": "markdown",
      "metadata": {
        "id": "4gBG2HJgWK3f"
      },
      "source": [
        "###1) Fit a model to predict the diagnosis (DX) of the subjects using both AGE and APOE4 as predictors.**"
      ]
    },
    {
      "cell_type": "code",
      "source": [
        "#!pip install nest_asyncio"
      ],
      "metadata": {
        "id": "geyX8d7hre2R"
      },
      "execution_count": 48,
      "outputs": []
    },
    {
      "cell_type": "code",
      "source": [
        "import stan\n",
        "import nest_asyncio as asyncio\n",
        "import nest_asyncio\n",
        "nest_asyncio.apply()"
      ],
      "metadata": {
        "id": "nKXPn_TsrdL4"
      },
      "execution_count": 49,
      "outputs": []
    },
    {
      "cell_type": "code",
      "source": [
        "binomial_model_code_2 = \"\"\"\n",
        "data {\n",
        "  int<lower=1> N;\n",
        "  int y[N];\n",
        "  real x[N];\n",
        "  real x_g[N];\n",
        "}\n",
        "parameters {\n",
        "  real a;\n",
        "  real b;\n",
        "  real c;\n",
        "}\n",
        "transformed parameters {\n",
        "  vector[N] p_i;\n",
        "  for (i in 1:N) {\n",
        "    p_i[i] = exp(a + b * x[i] + c * x_g[i])/(1 + exp(a + b * x[i] + c * x_g[i])); \n",
        "    }\n",
        "}\n",
        "model {\n",
        "  c ~ normal(0, 3);\n",
        "  b ~ normal(0, 3);\n",
        "  a ~ normal(0, 3);\n",
        "  y ~ binomial(1, p_i);\n",
        "}\n",
        "\"\"\""
      ],
      "metadata": {
        "id": "x_NYxidirJ_J"
      },
      "execution_count": 50,
      "outputs": []
    },
    {
      "cell_type": "code",
      "source": [
        "data_to_stan2 = dict(x = np.array(data_ct_ad['AGE']), \n",
        "                    x_g = np.array(data_ct_ad['APOE4']),\n",
        "                    y = np.array(data_ct_ad['DX']), \n",
        "                    N = len(data_ct_ad['DX']))\n",
        "\n",
        "seed = 123\n",
        "\n",
        "posterior2 = stan.build(binomial_model_code_2, data=data_to_stan2, random_seed=seed)"
      ],
      "metadata": {
        "colab": {
          "base_uri": "https://localhost:8080/"
        },
        "id": "6m4PrYbSrMmP",
        "outputId": "695527a8-27ad-482e-9621-b8492b5be1f5"
      },
      "execution_count": 51,
      "outputs": [
        {
          "output_type": "stream",
          "name": "stdout",
          "text": [
            "Building...\n"
          ]
        },
        {
          "output_type": "stream",
          "name": "stderr",
          "text": [
            "\n",
            "Building: 21.6s, done."
          ]
        }
      ]
    },
    {
      "cell_type": "code",
      "source": [
        "fit2 = posterior2.sample(num_chains=4, num_samples=1000)\n",
        "df2 = fit2.to_frame()\n",
        "print(df2.describe().T[:10])"
      ],
      "metadata": {
        "colab": {
          "base_uri": "https://localhost:8080/"
        },
        "id": "OAJFHNqirQjd",
        "outputId": "1c8acf1a-5553-40f6-9260-9af3f02cd43d"
      },
      "execution_count": 52,
      "outputs": [
        {
          "output_type": "stream",
          "name": "stderr",
          "text": [
            "Sampling:   0%\n",
            "Sampling:   0% (1/8000)\n",
            "Sampling:   0% (2/8000)\n",
            "Sampling:   1% (101/8000)\n",
            "Sampling:   3% (201/8000)\n",
            "Sampling:   4% (301/8000)\n",
            "Sampling:   5% (401/8000)\n",
            "Sampling:   6% (500/8000)\n",
            "Sampling:   8% (600/8000)\n",
            "Sampling:   9% (700/8000)\n",
            "Sampling:  10% (800/8000)\n",
            "Sampling:  11% (900/8000)\n",
            "Sampling:  12% (1000/8000)\n",
            "Sampling:  14% (1100/8000)\n",
            "Sampling:  15% (1200/8000)\n",
            "Sampling:  16% (1300/8000)\n",
            "Sampling:  18% (1400/8000)\n",
            "Sampling:  19% (1501/8000)\n",
            "Sampling:  20% (1601/8000)\n",
            "Sampling:  21% (1701/8000)\n",
            "Sampling:  22% (1800/8000)\n",
            "Sampling:  24% (1900/8000)\n",
            "Sampling:  25% (2000/8000)\n",
            "Sampling:  26% (2100/8000)\n",
            "Sampling:  28% (2200/8000)\n",
            "Sampling:  29% (2301/8000)\n",
            "Sampling:  30% (2401/8000)\n",
            "Sampling:  31% (2500/8000)\n",
            "Sampling:  32% (2600/8000)\n",
            "Sampling:  34% (2700/8000)\n",
            "Sampling:  35% (2800/8000)\n",
            "Sampling:  36% (2900/8000)\n",
            "Sampling:  38% (3000/8000)\n",
            "Sampling:  39% (3100/8000)\n",
            "Sampling:  40% (3200/8000)\n",
            "Sampling:  41% (3300/8000)\n",
            "Sampling:  42% (3400/8000)\n",
            "Sampling:  44% (3500/8000)\n",
            "Sampling:  45% (3600/8000)\n",
            "Sampling:  45% (3601/8000)\n",
            "Sampling:  46% (3701/8000)\n",
            "Sampling:  48% (3801/8000)\n",
            "Sampling:  49% (3901/8000)\n",
            "Sampling:  49% (3902/8000)\n",
            "Sampling:  50% (4002/8000)\n",
            "Sampling:  51% (4101/8000)\n",
            "Sampling:  53% (4201/8000)\n",
            "Sampling:  54% (4301/8000)\n",
            "Sampling:  55% (4400/8000)\n",
            "Sampling:  56% (4500/8000)\n",
            "Sampling:  58% (4600/8000)\n",
            "Sampling:  59% (4700/8000)\n",
            "Sampling:  60% (4800/8000)\n",
            "Sampling:  61% (4900/8000)\n",
            "Sampling:  62% (5000/8000)\n",
            "Sampling:  64% (5100/8000)\n",
            "Sampling:  65% (5200/8000)\n",
            "Sampling:  66% (5300/8000)\n",
            "Sampling:  68% (5400/8000)\n",
            "Sampling:  69% (5500/8000)\n",
            "Sampling:  70% (5601/8000)\n",
            "Sampling:  71% (5701/8000)\n",
            "Sampling:  72% (5800/8000)\n",
            "Sampling:  74% (5900/8000)\n",
            "Sampling:  75% (6000/8000)\n",
            "Sampling:  76% (6100/8000)\n",
            "Sampling:  78% (6200/8000)\n",
            "Sampling:  79% (6301/8000)\n",
            "Sampling:  80% (6401/8000)\n",
            "Sampling:  81% (6500/8000)\n",
            "Sampling:  82% (6600/8000)\n",
            "Sampling:  84% (6700/8000)\n",
            "Sampling:  85% (6800/8000)\n",
            "Sampling:  86% (6900/8000)\n",
            "Sampling:  88% (7000/8000)\n",
            "Sampling:  89% (7100/8000)\n",
            "Sampling:  90% (7200/8000)\n",
            "Sampling:  91% (7300/8000)\n",
            "Sampling:  92% (7400/8000)\n",
            "Sampling:  94% (7500/8000)\n",
            "Sampling:  95% (7600/8000)\n",
            "Sampling:  96% (7700/8000)\n",
            "Sampling:  98% (7800/8000)\n",
            "Sampling:  99% (7900/8000)\n",
            "Sampling: 100% (8000/8000)\n",
            "Sampling: 100% (8000/8000), done.\n",
            "Messages received during sampling:\n",
            "  Rejecting initial value:\n",
            "    Log probability evaluates to log(0), i.e. negative infinity.\n",
            "    Stan can't start sampling from this initial value.\n",
            "  Gradient evaluation took 0.001248 seconds\n",
            "  1000 transitions using 10 leapfrog steps per transition would take 12.48 seconds.\n",
            "  Adjust your expectations accordingly!\n",
            "  Informational Message: The current Metropolis proposal is about to be rejected because of the following issue:\n",
            "  Exception: binomial_lpmf: Probability parameter[1] is -nan, but must be in the interval [0, 1] (in '/tmp/httpstan_ghl37hdt/model_l63qoft5.stan', line 23, column 2 to column 23)\n",
            "  If this warning occurs sporadically, such as for highly constrained variable types like covariance matrices, then the sampler is fine,\n",
            "  but if this warning occurs often then your model may be either severely ill-conditioned or misspecified.\n",
            "  Informational Message: The current Metropolis proposal is about to be rejected because of the following issue:\n",
            "  Exception: binomial_lpmf: Probability parameter[1] is -nan, but must be in the interval [0, 1] (in '/tmp/httpstan_ghl37hdt/model_l63qoft5.stan', line 23, column 2 to column 23)\n",
            "  If this warning occurs sporadically, such as for highly constrained variable types like covariance matrices, then the sampler is fine,\n",
            "  but if this warning occurs often then your model may be either severely ill-conditioned or misspecified.\n",
            "  Informational Message: The current Metropolis proposal is about to be rejected because of the following issue:\n",
            "  Exception: binomial_lpmf: Probability parameter[1] is -nan, but must be in the interval [0, 1] (in '/tmp/httpstan_ghl37hdt/model_l63qoft5.stan', line 23, column 2 to column 23)\n",
            "  If this warning occurs sporadically, such as for highly constrained variable types like covariance matrices, then the sampler is fine,\n",
            "  but if this warning occurs often then your model may be either severely ill-conditioned or misspecified.\n",
            "  Informational Message: The current Metropolis proposal is about to be rejected because of the following issue:\n",
            "  Exception: binomial_lpmf: Probability parameter[1] is -nan, but must be in the interval [0, 1] (in '/tmp/httpstan_ghl37hdt/model_l63qoft5.stan', line 23, column 2 to column 23)\n",
            "  If this warning occurs sporadically, such as for highly constrained variable types like covariance matrices, then the sampler is fine,\n",
            "  but if this warning occurs often then your model may be either severely ill-conditioned or misspecified.\n",
            "  Informational Message: The current Metropolis proposal is about to be rejected because of the following issue:\n",
            "  Exception: binomial_lpmf: Probability parameter[1] is -nan, but must be in the interval [0, 1] (in '/tmp/httpstan_ghl37hdt/model_l63qoft5.stan', line 23, column 2 to column 23)\n",
            "  If this warning occurs sporadically, such as for highly constrained variable types like covariance matrices, then the sampler is fine,\n",
            "  but if this warning occurs often then your model may be either severely ill-conditioned or misspecified.\n",
            "  Informational Message: The current Metropolis proposal is about to be rejected because of the following issue:\n",
            "  Exception: binomial_lpmf: Probability parameter[1] is -nan, but must be in the interval [0, 1] (in '/tmp/httpstan_ghl37hdt/model_l63qoft5.stan', line 23, column 2 to column 23)\n",
            "  If this warning occurs sporadically, such as for highly constrained variable types like covariance matrices, then the sampler is fine,\n",
            "  but if this warning occurs often then your model may be either severely ill-conditioned or misspecified.\n",
            "  Informational Message: The current Metropolis proposal is about to be rejected because of the following issue:\n",
            "  Exception: binomial_lpmf: Probability parameter[1] is -nan, but must be in the interval [0, 1] (in '/tmp/httpstan_ghl37hdt/model_l63qoft5.stan', line 23, column 2 to column 23)\n",
            "  If this warning occurs sporadically, such as for highly constrained variable types like covariance matrices, then the sampler is fine,\n",
            "  but if this warning occurs often then your model may be either severely ill-conditioned or misspecified.\n",
            "  Informational Message: The current Metropolis proposal is about to be rejected because of the following issue:\n",
            "  Exception: binomial_lpmf: Probability parameter[1] is -nan, but must be in the interval [0, 1] (in '/tmp/httpstan_ghl37hdt/model_l63qoft5.stan', line 23, column 2 to column 23)\n",
            "  If this warning occurs sporadically, such as for highly constrained variable types like covariance matrices, then the sampler is fine,\n",
            "  but if this warning occurs often then your model may be either severely ill-conditioned or misspecified.\n",
            "  Informational Message: The current Metropolis proposal is about to be rejected because of the following issue:\n",
            "  Exception: binomial_lpmf: Probability parameter[1] is -nan, but must be in the interval [0, 1] (in '/tmp/httpstan_ghl37hdt/model_l63qoft5.stan', line 23, column 2 to column 23)\n",
            "  If this warning occurs sporadically, such as for highly constrained variable types like covariance matrices, then the sampler is fine,\n",
            "  but if this warning occurs often then your model may be either severely ill-conditioned or misspecified.\n",
            "  Informational Message: The current Metropolis proposal is about to be rejected because of the following issue:\n",
            "  Exception: binomial_lpmf: Probability parameter[1] is -nan, but must be in the interval [0, 1] (in '/tmp/httpstan_ghl37hdt/model_l63qoft5.stan', line 23, column 2 to column 23)\n",
            "  If this warning occurs sporadically, such as for highly constrained variable types like covariance matrices, then the sampler is fine,\n",
            "  but if this warning occurs often then your model may be either severely ill-conditioned or misspecified.\n",
            "  Gradient evaluation took 0.001596 seconds\n",
            "  1000 transitions using 10 leapfrog steps per transition would take 15.96 seconds.\n",
            "  Adjust your expectations accordingly!\n",
            "  Informational Message: The current Metropolis proposal is about to be rejected because of the following issue:\n",
            "  Exception: binomial_lpmf: Probability parameter[1] is -nan, but must be in the interval [0, 1] (in '/tmp/httpstan_ghl37hdt/model_l63qoft5.stan', line 23, column 2 to column 23)\n",
            "  If this warning occurs sporadically, such as for highly constrained variable types like covariance matrices, then the sampler is fine,\n",
            "  but if this warning occurs often then your model may be either severely ill-conditioned or misspecified.\n",
            "  Informational Message: The current Metropolis proposal is about to be rejected because of the following issue:\n",
            "  Exception: binomial_lpmf: Probability parameter[1] is -nan, but must be in the interval [0, 1] (in '/tmp/httpstan_ghl37hdt/model_l63qoft5.stan', line 23, column 2 to column 23)\n",
            "  If this warning occurs sporadically, such as for highly constrained variable types like covariance matrices, then the sampler is fine,\n",
            "  but if this warning occurs often then your model may be either severely ill-conditioned or misspecified.\n",
            "  Informational Message: The current Metropolis proposal is about to be rejected because of the following issue:\n",
            "  Exception: binomial_lpmf: Probability parameter[1] is -nan, but must be in the interval [0, 1] (in '/tmp/httpstan_ghl37hdt/model_l63qoft5.stan', line 23, column 2 to column 23)\n",
            "  If this warning occurs sporadically, such as for highly constrained variable types like covariance matrices, then the sampler is fine,\n",
            "  but if this warning occurs often then your model may be either severely ill-conditioned or misspecified.\n",
            "  Informational Message: The current Metropolis proposal is about to be rejected because of the following issue:\n",
            "  Exception: binomial_lpmf: Probability parameter[1] is -nan, but must be in the interval [0, 1] (in '/tmp/httpstan_ghl37hdt/model_l63qoft5.stan', line 23, column 2 to column 23)\n",
            "  If this warning occurs sporadically, such as for highly constrained variable types like covariance matrices, then the sampler is fine,\n",
            "  but if this warning occurs often then your model may be either severely ill-conditioned or misspecified.\n",
            "  Informational Message: The current Metropolis proposal is about to be rejected because of the following issue:\n",
            "  Exception: binomial_lpmf: Probability parameter[1] is -nan, but must be in the interval [0, 1] (in '/tmp/httpstan_ghl37hdt/model_l63qoft5.stan', line 23, column 2 to column 23)\n",
            "  If this warning occurs sporadically, such as for highly constrained variable types like covariance matrices, then the sampler is fine,\n",
            "  but if this warning occurs often then your model may be either severely ill-conditioned or misspecified.\n",
            "  Informational Message: The current Metropolis proposal is about to be rejected because of the following issue:\n",
            "  Exception: binomial_lpmf: Probability parameter[1] is -nan, but must be in the interval [0, 1] (in '/tmp/httpstan_ghl37hdt/model_l63qoft5.stan', line 23, column 2 to column 23)\n",
            "  If this warning occurs sporadically, such as for highly constrained variable types like covariance matrices, then the sampler is fine,\n",
            "  but if this warning occurs often then your model may be either severely ill-conditioned or misspecified.\n",
            "  Informational Message: The current Metropolis proposal is about to be rejected because of the following issue:\n",
            "  Exception: binomial_lpmf: Probability parameter[1] is -nan, but must be in the interval [0, 1] (in '/tmp/httpstan_ghl37hdt/model_l63qoft5.stan', line 23, column 2 to column 23)\n",
            "  If this warning occurs sporadically, such as for highly constrained variable types like covariance matrices, then the sampler is fine,\n",
            "  but if this warning occurs often then your model may be either severely ill-conditioned or misspecified.\n",
            "  Informational Message: The current Metropolis proposal is about to be rejected because of the following issue:\n",
            "  Exception: binomial_lpmf: Probability parameter[1] is -nan, but must be in the interval [0, 1] (in '/tmp/httpstan_ghl37hdt/model_l63qoft5.stan', line 23, column 2 to column 23)\n",
            "  If this warning occurs sporadically, such as for highly constrained variable types like covariance matrices, then the sampler is fine,\n",
            "  but if this warning occurs often then your model may be either severely ill-conditioned or misspecified.\n",
            "  Informational Message: The current Metropolis proposal is about to be rejected because of the following issue:\n",
            "  Exception: binomial_lpmf: Probability parameter[1] is -nan, but must be in the interval [0, 1] (in '/tmp/httpstan_ghl37hdt/model_l63qoft5.stan', line 23, column 2 to column 23)\n",
            "  If this warning occurs sporadically, such as for highly constrained variable types like covariance matrices, then the sampler is fine,\n",
            "  but if this warning occurs often then your model may be either severely ill-conditioned or misspecified.\n",
            "  Informational Message: The current Metropolis proposal is about to be rejected because of the following issue:\n",
            "  Exception: binomial_lpmf: Probability parameter[1] is -nan, but must be in the interval [0, 1] (in '/tmp/httpstan_ghl37hdt/model_l63qoft5.stan', line 23, column 2 to column 23)\n",
            "  If this warning occurs sporadically, such as for highly constrained variable types like covariance matrices, then the sampler is fine,\n",
            "  but if this warning occurs often then your model may be either severely ill-conditioned or misspecified.\n",
            "  Gradient evaluation took 0.000393 seconds\n",
            "  1000 transitions using 10 leapfrog steps per transition would take 3.93 seconds.\n",
            "  Adjust your expectations accordingly!\n",
            "  Informational Message: The current Metropolis proposal is about to be rejected because of the following issue:\n",
            "  Exception: binomial_lpmf: Probability parameter[1] is -nan, but must be in the interval [0, 1] (in '/tmp/httpstan_ghl37hdt/model_l63qoft5.stan', line 23, column 2 to column 23)\n",
            "  If this warning occurs sporadically, such as for highly constrained variable types like covariance matrices, then the sampler is fine,\n",
            "  but if this warning occurs often then your model may be either severely ill-conditioned or misspecified.\n",
            "  Informational Message: The current Metropolis proposal is about to be rejected because of the following issue:\n",
            "  Exception: binomial_lpmf: Probability parameter[1] is -nan, but must be in the interval [0, 1] (in '/tmp/httpstan_ghl37hdt/model_l63qoft5.stan', line 23, column 2 to column 23)\n",
            "  If this warning occurs sporadically, such as for highly constrained variable types like covariance matrices, then the sampler is fine,\n",
            "  but if this warning occurs often then your model may be either severely ill-conditioned or misspecified.\n",
            "  Informational Message: The current Metropolis proposal is about to be rejected because of the following issue:\n",
            "  Exception: binomial_lpmf: Probability parameter[1] is -nan, but must be in the interval [0, 1] (in '/tmp/httpstan_ghl37hdt/model_l63qoft5.stan', line 23, column 2 to column 23)\n",
            "  If this warning occurs sporadically, such as for highly constrained variable types like covariance matrices, then the sampler is fine,\n",
            "  but if this warning occurs often then your model may be either severely ill-conditioned or misspecified.\n",
            "  Informational Message: The current Metropolis proposal is about to be rejected because of the following issue:\n",
            "  Exception: binomial_lpmf: Probability parameter[1] is -nan, but must be in the interval [0, 1] (in '/tmp/httpstan_ghl37hdt/model_l63qoft5.stan', line 23, column 2 to column 23)\n",
            "  If this warning occurs sporadically, such as for highly constrained variable types like covariance matrices, then the sampler is fine,\n",
            "  but if this warning occurs often then your model may be either severely ill-conditioned or misspecified.\n",
            "  Informational Message: The current Metropolis proposal is about to be rejected because of the following issue:\n",
            "  Exception: binomial_lpmf: Probability parameter[1] is -nan, but must be in the interval [0, 1] (in '/tmp/httpstan_ghl37hdt/model_l63qoft5.stan', line 23, column 2 to column 23)\n",
            "  If this warning occurs sporadically, such as for highly constrained variable types like covariance matrices, then the sampler is fine,\n",
            "  but if this warning occurs often then your model may be either severely ill-conditioned or misspecified.\n",
            "  Informational Message: The current Metropolis proposal is about to be rejected because of the following issue:\n",
            "  Exception: binomial_lpmf: Probability parameter[1] is -nan, but must be in the interval [0, 1] (in '/tmp/httpstan_ghl37hdt/model_l63qoft5.stan', line 23, column 2 to column 23)\n",
            "  If this warning occurs sporadically, such as for highly constrained variable types like covariance matrices, then the sampler is fine,\n",
            "  but if this warning occurs often then your model may be either severely ill-conditioned or misspecified.\n",
            "  Informational Message: The current Metropolis proposal is about to be rejected because of the following issue:\n",
            "  Exception: binomial_lpmf: Probability parameter[1] is -nan, but must be in the interval [0, 1] (in '/tmp/httpstan_ghl37hdt/model_l63qoft5.stan', line 23, column 2 to column 23)\n",
            "  If this warning occurs sporadically, such as for highly constrained variable types like covariance matrices, then the sampler is fine,\n",
            "  but if this warning occurs often then your model may be either severely ill-conditioned or misspecified.\n",
            "  Informational Message: The current Metropolis proposal is about to be rejected because of the following issue:\n",
            "  Exception: binomial_lpmf: Probability parameter[1] is -nan, but must be in the interval [0, 1] (in '/tmp/httpstan_ghl37hdt/model_l63qoft5.stan', line 23, column 2 to column 23)\n",
            "  If this warning occurs sporadically, such as for highly constrained variable types like covariance matrices, then the sampler is fine,\n",
            "  but if this warning occurs often then your model may be either severely ill-conditioned or misspecified.\n",
            "  Informational Message: The current Metropolis proposal is about to be rejected because of the following issue:\n",
            "  Exception: binomial_lpmf: Probability parameter[1] is -nan, but must be in the interval [0, 1] (in '/tmp/httpstan_ghl37hdt/model_l63qoft5.stan', line 23, column 2 to column 23)\n",
            "  If this warning occurs sporadically, such as for highly constrained variable types like covariance matrices, then the sampler is fine,\n",
            "  but if this warning occurs often then your model may be either severely ill-conditioned or misspecified.\n",
            "  Informational Message: The current Metropolis proposal is about to be rejected because of the following issue:\n",
            "  Exception: binomial_lpmf: Probability parameter[1] is -nan, but must be in the interval [0, 1] (in '/tmp/httpstan_ghl37hdt/model_l63qoft5.stan', line 23, column 2 to column 23)\n",
            "  If this warning occurs sporadically, such as for highly constrained variable types like covariance matrices, then the sampler is fine,\n",
            "  but if this warning occurs often then your model may be either severely ill-conditioned or misspecified.\n",
            "  Rejecting initial value:\n",
            "    Log probability evaluates to log(0), i.e. negative infinity.\n",
            "    Stan can't start sampling from this initial value.\n",
            "  Gradient evaluation took 0.000399 seconds\n",
            "  1000 transitions using 10 leapfrog steps per transition would take 3.99 seconds.\n",
            "  Adjust your expectations accordingly!\n"
          ]
        },
        {
          "output_type": "stream",
          "name": "stdout",
          "text": [
            "                count        mean        std         min         25%  \\\n",
            "parameters                                                             \n",
            "lp__           4000.0 -475.328419   1.160519 -483.247067 -475.873176   \n",
            "accept_stat__  4000.0    0.938920   0.087522    0.223955    0.916486   \n",
            "stepsize__     4000.0    0.064550   0.004809    0.057918    0.060992   \n",
            "treedepth__    4000.0    4.423500   1.422376    1.000000    4.000000   \n",
            "n_leapfrog__   4000.0   38.688500  25.113694    1.000000   15.000000   \n",
            "divergent__    4000.0    0.000000   0.000000    0.000000    0.000000   \n",
            "energy__       4000.0  476.809436   1.676744  473.910928  475.581167   \n",
            "a              4000.0   -3.947208   0.876653   -6.941313   -4.581999   \n",
            "b              4000.0    0.035796   0.011483    0.002105    0.027849   \n",
            "c              4000.0    1.477997   0.129367    1.033879    1.386660   \n",
            "\n",
            "                      50%         75%         max  \n",
            "parameters                                         \n",
            "lp__          -475.036980 -474.474377 -473.852760  \n",
            "accept_stat__    0.976881    0.997347    1.000000  \n",
            "stepsize__       0.065464    0.069022    0.069352  \n",
            "treedepth__      5.000000    6.000000    7.000000  \n",
            "n_leapfrog__    35.000000   63.000000  127.000000  \n",
            "divergent__      0.000000    0.000000    0.000000  \n",
            "energy__       476.498194  477.692020  486.560991  \n",
            "a               -3.975833   -3.338560   -1.417742  \n",
            "b                0.036165    0.044214    0.075273  \n",
            "c                1.478780    1.565226    1.924492  \n"
          ]
        }
      ]
    },
    {
      "cell_type": "code",
      "execution_count": 53,
      "metadata": {
        "id": "Jc62gCo1T-Q5"
      },
      "outputs": [],
      "source": [
        "p_i2 = fit2['p_i']\n",
        "\n",
        "lppd2 = []\n",
        "pwaic2 = []\n",
        "for i in range(len(data_ct_ad)):\n",
        "    id_log_lik2 = []\n",
        "    for k in range(1000):\n",
        "        p = p_i2[i,k]\n",
        "        id_log_lik2.append(scipy.stats.binom.logpmf(data_ct_ad['DX'].values[i], 1, p))\n",
        "    lppd2.append(scipy.special.logsumexp(id_log_lik2) - np.log(len(id_log_lik2)))\n",
        "    pwaic2.append(np.var(id_log_lik2))\n",
        "\n",
        "waic_apoe_age = -2 * (np.sum(lppd2) -np.sum(pwaic2))"
      ]
    },
    {
      "cell_type": "code",
      "execution_count": 54,
      "metadata": {
        "colab": {
          "base_uri": "https://localhost:8080/"
        },
        "id": "0eqxZbLuT-Q5",
        "outputId": "3a643182-a969-4951-cd3c-59c4d0da7cf9"
      },
      "outputs": [
        {
          "output_type": "stream",
          "name": "stdout",
          "text": [
            "951.6944483594174\n"
          ]
        }
      ],
      "source": [
        "print(waic_apoe_age)"
      ]
    },
    {
      "cell_type": "markdown",
      "source": [
        "We got the WAIC score 951.69 when we use both AGE and APOE4 as predictors."
      ],
      "metadata": {
        "id": "ko4jFHEA8e58"
      }
    },
    {
      "cell_type": "markdown",
      "metadata": {
        "id": "tty69Tj0WK3f"
      },
      "source": [
        "###2) Consider subjects who are 80 years old and check the effect of the APOE4 gene on the diagnosis.**\n",
        "\n",
        "Hint: You'll draw many samples from two binomial distributions. One where APOE4 is included in the computation of $p_i$ and one where it's not."
      ]
    },
    {
      "cell_type": "markdown",
      "source": [
        "Firstly, we extract the patients whose age is 80"
      ],
      "metadata": {
        "id": "LGiWvuBSZJsE"
      }
    },
    {
      "cell_type": "code",
      "source": [
        "data_age80 = data_ct_ad.query(\"AGE == 80\")\n",
        "data_age80"
      ],
      "metadata": {
        "colab": {
          "base_uri": "https://localhost:8080/",
          "height": 175
        },
        "id": "vKnK9131YdJC",
        "outputId": "08df19d4-1a0f-4138-d554-78a4caaca0aa"
      },
      "execution_count": 55,
      "outputs": [
        {
          "output_type": "execute_result",
          "data": {
            "text/plain": [
              "      RID  APOE4  DX   AGE  WholeBrain.bl           ICV  norm_brain\n",
              "139   230    0.0   0  80.0      1051053.0  1.714028e+06   -1.030522\n",
              "489   866    0.0   0  80.0       943825.0  1.388961e+06    0.238778\n",
              "522   920    1.0   0  80.0       946606.0  1.464818e+06   -0.398452\n",
              "740  1285    1.0   1  80.0      1025968.0  1.626103e+06   -0.691147"
            ],
            "text/html": [
              "\n",
              "  <div id=\"df-871fbb5e-547d-4075-8053-2b52da32b4a7\">\n",
              "    <div class=\"colab-df-container\">\n",
              "      <div>\n",
              "<style scoped>\n",
              "    .dataframe tbody tr th:only-of-type {\n",
              "        vertical-align: middle;\n",
              "    }\n",
              "\n",
              "    .dataframe tbody tr th {\n",
              "        vertical-align: top;\n",
              "    }\n",
              "\n",
              "    .dataframe thead th {\n",
              "        text-align: right;\n",
              "    }\n",
              "</style>\n",
              "<table border=\"1\" class=\"dataframe\">\n",
              "  <thead>\n",
              "    <tr style=\"text-align: right;\">\n",
              "      <th></th>\n",
              "      <th>RID</th>\n",
              "      <th>APOE4</th>\n",
              "      <th>DX</th>\n",
              "      <th>AGE</th>\n",
              "      <th>WholeBrain.bl</th>\n",
              "      <th>ICV</th>\n",
              "      <th>norm_brain</th>\n",
              "    </tr>\n",
              "  </thead>\n",
              "  <tbody>\n",
              "    <tr>\n",
              "      <th>139</th>\n",
              "      <td>230</td>\n",
              "      <td>0.0</td>\n",
              "      <td>0</td>\n",
              "      <td>80.0</td>\n",
              "      <td>1051053.0</td>\n",
              "      <td>1.714028e+06</td>\n",
              "      <td>-1.030522</td>\n",
              "    </tr>\n",
              "    <tr>\n",
              "      <th>489</th>\n",
              "      <td>866</td>\n",
              "      <td>0.0</td>\n",
              "      <td>0</td>\n",
              "      <td>80.0</td>\n",
              "      <td>943825.0</td>\n",
              "      <td>1.388961e+06</td>\n",
              "      <td>0.238778</td>\n",
              "    </tr>\n",
              "    <tr>\n",
              "      <th>522</th>\n",
              "      <td>920</td>\n",
              "      <td>1.0</td>\n",
              "      <td>0</td>\n",
              "      <td>80.0</td>\n",
              "      <td>946606.0</td>\n",
              "      <td>1.464818e+06</td>\n",
              "      <td>-0.398452</td>\n",
              "    </tr>\n",
              "    <tr>\n",
              "      <th>740</th>\n",
              "      <td>1285</td>\n",
              "      <td>1.0</td>\n",
              "      <td>1</td>\n",
              "      <td>80.0</td>\n",
              "      <td>1025968.0</td>\n",
              "      <td>1.626103e+06</td>\n",
              "      <td>-0.691147</td>\n",
              "    </tr>\n",
              "  </tbody>\n",
              "</table>\n",
              "</div>\n",
              "      <button class=\"colab-df-convert\" onclick=\"convertToInteractive('df-871fbb5e-547d-4075-8053-2b52da32b4a7')\"\n",
              "              title=\"Convert this dataframe to an interactive table.\"\n",
              "              style=\"display:none;\">\n",
              "        \n",
              "  <svg xmlns=\"http://www.w3.org/2000/svg\" height=\"24px\"viewBox=\"0 0 24 24\"\n",
              "       width=\"24px\">\n",
              "    <path d=\"M0 0h24v24H0V0z\" fill=\"none\"/>\n",
              "    <path d=\"M18.56 5.44l.94 2.06.94-2.06 2.06-.94-2.06-.94-.94-2.06-.94 2.06-2.06.94zm-11 1L8.5 8.5l.94-2.06 2.06-.94-2.06-.94L8.5 2.5l-.94 2.06-2.06.94zm10 10l.94 2.06.94-2.06 2.06-.94-2.06-.94-.94-2.06-.94 2.06-2.06.94z\"/><path d=\"M17.41 7.96l-1.37-1.37c-.4-.4-.92-.59-1.43-.59-.52 0-1.04.2-1.43.59L10.3 9.45l-7.72 7.72c-.78.78-.78 2.05 0 2.83L4 21.41c.39.39.9.59 1.41.59.51 0 1.02-.2 1.41-.59l7.78-7.78 2.81-2.81c.8-.78.8-2.07 0-2.86zM5.41 20L4 18.59l7.72-7.72 1.47 1.35L5.41 20z\"/>\n",
              "  </svg>\n",
              "      </button>\n",
              "      \n",
              "  <style>\n",
              "    .colab-df-container {\n",
              "      display:flex;\n",
              "      flex-wrap:wrap;\n",
              "      gap: 12px;\n",
              "    }\n",
              "\n",
              "    .colab-df-convert {\n",
              "      background-color: #E8F0FE;\n",
              "      border: none;\n",
              "      border-radius: 50%;\n",
              "      cursor: pointer;\n",
              "      display: none;\n",
              "      fill: #1967D2;\n",
              "      height: 32px;\n",
              "      padding: 0 0 0 0;\n",
              "      width: 32px;\n",
              "    }\n",
              "\n",
              "    .colab-df-convert:hover {\n",
              "      background-color: #E2EBFA;\n",
              "      box-shadow: 0px 1px 2px rgba(60, 64, 67, 0.3), 0px 1px 3px 1px rgba(60, 64, 67, 0.15);\n",
              "      fill: #174EA6;\n",
              "    }\n",
              "\n",
              "    [theme=dark] .colab-df-convert {\n",
              "      background-color: #3B4455;\n",
              "      fill: #D2E3FC;\n",
              "    }\n",
              "\n",
              "    [theme=dark] .colab-df-convert:hover {\n",
              "      background-color: #434B5C;\n",
              "      box-shadow: 0px 1px 3px 1px rgba(0, 0, 0, 0.15);\n",
              "      filter: drop-shadow(0px 1px 2px rgba(0, 0, 0, 0.3));\n",
              "      fill: #FFFFFF;\n",
              "    }\n",
              "  </style>\n",
              "\n",
              "      <script>\n",
              "        const buttonEl =\n",
              "          document.querySelector('#df-871fbb5e-547d-4075-8053-2b52da32b4a7 button.colab-df-convert');\n",
              "        buttonEl.style.display =\n",
              "          google.colab.kernel.accessAllowed ? 'block' : 'none';\n",
              "\n",
              "        async function convertToInteractive(key) {\n",
              "          const element = document.querySelector('#df-871fbb5e-547d-4075-8053-2b52da32b4a7');\n",
              "          const dataTable =\n",
              "            await google.colab.kernel.invokeFunction('convertToInteractive',\n",
              "                                                     [key], {});\n",
              "          if (!dataTable) return;\n",
              "\n",
              "          const docLinkHtml = 'Like what you see? Visit the ' +\n",
              "            '<a target=\"_blank\" href=https://colab.research.google.com/notebooks/data_table.ipynb>data table notebook</a>'\n",
              "            + ' to learn more about interactive tables.';\n",
              "          element.innerHTML = '';\n",
              "          dataTable['output_type'] = 'display_data';\n",
              "          await google.colab.output.renderOutput(dataTable, element);\n",
              "          const docLink = document.createElement('div');\n",
              "          docLink.innerHTML = docLinkHtml;\n",
              "          element.appendChild(docLink);\n",
              "        }\n",
              "      </script>\n",
              "    </div>\n",
              "  </div>\n",
              "  "
            ]
          },
          "metadata": {},
          "execution_count": 55
        }
      ]
    },
    {
      "cell_type": "markdown",
      "source": [
        "There are only 4 patients with age 80.\n"
      ],
      "metadata": {
        "id": "BOYEdGSdZRJg"
      }
    },
    {
      "cell_type": "markdown",
      "source": [
        "The goal in this question is to determine the effect of APOE4 on the Alzheimer disease. We will draw samples from two binomial distributions:\n",
        "\n",
        "1. One binomial distribution that does not include  APOE4  in the computation of  𝑝𝑖  \n",
        "2. One binomial distribution that does include  APOE4  in the computation of  𝑝𝑖 "
      ],
      "metadata": {
        "id": "hJMVSM0pZmNk"
      }
    },
    {
      "cell_type": "markdown",
      "source": [
        "####2.1 The binomial distribution that does NOT include APOE4 in the computation of 𝑝𝑖"
      ],
      "metadata": {
        "id": "S8GgqaT8iYnG"
      }
    },
    {
      "cell_type": "markdown",
      "source": [
        "  In this model we will only fit `DX` with an intercept $a$~$N(0,3)$:\n",
        "\n",
        "\\begin{align}\n",
        "p_i &= \\frac{\\exp(a)}{1 + \\exp(a)}\n",
        "\\end{align}\n",
        "\n"
      ],
      "metadata": {
        "id": "RyBpeucLjIUm"
      }
    },
    {
      "cell_type": "code",
      "source": [
        "age80_not_include_APOE4 = \"\"\"\n",
        "data {\n",
        "  int<lower=1> N;\n",
        "  int y[N];\n",
        "}\n",
        "parameters {\n",
        "  real a;\n",
        "}\n",
        "transformed parameters {\n",
        "  vector[N] p_i;\n",
        "  for (i in 1:N) {\n",
        "    p_i[i] = exp(a)/(1 + exp(a)); \n",
        "    }\n",
        "}\n",
        "model {\n",
        "  a ~ normal(0, 10);\n",
        "  y ~ binomial(1, p_i);\n",
        "}\n",
        "\"\"\""
      ],
      "metadata": {
        "id": "oMmOpsiii38D"
      },
      "execution_count": 75,
      "outputs": []
    },
    {
      "cell_type": "markdown",
      "source": [
        "(There will be no x in the model and in the data"
      ],
      "metadata": {
        "id": "ntJc0qAno5he"
      }
    },
    {
      "cell_type": "code",
      "source": [
        "data_age80_not_include_APOE4 = dict(y = np.array(data_age80['DX']), \n",
        "                                    N = len(data_age80['DX']))\n",
        "\n",
        "seed = 123\n",
        "\n",
        "posterior_age80_not_include_APOE4 = stan.build(age80_not_include_APOE4, data=data_age80_not_include_APOE4, random_seed=seed)"
      ],
      "metadata": {
        "colab": {
          "base_uri": "https://localhost:8080/"
        },
        "outputId": "1dc7d20c-820b-47f3-d84d-a29b86859c04",
        "id": "LOc2quVZi38L"
      },
      "execution_count": 76,
      "outputs": [
        {
          "output_type": "stream",
          "name": "stdout",
          "text": [
            "Building...\n"
          ]
        },
        {
          "output_type": "stream",
          "name": "stderr",
          "text": [
            "\n",
            "Building: 20.6s, done."
          ]
        }
      ]
    },
    {
      "cell_type": "code",
      "source": [
        "fit3 = posterior_age80_not_include_APOE4.sample(num_chains=4, num_samples=1000)\n",
        "df3 = fit3.to_frame()\n",
        "#print(df3.describe().T[:10])"
      ],
      "metadata": {
        "colab": {
          "base_uri": "https://localhost:8080/"
        },
        "id": "nADe1tThi38L",
        "outputId": "c6b03ec4-d693-45e8-cc01-bc7ad3820a7d"
      },
      "execution_count": 77,
      "outputs": [
        {
          "output_type": "stream",
          "name": "stderr",
          "text": [
            "Sampling:   0%\n",
            "Sampling:  25% (2000/8000)\n",
            "Sampling:  50% (4000/8000)\n",
            "Sampling:  75% (6000/8000)\n",
            "Sampling: 100% (8000/8000)\n",
            "Sampling: 100% (8000/8000), done.\n",
            "Messages received during sampling:\n",
            "  Gradient evaluation took 5e-06 seconds\n",
            "  1000 transitions using 10 leapfrog steps per transition would take 0.05 seconds.\n",
            "  Adjust your expectations accordingly!\n",
            "  Gradient evaluation took 5e-06 seconds\n",
            "  1000 transitions using 10 leapfrog steps per transition would take 0.05 seconds.\n",
            "  Adjust your expectations accordingly!\n",
            "  Informational Message: The current Metropolis proposal is about to be rejected because of the following issue:\n",
            "  Exception: binomial_lpmf: Probability parameter[1] is -nan, but must be in the interval [0, 1] (in '/tmp/httpstan_modxi9e4/model_xb3dkc65.stan', line 17, column 2 to column 23)\n",
            "  If this warning occurs sporadically, such as for highly constrained variable types like covariance matrices, then the sampler is fine,\n",
            "  but if this warning occurs often then your model may be either severely ill-conditioned or misspecified.\n",
            "  Informational Message: The current Metropolis proposal is about to be rejected because of the following issue:\n",
            "  Exception: binomial_lpmf: Probability parameter[1] is -nan, but must be in the interval [0, 1] (in '/tmp/httpstan_modxi9e4/model_xb3dkc65.stan', line 17, column 2 to column 23)\n",
            "  If this warning occurs sporadically, such as for highly constrained variable types like covariance matrices, then the sampler is fine,\n",
            "  but if this warning occurs often then your model may be either severely ill-conditioned or misspecified.\n",
            "  Gradient evaluation took 5e-06 seconds\n",
            "  1000 transitions using 10 leapfrog steps per transition would take 0.05 seconds.\n",
            "  Adjust your expectations accordingly!\n",
            "  Gradient evaluation took 5e-06 seconds\n",
            "  1000 transitions using 10 leapfrog steps per transition would take 0.05 seconds.\n",
            "  Adjust your expectations accordingly!\n"
          ]
        }
      ]
    },
    {
      "cell_type": "code",
      "execution_count": 78,
      "metadata": {
        "id": "9ZJv_Nj3i38L"
      },
      "outputs": [],
      "source": [
        "p_i3 = fit3['p_i']\n",
        "\n",
        "lppd3 = []\n",
        "pwaic3 = []\n",
        "for i in range(len(data_age80)):\n",
        "    id_log_lik3 = []\n",
        "    for k in range(1000):\n",
        "        p = p_i3[i,k]\n",
        "        id_log_lik3.append(scipy.stats.binom.logpmf(data_age80['DX'].values[i], 1, p))\n",
        "    lppd3.append(scipy.special.logsumexp(id_log_lik3) - np.log(len(id_log_lik3)))\n",
        "    pwaic3.append(np.var(id_log_lik3))\n",
        "\n",
        "waic_age80_not_include_APOE4 = -2 * (np.sum(lppd3) -np.sum(pwaic3))"
      ]
    },
    {
      "cell_type": "code",
      "execution_count": 79,
      "metadata": {
        "colab": {
          "base_uri": "https://localhost:8080/"
        },
        "outputId": "982b71fd-7f77-4061-f870-18b0b4f676be",
        "id": "PQRscnYdi38L"
      },
      "outputs": [
        {
          "output_type": "stream",
          "name": "stdout",
          "text": [
            "7.947906955902098\n"
          ]
        }
      ],
      "source": [
        "print(waic_age80_not_include_APOE4)"
      ]
    },
    {
      "cell_type": "code",
      "source": [],
      "metadata": {
        "id": "Gc4FFAwMYdNd"
      },
      "execution_count": 79,
      "outputs": []
    },
    {
      "cell_type": "code",
      "source": [],
      "metadata": {
        "id": "k-_GAv5ZYdPJ"
      },
      "execution_count": 79,
      "outputs": []
    },
    {
      "cell_type": "markdown",
      "source": [
        "####2.2 The binomial distribution that does include APOE4 in the computation of 𝑝𝑖"
      ],
      "metadata": {
        "id": "qPgRkN32iglx"
      }
    },
    {
      "cell_type": "markdown",
      "source": [
        "In this case we will use the model described by a prior normal distribution as we did in the question 1"
      ],
      "metadata": {
        "id": "dS1a7aYMpSq8"
      }
    },
    {
      "cell_type": "code",
      "source": [
        "age80_include_APOE4 = \"\"\"\n",
        "data {\n",
        "  int N;\n",
        "  int y[N];\n",
        "  real x[N];\n",
        "}\n",
        "parameters {\n",
        "  real a;\n",
        "  real b;\n",
        "}\n",
        "transformed parameters {\n",
        "  vector[N] p_i;\n",
        "  for (i in 1:N) {\n",
        "    p_i[i] = exp(a + b * x[i])/(1 + exp(a + b * x[i])); \n",
        "    }\n",
        "}\n",
        "model {\n",
        "  a ~ normal(0, 10);\n",
        "  b ~ normal(0, 10); \n",
        "  y ~ binomial(1, p_i);\n",
        "}\n",
        "\"\"\""
      ],
      "metadata": {
        "id": "1SzC9vpuihsn"
      },
      "execution_count": 80,
      "outputs": []
    },
    {
      "cell_type": "code",
      "source": [
        "data_age80_include_APOE4 = dict(x = np.array(data_age80['APOE4']),\n",
        "                                y = np.array(data_age80['DX']), \n",
        "                                N = len(data_age80['DX']))\n",
        "\n",
        "seed = 123\n",
        "\n",
        "posterior_age80_include_APOE4 = stan.build(age80_include_APOE4, data=data_age80_include_APOE4, random_seed=seed)"
      ],
      "metadata": {
        "colab": {
          "base_uri": "https://localhost:8080/"
        },
        "outputId": "ec563e70-b5f4-4744-ce21-19a7907e3166",
        "id": "4HTjsf9OppRc"
      },
      "execution_count": 81,
      "outputs": [
        {
          "output_type": "stream",
          "name": "stdout",
          "text": [
            "Building...\n"
          ]
        },
        {
          "output_type": "stream",
          "name": "stderr",
          "text": [
            "\n",
            "Building: 21.1s, done."
          ]
        }
      ]
    },
    {
      "cell_type": "code",
      "source": [
        "fit4 = posterior_age80_include_APOE4.sample(num_chains=4, num_samples=1000)\n",
        "df4 = fit4.to_frame()\n",
        "#print(df4.describe().T[:10])"
      ],
      "metadata": {
        "colab": {
          "base_uri": "https://localhost:8080/"
        },
        "outputId": "08c3fc59-b96d-4186-a1d9-754bfe387b15",
        "id": "0aPYdO_FppRk"
      },
      "execution_count": 82,
      "outputs": [
        {
          "output_type": "stream",
          "name": "stderr",
          "text": [
            "Sampling:   0%\n",
            "Sampling:  25% (2000/8000)\n",
            "Sampling:  50% (4000/8000)\n",
            "Sampling:  75% (6000/8000)\n",
            "Sampling: 100% (8000/8000)\n",
            "Sampling: 100% (8000/8000), done.\n",
            "Messages received during sampling:\n",
            "  Gradient evaluation took 6e-06 seconds\n",
            "  1000 transitions using 10 leapfrog steps per transition would take 0.06 seconds.\n",
            "  Adjust your expectations accordingly!\n",
            "  Gradient evaluation took 4e-06 seconds\n",
            "  1000 transitions using 10 leapfrog steps per transition would take 0.04 seconds.\n",
            "  Adjust your expectations accordingly!\n",
            "  Gradient evaluation took 5e-06 seconds\n",
            "  1000 transitions using 10 leapfrog steps per transition would take 0.05 seconds.\n",
            "  Adjust your expectations accordingly!\n",
            "  Gradient evaluation took 5e-06 seconds\n",
            "  1000 transitions using 10 leapfrog steps per transition would take 0.05 seconds.\n",
            "  Adjust your expectations accordingly!\n"
          ]
        }
      ]
    },
    {
      "cell_type": "code",
      "execution_count": 83,
      "metadata": {
        "id": "AcFZsDF1ppRk"
      },
      "outputs": [],
      "source": [
        "p_i4 = fit4['p_i']\n",
        "\n",
        "lppd4 = []\n",
        "pwaic4 = []\n",
        "for i in range(len(data_age80)):\n",
        "    id_log_lik4 = []\n",
        "    for k in range(1000):\n",
        "        p = p_i4[i,k]\n",
        "        id_log_lik4.append(scipy.stats.binom.logpmf(data_age80['DX'].values[i], 1, p))\n",
        "    lppd4.append(scipy.special.logsumexp(id_log_lik4) - np.log(len(id_log_lik4)))\n",
        "    pwaic4.append(np.var(id_log_lik4))\n",
        "\n",
        "waic_age80_include_APOE4 = -2 * (np.sum(lppd4) -np.sum(pwaic4))"
      ]
    },
    {
      "cell_type": "code",
      "execution_count": 84,
      "metadata": {
        "colab": {
          "base_uri": "https://localhost:8080/"
        },
        "outputId": "9312bafc-1b8d-43d2-f8f5-750212d29d36",
        "id": "upkVJrIAppRk"
      },
      "outputs": [
        {
          "output_type": "stream",
          "name": "stdout",
          "text": [
            "6.867027604796464\n"
          ]
        }
      ],
      "source": [
        "print(waic_age80_include_APOE4)"
      ]
    },
    {
      "cell_type": "markdown",
      "source": [
        "So now let's print both of the results and compare them:"
      ],
      "metadata": {
        "id": "1cL-9GVy72_w"
      }
    },
    {
      "cell_type": "code",
      "source": [
        "print(\"WAIC score without APOE4 =\", waic_age80_not_include_APOE4)\n",
        "print(\"WAIC score wit APOE4 =\", waic_age80_include_APOE4)"
      ],
      "metadata": {
        "colab": {
          "base_uri": "https://localhost:8080/"
        },
        "id": "7PV5V0Z-r3Al",
        "outputId": "e9e1a7a4-e472-456e-e08e-8690510415f8"
      },
      "execution_count": 86,
      "outputs": [
        {
          "output_type": "stream",
          "name": "stdout",
          "text": [
            "WAIC score without APOE4 = 7.947906955902098\n",
            "WAIC score wit APOE4 = 6.867027604796464\n"
          ]
        }
      ]
    },
    {
      "cell_type": "markdown",
      "source": [
        "The WAIC score decreased when we use APOE4, that means adding APOE4 positively impacts the accuracy of a prediction of the disease in patients whose age are 80."
      ],
      "metadata": {
        "id": "fi2o0Wab8HCe"
      }
    },
    {
      "cell_type": "markdown",
      "metadata": {
        "id": "WAOLvcttWK3g"
      },
      "source": [
        "###3) In the last lesson, we fitted a model to predict the diagnosis using only the size of the brain (norm_brain). Compare this model and the one of question 1 in terms of WAIC. Is one better than the other ?**"
      ]
    },
    {
      "cell_type": "markdown",
      "source": [
        "Firstly, I will fit the model to predict the diagnosis using only the size of the brain (norm_brain) and get the WAIC result. Then I will compare the result with the WAIC score in Question-1."
      ],
      "metadata": {
        "id": "k2DS6Qqa03KK"
      }
    },
    {
      "cell_type": "markdown",
      "source": [
        "We write the Stan code with only one feature(norm_brain):"
      ],
      "metadata": {
        "id": "n6x4VbW82Dne"
      }
    },
    {
      "cell_type": "code",
      "execution_count": 67,
      "metadata": {
        "id": "2YBl6sZ6T-Q3"
      },
      "outputs": [],
      "source": [
        "binomial_model_code = \"\"\"\n",
        "data {\n",
        "  int<lower=1> N;\n",
        "  int y[N];\n",
        "  real x[N];\n",
        "}\n",
        "parameters {\n",
        "  real a;\n",
        "  real b;\n",
        "}\n",
        "transformed parameters {\n",
        "  vector[N] p_i;\n",
        "  for (i in 1:N) {\n",
        "    p_i[i] = exp(a + b * x[i])/(1 + exp(a + b * x[i])); \n",
        "    }\n",
        "}\n",
        "model {\n",
        "  b ~ normal(0, 3);\n",
        "  a ~ normal(0, 3);\n",
        "  y ~ binomial(1, p_i);\n",
        "}\n",
        "\"\"\"\n"
      ]
    },
    {
      "cell_type": "markdown",
      "source": [
        "We define the x and y. Then we find the posterior "
      ],
      "metadata": {
        "id": "tMni69xd2Rar"
      }
    },
    {
      "cell_type": "code",
      "execution_count": 68,
      "metadata": {
        "colab": {
          "base_uri": "https://localhost:8080/"
        },
        "id": "I9x5tCvaT-Q3",
        "outputId": "29be1ea2-149e-44f0-f849-cbe6a7285155"
      },
      "outputs": [
        {
          "output_type": "stream",
          "name": "stdout",
          "text": [
            "Building...\n"
          ]
        },
        {
          "output_type": "stream",
          "name": "stderr",
          "text": [
            "\n",
            "Building: 21.1s, done."
          ]
        }
      ],
      "source": [
        "data_to_stan = dict(x = np.array(data_ct_ad['norm_brain']), y = np.array(data_ct_ad['DX']), N = len(data_ct_ad['DX']))\n",
        "\n",
        "seed = 123\n",
        "\n",
        "posterior = stan.build(binomial_model_code, data=data_to_stan, random_seed=seed)"
      ]
    },
    {
      "cell_type": "markdown",
      "source": [
        "We fit the model:"
      ],
      "metadata": {
        "id": "CrCLpPbU4BkT"
      }
    },
    {
      "cell_type": "code",
      "execution_count": 69,
      "metadata": {
        "colab": {
          "base_uri": "https://localhost:8080/"
        },
        "id": "yMdiQLNcT-Q4",
        "outputId": "72a4adab-7308-45ac-b88c-27903142ff58"
      },
      "outputs": [
        {
          "output_type": "stream",
          "name": "stderr",
          "text": [
            "Sampling:   0%\n",
            "Sampling:   1% (100/8000)\n",
            "Sampling:   2% (200/8000)\n",
            "Sampling:   6% (500/8000)\n",
            "Sampling:  10% (800/8000)\n",
            "Sampling:  14% (1100/8000)\n",
            "Sampling:  18% (1400/8000)\n",
            "Sampling:  34% (2700/8000)\n",
            "Sampling:  50% (4000/8000)\n",
            "Sampling:  75% (6000/8000)\n",
            "Sampling: 100% (8000/8000)\n",
            "Sampling: 100% (8000/8000), done.\n",
            "Messages received during sampling:\n",
            "  Gradient evaluation took 0.000331 seconds\n",
            "  1000 transitions using 10 leapfrog steps per transition would take 3.31 seconds.\n",
            "  Adjust your expectations accordingly!\n",
            "  Informational Message: The current Metropolis proposal is about to be rejected because of the following issue:\n",
            "  Exception: binomial_lpmf: Probability parameter[1] is -nan, but must be in the interval [0, 1] (in '/tmp/httpstan_mloao_hw/model_hzwpgw3l.stan', line 20, column 2 to column 23)\n",
            "  If this warning occurs sporadically, such as for highly constrained variable types like covariance matrices, then the sampler is fine,\n",
            "  but if this warning occurs often then your model may be either severely ill-conditioned or misspecified.\n",
            "  Gradient evaluation took 0.000381 seconds\n",
            "  1000 transitions using 10 leapfrog steps per transition would take 3.81 seconds.\n",
            "  Adjust your expectations accordingly!\n",
            "  Informational Message: The current Metropolis proposal is about to be rejected because of the following issue:\n",
            "  Exception: binomial_lpmf: Probability parameter[1] is -nan, but must be in the interval [0, 1] (in '/tmp/httpstan_mloao_hw/model_hzwpgw3l.stan', line 20, column 2 to column 23)\n",
            "  If this warning occurs sporadically, such as for highly constrained variable types like covariance matrices, then the sampler is fine,\n",
            "  but if this warning occurs often then your model may be either severely ill-conditioned or misspecified.\n",
            "  Gradient evaluation took 0.000205 seconds\n",
            "  1000 transitions using 10 leapfrog steps per transition would take 2.05 seconds.\n",
            "  Adjust your expectations accordingly!\n",
            "  Informational Message: The current Metropolis proposal is about to be rejected because of the following issue:\n",
            "  Exception: binomial_lpmf: Probability parameter[1] is -nan, but must be in the interval [0, 1] (in '/tmp/httpstan_mloao_hw/model_hzwpgw3l.stan', line 20, column 2 to column 23)\n",
            "  If this warning occurs sporadically, such as for highly constrained variable types like covariance matrices, then the sampler is fine,\n",
            "  but if this warning occurs often then your model may be either severely ill-conditioned or misspecified.\n",
            "  Gradient evaluation took 0.0002 seconds\n",
            "  1000 transitions using 10 leapfrog steps per transition would take 2 seconds.\n",
            "  Adjust your expectations accordingly!\n",
            "  Informational Message: The current Metropolis proposal is about to be rejected because of the following issue:\n",
            "  Exception: binomial_lpmf: Probability parameter[6] is -nan, but must be in the interval [0, 1] (in '/tmp/httpstan_mloao_hw/model_hzwpgw3l.stan', line 20, column 2 to column 23)\n",
            "  If this warning occurs sporadically, such as for highly constrained variable types like covariance matrices, then the sampler is fine,\n",
            "  but if this warning occurs often then your model may be either severely ill-conditioned or misspecified.\n"
          ]
        },
        {
          "output_type": "stream",
          "name": "stdout",
          "text": [
            "draws                0           1           2           3           4     \\\n",
            "parameters                                                                  \n",
            "lp__          -459.482863 -459.641495 -460.052334 -459.391449 -459.581164   \n",
            "accept_stat__    0.929982    0.863033    0.993246    0.995092    0.971044   \n",
            "stepsize__       0.815036    0.859751    0.775350    0.819602    0.815036   \n",
            "treedepth__      2.000000    2.000000    3.000000    2.000000    2.000000   \n",
            "n_leapfrog__     3.000000    3.000000    7.000000    7.000000    3.000000   \n",
            "divergent__      0.000000    0.000000    0.000000    0.000000    0.000000   \n",
            "energy__       461.400840  462.655082  460.370410  459.624451  459.869255   \n",
            "a               -0.593770   -0.511488   -0.573679   -0.535464   -0.575550   \n",
            "b               -1.212961   -1.159228   -1.024701   -1.125972   -1.067033   \n",
            "p_i.1            0.624162    0.631989    0.588183    0.619305    0.597008   \n",
            "\n",
            "draws                5           6           7           8           9     \\\n",
            "parameters                                                                  \n",
            "lp__          -462.119250 -459.757994 -459.456344 -459.781739 -462.119250   \n",
            "accept_stat__    0.689404    1.000000    0.982830    0.958349    0.794337   \n",
            "stepsize__       0.859751    0.775350    0.819602    0.815036    0.859751   \n",
            "treedepth__      2.000000    2.000000    2.000000    1.000000    1.000000   \n",
            "n_leapfrog__     3.000000    3.000000    5.000000    1.000000    1.000000   \n",
            "divergent__      0.000000    0.000000    0.000000    0.000000    0.000000   \n",
            "energy__       462.994619  460.144019  459.599607  459.804442  463.789226   \n",
            "a               -0.608376   -0.533631   -0.629490   -0.585482   -0.608376   \n",
            "b               -1.386408   -1.053868   -1.137952   -1.049614   -1.386408   \n",
            "p_i.1            0.657030    0.604196    0.599515    0.590799    0.657030   \n",
            "\n",
            "draws          ...        3990        3991        3992        3993  \\\n",
            "parameters     ...                                                   \n",
            "lp__           ... -459.626457 -459.731813 -460.306649 -460.054690   \n",
            "accept_stat__  ...    0.999494    1.000000    1.000000    0.979897   \n",
            "stepsize__     ...    0.775350    0.819602    0.815036    0.859751   \n",
            "treedepth__    ...    2.000000    3.000000    1.000000    3.000000   \n",
            "n_leapfrog__   ...    7.000000    7.000000    1.000000    7.000000   \n",
            "divergent__    ...    0.000000    0.000000    0.000000    0.000000   \n",
            "energy__       ...  459.660487  460.799224  460.817658  462.137746   \n",
            "a              ...   -0.638214   -0.542329   -0.577490   -0.557774   \n",
            "b              ...   -1.114051   -1.219733   -1.285878   -1.022850   \n",
            "p_i.1          ...    0.592190    0.637572    0.643301    0.591624   \n",
            "\n",
            "draws                3994        3995        3996        3997        3998  \\\n",
            "parameters                                                                  \n",
            "lp__          -461.738975 -459.339409 -461.387820 -462.126304 -459.949247   \n",
            "accept_stat__    0.768960    0.949227    0.931319    0.823667    0.952375   \n",
            "stepsize__       0.775350    0.819602    0.815036    0.859751    0.775350   \n",
            "treedepth__      2.000000    1.000000    2.000000    2.000000    2.000000   \n",
            "n_leapfrog__     3.000000    3.000000    3.000000    3.000000    3.000000   \n",
            "divergent__      0.000000    0.000000    0.000000    0.000000    0.000000   \n",
            "energy__       463.162253  460.319439  461.559999  462.728688  462.872209   \n",
            "a               -0.421206   -0.600929   -0.513756   -0.392589   -0.486342   \n",
            "b               -1.005460   -1.118530   -1.313858   -1.037041   -1.154781   \n",
            "p_i.1            0.620452    0.602137    0.663483    0.633846    0.636885   \n",
            "\n",
            "draws                3999  \n",
            "parameters                 \n",
            "lp__          -459.285425  \n",
            "accept_stat__    0.946767  \n",
            "stepsize__       0.819602  \n",
            "treedepth__      3.000000  \n",
            "n_leapfrog__     7.000000  \n",
            "divergent__      0.000000  \n",
            "energy__       459.898813  \n",
            "a               -0.560238  \n",
            "b               -1.124965  \n",
            "p_i.1            0.613230  \n",
            "\n",
            "[10 rows x 4000 columns]\n"
          ]
        }
      ],
      "source": [
        "fit = posterior.sample(num_chains=4, num_samples=1000)\n",
        "df = fit.to_frame()\n",
        "print(df.T[:10])"
      ]
    },
    {
      "cell_type": "code",
      "execution_count": 70,
      "metadata": {
        "colab": {
          "base_uri": "https://localhost:8080/"
        },
        "id": "0YY55pCNT-Q4",
        "outputId": "a417bcd4-8723-4ed6-b45f-9600938cbad8"
      },
      "outputs": [
        {
          "output_type": "stream",
          "name": "stdout",
          "text": [
            "Baseline probability of disease: \n",
            "\n",
            "5%  : 0.3279238468020261\n",
            "50% : 0.35850834596145853\n",
            "95% : 0.3904052861126189\n",
            "Probability increase for unit decrease in standardized brain volume (parameter \"a\" at lowest quantile): \n",
            "\n",
            "5%  : 0.5678414993276841\n",
            "50% : 0.6062759855194331\n",
            "95% : 0.6468168430959407\n"
          ]
        }
      ],
      "source": [
        "est_a = fit['a'][0]\n",
        "quantiles_a = np.quantile(est_a, [0.05, 0.5, 0.95])\n",
        "\n",
        "est_b = fit['b'][0]\n",
        "quantiles_b = np.quantile(est_b, [0.05, 0.5, 0.95])\n",
        "\n",
        "logistic_a_50 = np.exp(quantiles_a[1])/(1 + np.exp(quantiles_a[1]))\n",
        "logistic_a_5 = np.exp(quantiles_a[0])/(1 + np.exp(quantiles_a[0]))\n",
        "logistic_a_95 = np.exp(quantiles_a[2])/(1 + np.exp(quantiles_a[2]))\n",
        "\n",
        "print('Baseline probability of disease: \\n')\n",
        "print('5%  :', logistic_a_5)\n",
        "print('50% :', logistic_a_50)\n",
        "print('95% :', logistic_a_95)\n",
        "\n",
        "\n",
        "logistic_b_95 = np.exp(quantiles_a[0] - quantiles_b[0])/(1 + np.exp(quantiles_a[0] - quantiles_b[0]))\n",
        "logistic_b_50 = np.exp(quantiles_a[0] - quantiles_b[1])/(1 + np.exp(quantiles_a[0] - quantiles_b[1]))\n",
        "logistic_b_5 = np.exp(quantiles_a[0] - quantiles_b[2])/(1 + np.exp(quantiles_a[0] - quantiles_b[2]))\n",
        "\n",
        "\n",
        "print('Probability increase for unit decrease in standardized brain volume (parameter \"a\" at lowest quantile): \\n')\n",
        "print('5%  :', logistic_b_5)\n",
        "print('50% :', logistic_b_50)\n",
        "print('95% :', logistic_b_95)"
      ]
    },
    {
      "cell_type": "code",
      "execution_count": 71,
      "metadata": {
        "colab": {
          "base_uri": "https://localhost:8080/"
        },
        "id": "bdUu6ktjT-Q4",
        "outputId": "061c23c3-1da9-4fe7-8db2-1f6764698f7e"
      },
      "outputs": [
        {
          "output_type": "stream",
          "name": "stdout",
          "text": [
            "(826, 4000)\n"
          ]
        }
      ],
      "source": [
        "p_i = fit['p_i']\n",
        "print(p_i.shape)"
      ]
    },
    {
      "cell_type": "code",
      "execution_count": 72,
      "metadata": {
        "id": "nAZj9id1T-Q4"
      },
      "outputs": [],
      "source": [
        "\n",
        "lppd = []\n",
        "pwaic = []\n",
        "for i in range(len(data_ct_ad)):\n",
        "    id_log_lik = []\n",
        "    for k in range(1000):\n",
        "        p = p_i[i,k]\n",
        "        id_log_lik.append(scipy.stats.binom.logpmf(data_ct_ad['DX'].values[i], 1, p))\n",
        "    lppd.append(scipy.special.logsumexp(id_log_lik) - np.log(len(id_log_lik)))\n",
        "    pwaic.append(np.var(id_log_lik))\n",
        "\n",
        "waic_norm_brain = -2 * (np.sum(lppd) -np.sum(pwaic))"
      ]
    },
    {
      "cell_type": "markdown",
      "source": [
        "Let's compare the WAIC using APOE4 and AGE with the WAIC using norm_brain."
      ],
      "metadata": {
        "id": "EJLQ6kRH4IK2"
      }
    },
    {
      "cell_type": "code",
      "source": [
        "print(\"WAIC score using only norm_brain = \", waic_norm_brain)\n",
        "print(\"WAIC score using APOE4 and AGE = \", waic_apoe_age)"
      ],
      "metadata": {
        "colab": {
          "base_uri": "https://localhost:8080/"
        },
        "id": "z5T4WaXt3p-E",
        "outputId": "d923c688-5a06-4d96-9ff4-a4fdcd794af5"
      },
      "execution_count": 73,
      "outputs": [
        {
          "output_type": "stream",
          "name": "stdout",
          "text": [
            "WAIC score using only norm_brain =  922.6726756928985\n",
            "WAIC score using APOE4 and AGE =  951.6944483594174\n"
          ]
        }
      ]
    },
    {
      "cell_type": "markdown",
      "source": [
        "The WAIC score using only norm_brain is less than the other. The less is better in the WAIC score comparison. We can conclude that using norm_brain alone is a better classification feature than using the APOE4 and AGE together."
      ],
      "metadata": {
        "id": "6JNe7fII4kIr"
      }
    },
    {
      "cell_type": "code",
      "source": [],
      "metadata": {
        "id": "vEAJaidG4jMI"
      },
      "execution_count": 73,
      "outputs": []
    }
  ],
  "metadata": {
    "kernelspec": {
      "display_name": "Python 3 (ipykernel)",
      "language": "python",
      "name": "python3"
    },
    "language_info": {
      "codemirror_mode": {
        "name": "ipython",
        "version": 3
      },
      "file_extension": ".py",
      "mimetype": "text/x-python",
      "name": "python",
      "nbconvert_exporter": "python",
      "pygments_lexer": "ipython3",
      "version": "3.7.15"
    },
    "colab": {
      "provenance": []
    }
  },
  "nbformat": 4,
  "nbformat_minor": 0
}
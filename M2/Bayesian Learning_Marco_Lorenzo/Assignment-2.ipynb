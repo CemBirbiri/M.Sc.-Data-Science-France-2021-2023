{
  "cells": [
    {
      "cell_type": "markdown",
      "source": [
        "# Assignment-2\n",
        "\n",
        "Student: Ufuk Cem Birbiri"
      ],
      "metadata": {
        "id": "JcSk__Pgq5HX"
      }
    },
    {
      "cell_type": "code",
      "source": [],
      "metadata": {
        "id": "y3qneqOkpSlU"
      },
      "execution_count": 63,
      "outputs": []
    },
    {
      "cell_type": "markdown",
      "source": [
        "#tools.py"
      ],
      "metadata": {
        "id": "dpKqQUjmyQML"
      }
    },
    {
      "cell_type": "code",
      "source": [
        "import numpy as np \n",
        "import matplotlib.pyplot as plt\n",
        "import pandas as pd\n",
        "\n",
        "from scipy.optimize import minimize\n",
        "from scipy.stats import norm, uniform, binom\n",
        "from scipy.stats import gaussian_kde\n",
        "from scipy.stats import multivariate_normal\n",
        "\n",
        "def laplace_solution(params, other_params, data, lik, priors):\n",
        "  \n",
        "    def evaluate_log_post(params, other_params, data, lik, priors):\n",
        "        model_list = { 'gaussian' : norm, 'uniform': uniform, 'binomial' : binom}\n",
        "    \n",
        "        model_lik = model_list[lik]\n",
        "    \n",
        "        #Computing log-priors\n",
        "        log_prior = 0\n",
        "        for i,mod in enumerate(priors):\n",
        "            log_prior += model_list[mod[0]].logpdf(params[i], *mod[1])\n",
        "\n",
        "            \n",
        "        #Computing log-likelihood\n",
        "        if lik == 'gaussian':\n",
        "            # Dirty trick for guaranteeing positive variance\n",
        "            params[-1] = np.abs(params[-1])\n",
        "                \n",
        "        if len(other_params)>0:\n",
        "            log_lik = np.sum([model_list[lik].logpdf(point, *(params,other_params)) for point in data])\n",
        "        else:\n",
        "            log_lik = np.sum([model_list[lik].logpdf(point, *params) for point in data])\n",
        "        return - (log_lik + log_prior)\n",
        "    \n",
        "    minimum =  minimize(evaluate_log_post, params,  \n",
        "                        args = (other_params, data, lik, priors), method = 'BFGS')\n",
        "    print(minimum)\n",
        "    return [minimum.x, minimum.hess_inv]\n",
        "\n",
        "\n",
        "def laplace_solution_regression(expression, data, lik, priors):\n",
        "    model_list = { 'gaussian' : norm, 'uniform': uniform, 'binomial' : binom}\n",
        "    \n",
        "    def evaluate_log_post(params, var_names, data, lik, priors):\n",
        "        model_list = { 'gaussian' : norm, 'uniform': uniform, 'binomial' : binom}\n",
        "        model_lik = model_list[lik]\n",
        "    \n",
        "        #Computing log-priors\n",
        "        log_prior = 0\n",
        "        for i,mod in enumerate(priors):\n",
        "            log_prior += model_list[mod[0]].logpdf(params[i], *mod[1])\n",
        "\n",
        "        #Evaluating expression\n",
        "        target, predictors = var_names[0], var_names[1]\n",
        "        \n",
        "        mu = np.ones(len(data[predictors[0]])) * params[0]\n",
        "        \n",
        "        for i in range(len(predictors)):\n",
        "            mu += params[i+1] * data[predictors[i]].values\n",
        "            \n",
        "        sigma = np.abs(params[-1])\n",
        "        \n",
        "        t = data[target].values\n",
        "        N = len(t)\n",
        "               \n",
        "        log_lik = np.sum([model_list['gaussian'].logpdf(t[i], mu[i], sigma) for i in range(N)])\n",
        "        return -(log_lik + log_prior)\n",
        "    \n",
        "    collapsed_expression = expression.replace(\" \", \"\")\n",
        "    target, independent = collapsed_expression.split('~') \n",
        "    independent = independent.split('+')\n",
        "    var_names = [target, independent]\n",
        "    \n",
        "    params = []\n",
        "    for i in range(len(priors)):\n",
        "        params.append(model_list[priors[i][0]].rvs(*priors[i][1]))\n",
        "    \n",
        "    minimum =  minimize(evaluate_log_post, params, args = (var_names, data, lik, priors), method = 'BFGS')\n",
        "    print(minimum)\n",
        "    return [minimum.x, minimum.hess_inv]\n",
        "\n",
        "def post_sample_Laplace(solution, N_sample):\n",
        "    posterior_samples = multivariate_normal.rvs(solution[0], solution[1], size = N_sample)\n",
        "    return posterior_samples\n",
        "\n",
        "def posterior_stats(solution, names, plot = False):\n",
        "    posterior_samples = post_sample_Laplace(solution, 1000)\n",
        "    post_quantiles = np.quantile(posterior_samples, q = [0.075, 0.925], axis = 0)\n",
        "    # sd\n",
        "    post_sd = np.std(posterior_samples, axis = 0)\n",
        "    # mean\n",
        "    post_mean = np.mean(posterior_samples, axis = 0)\n",
        "    summary_stats = [post_mean, post_sd, post_quantiles[0,:],post_quantiles[1,:]]\n",
        "    summary_stats = pd.DataFrame(summary_stats).transpose()\n",
        "    summary_stats.columns = ['mean', 'SD', '7.5%', '92.5%']\n",
        "    summary_stats.index = names\n",
        "    #summary_stats.rename(index=list(names), inplace=True)\n",
        "    print(summary_stats)\n",
        "    if plot:\n",
        "        boxes = []\n",
        "        for i in range(len(post_mean)):\n",
        "            boxes.append(posterior_samples[:,i])\n",
        "        plt.boxplot(boxes,vert=0)\n",
        "        plt.yticks(range(len(post_mean)+1)[1:], names)\n",
        "        plt.axvline(x=0, color = 'black', alpha = 0.1)\n",
        "        plt.show()\n",
        "\n",
        "def posterior_plot_univariate_regression(solution, x_range, data, center = 0, names = ['x','y'], N_samples = 500):\n",
        "    post_samples = post_sample_Laplace(solution, N_samples)\n",
        "    degree = post_samples.shape[1] - 1\n",
        "\n",
        "    post_mean = np.mean(post_samples, axis = 0)\n",
        "\n",
        "    mean_prediction = np.zeros(len(x_range))\n",
        "    for i in range(degree):\n",
        "        mean_prediction += post_mean[i] * x_range**i \n",
        "\n",
        "    plt.plot(x_range + center, mean_prediction, lw = 2, color = 'black')\n",
        "    plt.title('regression result')\n",
        "    plt.ylabel(names[1])\n",
        "    plt.xlabel(names[0])\n",
        "\n",
        "    list_model_samples = []\n",
        "    #sampling from the posterior to get a predictive interval\n",
        "    for n in range(N_samples):\n",
        "        mod_sample = np.zeros(len(x_range))\n",
        "        for i in range(degree):\n",
        "            mod_sample += post_samples[n,i] * x_range**i\n",
        "        list_model_samples.append(mod_sample)\n",
        "\n",
        "    prediction_noise = []\n",
        "    for i,mod_sample in enumerate(list_model_samples):\n",
        "        prediction_noise.append(norm.rvs( mod_sample, post_samples[i,-1]))  \n",
        "\n",
        "    # Plotting the uncertainty\n",
        "    for i in range(N_samples): \n",
        "        plt.scatter(x_range + center, prediction_noise[i], alpha = 0.05, color = 'grey')\n",
        "        plt.scatter(x_range + center, list_model_samples[i], alpha = 0.05, color = 'green')\n",
        "\n",
        "    plt.scatter( data[names[0]] + center, data[names[1]])\n",
        " \n"
      ],
      "metadata": {
        "id": "XY7pN4S1yS5K"
      },
      "execution_count": 64,
      "outputs": []
    },
    {
      "cell_type": "markdown",
      "source": [
        "#Exercise 1"
      ],
      "metadata": {
        "id": "a9BmUNjKq7Nn"
      }
    },
    {
      "cell_type": "markdown",
      "metadata": {
        "id": "rLCXX-xFwBPT"
      },
      "source": [
        "\n",
        "\n",
        "\n",
        " Consider the model:\n",
        "\n",
        "$$p(x|\\theta)\\propto \\frac{1}{\\sqrt{2\\pi}}\\exp(-\\frac{(x_1-\\theta)^2+(x_2-\\theta)^2}{2}).$$\n",
        "\n",
        "Find a Laplace approximation for this model, as seen for the Binomal model, and plot the resulting Gaussian approximation. Can you related this model to the posterior of the mean of a Gaussian as seen in class (Lesson 3)?"
      ]
    },
    {
      "cell_type": "markdown",
      "source": [
        "**Answer 1.1**\n",
        "\n",
        "Let's find the Laplace approximation for this model:\n",
        "$$p(x|\\theta)\\propto \\frac{1}{\\sqrt{2\\pi}}\\exp(-\\frac{(x_1-\\theta)^2+(x_2-\\theta)^2}{2}).$$\n",
        "\n",
        "1- We take logarithm:\n",
        "\n",
        "$$\\log(p) = \\frac{1}{\\sqrt{2\\pi}} (-\\frac{(x_1-\\theta)^2+(x_2-\\theta)^2}{2})$$\n",
        "\n",
        "We omit the $\\frac{1}{\\sqrt{2\\pi}}$ part since it is constant.\n",
        "\n",
        "2- Find the maximum of the log-distribution. we derive with respect to $\\theta$ and solve:\n",
        "\n",
        "$$\\frac{d\\log(p)}{d\\theta} = \\frac{+2(x_1 - \\theta)}{2} + \\frac{+2(x_2 - \\theta)}{2} = 0 \\Longrightarrow x_1- \\theta + x_2 - \\theta= 0$$.\n",
        "\n",
        "$$ \\theta = \\frac{x_1 + x_2}{2}$$"
      ],
      "metadata": {
        "id": "6Kn9xQqNgztH"
      }
    },
    {
      "cell_type": "markdown",
      "source": [
        "3- Find the second derivative of the log-distribution with respect to $\\theta$:\n",
        "$$\\frac{d^2\\log(p)}{d\\theta^2} = -2$$\n",
        "\n",
        "The approximation will be a Gaussian with mean $\\mu = \\frac{x_1 + x_2}{2}$ and variance $\\sigma^2 = 1/2$."
      ],
      "metadata": {
        "id": "3pWsCXGCi6ng"
      }
    },
    {
      "cell_type": "code",
      "execution_count": 65,
      "metadata": {
        "colab": {
          "base_uri": "https://localhost:8080/",
          "height": 283
        },
        "id": "GkJ6PBmXwBPU",
        "outputId": "e7f3af1b-a73c-4163-aa9d-2af58c8c1549"
      },
      "outputs": [
        {
          "output_type": "execute_result",
          "data": {
            "text/plain": [
              "<matplotlib.legend.Legend at 0x7f1448898390>"
            ]
          },
          "metadata": {},
          "execution_count": 65
        },
        {
          "output_type": "display_data",
          "data": {
            "text/plain": [
              "<Figure size 432x288 with 1 Axes>"
            ],
            "image/png": "[encoded data removed]"
          },
          "metadata": {
            "needs_background": "light"
          }
        }
      ],
      "source": [
        "import numpy as np\n",
        "from scipy.stats import norm\n",
        "import matplotlib.pyplot as plt\n",
        "\n",
        "\n",
        "## we define the parameters here:\n",
        "\n",
        "x_1 = 3\n",
        "x_2 = 5\n",
        "\n",
        "theta = np.linspace(0,1)\n",
        "\n",
        "p = np.exp( (-1/2) * ((x_1 - theta)**2 + (x_2 - theta)**2) )\n",
        "\n",
        "\n",
        "plt.plot(theta,p/np.sum(p), label = 'Our model\\'s pdf')\n",
        "\n",
        "p_max = (x_1 + x_2) / 2\n",
        "\n",
        "Hessian = -2\n",
        "\n",
        "var = -1/Hessian\n",
        "\n",
        "Laplace_approx = norm(p_max, np.sqrt(var))\n",
        "\n",
        "plt.plot(theta, Laplace_approx.pdf(theta)/np.sum(Laplace_approx.pdf(theta)), label = 'Laplace approximation')\n",
        "plt.legend()"
      ]
    },
    {
      "cell_type": "markdown",
      "source": [
        "Let's define $x_1$ and $x_2$ with different values:\n"
      ],
      "metadata": {
        "id": "QhOFS-oPqjeJ"
      }
    },
    {
      "cell_type": "code",
      "source": [
        "import numpy as np\n",
        "from scipy.stats import norm\n",
        "import matplotlib.pyplot as plt\n",
        "\n",
        "\n",
        "## we define the parameters here:\n",
        "\n",
        "x_1 = 0.3\n",
        "x_2 = 0.5\n",
        "\n",
        "theta = np.linspace(0,1)\n",
        "\n",
        "p = np.exp( (-1/2) * ((x_1 - theta)**2 + (x_2 - theta)**2) )\n",
        "\n",
        "\n",
        "plt.plot(theta,p/np.sum(p), label = 'Our model\\'s pdf')\n",
        "\n",
        "p_max = (x_1 + x_2) / 2\n",
        "\n",
        "Hessian = -2\n",
        "\n",
        "var = -1/Hessian\n",
        "\n",
        "Laplace_approx = norm(p_max, np.sqrt(var))\n",
        "\n",
        "plt.plot(theta, Laplace_approx.pdf(theta)/np.sum(Laplace_approx.pdf(theta)), label = 'Laplace approximation')\n",
        "plt.legend()"
      ],
      "metadata": {
        "colab": {
          "base_uri": "https://localhost:8080/",
          "height": 283
        },
        "id": "t6ZHvdteqqzy",
        "outputId": "7c1d460b-f5c8-42d0-a8b5-9a955b905db0"
      },
      "execution_count": 66,
      "outputs": [
        {
          "output_type": "execute_result",
          "data": {
            "text/plain": [
              "<matplotlib.legend.Legend at 0x7f14483cc810>"
            ]
          },
          "metadata": {},
          "execution_count": 66
        },
        {
          "output_type": "display_data",
          "data": {
            "text/plain": [
              "<Figure size 432x288 with 1 Axes>"
            ],
            "image/png": "[encoded data removed]"
          },
          "metadata": {
            "needs_background": "light"
          }
        }
      ]
    },
    {
      "cell_type": "markdown",
      "source": [
        "Changing the $x_1$ and $x_2$ values also didn't give us any Gaussian distribution."
      ],
      "metadata": {
        "id": "2z3O_L3urpih"
      }
    },
    {
      "cell_type": "markdown",
      "source": [
        "**Can you related this model to the posterior of the mean of a Gaussian as seen in class (Lesson 3)?**\n",
        "\n",
        "No I cannot relate it because the function p is an exponential function. Also the Laplace approximation of p is not a Gaussian model, it is also exponential. So, the Laplace approximation technique is not a good idea for exponential functions (at least in this case). "
      ],
      "metadata": {
        "id": "Sye-OeEfqvqT"
      }
    },
    {
      "cell_type": "markdown",
      "source": [
        "#Exercise 2"
      ],
      "metadata": {
        "id": "o8qCtY1Pq_2g"
      }
    },
    {
      "cell_type": "markdown",
      "metadata": {
        "id": "W-fAXj9owBPU"
      },
      "source": [
        "**Exercise 2**. Write down a model to evaluate the claim: *Animal diversity is related to latitude, but only after controlling for plant diversity*. You just need to write down the model definition."
      ]
    },
    {
      "cell_type": "markdown",
      "source": [
        "What I understand is that animal diversity depends on two variables namely latitude and plant diversity. We cannot omit plant diversity since we should control the plant diversity before measuring the animal diversity. This problem looks like a regression problem where animal diversity is (linearly) related to other factors. So let's define the model:\n",
        "\n",
        "We say that Animal diversity is a Gaussian distribution:\n",
        "\n",
        "$Animal$ $diversity\\sim N(\\mu_i,\\sigma^2)$\n",
        "where $\\mu_i$ is the mean of this distribution. Let's say $L$ is latitude and $P$ is the plant diversity. Then our model becomes:\n",
        "\n",
        "$\\mu_i = \\alpha + \\beta_L L_i + \\beta_P P_i$\n",
        "\n",
        "where $\\alpha$, $\\beta_L$, and $\\beta_P$ are regression coefficients."
      ],
      "metadata": {
        "id": "LpjBzslM0ol3"
      }
    },
    {
      "cell_type": "code",
      "execution_count": 66,
      "metadata": {
        "id": "fDzJ5_XqwBPV"
      },
      "outputs": [],
      "source": []
    },
    {
      "cell_type": "markdown",
      "source": [
        "#Exercise 3"
      ],
      "metadata": {
        "id": "cq5_V8u6_8oR"
      }
    },
    {
      "cell_type": "markdown",
      "metadata": {
        "id": "ymNQeF1NwBPV"
      },
      "source": [
        "The attached data is about observations of urban foxes in human habitat. The data has 5 columns:\n",
        "\n",
        "- *group*: Number of social group the fox belongs to\n",
        "- *avgfood*: The avg amount of food available in the territory\n",
        "- *groupsize*: The number of foxes in the social group\n",
        "- *area*: Size of the territory\n",
        "- *weight*: Body weight of the fox\n",
        "\n",
        "Fit a regression for *weight* as a linear function of *area*, and a regression for *weight* as a linear function of *groupsize*. What can you say about these relationships? Run a multivariate model with both variables, what can you conclude about this analysis?"
      ]
    },
    {
      "cell_type": "markdown",
      "source": [
        "###1. Fit a regression for *weight* as a linear function of *area*"
      ],
      "metadata": {
        "id": "BX7phAvv_w_I"
      }
    },
    {
      "cell_type": "markdown",
      "source": [
        "\n",
        "We are interested in the relationship:\n",
        "\n",
        "$$\\mbox{weight} = a + b * \\mbox{area},$$\n",
        "\n",
        "We want to find posterior distributions for the regression coefficients $a$ and $b$. \n",
        "\n",
        "Assume that the *weight* is dependent on the variable *area* through a linear relationship. In this case, the *weight* of a fox $i$ is a sample from a Gaussian model:\n",
        "\n",
        "$$\\mbox{weight}_i\\sim N(\\mu_i,\\sigma^2),$$\n",
        "\n",
        "where $\\mu_i = a + b * \\mbox{area}_i$. A reminder that while we allow the mean $\\mu_i$ to vary depending on the area, the coefficients $a$ and $b$, as well as the noise $\\sigma$ are the same across each subject.  \n",
        "Now we should define our priors for all the parameters we want to analyze:\n",
        "\n",
        "$$ p(a) = N(75, 100),$$\n",
        "\n",
        "$$ p(b) = N(0, 10),$$\n",
        "\n",
        "$$ p(\\sigma) = U(0, 50).$$\n",
        "\n",
        "Let's code:"
      ],
      "metadata": {
        "id": "3dn56I29M_a_"
      }
    },
    {
      "cell_type": "code",
      "source": [
        "import pandas as pd\n",
        "#Load the data:\n",
        "data_original  = pd.read_csv('/content/data_assignments2.csv', sep=',')\n",
        "data = data_original.copy()\n",
        "data.head(3)"
      ],
      "metadata": {
        "colab": {
          "base_uri": "https://localhost:8080/",
          "height": 143
        },
        "id": "LGFq55MtANgD",
        "outputId": "7e8cc5ca-8b1e-4633-de96-bc10599a9085"
      },
      "execution_count": 67,
      "outputs": [
        {
          "output_type": "execute_result",
          "data": {
            "text/plain": [
              "   group  avgfood  groupsize  area  weight\n",
              "0      1     0.37          2  1.09    5.02\n",
              "1      1     0.37          2  1.09    2.84\n",
              "2      2     0.53          2  2.05    5.33"
            ],
            "text/html": [
              "\n",
              "  <div id=\"df-278a966e-26e8-4741-9fc8-6645543bdc08\">\n",
              "    <div class=\"colab-df-container\">\n",
              "      <div>\n",
              "<style scoped>\n",
              "    .dataframe tbody tr th:only-of-type {\n",
              "        vertical-align: middle;\n",
              "    }\n",
              "\n",
              "    .dataframe tbody tr th {\n",
              "        vertical-align: top;\n",
              "    }\n",
              "\n",
              "    .dataframe thead th {\n",
              "        text-align: right;\n",
              "    }\n",
              "</style>\n",
              "<table border=\"1\" class=\"dataframe\">\n",
              "  <thead>\n",
              "    <tr style=\"text-align: right;\">\n",
              "      <th></th>\n",
              "      <th>group</th>\n",
              "      <th>avgfood</th>\n",
              "      <th>groupsize</th>\n",
              "      <th>area</th>\n",
              "      <th>weight</th>\n",
              "    </tr>\n",
              "  </thead>\n",
              "  <tbody>\n",
              "    <tr>\n",
              "      <th>0</th>\n",
              "      <td>1</td>\n",
              "      <td>0.37</td>\n",
              "      <td>2</td>\n",
              "      <td>1.09</td>\n",
              "      <td>5.02</td>\n",
              "    </tr>\n",
              "    <tr>\n",
              "      <th>1</th>\n",
              "      <td>1</td>\n",
              "      <td>0.37</td>\n",
              "      <td>2</td>\n",
              "      <td>1.09</td>\n",
              "      <td>2.84</td>\n",
              "    </tr>\n",
              "    <tr>\n",
              "      <th>2</th>\n",
              "      <td>2</td>\n",
              "      <td>0.53</td>\n",
              "      <td>2</td>\n",
              "      <td>2.05</td>\n",
              "      <td>5.33</td>\n",
              "    </tr>\n",
              "  </tbody>\n",
              "</table>\n",
              "</div>\n",
              "      <button class=\"colab-df-convert\" onclick=\"convertToInteractive('df-278a966e-26e8-4741-9fc8-6645543bdc08')\"\n",
              "              title=\"Convert this dataframe to an interactive table.\"\n",
              "              style=\"display:none;\">\n",
              "        \n",
              "  <svg xmlns=\"http://www.w3.org/2000/svg\" height=\"24px\"viewBox=\"0 0 24 24\"\n",
              "       width=\"24px\">\n",
              "    <path d=\"M0 0h24v24H0V0z\" fill=\"none\"/>\n",
              "    <path d=\"M18.56 5.44l.94 2.06.94-2.06 2.06-.94-2.06-.94-.94-2.06-.94 2.06-2.06.94zm-11 1L8.5 8.5l.94-2.06 2.06-.94-2.06-.94L8.5 2.5l-.94 2.06-2.06.94zm10 10l.94 2.06.94-2.06 2.06-.94-2.06-.94-.94-2.06-.94 2.06-2.06.94z\"/><path d=\"M17.41 7.96l-1.37-1.37c-.4-.4-.92-.59-1.43-.59-.52 0-1.04.2-1.43.59L10.3 9.45l-7.72 7.72c-.78.78-.78 2.05 0 2.83L4 21.41c.39.39.9.59 1.41.59.51 0 1.02-.2 1.41-.59l7.78-7.78 2.81-2.81c.8-.78.8-2.07 0-2.86zM5.41 20L4 18.59l7.72-7.72 1.47 1.35L5.41 20z\"/>\n",
              "  </svg>\n",
              "      </button>\n",
              "      \n",
              "  <style>\n",
              "    .colab-df-container {\n",
              "      display:flex;\n",
              "      flex-wrap:wrap;\n",
              "      gap: 12px;\n",
              "    }\n",
              "\n",
              "    .colab-df-convert {\n",
              "      background-color: #E8F0FE;\n",
              "      border: none;\n",
              "      border-radius: 50%;\n",
              "      cursor: pointer;\n",
              "      display: none;\n",
              "      fill: #1967D2;\n",
              "      height: 32px;\n",
              "      padding: 0 0 0 0;\n",
              "      width: 32px;\n",
              "    }\n",
              "\n",
              "    .colab-df-convert:hover {\n",
              "      background-color: #E2EBFA;\n",
              "      box-shadow: 0px 1px 2px rgba(60, 64, 67, 0.3), 0px 1px 3px 1px rgba(60, 64, 67, 0.15);\n",
              "      fill: #174EA6;\n",
              "    }\n",
              "\n",
              "    [theme=dark] .colab-df-convert {\n",
              "      background-color: #3B4455;\n",
              "      fill: #D2E3FC;\n",
              "    }\n",
              "\n",
              "    [theme=dark] .colab-df-convert:hover {\n",
              "      background-color: #434B5C;\n",
              "      box-shadow: 0px 1px 3px 1px rgba(0, 0, 0, 0.15);\n",
              "      filter: drop-shadow(0px 1px 2px rgba(0, 0, 0, 0.3));\n",
              "      fill: #FFFFFF;\n",
              "    }\n",
              "  </style>\n",
              "\n",
              "      <script>\n",
              "        const buttonEl =\n",
              "          document.querySelector('#df-278a966e-26e8-4741-9fc8-6645543bdc08 button.colab-df-convert');\n",
              "        buttonEl.style.display =\n",
              "          google.colab.kernel.accessAllowed ? 'block' : 'none';\n",
              "\n",
              "        async function convertToInteractive(key) {\n",
              "          const element = document.querySelector('#df-278a966e-26e8-4741-9fc8-6645543bdc08');\n",
              "          const dataTable =\n",
              "            await google.colab.kernel.invokeFunction('convertToInteractive',\n",
              "                                                     [key], {});\n",
              "          if (!dataTable) return;\n",
              "\n",
              "          const docLinkHtml = 'Like what you see? Visit the ' +\n",
              "            '<a target=\"_blank\" href=https://colab.research.google.com/notebooks/data_table.ipynb>data table notebook</a>'\n",
              "            + ' to learn more about interactive tables.';\n",
              "          element.innerHTML = '';\n",
              "          dataTable['output_type'] = 'display_data';\n",
              "          await google.colab.output.renderOutput(dataTable, element);\n",
              "          const docLink = document.createElement('div');\n",
              "          docLink.innerHTML = docLinkHtml;\n",
              "          element.appendChild(docLink);\n",
              "        }\n",
              "      </script>\n",
              "    </div>\n",
              "  </div>\n",
              "  "
            ]
          },
          "metadata": {},
          "execution_count": 67
        }
      ]
    },
    {
      "cell_type": "markdown",
      "source": [
        "We center the data before plotting weight vs area to avoid scale effects:"
      ],
      "metadata": {
        "id": "MgSPABScAjx-"
      }
    },
    {
      "cell_type": "code",
      "source": [
        "mean_area = np.mean(data.area)\n",
        "#Center it:\n",
        "data.area = data.area - mean_area\n",
        "\n",
        "plt.scatter(data.area, data.weight)\n",
        "plt.ylabel('weight')\n",
        "plt.xlabel('area')\n",
        "plt.title(\"weight vs area\")\n",
        "plt.show()"
      ],
      "metadata": {
        "colab": {
          "base_uri": "https://localhost:8080/",
          "height": 295
        },
        "id": "YGnNowKr__a4",
        "outputId": "ffe810c9-f09e-4e90-b771-3ec70526fdf7"
      },
      "execution_count": 68,
      "outputs": [
        {
          "output_type": "display_data",
          "data": {
            "text/plain": [
              "<Figure size 432x288 with 1 Axes>"
            ],
            "image/png": "[encoded data removed]"
          },
          "metadata": {
            "needs_background": "light"
          }
        }
      ]
    },
    {
      "cell_type": "markdown",
      "source": [
        "Linear Model:\n",
        "\n",
        "$$\\mbox{weight}_i = a + b * \\mbox{area}_i,$$\n",
        "\n",
        "$$\\mbox{weight}_i\\sim N(\\mu_i,\\sigma^2),$$\n",
        "\n",
        "$$\\mu_i = a + b * \\mbox{area}_i$$"
      ],
      "metadata": {
        "id": "_TxCQLo5BUs9"
      }
    },
    {
      "cell_type": "code",
      "source": [
        "# linear model\n",
        "expr = 'weight ~   area'\n",
        "\n",
        "# Initializing the likelihood\n",
        "likelihood = 'gaussian'\n",
        "# Defining the prior with hyperparameters \n",
        "\n",
        "prior_a_mean = 75\n",
        "prior_a_sigma = 100\n",
        "prior_a = ['gaussian', [prior_a_mean, prior_a_sigma]]\n",
        "\n",
        "prior_b_mean = 0\n",
        "prior_b_sigma = 10\n",
        "prior_b = ['gaussian', [prior_b_mean, prior_b_sigma]]\n",
        "\n",
        "sigma_inf = 0\n",
        "sigma_sup = 50\n",
        "prior_sigma_unif = [sigma_inf, sigma_sup]\n",
        "prior_sigma = ['uniform', prior_sigma_unif]\n",
        "\n",
        "priors = [prior_a, prior_b, prior_sigma]\n",
        "\n",
        "solution_regression = laplace_solution_regression(expr, data, likelihood, priors)\n",
        "\n",
        "# Computing posterior samples\n",
        "\n",
        "posterior_samples = multivariate_normal.rvs(solution_regression[0], solution_regression[1], size = 1000)\n",
        "#print(posterior_samples)\n",
        "\n",
        "# sd\n",
        "post_sd = np.std(posterior_samples, axis = 0)\n",
        "# mean\n",
        "post_mean = np.mean(posterior_samples, axis = 0)\n",
        "print(\"post_mean = \",post_mean)\n",
        "print(\"post_sd = \",post_sd)\n",
        "print()\n",
        "\n",
        "#Plot:\n",
        "x_range = np.linspace(min(data.area), max(data.area))\n",
        "mean_prediction = post_mean[0] + post_mean[1] * x_range\n",
        "\n",
        "plt.plot(x_range + mean_area, mean_prediction, lw = 2, color = 'black')\n",
        "plt.scatter(data.area + mean_area, data.weight)\n",
        "plt.title('weight vs area')\n",
        "plt.ylabel('weight ')\n",
        "plt.xlabel('area')\n",
        "plt.show()\n",
        "\n"
      ],
      "metadata": {
        "colab": {
          "base_uri": "https://localhost:8080/",
          "height": 690
        },
        "id": "Qf7bwKl1__dD",
        "outputId": "d1ab671c-9fc9-4d7c-a976-9155fd288049"
      },
      "execution_count": 69,
      "outputs": [
        {
          "output_type": "stream",
          "name": "stderr",
          "text": [
            "/usr/local/lib/python3.7/dist-packages/scipy/optimize/_numdiff.py:557: RuntimeWarning: invalid value encountered in subtract\n",
            "  df = fun(x) - f0\n",
            "/usr/local/lib/python3.7/dist-packages/scipy/optimize/_numdiff.py:557: RuntimeWarning: invalid value encountered in subtract\n",
            "  df = fun(x) - f0\n",
            "/usr/local/lib/python3.7/dist-packages/scipy/optimize/_numdiff.py:557: RuntimeWarning: invalid value encountered in subtract\n",
            "  df = fun(x) - f0\n"
          ]
        },
        {
          "output_type": "stream",
          "name": "stdout",
          "text": [
            "      fun: 2878.2607051380746\n",
            " hess_inv: array([[ 1.33808502, -0.0059968 , -0.08608005],\n",
            "       [-0.0059968 ,  1.00010616,  0.00195333],\n",
            "       [-0.08608005,  0.00195333,  0.12229164]])\n",
            "      jac: array([ 14.97018433,  -0.22418213, -91.85699463])\n",
            "  message: 'Desired error not necessarily achieved due to precision loss.'\n",
            "     nfev: 74\n",
            "      nit: 3\n",
            "     njev: 16\n",
            "   status: 2\n",
            "  success: False\n",
            "        x: array([312.88422164,  -4.34124096,  48.91996622])\n",
            "post_mean =  [312.832146    -4.37497866  48.94209105]\n",
            "post_sd =  [1.18528718 0.98438712 0.35104273]\n",
            "\n"
          ]
        },
        {
          "output_type": "display_data",
          "data": {
            "text/plain": [
              "<Figure size 432x288 with 1 Axes>"
            ],
            "image/png": "[encoded data removed]"
          },
          "metadata": {
            "needs_background": "light"
          }
        }
      ]
    },
    {
      "cell_type": "code",
      "source": [
        "# Computing summary stats\n",
        "# 95% confidence interval\n",
        "post_quantiles = np.quantile(posterior_samples, q = [0.025, 0.975], axis = 0)\n",
        "# sd\n",
        "post_sd = np.std(posterior_samples, axis = 0)\n",
        "# mean\n",
        "post_mean = np.mean(posterior_samples, axis = 0)\n",
        "\n",
        "summary_stats = [post_mean, post_sd, post_quantiles[0,:],post_quantiles[1,:]]\n",
        "\n",
        "summary_stats = pd.DataFrame(summary_stats).transpose()\n",
        "summary_stats.columns = ['mean', 'SD', '2.5%', '97.5%']\n",
        "summary_stats.rename(index={0:'a',1:'b', 2:'sigma'}, inplace=True)\n",
        "print(summary_stats)"
      ],
      "metadata": {
        "colab": {
          "base_uri": "https://localhost:8080/"
        },
        "id": "JSyuKO8CMbXB",
        "outputId": "89889774-4832-4009-dae7-a4b79fa8e063"
      },
      "execution_count": 70,
      "outputs": [
        {
          "output_type": "stream",
          "name": "stdout",
          "text": [
            "             mean        SD        2.5%       97.5%\n",
            "a      312.832146  1.185287  310.527756  315.230858\n",
            "b       -4.374979  0.984387   -6.330639   -2.569936\n",
            "sigma   48.942091  0.351043   48.286516   49.601992\n"
          ]
        }
      ]
    },
    {
      "cell_type": "code",
      "source": [],
      "metadata": {
        "id": "fOAk55s9Mbnv"
      },
      "execution_count": 70,
      "outputs": []
    },
    {
      "cell_type": "markdown",
      "metadata": {
        "id": "0dTY7LR1zTTc"
      },
      "source": [
        "Now let's explore the variability of the prediction by using the posterior samples for the coefficients that we computed before:"
      ]
    },
    {
      "cell_type": "code",
      "execution_count": 71,
      "metadata": {
        "colab": {
          "base_uri": "https://localhost:8080/",
          "height": 295
        },
        "id": "tHKugQruzTTc",
        "outputId": "9d07c4db-76aa-4079-81b4-beddf821b021"
      },
      "outputs": [
        {
          "output_type": "display_data",
          "data": {
            "text/plain": [
              "<Figure size 432x288 with 1 Axes>"
            ],
            "image/png": "[encoded data removed]"
          },
          "metadata": {
            "needs_background": "light"
          }
        }
      ],
      "source": [
        "#sampling from the posterior\n",
        "\n",
        "for i in range(1000):\n",
        "    prediction = posterior_samples[i,0] + posterior_samples[i,1] * x_range\n",
        "    plt.plot(x_range + mean_area, prediction, lw = 0.05, color = 'grey')\n",
        "\n",
        "plt.scatter(data.area + mean_area, data.weight)\n",
        "plt.plot(x_range + mean_area, mean_prediction, lw = 2, color = 'black')\n",
        "plt.title('weight vs area')\n",
        "plt.ylabel('weight ')\n",
        "plt.xlabel('area')\n",
        "plt.show()\n",
        "\n",
        "\n"
      ]
    },
    {
      "cell_type": "code",
      "source": [
        "prediction_range = []\n",
        "#sampling from the posterior to get a predictive interval\n",
        "for x_ in (x_range):\n",
        "    prediction_range.append(posterior_samples[:500,0] + posterior_samples[:500,1] * x_)  \n",
        "\n",
        "prediction_range_noise = []\n",
        "\n",
        "#sampling from the posterior to get a predictive interval\n",
        "for x_ in (x_range):\n",
        "    prediction_range_noise.append(norm.rvs(posterior_samples[:500,0] + posterior_samples[:500,1] * x_,  \n",
        "                                           posterior_samples[:500,2]))  \n",
        "    \n",
        "# Plotting the uncertainty\n",
        "for i,x_ in enumerate(x_range): \n",
        "    plt.scatter(np.repeat(x_,500) + mean_area, prediction_range_noise[i], alpha = 0.05, color = 'grey')\n",
        "for i,x_ in enumerate(x_range): \n",
        "    plt.scatter(np.repeat(x_,500) + mean_area, prediction_range[i], alpha = 0.05, color = 'green')\n",
        "\n",
        "\n",
        "plt.scatter(data.area + mean_area, data.weight, alpha = 0.5)\n",
        "plt.plot(x_range + mean_area, mean_prediction, lw = 0.5, color = 'black')\n",
        "plt.title('weight vs area')\n",
        "plt.ylabel('weight ')\n",
        "plt.xlabel('area')\n",
        "plt.plot()"
      ],
      "metadata": {
        "colab": {
          "base_uri": "https://localhost:8080/",
          "height": 313
        },
        "id": "MEvdkiwSMbp8",
        "outputId": "8b38fb6d-f42c-4520-a7c5-ef85b9f0e804"
      },
      "execution_count": 72,
      "outputs": [
        {
          "output_type": "execute_result",
          "data": {
            "text/plain": [
              "[]"
            ]
          },
          "metadata": {},
          "execution_count": 72
        },
        {
          "output_type": "display_data",
          "data": {
            "text/plain": [
              "<Figure size 432x288 with 1 Axes>"
            ],
            "image/png": "[encoded data removed]"
          },
          "metadata": {
            "needs_background": "light"
          }
        }
      ]
    },
    {
      "cell_type": "markdown",
      "source": [
        "We can conclude that the impact of area on the weight variable is small since the slope(b) is nearly flat, and the mean estimate of b is 0.027197 (near to zero)."
      ],
      "metadata": {
        "id": "7UgZVJl5WiLx"
      }
    },
    {
      "cell_type": "code",
      "source": [],
      "metadata": {
        "id": "AzZCorXgMbsP"
      },
      "execution_count": 72,
      "outputs": []
    },
    {
      "cell_type": "code",
      "source": [],
      "metadata": {
        "id": "xt-3TVydMbuZ"
      },
      "execution_count": 72,
      "outputs": []
    },
    {
      "cell_type": "markdown",
      "source": [
        "###2. Fit a regression for *weight* as a linear function of *groupsize*"
      ],
      "metadata": {
        "id": "38YnrU7IHhbX"
      }
    },
    {
      "cell_type": "markdown",
      "source": [
        "We don't know the effect of groupsize on weightso we are gonna  do the same pipeline for groupsize as we did in area."
      ],
      "metadata": {
        "id": "hdhhcIZsX_yn"
      }
    },
    {
      "cell_type": "markdown",
      "source": [
        "\n",
        "We are interested in the relationship:\n",
        "\n",
        "$$\\mbox{weight} = a + b * \\mbox{groupsize},$$\n",
        "\n",
        "We want to find posterior distributions for the regression coefficients $a$ and $b$. \n",
        "\n",
        "Assume that the *weight* is dependent on the variable *groupsize* through a linear relationship. In this case, the *weight* of a fox $i$ is a sample from a Gaussian model:\n",
        "\n",
        "$$\\mbox{weight}_i\\sim N(\\mu_i,\\sigma^2),$$\n",
        "\n",
        "where $\\mu_i = a + b * \\mbox{groupsize}_i$. A reminder that while we allow the mean $\\mu_i$ to vary depending on the area, the coefficients $a$ and $b$, as well as the noise $\\sigma$ are the same across each subject.  \n",
        "Now we should define our priors for all the parameters we want to analyze:\n",
        "\n",
        "$$ p(a) = N(75, 100),$$\n",
        "\n",
        "$$ p(b) = N(0, 10),$$\n",
        "\n",
        "$$ p(\\sigma) = U(0, 50).$$\n",
        "\n",
        "Let's code:"
      ],
      "metadata": {
        "id": "3U_s8YOVXhIY"
      }
    },
    {
      "cell_type": "markdown",
      "source": [
        "We center the data before plotting weight vs area to avoid scale effects:"
      ],
      "metadata": {
        "id": "E5ceC-sFXhIY"
      }
    },
    {
      "cell_type": "code",
      "source": [
        "#Copy the original dataset:\n",
        "data2 = data_original.copy()\n",
        "\n",
        "##Center it:\n",
        "mean_groupsize = np.mean(data.groupsize)\n",
        "\n",
        "data2.groupsize = data2.groupsize - mean_groupsize\n",
        "\n",
        "plt.scatter(data2.groupsize, data2.weight)\n",
        "plt.ylabel('weight')\n",
        "plt.xlabel('groupsize')\n",
        "plt.title(\"weight vs groupsize\")\n",
        "plt.show()"
      ],
      "metadata": {
        "colab": {
          "base_uri": "https://localhost:8080/",
          "height": 295
        },
        "outputId": "89b60504-dbb9-4998-b342-709fd684b2dc",
        "id": "MRa7Kv6VXhIY"
      },
      "execution_count": 73,
      "outputs": [
        {
          "output_type": "display_data",
          "data": {
            "text/plain": [
              "<Figure size 432x288 with 1 Axes>"
            ],
            "image/png": "[encoded data removed]"
          },
          "metadata": {
            "needs_background": "light"
          }
        }
      ]
    },
    {
      "cell_type": "markdown",
      "source": [
        "Linear Model:\n",
        "\n",
        "$$\\mbox{weight}_i = a + b * \\mbox{groupsize}_i,$$\n",
        "\n",
        "$$\\mbox{weight}_i\\sim N(\\mu_i,\\sigma^2),$$\n",
        "\n",
        "$$\\mu_i = a + b * \\mbox{groupsize}_i$$"
      ],
      "metadata": {
        "id": "x6QP5cg1XhIZ"
      }
    },
    {
      "cell_type": "code",
      "source": [
        "# linear model\n",
        "expr = 'weight ~   groupsize'\n",
        "\n",
        "# Initializing the likelihood\n",
        "likelihood = 'gaussian'\n",
        "# Defining the prior with hyperparameters \n",
        "\n",
        "prior_a_mean = 75\n",
        "prior_a_sigma = 100\n",
        "prior_a = ['gaussian', [prior_a_mean, prior_a_sigma]]\n",
        "\n",
        "prior_b_mean = 0\n",
        "prior_b_sigma = 10\n",
        "prior_b = ['gaussian', [prior_b_mean, prior_b_sigma]]\n",
        "\n",
        "sigma_inf = 0\n",
        "sigma_sup = 50\n",
        "prior_sigma_unif = [sigma_inf, sigma_sup]\n",
        "prior_sigma = ['uniform', prior_sigma_unif]\n",
        "\n",
        "priors = [prior_a, prior_b, prior_sigma]\n",
        "\n",
        "solution_regression = laplace_solution_regression(expr, data2, likelihood, priors)\n",
        "\n",
        "# Computing posterior samples\n",
        "\n",
        "posterior_samples = multivariate_normal.rvs(solution_regression[0], solution_regression[1], size = 1000)\n",
        "#print(posterior_samples)\n",
        "\n",
        "# sd\n",
        "post_sd = np.std(posterior_samples, axis = 0)\n",
        "# mean\n",
        "post_mean = np.mean(posterior_samples, axis = 0)\n",
        "print(\"post_mean = \",post_mean)\n",
        "print(\"post_sd = \",post_sd)\n",
        "print()\n",
        "\n",
        "#Plot:\n",
        "x_range = np.linspace(min(data2.groupsize), max(data2.groupsize))\n",
        "mean_prediction = post_mean[0] + post_mean[1] * x_range\n",
        "\n",
        "plt.plot(x_range + mean_groupsize, mean_prediction, lw = 2, color = 'black')\n",
        "plt.scatter(data2.groupsize + mean_groupsize, data2.weight)\n",
        "plt.title('weight vs groupsize')\n",
        "plt.ylabel('weight ')\n",
        "plt.xlabel('groupsize')\n",
        "plt.show()\n",
        "\n"
      ],
      "metadata": {
        "colab": {
          "base_uri": "https://localhost:8080/",
          "height": 563
        },
        "outputId": "9801f35f-c927-40a3-87df-6ca5fbcab6fe",
        "id": "B14Seb9FXhIZ"
      },
      "execution_count": 74,
      "outputs": [
        {
          "output_type": "stream",
          "name": "stdout",
          "text": [
            "      fun: 195.07205215333806\n",
            " hess_inv: array([[ 1.09150433e-02, -2.45196423e-04, -1.46318382e-04],\n",
            "       [-2.45196423e-04,  4.71740178e-03, -9.50008991e-05],\n",
            "       [-1.46318382e-04, -9.50008991e-05,  5.82670563e-03]])\n",
            "      jac: array([3.81469727e-06, 0.00000000e+00, 0.00000000e+00])\n",
            "  message: 'Optimization terminated successfully.'\n",
            "     nfev: 132\n",
            "      nit: 28\n",
            "     njev: 33\n",
            "   status: 0\n",
            "  success: True\n",
            "        x: array([ 4.52973747, -0.123893  ,  1.16352962])\n",
            "post_mean =  [ 4.52472226 -0.12597563  1.16124752]\n",
            "post_sd =  [0.10553102 0.07147924 0.07939031]\n",
            "\n"
          ]
        },
        {
          "output_type": "display_data",
          "data": {
            "text/plain": [
              "<Figure size 432x288 with 1 Axes>"
            ],
            "image/png": "[encoded data removed]"
          },
          "metadata": {
            "needs_background": "light"
          }
        }
      ]
    },
    {
      "cell_type": "code",
      "source": [
        "# Computing summary stats\n",
        "# 95% confidence interval\n",
        "post_quantiles = np.quantile(posterior_samples, q = [0.025, 0.975], axis = 0)\n",
        "# sd\n",
        "post_sd = np.std(posterior_samples, axis = 0)\n",
        "# mean\n",
        "post_mean = np.mean(posterior_samples, axis = 0)\n",
        "\n",
        "summary_stats = [post_mean, post_sd, post_quantiles[0,:],post_quantiles[1,:]]\n",
        "\n",
        "summary_stats = pd.DataFrame(summary_stats).transpose()\n",
        "summary_stats.columns = ['mean', 'SD', '2.5%', '97.5%']\n",
        "summary_stats.rename(index={0:'a',1:'b', 2:'sigma'}, inplace=True)\n",
        "print(summary_stats)"
      ],
      "metadata": {
        "colab": {
          "base_uri": "https://localhost:8080/"
        },
        "outputId": "67c75bd9-d92c-4ae0-90cc-fa24126f51b1",
        "id": "bwWX5wgnXhIZ"
      },
      "execution_count": 75,
      "outputs": [
        {
          "output_type": "stream",
          "name": "stdout",
          "text": [
            "           mean        SD      2.5%     97.5%\n",
            "a      4.524722  0.105531  4.320058  4.732892\n",
            "b     -0.125976  0.071479 -0.265461  0.015314\n",
            "sigma  1.161248  0.079390  0.998266  1.303260\n"
          ]
        }
      ]
    },
    {
      "cell_type": "code",
      "source": [],
      "metadata": {
        "id": "JgGGp_NcXhIZ"
      },
      "execution_count": 75,
      "outputs": []
    },
    {
      "cell_type": "markdown",
      "metadata": {
        "id": "qccfxwkfXhIZ"
      },
      "source": [
        "Now let's explore the variability of the prediction by using the posterior samples for the coefficients that we computed before:"
      ]
    },
    {
      "cell_type": "code",
      "execution_count": 76,
      "metadata": {
        "colab": {
          "base_uri": "https://localhost:8080/",
          "height": 295
        },
        "outputId": "a12945a3-f4dd-4c2c-fb93-825a7334e027",
        "id": "3f2KvdxqXhIZ"
      },
      "outputs": [
        {
          "output_type": "display_data",
          "data": {
            "text/plain": [
              "<Figure size 432x288 with 1 Axes>"
            ],
            "image/png": "[encoded data removed]"
          },
          "metadata": {
            "needs_background": "light"
          }
        }
      ],
      "source": [
        "#sampling from the posterior\n",
        "\n",
        "for i in range(1000):\n",
        "    prediction = posterior_samples[i,0] + posterior_samples[i,1] * x_range\n",
        "    plt.plot(x_range + mean_groupsize, prediction, lw = 0.05, color = 'grey')\n",
        "\n",
        "plt.scatter(data2.groupsize + mean_groupsize, data.weight)\n",
        "plt.plot(x_range + mean_groupsize, mean_prediction, lw = 2, color = 'black')\n",
        "plt.title('weight vs groupsize')\n",
        "plt.ylabel('weight ')\n",
        "plt.xlabel('groupsize')\n",
        "plt.show()\n",
        "\n",
        "\n"
      ]
    },
    {
      "cell_type": "code",
      "source": [
        "prediction_range = []\n",
        "#sampling from the posterior to get a predictive interval\n",
        "for x_ in (x_range):\n",
        "    prediction_range.append(posterior_samples[:500,0] + posterior_samples[:500,1] * x_)  \n",
        "\n",
        "prediction_range_noise = []\n",
        "\n",
        "#sampling from the posterior to get a predictive interval\n",
        "for x_ in (x_range):\n",
        "    prediction_range_noise.append(norm.rvs(posterior_samples[:500,0] + posterior_samples[:500,1] * x_,  \n",
        "                                           posterior_samples[:500,2]))  \n",
        "    \n",
        "# Plotting the uncertainty\n",
        "for i,x_ in enumerate(x_range): \n",
        "    plt.scatter(np.repeat(x_,500) + mean_groupsize, prediction_range_noise[i], alpha = 0.05, color = 'grey')\n",
        "for i,x_ in enumerate(x_range): \n",
        "    plt.scatter(np.repeat(x_,500) + mean_groupsize, prediction_range[i], alpha = 0.05, color = 'green')\n",
        "\n",
        "\n",
        "plt.scatter(data2.groupsize + mean_groupsize, data2.weight, alpha = 0.5)\n",
        "plt.plot(x_range + mean_groupsize, mean_prediction, lw = 0.5, color = 'black')\n",
        "plt.title('weight vs groupsize')\n",
        "plt.ylabel('weight ')\n",
        "plt.xlabel('groupsize')\n",
        "plt.plot()"
      ],
      "metadata": {
        "colab": {
          "base_uri": "https://localhost:8080/",
          "height": 313
        },
        "outputId": "5b0bb320-b78e-4ca2-a23b-26ca31c04be9",
        "id": "JovZtFxJXhIZ"
      },
      "execution_count": 77,
      "outputs": [
        {
          "output_type": "execute_result",
          "data": {
            "text/plain": [
              "[]"
            ]
          },
          "metadata": {},
          "execution_count": 77
        },
        {
          "output_type": "display_data",
          "data": {
            "text/plain": [
              "<Figure size 432x288 with 1 Axes>"
            ],
            "image/png": "[encoded data removed]"
          },
          "metadata": {
            "needs_background": "light"
          }
        }
      ]
    },
    {
      "cell_type": "markdown",
      "source": [
        "The mean value of the slope(b) in groupsize is -0.123171. It is negative because the slope is negative. We can conclude that the impact of groupsize on the weight is larger than area(b=0.027197) since the absolute value of the slope in groupsize greater than the value of slope in area i.e. (0.123171 > 0.027197). The effect of groupsize is weakly negative with weight. "
      ],
      "metadata": {
        "id": "jAqbtxo7XhIa"
      }
    },
    {
      "cell_type": "markdown",
      "source": [
        "###3. Fit a regression for *weight* as a linear function of both *area* and *groupsize*"
      ],
      "metadata": {
        "id": "_se7UUzeeRXp"
      }
    },
    {
      "cell_type": "markdown",
      "source": [
        "$$\\mbox{weight}_i = a + b * \\mbox{age}_i + c * \\mbox{groupsize}_i,$$\n",
        "\n",
        "$$\\mbox{weight}_i\\sim N(\\mu_i,\\sigma^2),$$\n",
        "\n",
        "$$\\mu_i = a + b * \\mbox{age}_i * + c * \\mbox{groupsize}_i$$"
      ],
      "metadata": {
        "id": "giTBToSl0ogG"
      }
    },
    {
      "cell_type": "markdown",
      "source": [
        "Run a multivariate model with both variables, what can you conclude about this analysis?"
      ],
      "metadata": {
        "id": "ST9rYmoQgkoM"
      }
    },
    {
      "cell_type": "code",
      "source": [
        "data3 = data_original.copy()"
      ],
      "metadata": {
        "id": "j7j86SWGfACt"
      },
      "execution_count": 78,
      "outputs": []
    },
    {
      "cell_type": "code",
      "source": [
        "\n",
        "expr = expr = 'weight ~   area + groupsize'\n",
        "\n",
        "# Initializing the likelihood\n",
        "likelihood = 'gaussian'\n",
        "\n",
        "# Defining the prior with hyperparameters \n",
        "prior_a_mean = 0.5\n",
        "prior_a_sigma = 10\n",
        "prior_a = ['gaussian', [prior_a_mean, prior_a_sigma]]\n",
        "\n",
        "prior_b_mean = 0\n",
        "prior_b_sigma = 1\n",
        "prior_b = ['gaussian', [prior_b_mean, prior_b_sigma]]\n",
        "\n",
        "prior_c_mean = 0\n",
        "prior_c_sigma = 1\n",
        "prior_c = ['gaussian', [prior_c_mean, prior_c_sigma]]\n",
        "\n",
        "sigma_inf = 0\n",
        "sigma_sup = 10\n",
        "prior_sigma_unif = [sigma_inf, sigma_sup]\n",
        "prior_sigma = ['uniform', prior_sigma_unif]\n",
        "\n",
        "priors = [prior_a, prior_b, prior_c, prior_sigma]\n",
        "\n",
        "solution_regression_fat = laplace_solution_regression(expr, data3, likelihood, priors)\n",
        "#posterior_stats(solution_regression_fat,['a_fat','b_fat','c_fat', 'sigma_fat'])\n",
        "#posterior_plot_univariate_regression(solution_regression_fat, np.arange(0,75,0.5), data3, names=['area','groupsize'])"
      ],
      "metadata": {
        "colab": {
          "base_uri": "https://localhost:8080/"
        },
        "id": "Tg16TwUseew9",
        "outputId": "265eb302-de8e-4a3d-a389-df9e67163a4e"
      },
      "execution_count": 79,
      "outputs": [
        {
          "output_type": "stream",
          "name": "stdout",
          "text": [
            "      fun: 185.29414256387707\n",
            " hess_inv: array([[ 0.16789886, -0.07082731,  0.01602019, -0.00292686],\n",
            "       [-0.07082731,  0.03195263, -0.00801732,  0.0011278 ],\n",
            "       [ 0.01602019, -0.00801732,  0.00282016, -0.00020172],\n",
            "       [-0.00292686,  0.0011278 , -0.00020172,  0.00565056]])\n",
            "      jac: array([-5.72204590e-06, -9.53674316e-06, -1.14440918e-05,  1.90734863e-06])\n",
            "  message: 'Desired error not necessarily achieved due to precision loss.'\n",
            "     nfev: 150\n",
            "      nit: 22\n",
            "     njev: 30\n",
            "   status: 2\n",
            "  success: False\n",
            "        x: array([ 4.46827132,  0.58788997, -0.41478024,  1.11856806])\n"
          ]
        }
      ]
    },
    {
      "cell_type": "code",
      "source": [
        "posterior_stats(solution_regression_fat,['a','b','c', 'sigma'])\n"
      ],
      "metadata": {
        "colab": {
          "base_uri": "https://localhost:8080/"
        },
        "id": "01pnTfbt1oYe",
        "outputId": "085d62f7-524d-4798-b9d9-32f35e1c17ef"
      },
      "execution_count": 80,
      "outputs": [
        {
          "output_type": "stream",
          "name": "stdout",
          "text": [
            "           mean        SD      7.5%     92.5%\n",
            "a      4.496167  0.411972  3.885264  5.096729\n",
            "b      0.576375  0.179983  0.317023  0.832080\n",
            "c     -0.411020  0.053096 -0.491391 -0.335792\n",
            "sigma  1.115896  0.072737  1.010334  1.214525\n"
          ]
        }
      ]
    },
    {
      "cell_type": "code",
      "source": [
        "posterior_plot_univariate_regression(solution_regression_fat, np.arange(0,7,0.2), data3,  names = ['area','groupsize'])\n",
        "#The resulted plot shows our prediction and groupsize-area correlation.\n"
      ],
      "metadata": {
        "colab": {
          "base_uri": "https://localhost:8080/",
          "height": 295
        },
        "id": "sKN5O3cC1ZCx",
        "outputId": "5f6ad56b-ffc4-40c6-f9e5-cf0cef6997a1"
      },
      "execution_count": 81,
      "outputs": [
        {
          "output_type": "display_data",
          "data": {
            "text/plain": [
              "<Figure size 432x288 with 1 Axes>"
            ],
            "image/png": "[encoded data removed]"
          },
          "metadata": {
            "needs_background": "light"
          }
        }
      ]
    },
    {
      "cell_type": "code",
      "source": [
        "fields = ['weight',  'area', 'groupsize']\n",
        "\n",
        "plt.figure(figsize=(8,8))\n",
        "\n",
        "for i, field in enumerate(fields):\n",
        "    \n",
        "    for j in range(len(fields)):\n",
        "    \n",
        "        plt.subplot(len(fields), len(fields), len(fields)*i + j + 1)\n",
        "        \n",
        "        if i==j:\n",
        "            plt.text(0.25,0.5, field, fontsize=15)\n",
        "            plt.xticks([])\n",
        "            plt.yticks([])\n",
        "        else:\n",
        "            plt.scatter(data3[fields[j]], data3[field])\n",
        "            plt.ylabel(str(fields[j]))\n",
        "            plt.xlabel(str(fields[i]))"
      ],
      "metadata": {
        "colab": {
          "base_uri": "https://localhost:8080/",
          "height": 497
        },
        "id": "Q8SNu_e1x6IH",
        "outputId": "1ab1d251-dda3-48e5-ca3c-f21ccc1c2607"
      },
      "execution_count": 82,
      "outputs": [
        {
          "output_type": "display_data",
          "data": {
            "text/plain": [
              "<Figure size 576x576 with 9 Axes>"
            ],
            "image/png": "[encoded data removed]"
          },
          "metadata": {
            "needs_background": "light"
          }
        }
      ]
    },
    {
      "cell_type": "markdown",
      "source": [
        "When we look at the plot of area and group size, we can see that they are positively correlated. If there is an increase in area, there is an increase also in groupsize, however there is a worse prediction.\n"
      ],
      "metadata": {
        "id": "cFO1G-Zx4I30"
      }
    },
    {
      "cell_type": "code",
      "source": [],
      "metadata": {
        "id": "1BjPTe-ieezg"
      },
      "execution_count": 82,
      "outputs": []
    },
    {
      "cell_type": "code",
      "source": [],
      "metadata": {
        "id": "Ux7oojZNee11"
      },
      "execution_count": 82,
      "outputs": []
    },
    {
      "cell_type": "code",
      "source": [],
      "metadata": {
        "id": "nODLiwOmee38"
      },
      "execution_count": 82,
      "outputs": []
    },
    {
      "cell_type": "markdown",
      "source": [
        "#Exercise 4"
      ],
      "metadata": {
        "id": "UiodRFr3HdHD"
      }
    },
    {
      "cell_type": "markdown",
      "metadata": {
        "id": "RFkz15R0wBPV"
      },
      "source": [
        "**Exercise 4.** Consider the diabetes dataset"
      ]
    },
    {
      "cell_type": "code",
      "execution_count": 95,
      "metadata": {
        "colab": {
          "base_uri": "https://localhost:8080/"
        },
        "id": "yGPdG6-8wBPV",
        "outputId": "8691fae8-9da8-4cf9-e21c-bcdcedb477b2"
      },
      "outputs": [
        {
          "output_type": "stream",
          "name": "stdout",
          "text": [
            ".. _diabetes_dataset:\n",
            "\n",
            "Diabetes dataset\n",
            "----------------\n",
            "\n",
            "Ten baseline variables, age, sex, body mass index, average blood\n",
            "pressure, and six blood serum measurements were obtained for each of n =\n",
            "442 diabetes patients, as well as the response of interest, a\n",
            "quantitative measure of disease progression one year after baseline.\n",
            "\n",
            "**Data Set Characteristics:**\n",
            "\n",
            "  :Number of Instances: 442\n",
            "\n",
            "  :Number of Attributes: First 10 columns are numeric predictive values\n",
            "\n",
            "  :Target: Column 11 is a quantitative measure of disease progression one year after baseline\n",
            "\n",
            "  :Attribute Information:\n",
            "      - age     age in years\n",
            "      - sex\n",
            "      - bmi     body mass index\n",
            "      - bp      average blood pressure\n",
            "      - s1      tc, total serum cholesterol\n",
            "      - s2      ldl, low-density lipoproteins\n",
            "      - s3      hdl, high-density lipoproteins\n",
            "      - s4      tch, total cholesterol / HDL\n",
            "      - s5      ltg, possibly log of serum triglycerides level\n",
            "      - s6      glu, blood sugar level\n",
            "\n",
            "Note: Each of these 10 feature variables have been mean centered and scaled by the standard deviation times `n_samples` (i.e. the sum of squares of each column totals 1).\n",
            "\n",
            "Source URL:\n",
            "https://www4.stat.ncsu.edu/~boos/var.select/diabetes.html\n",
            "\n",
            "For more information see:\n",
            "Bradley Efron, Trevor Hastie, Iain Johnstone and Robert Tibshirani (2004) \"Least Angle Regression,\" Annals of Statistics (with discussion), 407-499.\n",
            "(https://web.stanford.edu/~hastie/Papers/LARS/LeastAngle_2002.pdf)\n"
          ]
        }
      ],
      "source": [
        "from sklearn import datasets \n",
        "import numpy as np\n",
        "import matplotlib.pyplot as plt\n",
        "\n",
        "dataset = datasets.load_diabetes(return_X_y=False)\n",
        "print(dataset.DESCR)"
      ]
    },
    {
      "cell_type": "code",
      "execution_count": 96,
      "metadata": {
        "id": "5hXs_-iPwBPW"
      },
      "outputs": [],
      "source": [
        "# Define the feature matrix\n",
        "data = dataset.data\n",
        "# Define the target\n",
        "target = dataset.target"
      ]
    },
    {
      "cell_type": "markdown",
      "metadata": {
        "id": "vyYH76nkwBPW"
      },
      "source": [
        "Investigate the relationship between age (data[:,0]) and Average blood pressure (data[:,3]) with a linear and quadratic model. \n",
        "\n",
        "- Which model do you think is better? \n",
        "- Predict a 95% confidence interval for the average blood pressure on an individual with mean age (0). \n",
        "\n"
      ]
    },
    {
      "cell_type": "code",
      "execution_count": 97,
      "metadata": {
        "colab": {
          "base_uri": "https://localhost:8080/"
        },
        "id": "erkAvFb0wBPW",
        "outputId": "ce4e7d96-8803-49ec-b747-62cd5d677cb9"
      },
      "outputs": [
        {
          "output_type": "execute_result",
          "data": {
            "text/plain": [
              "((442, 10), (442,), numpy.ndarray)"
            ]
          },
          "metadata": {},
          "execution_count": 97
        }
      ],
      "source": [
        "data.shape, target.shape, type(data)"
      ]
    },
    {
      "cell_type": "code",
      "source": [
        "import pandas as pd \n",
        "df = pd.DataFrame(data, columns = ['age','sex','bmi','bp','s1','s2','s3','s4','s5','s6'])\n",
        "df.head(3)\n"
      ],
      "metadata": {
        "colab": {
          "base_uri": "https://localhost:8080/",
          "height": 143
        },
        "id": "MZPZfn52iMXk",
        "outputId": "c1ec60ea-026e-40e1-b8c1-c7c5523a630a"
      },
      "execution_count": 98,
      "outputs": [
        {
          "output_type": "execute_result",
          "data": {
            "text/plain": [
              "        age       sex       bmi        bp        s1        s2        s3  \\\n",
              "0  0.038076  0.050680  0.061696  0.021872 -0.044223 -0.034821 -0.043401   \n",
              "1 -0.001882 -0.044642 -0.051474 -0.026328 -0.008449 -0.019163  0.074412   \n",
              "2  0.085299  0.050680  0.044451 -0.005671 -0.045599 -0.034194 -0.032356   \n",
              "\n",
              "         s4        s5        s6  \n",
              "0 -0.002592  0.019908 -0.017646  \n",
              "1 -0.039493 -0.068330 -0.092204  \n",
              "2 -0.002592  0.002864 -0.025930  "
            ],
            "text/html": [
              "\n",
              "  <div id=\"df-4f03c6e2-c0ff-4843-a496-73e44fba1217\">\n",
              "    <div class=\"colab-df-container\">\n",
              "      <div>\n",
              "<style scoped>\n",
              "    .dataframe tbody tr th:only-of-type {\n",
              "        vertical-align: middle;\n",
              "    }\n",
              "\n",
              "    .dataframe tbody tr th {\n",
              "        vertical-align: top;\n",
              "    }\n",
              "\n",
              "    .dataframe thead th {\n",
              "        text-align: right;\n",
              "    }\n",
              "</style>\n",
              "<table border=\"1\" class=\"dataframe\">\n",
              "  <thead>\n",
              "    <tr style=\"text-align: right;\">\n",
              "      <th></th>\n",
              "      <th>age</th>\n",
              "      <th>sex</th>\n",
              "      <th>bmi</th>\n",
              "      <th>bp</th>\n",
              "      <th>s1</th>\n",
              "      <th>s2</th>\n",
              "      <th>s3</th>\n",
              "      <th>s4</th>\n",
              "      <th>s5</th>\n",
              "      <th>s6</th>\n",
              "    </tr>\n",
              "  </thead>\n",
              "  <tbody>\n",
              "    <tr>\n",
              "      <th>0</th>\n",
              "      <td>0.038076</td>\n",
              "      <td>0.050680</td>\n",
              "      <td>0.061696</td>\n",
              "      <td>0.021872</td>\n",
              "      <td>-0.044223</td>\n",
              "      <td>-0.034821</td>\n",
              "      <td>-0.043401</td>\n",
              "      <td>-0.002592</td>\n",
              "      <td>0.019908</td>\n",
              "      <td>-0.017646</td>\n",
              "    </tr>\n",
              "    <tr>\n",
              "      <th>1</th>\n",
              "      <td>-0.001882</td>\n",
              "      <td>-0.044642</td>\n",
              "      <td>-0.051474</td>\n",
              "      <td>-0.026328</td>\n",
              "      <td>-0.008449</td>\n",
              "      <td>-0.019163</td>\n",
              "      <td>0.074412</td>\n",
              "      <td>-0.039493</td>\n",
              "      <td>-0.068330</td>\n",
              "      <td>-0.092204</td>\n",
              "    </tr>\n",
              "    <tr>\n",
              "      <th>2</th>\n",
              "      <td>0.085299</td>\n",
              "      <td>0.050680</td>\n",
              "      <td>0.044451</td>\n",
              "      <td>-0.005671</td>\n",
              "      <td>-0.045599</td>\n",
              "      <td>-0.034194</td>\n",
              "      <td>-0.032356</td>\n",
              "      <td>-0.002592</td>\n",
              "      <td>0.002864</td>\n",
              "      <td>-0.025930</td>\n",
              "    </tr>\n",
              "  </tbody>\n",
              "</table>\n",
              "</div>\n",
              "      <button class=\"colab-df-convert\" onclick=\"convertToInteractive('df-4f03c6e2-c0ff-4843-a496-73e44fba1217')\"\n",
              "              title=\"Convert this dataframe to an interactive table.\"\n",
              "              style=\"display:none;\">\n",
              "        \n",
              "  <svg xmlns=\"http://www.w3.org/2000/svg\" height=\"24px\"viewBox=\"0 0 24 24\"\n",
              "       width=\"24px\">\n",
              "    <path d=\"M0 0h24v24H0V0z\" fill=\"none\"/>\n",
              "    <path d=\"M18.56 5.44l.94 2.06.94-2.06 2.06-.94-2.06-.94-.94-2.06-.94 2.06-2.06.94zm-11 1L8.5 8.5l.94-2.06 2.06-.94-2.06-.94L8.5 2.5l-.94 2.06-2.06.94zm10 10l.94 2.06.94-2.06 2.06-.94-2.06-.94-.94-2.06-.94 2.06-2.06.94z\"/><path d=\"M17.41 7.96l-1.37-1.37c-.4-.4-.92-.59-1.43-.59-.52 0-1.04.2-1.43.59L10.3 9.45l-7.72 7.72c-.78.78-.78 2.05 0 2.83L4 21.41c.39.39.9.59 1.41.59.51 0 1.02-.2 1.41-.59l7.78-7.78 2.81-2.81c.8-.78.8-2.07 0-2.86zM5.41 20L4 18.59l7.72-7.72 1.47 1.35L5.41 20z\"/>\n",
              "  </svg>\n",
              "      </button>\n",
              "      \n",
              "  <style>\n",
              "    .colab-df-container {\n",
              "      display:flex;\n",
              "      flex-wrap:wrap;\n",
              "      gap: 12px;\n",
              "    }\n",
              "\n",
              "    .colab-df-convert {\n",
              "      background-color: #E8F0FE;\n",
              "      border: none;\n",
              "      border-radius: 50%;\n",
              "      cursor: pointer;\n",
              "      display: none;\n",
              "      fill: #1967D2;\n",
              "      height: 32px;\n",
              "      padding: 0 0 0 0;\n",
              "      width: 32px;\n",
              "    }\n",
              "\n",
              "    .colab-df-convert:hover {\n",
              "      background-color: #E2EBFA;\n",
              "      box-shadow: 0px 1px 2px rgba(60, 64, 67, 0.3), 0px 1px 3px 1px rgba(60, 64, 67, 0.15);\n",
              "      fill: #174EA6;\n",
              "    }\n",
              "\n",
              "    [theme=dark] .colab-df-convert {\n",
              "      background-color: #3B4455;\n",
              "      fill: #D2E3FC;\n",
              "    }\n",
              "\n",
              "    [theme=dark] .colab-df-convert:hover {\n",
              "      background-color: #434B5C;\n",
              "      box-shadow: 0px 1px 3px 1px rgba(0, 0, 0, 0.15);\n",
              "      filter: drop-shadow(0px 1px 2px rgba(0, 0, 0, 0.3));\n",
              "      fill: #FFFFFF;\n",
              "    }\n",
              "  </style>\n",
              "\n",
              "      <script>\n",
              "        const buttonEl =\n",
              "          document.querySelector('#df-4f03c6e2-c0ff-4843-a496-73e44fba1217 button.colab-df-convert');\n",
              "        buttonEl.style.display =\n",
              "          google.colab.kernel.accessAllowed ? 'block' : 'none';\n",
              "\n",
              "        async function convertToInteractive(key) {\n",
              "          const element = document.querySelector('#df-4f03c6e2-c0ff-4843-a496-73e44fba1217');\n",
              "          const dataTable =\n",
              "            await google.colab.kernel.invokeFunction('convertToInteractive',\n",
              "                                                     [key], {});\n",
              "          if (!dataTable) return;\n",
              "\n",
              "          const docLinkHtml = 'Like what you see? Visit the ' +\n",
              "            '<a target=\"_blank\" href=https://colab.research.google.com/notebooks/data_table.ipynb>data table notebook</a>'\n",
              "            + ' to learn more about interactive tables.';\n",
              "          element.innerHTML = '';\n",
              "          dataTable['output_type'] = 'display_data';\n",
              "          await google.colab.output.renderOutput(dataTable, element);\n",
              "          const docLink = document.createElement('div');\n",
              "          docLink.innerHTML = docLinkHtml;\n",
              "          element.appendChild(docLink);\n",
              "        }\n",
              "      </script>\n",
              "    </div>\n",
              "  </div>\n",
              "  "
            ]
          },
          "metadata": {},
          "execution_count": 98
        }
      ]
    },
    {
      "cell_type": "markdown",
      "source": [
        "We copy the data frame to use it in quadratic model and in the last question:\n"
      ],
      "metadata": {
        "id": "MvzWtxnC_6h8"
      }
    },
    {
      "cell_type": "code",
      "source": [
        "df_quadratic = df.copy()\n",
        "df_3 = df.copy()\n",
        "df_linear = df.copy()"
      ],
      "metadata": {
        "id": "UaqwnMk-_-JM"
      },
      "execution_count": 99,
      "outputs": []
    },
    {
      "cell_type": "markdown",
      "source": [
        "Let's plot the age vs bp:"
      ],
      "metadata": {
        "id": "rriG-Dm5ljBm"
      }
    },
    {
      "cell_type": "code",
      "source": [
        "plt.scatter(df.bp , df.age)\n",
        "plt.xlabel('bp')\n",
        "plt.ylabel('age')\n",
        "plt.show()"
      ],
      "metadata": {
        "colab": {
          "base_uri": "https://localhost:8080/",
          "height": 279
        },
        "id": "XURIshwBiO3r",
        "outputId": "d3b3c27e-5dca-4f04-d657-1aae4842d4e6"
      },
      "execution_count": 100,
      "outputs": [
        {
          "output_type": "display_data",
          "data": {
            "text/plain": [
              "<Figure size 432x288 with 1 Axes>"
            ],
            "image/png": "[encoded data removed]"
          },
          "metadata": {
            "needs_background": "light"
          }
        }
      ]
    },
    {
      "cell_type": "code",
      "source": [],
      "metadata": {
        "id": "PFJ4Z0YGlxwL"
      },
      "execution_count": 100,
      "outputs": []
    },
    {
      "cell_type": "markdown",
      "source": [
        "The data already has been mean centered and scaled so we don't center it again."
      ],
      "metadata": {
        "id": "pGqlsuw8kyP5"
      }
    },
    {
      "cell_type": "markdown",
      "source": [
        "###1. Linear Model:\n",
        "\n",
        "$$\\mbox{age}_i = a + b * \\mbox{bp}_i,$$\n",
        "\n",
        "$$\\mbox{age}_i\\sim N(\\mu_i,\\sigma^2),$$"
      ],
      "metadata": {
        "id": "0rkqe_hxl9qC"
      }
    },
    {
      "cell_type": "code",
      "source": [
        "# linear model\n",
        "expr = 'age ~   bp'\n",
        "\n",
        "# Initializing the likelihood\n",
        "likelihood = 'gaussian'\n",
        "# Defining the prior with hyperparameters \n",
        "\n",
        "prior_a_mean = 178\n",
        "prior_a_sigma = 100\n",
        "prior_a = ['gaussian', [prior_a_mean, prior_a_sigma]]\n",
        "\n",
        "prior_b_mean = 0\n",
        "prior_b_sigma = 10\n",
        "prior_b = ['gaussian', [prior_b_mean, prior_b_sigma]]\n",
        "\n",
        "sigma_inf = 0\n",
        "sigma_sup = 50\n",
        "prior_sigma_unif = [sigma_inf, sigma_sup]\n",
        "prior_sigma = ['uniform', prior_sigma_unif]\n",
        "\n",
        "priors = [prior_a, prior_b, prior_sigma]\n",
        "\n",
        "solution_regression_lin = laplace_solution_regression(expr, df_linear, likelihood, priors)\n",
        "\n",
        "# Computing posterior samples\n",
        "\n",
        "posterior_samples_lin = multivariate_normal.rvs(solution_regression_lin[0], solution_regression_lin[1], size = 1000)\n",
        "\n",
        "\n",
        "# sd\n",
        "post_sd_lin = np.std(posterior_samples_lin, axis = 0)\n",
        "# mean\n",
        "post_mean_lin = np.mean(posterior_samples_lin, axis = 0)\n",
        "\n",
        "\n",
        "# Plot the average results\n",
        "x_range = np.linspace(min(df_linear.age), max(df_linear.age))\n",
        "mean_prediction_lin = post_mean_lin[0] + post_mean_lin[1] * x_range\n",
        "\n",
        "plt.plot(x_range , mean_prediction_lin, lw = 2, color = 'black')\n",
        "plt.scatter(df_linear.bp ,df_linear.age)\n",
        "plt.title('age vs bp')\n",
        "plt.ylabel('age')\n",
        "plt.xlabel('bp')\n",
        "plt.show()\n",
        "\n"
      ],
      "metadata": {
        "colab": {
          "base_uri": "https://localhost:8080/",
          "height": 565
        },
        "id": "-UUK2ORFmB9w",
        "outputId": "37a56d94-98a5-4411-fbf0-5498d862b238"
      },
      "execution_count": 101,
      "outputs": [
        {
          "output_type": "stream",
          "name": "stderr",
          "text": [
            "/usr/local/lib/python3.7/dist-packages/scipy/optimize/_numdiff.py:557: RuntimeWarning: invalid value encountered in subtract\n",
            "  df = fun(x) - f0\n"
          ]
        },
        {
          "output_type": "stream",
          "name": "stdout",
          "text": [
            "      fun: -731.144626437007\n",
            " hess_inv: array([[ 4.42684096e-06, -4.66087081e-06, -1.16497310e-07],\n",
            "       [-4.66087081e-06,  1.40057146e-05,  4.55250318e-06],\n",
            "       [-1.16497310e-07,  4.55250318e-06,  2.21715301e-06]])\n",
            "      jac: array([-2.28881836e-05,  0.00000000e+00,  7.62939453e-05])\n",
            "  message: 'Desired error not necessarily achieved due to precision loss.'\n",
            "     nfev: 274\n",
            "      nit: 47\n",
            "     njev: 68\n",
            "   status: 2\n",
            "  success: False\n",
            "        x: array([7.33073788e-08, 3.35419972e-01, 4.48095172e-02])\n"
          ]
        },
        {
          "output_type": "display_data",
          "data": {
            "text/plain": [
              "<Figure size 432x288 with 1 Axes>"
            ],
            "image/png": "[encoded data removed]"
          },
          "metadata": {
            "needs_background": "light"
          }
        }
      ]
    },
    {
      "cell_type": "code",
      "source": [
        "# LINEAR - Computing summary stats\n",
        "\n",
        "# 95% confidence interval\n",
        "post_quantiles_lin = np.quantile(posterior_samples_lin, q = [0.025, 0.975], axis = 0)\n",
        "# sd\n",
        "post_sd_lin = np.std(posterior_samples_lin, axis = 0)\n",
        "# mean\n",
        "post_mean_lin = np.mean(posterior_samples_lin, axis = 0)\n",
        "\n",
        "summary_stats_lin = [post_mean_lin, post_sd_lin, post_quantiles_lin[0,:],post_quantiles_lin[1,:]]\n",
        "\n",
        "summary_stats_lin = pd.DataFrame(summary_stats_lin).transpose()\n",
        "summary_stats_lin.columns = ['mean', 'SD', '2.5%', '97.5%']\n",
        "summary_stats_lin.rename(index={0:'a',1:'b', 2:'sigma'}, inplace=True)\n",
        "print(summary_stats_lin)"
      ],
      "metadata": {
        "colab": {
          "base_uri": "https://localhost:8080/"
        },
        "id": "m3MV6y7PmJH1",
        "outputId": "4a884b38-1b92-47ac-9fca-fc59b3fb06ea"
      },
      "execution_count": 102,
      "outputs": [
        {
          "output_type": "stream",
          "name": "stdout",
          "text": [
            "           mean        SD      2.5%     97.5%\n",
            "a     -0.000003  0.002210 -0.004595  0.004324\n",
            "b      0.335379  0.003843  0.328002  0.343088\n",
            "sigma  0.044799  0.001474  0.042038  0.047823\n"
          ]
        }
      ]
    },
    {
      "cell_type": "markdown",
      "source": [
        "###2. Quadratic Model:\n",
        "\n",
        "$$\\mbox{age}_i = a + b * \\mbox{bp}_i + c * \\mbox{bp}^2_i$$\n",
        "\n",
        "$$\\mbox{age}_i\\sim N(\\mu_i,\\sigma_ı^2),$$"
      ],
      "metadata": {
        "id": "poye8Y1BmFvA"
      }
    },
    {
      "cell_type": "markdown",
      "source": [
        "We add another coefficient for the quadratic term namely 'c'"
      ],
      "metadata": {
        "id": "vX2ileEJ6SGe"
      }
    },
    {
      "cell_type": "code",
      "source": [
        "df_quadratic[\"bp2\"]= df_quadratic.bp * df_quadratic.bp\n",
        "\n",
        "# linear model\n",
        "expr = 'age ~ bp + bp2'\n",
        "\n",
        "# Initializing the likelihood\n",
        "likelihood = 'gaussian'\n",
        "# Defining the prior with hyperparameters \n",
        "\n",
        "prior_a_mean = 178\n",
        "prior_a_sigma = 100\n",
        "prior_a = ['gaussian', [prior_a_mean, prior_a_sigma]]\n",
        "\n",
        "prior_b_mean = 0\n",
        "prior_b_sigma = 10\n",
        "prior_b = ['gaussian', [prior_b_mean, prior_b_sigma]]\n",
        "\n",
        "prior_c_mean = 0\n",
        "prior_c_sigma = 10\n",
        "prior_c = ['gaussian', [prior_c_mean, prior_c_sigma]]\n",
        "\n",
        "sigma_inf = 0\n",
        "sigma_sup = 50\n",
        "prior_sigma_unif = [sigma_inf, sigma_sup]\n",
        "prior_sigma = ['uniform', prior_sigma_unif]\n",
        "\n",
        "priors = [prior_a, prior_b, prior_c, prior_sigma]\n",
        "\n",
        "solution_regression_quad = laplace_solution_regression(expr, df_quadratic, likelihood, priors)\n",
        "\n",
        "# Computing posterior samples\n",
        "\n",
        "posterior_samples_quad = multivariate_normal.rvs(solution_regression_quad[0], solution_regression_quad[1], size = 1000)\n",
        "\n",
        "\n",
        "# sd\n",
        "post_sd_quad = np.std(posterior_samples_quad, axis = 0)\n",
        "# mean\n",
        "post_mean_quad = np.mean(posterior_samples_quad, axis = 0)\n",
        "\n",
        "# Plot the average results\n",
        "\n",
        "\n",
        "x_range = np.linspace(min(df_quadratic.bp), max(df_quadratic.bp))\n",
        "mean_prediction_quad = (post_mean_quad[0] + post_mean_quad[1] * x_range) + (post_mean_quad[2] * x_range**2)\n",
        "\n",
        "plt.plot(x_range , mean_prediction_quad, lw = 2, color = 'black')\n",
        "plt.scatter(df_quadratic.bp, df_quadratic.age)\n",
        "plt.title('age vs bp')\n",
        "plt.ylabel('age')\n",
        "plt.xlabel('bp')\n",
        "plt.show()\n",
        "\n"
      ],
      "metadata": {
        "colab": {
          "base_uri": "https://localhost:8080/",
          "height": 599
        },
        "id": "RmbIU4ximIbK",
        "outputId": "6fac7d3e-5af0-4c09-ca80-1677512cddcc"
      },
      "execution_count": 103,
      "outputs": [
        {
          "output_type": "stream",
          "name": "stdout",
          "text": [
            "      fun: -729.13690464984\n",
            " hess_inv: array([[ 5.55235163e-06, -6.22285549e-06, -8.62951146e-07,\n",
            "         2.31843997e-07],\n",
            "       [-6.22285549e-06,  2.12527719e-03,  9.02372184e-07,\n",
            "        -8.49987500e-07],\n",
            "       [-8.62951146e-07,  9.02372184e-07,  1.24070609e-04,\n",
            "        -3.59578172e-06],\n",
            "       [ 2.31843997e-07, -8.49987500e-07, -3.59578172e-06,\n",
            "         2.36293048e-06]])\n",
            "      jac: array([7.62939453e-06, 7.62939453e-06, 7.62939453e-06, 0.00000000e+00])\n",
            "  message: 'Optimization terminated successfully.'\n",
            "     nfev: 305\n",
            "      nit: 45\n",
            "     njev: 61\n",
            "   status: 0\n",
            "  success: True\n",
            "        x: array([ 0.00281839,  0.35258351, -1.24569653,  0.04468585])\n"
          ]
        },
        {
          "output_type": "display_data",
          "data": {
            "text/plain": [
              "<Figure size 432x288 with 1 Axes>"
            ],
            "image/png": "[encoded data removed]"
          },
          "metadata": {
            "needs_background": "light"
          }
        }
      ]
    },
    {
      "cell_type": "markdown",
      "source": [
        "###Linear vs Quadratic analysis"
      ],
      "metadata": {
        "id": "czZu4p-A_GSg"
      }
    },
    {
      "cell_type": "code",
      "source": [
        "# Computing summary stats\n",
        "# 95% confidence interval\n",
        "post_quantiles_quad = np.quantile(posterior_samples_quad, q = [0.025, 0.975], axis = 0)\n",
        "# sd\n",
        "post_sd_quad = np.std(posterior_samples_quad, axis = 0)\n",
        "# mean\n",
        "post_mean_quad = np.mean(posterior_samples_quad, axis = 0)\n",
        "\n",
        "summary_stats_quad = [post_mean_quad, post_sd_quad, post_quantiles_quad[0,:],post_quantiles_quad[1,:]]\n",
        "\n",
        "summary_stats_quad = pd.DataFrame(summary_stats_quad).transpose()\n",
        "summary_stats_quad.columns = ['mean', 'SD', '2.5%', '97.5%']\n",
        "summary_stats_quad.rename(index={0:'a',1:'b', 2:'c' ,3:'sigma'}, inplace=True)\n",
        "print(\"QUADRATIC\")\n",
        "print(summary_stats_quad)"
      ],
      "metadata": {
        "colab": {
          "base_uri": "https://localhost:8080/"
        },
        "id": "B8nRxRu6nUuu",
        "outputId": "6132a1a8-aff0-462d-f44e-ea6a6cddee93"
      },
      "execution_count": 104,
      "outputs": [
        {
          "output_type": "stream",
          "name": "stdout",
          "text": [
            "QUADRATIC\n",
            "           mean        SD      2.5%     97.5%\n",
            "a      0.002866  0.002270 -0.001519  0.007429\n",
            "b      0.353474  0.046324  0.262116  0.443444\n",
            "c     -1.245979  0.011724 -1.269367 -1.224213\n",
            "sigma  0.044708  0.001595  0.041680  0.047838\n"
          ]
        }
      ]
    },
    {
      "cell_type": "code",
      "source": [
        "#Let's print again the summary statistics of Linear model:\n",
        "print(\"LINEAR\")\n",
        "print(summary_stats_lin)"
      ],
      "metadata": {
        "colab": {
          "base_uri": "https://localhost:8080/"
        },
        "id": "EaTgWFwBsV1n",
        "outputId": "3cb88994-94e2-41e4-f7e6-b1941cf20621"
      },
      "execution_count": 105,
      "outputs": [
        {
          "output_type": "stream",
          "name": "stdout",
          "text": [
            "LINEAR\n",
            "           mean        SD      2.5%     97.5%\n",
            "a     -0.000003  0.002210 -0.004595  0.004324\n",
            "b      0.335379  0.003843  0.328002  0.343088\n",
            "sigma  0.044799  0.001474  0.042038  0.047823\n"
          ]
        }
      ]
    },
    {
      "cell_type": "markdown",
      "source": [
        "When we look at the coefficient 'c' in the quadratic model we see that its 95% interval is in the range [-1.39, -1.10]. The range is away from 0, that means the quadratic model would NOT provide a weak improvement. If its confidence interval would consist of 0, we would say that it provides a weak improvement. In our case the quadratic model would be a better choice. \n",
        "\n",
        "\n",
        "\n"
      ],
      "metadata": {
        "id": "hUZtD6Co_RpZ"
      }
    },
    {
      "cell_type": "code",
      "source": [],
      "metadata": {
        "id": "6v-qfoV6sb8b"
      },
      "execution_count": 105,
      "outputs": []
    },
    {
      "cell_type": "markdown",
      "source": [
        "###Predict a 95% confidence interval for the average blood pressure on an individual with mean age (0)"
      ],
      "metadata": {
        "id": "Q4XZfplbDJ3h"
      }
    },
    {
      "cell_type": "code",
      "source": [
        "#df_3 = df.copy() #This was done at the begining of the question to save a copy of the data to use it here.\n",
        "\n",
        "mean_age = np.mean(df_3.age)\n",
        "x = 0\n",
        "x_center = x - mean_age\n",
        "prediction = []\n",
        "for i in range(1000):\n",
        "    prediction.append(posterior_samples_quad[i,0] + posterior_samples_quad[i,1] * x_center + posterior_samples_quad[i,2] * x_center**2)\n",
        "# 95% confidence interval\n",
        "pred_quantiles = np.quantile(prediction, q = [0.025, 0.975], axis = 0)\n",
        "# sd\n",
        "pred_sd = np.std(prediction, axis = 0)\n",
        "# mean\n",
        "pred_mean = np.mean(prediction, axis = 0)\n",
        "\n",
        "summary_stats = [pred_mean, pred_sd, pred_quantiles[0],pred_quantiles[1]]\n",
        "\n",
        "summary_stats = pd.DataFrame(summary_stats).transpose()\n",
        "summary_stats.columns = ['mean', 'SD', '2.5%', '97.5%']\n",
        "summary_stats.rename(index={0:'a',1:'b', 2:'c', 3:'sigma'}, inplace=True)\n",
        "print(summary_stats)\n",
        "#Plot\n",
        "x_range = np.linspace(min(prediction), max(prediction))\n",
        "\n",
        "data_density = gaussian_kde(prediction)\n",
        "plt.plot(x_range, data_density(x_range))\n",
        "plt.show()"
      ],
      "metadata": {
        "colab": {
          "base_uri": "https://localhost:8080/",
          "height": 301
        },
        "id": "ozmo5dMLDKyV",
        "outputId": "bb755d41-9660-4109-e37f-326e7822fdf7"
      },
      "execution_count": 106,
      "outputs": [
        {
          "output_type": "stream",
          "name": "stdout",
          "text": [
            "       mean       SD      2.5%     97.5%\n",
            "a  0.002866  0.00227 -0.001519  0.007429\n"
          ]
        },
        {
          "output_type": "display_data",
          "data": {
            "text/plain": [
              "<Figure size 432x288 with 1 Axes>"
            ],
            "image/png": "[encoded data removed]"
          },
          "metadata": {
            "needs_background": "light"
          }
        }
      ]
    },
    {
      "cell_type": "code",
      "source": [],
      "metadata": {
        "id": "l1WeYFoElDjH"
      },
      "execution_count": 106,
      "outputs": []
    }
  ],
  "metadata": {
    "kernelspec": {
      "display_name": "Python 3",
      "language": "python",
      "name": "python3"
    },
    "language_info": {
      "codemirror_mode": {
        "name": "ipython",
        "version": 3
      },
      "file_extension": ".py",
      "mimetype": "text/x-python",
      "name": "python",
      "nbconvert_exporter": "python",
      "pygments_lexer": "ipython3",
      "version": "3.6.13"
    },
    "colab": {
      "provenance": [],
      "collapsed_sections": [
        "dpKqQUjmyQML",
        "o8qCtY1Pq_2g"
      ]
    }
  },
  "nbformat": 4,
  "nbformat_minor": 0
}
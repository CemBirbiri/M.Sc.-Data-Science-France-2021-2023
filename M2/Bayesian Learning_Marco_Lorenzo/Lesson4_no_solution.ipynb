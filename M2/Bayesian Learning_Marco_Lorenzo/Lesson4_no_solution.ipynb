{
  "cells": [
    {
      "cell_type": "markdown",
      "metadata": {
        "id": "To9E8oVZJVhp"
      },
      "source": [
        "# Laplace Approximation: the world from the peak of the mountain\n",
        "\n",
        "The Laplace method is a powerful technique to approximate the shape of a given function through a Gaussian.\n",
        "The approximation relies on the Taylor expansion of the (log-)function of interest $f$ that we wish to approximate.\n",
        "Starting from the simple observation that:\n",
        "\n",
        "$$ f(\\theta) = \\exp(\\log(f(\\theta)) = \\exp(g(\\theta)),$$\n",
        "\n",
        "Let us assume that $g$, and thus $f$, have a maximum in $\\theta_0$. For any other point $\\theta$ sufficiently close to the maximum, we can now approximate the function from this priviledged point of view, to obtain:\n",
        "\n",
        "$$g(\\theta) = g(\\theta_0) + g'(\\theta_0)(\\theta - \\theta_0) + \\frac{1}{2}g''(\\theta_0)(\\theta - \\theta_0)^2 + O((\\theta - \\theta_0)^3),$$\n",
        "\n",
        "In particular, since $\\theta_0$ is the maximum, we obtain:\n",
        "\n",
        "$$g(\\theta) \\approx g(\\theta_0) + \\frac{1}{2}g''(\\theta_0)(\\theta - \\theta_0)^2.$$\n",
        "\n",
        "Taking the exponential on both sides we have:\n",
        "\n",
        "$$ f(\\theta) = \\exp(g(x)) \\approx \\exp(g(\\theta_0))\\exp(\\frac{1}{2}g''(\\theta_0)(\\theta - \\theta_0)^2). $$\n",
        "\n",
        "In this last equation we can recognize the typical term of the Gaussian pdf:\n",
        "\n",
        "$$\\exp(\\frac{1}{2}g''(\\theta_0)(\\theta - \\theta_0)^2),$$\n",
        "\n",
        "which reminds us of a Gaussian distribution with mean $\\theta_0$, and variance $-\\frac{1}{g''(\\theta_0)}$. This is telling us that our function can be actually approximated (up to a normalizaing constant) by a Gaussian distribution centered around the maximum, and with variance equal to the inverse of the second derivative (the Hessian).\n",
        "\n",
        "In practice, when we need to approximate a posterior pdf $f$ that we cannot compute in close form, we may simply find its maximum $\\theta_0$, and the Hessian $g''(\\theta_0)$, and replace them in the corrisponding Gaussian form.\n",
        "When evaluating $f$ we therefore obtain:\n",
        "\n",
        "\n",
        "$$\\int_a^b f(\\theta) d\\theta \\approx \\exp(g(\\theta_0)) \\int_a^b \\exp(-\\frac{1}{2}\\frac{(\\theta - \\theta_0)^2}{-g''(\\theta_0)^{-1}}) d\\theta$$.\n",
        "\n",
        "If we call $\\Phi(\\theta|\\theta_0,-\\frac{1}{g''(\\theta_0)})$, the Gaussian pdf, we finally obtain: \n",
        "\n",
        "$$\\int_a^b f(\\theta) d\\theta \\approx \\exp(g(\\theta_0))\\sqrt{\\frac{2\\pi}{-g''(\\theta_0)}}\\int_a^b \\Phi(\\theta|\\theta_0,-\\frac{1}{g''(\\theta_0)}) d\\theta = \\exp(g(\\theta_0))\\sqrt{\\frac{2\\pi}{-g''(\\theta_0)}} \\left(\\Phi(a|\\theta_0,-\\frac{1}{g''(\\theta_0)}) -  \\Phi(b|\\theta_0,-\\frac{1}{g''(\\theta_0)})\\right)$$\n",
        "\n",
        "It is worth noticing that the Laplace approximation replaces the problem of integrating a function with the problem of maximizing it. In order to compute the Laplace approximation, we have to compute the location of the mode, which is an optimization problem. Often, this problem is faster to solve using function optimizers than integrating the same function would be.\n",
        "\n"
      ]
    },
    {
      "cell_type": "markdown",
      "metadata": {
        "id": "STnSvYujJVhs"
      },
      "source": [
        "**Example. The Laplace approximation of a Binomial distribution**\n",
        "We can derive the Laplace approximation for the Binomial distribution by simply applying the steps introduced previously.\n",
        "The Binomial distribution is:\n",
        "$$f(\\theta|y,N)\\approx\\theta^y(1-\\theta)^{N-y},$$\n",
        "\n",
        "for which the logarithm follows:\n",
        "\n",
        "$$\\log(f) = y\\log(\\theta) + (N-y)\\log(1-\\theta).$$\n",
        "\n",
        "To compute our approximation, we need to:\n",
        "- Compute the maximum of the log-distribution. We can do this analytically: we derive with respect to \\theta and we solve:\n",
        "$$\\frac{d\\log(f)}{d\\theta} = \\frac{y}{\\theta} - \\frac{N-y}{1-\\theta} = 0 \\Longrightarrow \\frac{(1-\\theta)y - \\theta(N-y)}{\\theta(1-\\theta)} = 0$$.\n",
        "$$y-\\theta y - N\\theta + \\theta y =0 \\Longrightarrow y - N\\theta = 0 \\Longrightarrow \\theta = \\frac{y}{N}$$"
      ]
    },
    {
      "cell_type": "code",
      "source": [
        "#Step-1 take log of f(Q) and say it g(Q)\n",
        "#Step-2: find MAX of g(Q) -> türevi alıp sıfıra eşitle ve Q'yu çek ve ona Q0 yani MAX de.\n",
        "#Step-3: find g\"(Q) -> differentiate again and make it equal to zero\n",
        "#Step-4: Variance = (-1)/g\"(Q)^2"
      ],
      "metadata": {
        "id": "vmly3P-oO9Wb"
      },
      "execution_count": 2,
      "outputs": []
    },
    {
      "cell_type": "markdown",
      "metadata": {
        "id": "QJfvA3FXJVhs"
      },
      "source": [
        "- Compute the second derivative of the log-distribution with respect to $\\theta$:\n",
        "$$\\frac{d^2\\log(f)}{d\\theta^2} = -\\frac{y}{\\theta^2} - \\frac{N-y}{(1-\\theta)^2} $$\n",
        "\n",
        "At this point the problem is solved: the approximation will be a Gaussian with mean $\\mu = \\frac{y}{N}$ and variance $\\sigma^2 = -(-\\frac{N^2}{y} - \\frac{N-y}{(1-\\frac{y}{N})^2})^{-1}$."
      ]
    },
    {
      "cell_type": "code",
      "execution_count": 3,
      "metadata": {
        "colab": {
          "base_uri": "https://localhost:8080/",
          "height": 283
        },
        "id": "vQARSS3wJVht",
        "outputId": "3b3becea-7dca-40d8-ddc8-c1ed74e64384"
      },
      "outputs": [
        {
          "output_type": "execute_result",
          "data": {
            "text/plain": [
              "<matplotlib.legend.Legend at 0x7fd7e106a5d0>"
            ]
          },
          "metadata": {},
          "execution_count": 3
        },
        {
          "output_type": "display_data",
          "data": {
            "text/plain": [
              "<Figure size 432x288 with 1 Axes>"
            ],
            "image/png": "[encoded data removed]"
          },
          "metadata": {
            "needs_background": "light"
          }
        }
      ],
      "source": [
        "import numpy as np\n",
        "from scipy.stats import norm\n",
        "import matplotlib.pyplot as plt\n",
        "\n",
        "## Example: Laplace approximation of the Binomial distribution\n",
        "\n",
        "y = 4\n",
        "N = 8\n",
        "\n",
        "theta = np.linspace(0,1)\n",
        "\n",
        "f = theta**y*(1-theta)**(N-y)\n",
        "\n",
        "plt.plot(theta,f/np.sum(f), label = 'Binomial pdf')\n",
        "\n",
        "fmax = y/N\n",
        "\n",
        "Hessian = -y/fmax**2 - (N-y)/(1-fmax)**2\n",
        "\n",
        "var = -1/Hessian\n",
        "\n",
        "Laplace_approx = norm(fmax, np.sqrt(var))\n",
        "\n",
        "plt.plot(theta, Laplace_approx.pdf(theta)/np.sum(Laplace_approx.pdf(theta)), label = 'Laplace approximation')\n",
        "plt.legend()"
      ]
    },
    {
      "cell_type": "markdown",
      "metadata": {
        "id": "s0qGUE9sJVhu"
      },
      "source": [
        "**Exercise.** From the previous exercise, compute the Laplace approximation resulting from incliding a prior $Beta(2,3)$."
      ]
    },
    {
      "cell_type": "markdown",
      "source": [
        "My answer:(WRONG) cunku posterior'ı almalısın prior'ı degil"
      ],
      "metadata": {
        "id": "Y8bb_TLAWIif"
      }
    },
    {
      "cell_type": "markdown",
      "source": [
        "$$f(\\theta) = Beta(\\alpha,\\beta) \\propto \\theta^{\\alpha-1}(1-\\theta)^{\\beta-1},$$"
      ],
      "metadata": {
        "id": "cz8yQikcWL38"
      }
    },
    {
      "cell_type": "markdown",
      "source": [
        "\n",
        "$$f(\\theta)$$\n",
        "\n"
      ],
      "metadata": {
        "id": "c6eJGQZ2WU_e"
      }
    },
    {
      "cell_type": "code",
      "source": [
        "#Step-1 take log of f(Q) and say it g(Q)\n",
        "#Step-2: find MAX of g(Q) -> türevi alıp sıfıra eşitle ve Q'yu çek ve ona Q0 yani MAX de.\n",
        "#Step-3: find g\"(Q) -> differentiate again and and find q\"(Q)\n",
        "#Step-4: Variance = (-1)/g\"(Q)^2"
      ],
      "metadata": {
        "id": "N2bpTIUiVwcR"
      },
      "execution_count": null,
      "outputs": []
    },
    {
      "cell_type": "code",
      "source": [
        "theta = np.linspace(0,1)\n",
        "\n",
        "f = theta ** 1 *(1-theta)**(2)\n",
        "\n",
        "plt.plot(theta,f/np.sum(f), label = 'Prior Beta pdf')\n",
        "\n",
        "fmax = 1/3\n",
        "\n",
        "Hessian = -2/fmax**2 - (2)/(1-fmax)**2\n",
        "\n",
        "var = -1/Hessian\n",
        "\n",
        "Laplace_approx = norm(fmax, np.sqrt(var))\n",
        "\n",
        "plt.plot(theta, Laplace_approx.pdf(theta)/np.sum(Laplace_approx.pdf(theta)), label = 'Laplace approximation')\n",
        "plt.legend()"
      ],
      "metadata": {
        "colab": {
          "base_uri": "https://localhost:8080/",
          "height": 283
        },
        "id": "CNMpUVYAVwe2",
        "outputId": "1fd7aca6-bedf-423f-e9d3-468ffe4e9ca2"
      },
      "execution_count": 4,
      "outputs": [
        {
          "output_type": "execute_result",
          "data": {
            "text/plain": [
              "<matplotlib.legend.Legend at 0x7fd7e0fe7250>"
            ]
          },
          "metadata": {},
          "execution_count": 4
        },
        {
          "output_type": "display_data",
          "data": {
            "text/plain": [
              "<Figure size 432x288 with 1 Axes>"
            ],
            "image/png": "[encoded data removed]"
          },
          "metadata": {
            "needs_background": "light"
          }
        }
      ]
    },
    {
      "cell_type": "code",
      "source": [],
      "metadata": {
        "id": "c0wS0k5aVwhH"
      },
      "execution_count": null,
      "outputs": []
    },
    {
      "cell_type": "code",
      "source": [],
      "metadata": {
        "id": "zyUaa9cqVwjI"
      },
      "execution_count": null,
      "outputs": []
    },
    {
      "cell_type": "markdown",
      "metadata": {
        "id": "c7t71HLGJVhv"
      },
      "source": [
        "In the following applications, the optimization will be performed by using standard optimizers available in *scipy*"
      ]
    },
    {
      "cell_type": "code",
      "execution_count": null,
      "metadata": {
        "id": "7ll2pWr-JVhv",
        "outputId": "e1efeecb-e11e-4134-a489-244f0657a26f"
      },
      "outputs": [
        {
          "name": "stdout",
          "output_type": "stream",
          "text": [
            "The maximum of the Binomial is:  [0.49999999]\n"
          ]
        }
      ],
      "source": [
        "import scipy.optimize as optimize\n",
        "from scipy.optimize import minimize\n",
        "from scipy.optimize import Bounds\n",
        "\n",
        "y = 4\n",
        "N = 8\n",
        "\n",
        "bounds = Bounds(0, 1)\n",
        "fun = lambda x: -(y*np.log(x)+ (N-y)*np.log(1-x))\n",
        "res = optimize.minimize(fun, (0.005), bounds = bounds, method='trust-constr')\n",
        "print('The maximum of the Binomial is: ', res.x)\n",
        "\n",
        "\n",
        "\n",
        "\n"
      ]
    },
    {
      "cell_type": "markdown",
      "metadata": {
        "id": "NVWDWaYgJVhv"
      },
      "source": [
        "# Bayesian modeling in action\n",
        "\n",
        "In what follows we are going to explore the practical use of Bayesian modeling. \n",
        "We will first keep the technical aspects of the inference process hidden, by focusing on model interpretation, sampling, and simulation. The maths behind approximated inference will be only sketched, and detailed in a second moment. \n",
        "\n"
      ]
    },
    {
      "cell_type": "code",
      "execution_count": null,
      "metadata": {
        "id": "Yl5WTtatJVhv"
      },
      "outputs": [],
      "source": [
        "import pandas as pd\n",
        "import sys\n",
        "\n",
        "from scipy.optimize import minimize\n",
        "from scipy.stats import norm, uniform, binom\n",
        "from scipy.stats import gaussian_kde\n",
        "from scipy.stats import multivariate_normal\n",
        "\n",
        "%run tools.py"
      ]
    },
    {
      "cell_type": "markdown",
      "metadata": {
        "id": "1pKayr-FJVhw"
      },
      "source": [
        "The dataset *Howell* contains partial census data for the Dobe area !Kung San, compiled from interviews conducted by Nancy Howell in the late 1960s."
      ]
    },
    {
      "cell_type": "code",
      "execution_count": null,
      "metadata": {
        "id": "bEBNz44XJVhw",
        "outputId": "8d08bca3-f80c-423c-96a0-16aadcb60f20"
      },
      "outputs": [
        {
          "name": "stdout",
          "output_type": "stream",
          "text": [
            "    height     weight   age  male\n",
            "0  151.765  47.825606  63.0     1\n",
            "1  139.700  36.485807  63.0     0\n",
            "2  136.525  31.864838  65.0     0\n",
            "3  156.845  53.041915  41.0     1\n",
            "4  145.415  41.276872  51.0     0\n",
            "5  163.830  62.992589  35.0     1\n",
            "6  149.225  38.243476  32.0     0\n",
            "7  168.910  55.479971  27.0     1\n",
            "8  147.955  34.869885  19.0     0\n",
            "9  165.100  54.487739  54.0     1\n"
          ]
        }
      ],
      "source": [
        "data = pd.read_csv('Howell1.csv', sep = ';')\n",
        "print(data[:10])"
      ]
    },
    {
      "cell_type": "markdown",
      "metadata": {
        "id": "tzn2w2ubJVhw"
      },
      "source": [
        "Which kind of relationship between height and weight do you think we could expect? We want find a Bayesian answer to this question.\n",
        "We can start our investigation by considering only adult individuals."
      ]
    },
    {
      "cell_type": "code",
      "execution_count": null,
      "metadata": {
        "id": "dxf7PXGdJVhw"
      },
      "outputs": [],
      "source": [
        "data1 = data[data.age>=18]"
      ]
    },
    {
      "cell_type": "markdown",
      "metadata": {
        "id": "sO8RwCjpJVhw"
      },
      "source": [
        "We start by fitting a model for height only. Following what seen in the previous lesson we can reasonably assume that height is Gaussian distributed, as at the end it is the result of infinitesimal accumulations of growth during the life span. \n",
        "Therefore, for each subject $i$, we assumen that his/her height is distributed as :\n",
        "\n",
        "$$\\mbox{height}_i\\sim N(\\mu,\\sigma^2).$$\n",
        "\n",
        "In particular, due to exchangeability, we also have \n",
        "\n",
        "$$p(\\mbox{height}) = p(\\mbox{height}_1, \\mbox{height}_2, \\ldots, \\mbox{height}_N) = p(\\mbox{height}_1)p(\\mbox{height}_2)\\cdots p(\\mbox{height}_N),$$\n",
        "\n",
        "which turns out to be a product of Gaussian likelihoods, as seen in the previous lesson.\n",
        "\n",
        "\n",
        "Once agreed on the use of a Gaussian likelihood, we need to specify a prior. What could be a proper choice for the mean height? Of course, we can use a Gaussian model encoding our belief on average height in the population, and its variance. For example, by making this assumption:\n",
        "\n",
        "$$ p(\\mu) = N(178, 400),$$\n",
        "\n",
        "we say that the average height is of $178cm$, with a variability of $\\pm 2\\sigma = [138cm, 218cm]$, which is a quite generous interval where to expect the mean to fall. For the variance, since we don't have really an optinion about it, we could simply say that it is uniformly distributed in the interval $[0cm,50cm]$:\n",
        "\n",
        "$$\\sigma = U(0,50).$$\n",
        "\n",
        "In absence of observations, our model of height depends uniquely on our priors. We can simulate it by sampling.\n",
        "\n",
        "**Exercise.** Estimate a model of height sampling from prior mean and variance."
      ]
    },
    {
      "cell_type": "code",
      "execution_count": null,
      "metadata": {
        "id": "GVAC6uzeJVhx",
        "outputId": "a04bb857-4060-4df4-af78-b1c3c6adbf1d"
      },
      "outputs": [
        {
          "data": {
            "text/plain": [
              "[]"
            ]
          },
          "execution_count": 172,
          "metadata": {},
          "output_type": "execute_result"
        },
        {
          "data": {
            "image/png": "[encoded data removed]",
            "text/plain": [
              "<Figure size 432x288 with 1 Axes>"
            ]
          },
          "metadata": {
            "needs_background": "light"
          },
          "output_type": "display_data"
        }
      ],
      "source": [
        "from scipy.stats import uniform\n",
        "from scipy.stats import norm\n",
        "\n",
        "a = 0\n",
        "b = 50\n",
        "\n",
        "mu0 = 178\n",
        "tau = 20\n",
        "\n",
        "\n",
        "prior_sigma = uniform(a,b)\n",
        "\n",
        "prior_samples_sigma = prior_sigma.rvs(100)\n",
        "\n",
        "plt.hist(prior_samples_sigma)\n",
        "plt.plot()\n",
        "\n"
      ]
    },
    {
      "cell_type": "code",
      "execution_count": null,
      "metadata": {
        "id": "NEwi1iYPJVhx",
        "outputId": "16aee479-b64a-4409-ed7a-f54df2fc406c"
      },
      "outputs": [
        {
          "data": {
            "text/plain": [
              "[]"
            ]
          },
          "execution_count": 174,
          "metadata": {},
          "output_type": "execute_result"
        },
        {
          "data": {
            "image/png": "[encoded data removed]",
            "text/plain": [
              "<Figure size 432x288 with 1 Axes>"
            ]
          },
          "metadata": {
            "needs_background": "light"
          },
          "output_type": "display_data"
        }
      ],
      "source": [
        "\n",
        "prior_mu = norm(mu0,tau)\n",
        "prior_samples_mu = prior_mu.rvs(100)\n",
        "plt.hist(prior_samples_mu)\n",
        "plt.plot()\n",
        "\n"
      ]
    },
    {
      "cell_type": "code",
      "execution_count": null,
      "metadata": {
        "id": "WWs6UA7YJVhx",
        "outputId": "98bcf8d0-894d-4162-e434-7111235d22ff"
      },
      "outputs": [
        {
          "data": {
            "image/png": "[encoded data removed]",
            "text/plain": [
              "<Figure size 432x288 with 1 Axes>"
            ]
          },
          "metadata": {
            "needs_background": "light"
          },
          "output_type": "display_data"
        }
      ],
      "source": [
        "from scipy.stats import uniform\n",
        "from scipy.stats import norm\n",
        "\n",
        "sigma = uniform.rvs(0,50, 100)\n",
        "mu = norm.rvs(178,np.sqrt(400), 100)\n",
        "\n",
        "height = []\n",
        "for i in range(100):\n",
        "    height.append(norm.rvs(mu[i],sigma[i],1))\n",
        "\n",
        "plt.hist(np.array(height))\n",
        "plt.show()\n",
        "\n",
        "\n"
      ]
    },
    {
      "cell_type": "markdown",
      "metadata": {
        "id": "HXdy47BLJVhx"
      },
      "source": [
        "We want now to integrate our data in the model, therefore we need to specify our likelihood:\n",
        "\n",
        "$$p(y|\\mu,\\sigma^2) = N(y|\\mu,\\sigma^2).$$\n"
      ]
    },
    {
      "cell_type": "markdown",
      "metadata": {
        "id": "iB5Z1E_LJVhx"
      },
      "source": [
        "At this point we have several ways of computing the posterior of our model, as we have seen during the last lesson. Unfortunately, the grid method tends to be very inefficient and inaccurate, and is therefore not the right choice in this case, since we start having a large number of observations. Also, we don't want to use the closed form that we derived for the Gaussian model, because we need to perform inference on $\\sigma$ as well, and because we don't want to derive again all the maths each time we change the model.\n",
        "\n",
        "For all these reason, we will use the *Laplace approximation*, as implemented in the toolbox *tools.py$. This function takes the as input the priors and the likelihood of our model, and gives us back an approximation of the posterior under the form of a Gaussian distribution fitting our posterior parameter space. So, the posterior Gaussian will have dimension equal to the number of parameters.\n",
        "\n",
        "Let's see this machine in action:"
      ]
    },
    {
      "cell_type": "code",
      "execution_count": null,
      "metadata": {
        "id": "CRbqPcMSJVhy"
      },
      "outputs": [],
      "source": [
        "# We specify a likelihood N(\\mu, \\sigma^2)\n",
        "\n",
        "# initial values for the parameters mu and sigma2\n",
        "mu = 183.\n",
        "sigma = 2.\n",
        "\n",
        "# Initializing the likelihood\n",
        "likelihood = 'gaussian'\n",
        "parameters = [mu, sigma]\n",
        "\n",
        "# Defining the prior with hyperparameters \n",
        "prior_mu_mean = 178\n",
        "prior_mu_sigma = 20\n",
        "prior_mu = ['gaussian', [prior_mu_mean, prior_mu_sigma]]\n",
        "\n",
        "sigma_inf = 0\n",
        "sigma_sup = 50\n",
        "prior_sigma_unif = [sigma_inf, sigma_sup]\n",
        "prior_sigma = ['uniform', prior_sigma_unif]\n"
      ]
    },
    {
      "cell_type": "code",
      "execution_count": null,
      "metadata": {
        "id": "soBRD0hkJVhy",
        "outputId": "a9fec5f9-6803-45b6-fb1d-f1ce31f7ce01"
      },
      "outputs": [
        {
          "name": "stdout",
          "output_type": "stream",
          "text": [
            "      fun: 1227.9161145881894\n",
            " hess_inv: array([[3.56801509e+00, 1.80046586e-02],\n",
            "       [1.80046586e-02, 3.05045181e-03]])\n",
            "      jac: array([0., 0.])\n",
            "  message: 'Optimization terminated successfully.'\n",
            "     nfev: 165\n",
            "      nit: 26\n",
            "     njev: 40\n",
            "   status: 0\n",
            "  success: True\n",
            "        x: array([154.60702362,   7.73133283])\n"
          ]
        }
      ],
      "source": [
        "solution = laplace_solution([mu,sigma], [], data1.height, likelihood, [prior_mu, prior_sigma])"
      ]
    },
    {
      "cell_type": "markdown",
      "metadata": {
        "id": "bO5Z3ZUKJVhy"
      },
      "source": [
        "It seems that the machine worked correctly, let's explore in detail what we obtained. \n",
        "The solution is composed by the mean and the covariance of the posterior, in our case for the parameters $\\mu$ and $\\sigma$.\n",
        "We can therefore sample from the posterior to explore our new model of height:"
      ]
    },
    {
      "cell_type": "code",
      "execution_count": null,
      "metadata": {
        "id": "hKien6IOJVhy"
      },
      "outputs": [],
      "source": [
        "posterior_mean = solution[0]\n",
        "posterior_covariance = solution[1]\n",
        "\n",
        "posterior_samples = multivariate_normal.rvs(posterior_mean, posterior_covariance, size = 1000)\n"
      ]
    },
    {
      "cell_type": "code",
      "execution_count": null,
      "metadata": {
        "id": "gmz1f0-MJVhz",
        "outputId": "4412a74b-87ff-48bc-f709-30b0675ceb92"
      },
      "outputs": [
        {
          "data": {
            "text/plain": [
              "[]"
            ]
          },
          "execution_count": 187,
          "metadata": {},
          "output_type": "execute_result"
        },
        {
          "data": {
            "image/png": "[encoded data removed]",
            "text/plain": [
              "<Figure size 432x288 with 1 Axes>"
            ]
          },
          "metadata": {
            "needs_background": "light"
          },
          "output_type": "display_data"
        }
      ],
      "source": [
        "plt.hist(np.array([posterior_samples[i][0] for i in range(1000)]))\n",
        "plt.plot()"
      ]
    },
    {
      "cell_type": "code",
      "execution_count": null,
      "metadata": {
        "id": "XLpw53k9JVhz",
        "outputId": "f36c97b5-47c7-4e1d-cd9e-8e7eb80d0065"
      },
      "outputs": [
        {
          "data": {
            "text/plain": [
              "[]"
            ]
          },
          "execution_count": 188,
          "metadata": {},
          "output_type": "execute_result"
        },
        {
          "data": {
            "image/png": "[encoded data removed]",
            "text/plain": [
              "<Figure size 432x288 with 1 Axes>"
            ]
          },
          "metadata": {
            "needs_background": "light"
          },
          "output_type": "display_data"
        }
      ],
      "source": [
        "plt.hist(np.array([posterior_samples[i][1] for i in range(1000)]))\n",
        "plt.plot()"
      ]
    },
    {
      "cell_type": "markdown",
      "metadata": {
        "id": "8JoAjT9yJVhz"
      },
      "source": [
        "**Exercise.** Compute mean, standard deviation and 85% interval for the posterior parameters."
      ]
    },
    {
      "cell_type": "markdown",
      "metadata": {
        "id": "u5lf0XM8JVhz"
      },
      "source": [
        "**Exercise.** Play around with the model, observe how the posterior changes in relation to the prior values."
      ]
    },
    {
      "cell_type": "markdown",
      "metadata": {
        "id": "EtzJCr46JVh0"
      },
      "source": [
        "**Exercise.** Play with priors and initialization to test the model, plot the results and compare them."
      ]
    },
    {
      "cell_type": "markdown",
      "metadata": {
        "id": "taHBmzMnJVh0"
      },
      "source": [
        "**Exercise.** Include the individual with age less than 18 years, and repeat the analysis. "
      ]
    },
    {
      "cell_type": "code",
      "execution_count": null,
      "metadata": {
        "id": "q8UUCyAvJVh0"
      },
      "outputs": [],
      "source": []
    }
  ],
  "metadata": {
    "kernelspec": {
      "display_name": "Python 3",
      "language": "python",
      "name": "python3"
    },
    "language_info": {
      "codemirror_mode": {
        "name": "ipython",
        "version": 3
      },
      "file_extension": ".py",
      "mimetype": "text/x-python",
      "name": "python",
      "nbconvert_exporter": "python",
      "pygments_lexer": "ipython3",
      "version": "3.6.13"
    },
    "colab": {
      "provenance": []
    }
  },
  "nbformat": 4,
  "nbformat_minor": 0
}
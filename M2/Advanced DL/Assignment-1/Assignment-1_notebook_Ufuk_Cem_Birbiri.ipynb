{
  "nbformat": 4,
  "nbformat_minor": 0,
  "metadata": {
    "colab": {
      "provenance": [],
      "collapsed_sections": []
    },
    "kernelspec": {
      "name": "python3",
      "display_name": "Python 3"
    },
    "language_info": {
      "name": "python"
    },
    "widgets": {
      "application/vnd.jupyter.widget-state+json": {
        "c9552bca2f3c4268ad1556f9d01370a7": {
          "model_module": "@jupyter-widgets/controls",
          "model_name": "HBoxModel",
          "model_module_version": "1.5.0",
          "state": {
            "_dom_classes": [],
            "_model_module": "@jupyter-widgets/controls",
            "_model_module_version": "1.5.0",
            "_model_name": "HBoxModel",
            "_view_count": null,
            "_view_module": "@jupyter-widgets/controls",
            "_view_module_version": "1.5.0",
            "_view_name": "HBoxView",
            "box_style": "",
            "children": [
              "IPY_MODEL_ed6e85d3a3a7421781edd1970cdefa8b",
              "IPY_MODEL_fc41ec80641242689973e8303fd225e4",
              "IPY_MODEL_c5f617b9039f4138b115bb9ec3d270f5"
            ],
            "layout": "IPY_MODEL_906128258f6b41208fa617b12e3950c4"
          }
        },
        "ed6e85d3a3a7421781edd1970cdefa8b": {
          "model_module": "@jupyter-widgets/controls",
          "model_name": "HTMLModel",
          "model_module_version": "1.5.0",
          "state": {
            "_dom_classes": [],
            "_model_module": "@jupyter-widgets/controls",
            "_model_module_version": "1.5.0",
            "_model_name": "HTMLModel",
            "_view_count": null,
            "_view_module": "@jupyter-widgets/controls",
            "_view_module_version": "1.5.0",
            "_view_name": "HTMLView",
            "description": "",
            "description_tooltip": null,
            "layout": "IPY_MODEL_5604a87e108242eb87615fb5ab3a7884",
            "placeholder": "​",
            "style": "IPY_MODEL_7b6677b5337643a886e8dbbd004c89e1",
            "value": "100%"
          }
        },
        "fc41ec80641242689973e8303fd225e4": {
          "model_module": "@jupyter-widgets/controls",
          "model_name": "FloatProgressModel",
          "model_module_version": "1.5.0",
          "state": {
            "_dom_classes": [],
            "_model_module": "@jupyter-widgets/controls",
            "_model_module_version": "1.5.0",
            "_model_name": "FloatProgressModel",
            "_view_count": null,
            "_view_module": "@jupyter-widgets/controls",
            "_view_module_version": "1.5.0",
            "_view_name": "ProgressView",
            "bar_style": "success",
            "description": "",
            "description_tooltip": null,
            "layout": "IPY_MODEL_84c3df1790844eaca0a981a27df5a355",
            "max": 9912422,
            "min": 0,
            "orientation": "horizontal",
            "style": "IPY_MODEL_d740a178f5474ba69984e4f87740c706",
            "value": 9912422
          }
        },
        "c5f617b9039f4138b115bb9ec3d270f5": {
          "model_module": "@jupyter-widgets/controls",
          "model_name": "HTMLModel",
          "model_module_version": "1.5.0",
          "state": {
            "_dom_classes": [],
            "_model_module": "@jupyter-widgets/controls",
            "_model_module_version": "1.5.0",
            "_model_name": "HTMLModel",
            "_view_count": null,
            "_view_module": "@jupyter-widgets/controls",
            "_view_module_version": "1.5.0",
            "_view_name": "HTMLView",
            "description": "",
            "description_tooltip": null,
            "layout": "IPY_MODEL_f2a475653ac848c58324c1e2054f7d20",
            "placeholder": "​",
            "style": "IPY_MODEL_431144315518406c8108dd09cd5be0cb",
            "value": " 9912422/9912422 [00:00&lt;00:00, 25821858.98it/s]"
          }
        },
        "906128258f6b41208fa617b12e3950c4": {
          "model_module": "@jupyter-widgets/base",
          "model_name": "LayoutModel",
          "model_module_version": "1.2.0",
          "state": {
            "_model_module": "@jupyter-widgets/base",
            "_model_module_version": "1.2.0",
            "_model_name": "LayoutModel",
            "_view_count": null,
            "_view_module": "@jupyter-widgets/base",
            "_view_module_version": "1.2.0",
            "_view_name": "LayoutView",
            "align_content": null,
            "align_items": null,
            "align_self": null,
            "border": null,
            "bottom": null,
            "display": null,
            "flex": null,
            "flex_flow": null,
            "grid_area": null,
            "grid_auto_columns": null,
            "grid_auto_flow": null,
            "grid_auto_rows": null,
            "grid_column": null,
            "grid_gap": null,
            "grid_row": null,
            "grid_template_areas": null,
            "grid_template_columns": null,
            "grid_template_rows": null,
            "height": null,
            "justify_content": null,
            "justify_items": null,
            "left": null,
            "margin": null,
            "max_height": null,
            "max_width": null,
            "min_height": null,
            "min_width": null,
            "object_fit": null,
            "object_position": null,
            "order": null,
            "overflow": null,
            "overflow_x": null,
            "overflow_y": null,
            "padding": null,
            "right": null,
            "top": null,
            "visibility": null,
            "width": null
          }
        },
        "5604a87e108242eb87615fb5ab3a7884": {
          "model_module": "@jupyter-widgets/base",
          "model_name": "LayoutModel",
          "model_module_version": "1.2.0",
          "state": {
            "_model_module": "@jupyter-widgets/base",
            "_model_module_version": "1.2.0",
            "_model_name": "LayoutModel",
            "_view_count": null,
            "_view_module": "@jupyter-widgets/base",
            "_view_module_version": "1.2.0",
            "_view_name": "LayoutView",
            "align_content": null,
            "align_items": null,
            "align_self": null,
            "border": null,
            "bottom": null,
            "display": null,
            "flex": null,
            "flex_flow": null,
            "grid_area": null,
            "grid_auto_columns": null,
            "grid_auto_flow": null,
            "grid_auto_rows": null,
            "grid_column": null,
            "grid_gap": null,
            "grid_row": null,
            "grid_template_areas": null,
            "grid_template_columns": null,
            "grid_template_rows": null,
            "height": null,
            "justify_content": null,
            "justify_items": null,
            "left": null,
            "margin": null,
            "max_height": null,
            "max_width": null,
            "min_height": null,
            "min_width": null,
            "object_fit": null,
            "object_position": null,
            "order": null,
            "overflow": null,
            "overflow_x": null,
            "overflow_y": null,
            "padding": null,
            "right": null,
            "top": null,
            "visibility": null,
            "width": null
          }
        },
        "7b6677b5337643a886e8dbbd004c89e1": {
          "model_module": "@jupyter-widgets/controls",
          "model_name": "DescriptionStyleModel",
          "model_module_version": "1.5.0",
          "state": {
            "_model_module": "@jupyter-widgets/controls",
            "_model_module_version": "1.5.0",
            "_model_name": "DescriptionStyleModel",
            "_view_count": null,
            "_view_module": "@jupyter-widgets/base",
            "_view_module_version": "1.2.0",
            "_view_name": "StyleView",
            "description_width": ""
          }
        },
        "84c3df1790844eaca0a981a27df5a355": {
          "model_module": "@jupyter-widgets/base",
          "model_name": "LayoutModel",
          "model_module_version": "1.2.0",
          "state": {
            "_model_module": "@jupyter-widgets/base",
            "_model_module_version": "1.2.0",
            "_model_name": "LayoutModel",
            "_view_count": null,
            "_view_module": "@jupyter-widgets/base",
            "_view_module_version": "1.2.0",
            "_view_name": "LayoutView",
            "align_content": null,
            "align_items": null,
            "align_self": null,
            "border": null,
            "bottom": null,
            "display": null,
            "flex": null,
            "flex_flow": null,
            "grid_area": null,
            "grid_auto_columns": null,
            "grid_auto_flow": null,
            "grid_auto_rows": null,
            "grid_column": null,
            "grid_gap": null,
            "grid_row": null,
            "grid_template_areas": null,
            "grid_template_columns": null,
            "grid_template_rows": null,
            "height": null,
            "justify_content": null,
            "justify_items": null,
            "left": null,
            "margin": null,
            "max_height": null,
            "max_width": null,
            "min_height": null,
            "min_width": null,
            "object_fit": null,
            "object_position": null,
            "order": null,
            "overflow": null,
            "overflow_x": null,
            "overflow_y": null,
            "padding": null,
            "right": null,
            "top": null,
            "visibility": null,
            "width": null
          }
        },
        "d740a178f5474ba69984e4f87740c706": {
          "model_module": "@jupyter-widgets/controls",
          "model_name": "ProgressStyleModel",
          "model_module_version": "1.5.0",
          "state": {
            "_model_module": "@jupyter-widgets/controls",
            "_model_module_version": "1.5.0",
            "_model_name": "ProgressStyleModel",
            "_view_count": null,
            "_view_module": "@jupyter-widgets/base",
            "_view_module_version": "1.2.0",
            "_view_name": "StyleView",
            "bar_color": null,
            "description_width": ""
          }
        },
        "f2a475653ac848c58324c1e2054f7d20": {
          "model_module": "@jupyter-widgets/base",
          "model_name": "LayoutModel",
          "model_module_version": "1.2.0",
          "state": {
            "_model_module": "@jupyter-widgets/base",
            "_model_module_version": "1.2.0",
            "_model_name": "LayoutModel",
            "_view_count": null,
            "_view_module": "@jupyter-widgets/base",
            "_view_module_version": "1.2.0",
            "_view_name": "LayoutView",
            "align_content": null,
            "align_items": null,
            "align_self": null,
            "border": null,
            "bottom": null,
            "display": null,
            "flex": null,
            "flex_flow": null,
            "grid_area": null,
            "grid_auto_columns": null,
            "grid_auto_flow": null,
            "grid_auto_rows": null,
            "grid_column": null,
            "grid_gap": null,
            "grid_row": null,
            "grid_template_areas": null,
            "grid_template_columns": null,
            "grid_template_rows": null,
            "height": null,
            "justify_content": null,
            "justify_items": null,
            "left": null,
            "margin": null,
            "max_height": null,
            "max_width": null,
            "min_height": null,
            "min_width": null,
            "object_fit": null,
            "object_position": null,
            "order": null,
            "overflow": null,
            "overflow_x": null,
            "overflow_y": null,
            "padding": null,
            "right": null,
            "top": null,
            "visibility": null,
            "width": null
          }
        },
        "431144315518406c8108dd09cd5be0cb": {
          "model_module": "@jupyter-widgets/controls",
          "model_name": "DescriptionStyleModel",
          "model_module_version": "1.5.0",
          "state": {
            "_model_module": "@jupyter-widgets/controls",
            "_model_module_version": "1.5.0",
            "_model_name": "DescriptionStyleModel",
            "_view_count": null,
            "_view_module": "@jupyter-widgets/base",
            "_view_module_version": "1.2.0",
            "_view_name": "StyleView",
            "description_width": ""
          }
        },
        "afed8603ee454992bb6ac9e90fd473ce": {
          "model_module": "@jupyter-widgets/controls",
          "model_name": "HBoxModel",
          "model_module_version": "1.5.0",
          "state": {
            "_dom_classes": [],
            "_model_module": "@jupyter-widgets/controls",
            "_model_module_version": "1.5.0",
            "_model_name": "HBoxModel",
            "_view_count": null,
            "_view_module": "@jupyter-widgets/controls",
            "_view_module_version": "1.5.0",
            "_view_name": "HBoxView",
            "box_style": "",
            "children": [
              "IPY_MODEL_8ddfa0f6c46445b395766ca7d9db40e3",
              "IPY_MODEL_92b37656b6a74a39a09fbaea851d1c8d",
              "IPY_MODEL_c366efcb5a6e41b7b4ea906891ce0547"
            ],
            "layout": "IPY_MODEL_52f5e102ca3d48a4b1169951648d3bf2"
          }
        },
        "8ddfa0f6c46445b395766ca7d9db40e3": {
          "model_module": "@jupyter-widgets/controls",
          "model_name": "HTMLModel",
          "model_module_version": "1.5.0",
          "state": {
            "_dom_classes": [],
            "_model_module": "@jupyter-widgets/controls",
            "_model_module_version": "1.5.0",
            "_model_name": "HTMLModel",
            "_view_count": null,
            "_view_module": "@jupyter-widgets/controls",
            "_view_module_version": "1.5.0",
            "_view_name": "HTMLView",
            "description": "",
            "description_tooltip": null,
            "layout": "IPY_MODEL_8e84ee810fe74ee7896e94dcce07437e",
            "placeholder": "​",
            "style": "IPY_MODEL_6eeed6edd0354effafba97994ea49c76",
            "value": "100%"
          }
        },
        "92b37656b6a74a39a09fbaea851d1c8d": {
          "model_module": "@jupyter-widgets/controls",
          "model_name": "FloatProgressModel",
          "model_module_version": "1.5.0",
          "state": {
            "_dom_classes": [],
            "_model_module": "@jupyter-widgets/controls",
            "_model_module_version": "1.5.0",
            "_model_name": "FloatProgressModel",
            "_view_count": null,
            "_view_module": "@jupyter-widgets/controls",
            "_view_module_version": "1.5.0",
            "_view_name": "ProgressView",
            "bar_style": "success",
            "description": "",
            "description_tooltip": null,
            "layout": "IPY_MODEL_e6db7491629a48658afc72735bb1df8c",
            "max": 28881,
            "min": 0,
            "orientation": "horizontal",
            "style": "IPY_MODEL_d99575be1b7246bc89548e514bb3da98",
            "value": 28881
          }
        },
        "c366efcb5a6e41b7b4ea906891ce0547": {
          "model_module": "@jupyter-widgets/controls",
          "model_name": "HTMLModel",
          "model_module_version": "1.5.0",
          "state": {
            "_dom_classes": [],
            "_model_module": "@jupyter-widgets/controls",
            "_model_module_version": "1.5.0",
            "_model_name": "HTMLModel",
            "_view_count": null,
            "_view_module": "@jupyter-widgets/controls",
            "_view_module_version": "1.5.0",
            "_view_name": "HTMLView",
            "description": "",
            "description_tooltip": null,
            "layout": "IPY_MODEL_7cbb1f628a074ba7a5b0cbb5cda4edb5",
            "placeholder": "​",
            "style": "IPY_MODEL_3f327d17006b49519a67f647347c7a40",
            "value": " 28881/28881 [00:00&lt;00:00, 511021.89it/s]"
          }
        },
        "52f5e102ca3d48a4b1169951648d3bf2": {
          "model_module": "@jupyter-widgets/base",
          "model_name": "LayoutModel",
          "model_module_version": "1.2.0",
          "state": {
            "_model_module": "@jupyter-widgets/base",
            "_model_module_version": "1.2.0",
            "_model_name": "LayoutModel",
            "_view_count": null,
            "_view_module": "@jupyter-widgets/base",
            "_view_module_version": "1.2.0",
            "_view_name": "LayoutView",
            "align_content": null,
            "align_items": null,
            "align_self": null,
            "border": null,
            "bottom": null,
            "display": null,
            "flex": null,
            "flex_flow": null,
            "grid_area": null,
            "grid_auto_columns": null,
            "grid_auto_flow": null,
            "grid_auto_rows": null,
            "grid_column": null,
            "grid_gap": null,
            "grid_row": null,
            "grid_template_areas": null,
            "grid_template_columns": null,
            "grid_template_rows": null,
            "height": null,
            "justify_content": null,
            "justify_items": null,
            "left": null,
            "margin": null,
            "max_height": null,
            "max_width": null,
            "min_height": null,
            "min_width": null,
            "object_fit": null,
            "object_position": null,
            "order": null,
            "overflow": null,
            "overflow_x": null,
            "overflow_y": null,
            "padding": null,
            "right": null,
            "top": null,
            "visibility": null,
            "width": null
          }
        },
        "8e84ee810fe74ee7896e94dcce07437e": {
          "model_module": "@jupyter-widgets/base",
          "model_name": "LayoutModel",
          "model_module_version": "1.2.0",
          "state": {
            "_model_module": "@jupyter-widgets/base",
            "_model_module_version": "1.2.0",
            "_model_name": "LayoutModel",
            "_view_count": null,
            "_view_module": "@jupyter-widgets/base",
            "_view_module_version": "1.2.0",
            "_view_name": "LayoutView",
            "align_content": null,
            "align_items": null,
            "align_self": null,
            "border": null,
            "bottom": null,
            "display": null,
            "flex": null,
            "flex_flow": null,
            "grid_area": null,
            "grid_auto_columns": null,
            "grid_auto_flow": null,
            "grid_auto_rows": null,
            "grid_column": null,
            "grid_gap": null,
            "grid_row": null,
            "grid_template_areas": null,
            "grid_template_columns": null,
            "grid_template_rows": null,
            "height": null,
            "justify_content": null,
            "justify_items": null,
            "left": null,
            "margin": null,
            "max_height": null,
            "max_width": null,
            "min_height": null,
            "min_width": null,
            "object_fit": null,
            "object_position": null,
            "order": null,
            "overflow": null,
            "overflow_x": null,
            "overflow_y": null,
            "padding": null,
            "right": null,
            "top": null,
            "visibility": null,
            "width": null
          }
        },
        "6eeed6edd0354effafba97994ea49c76": {
          "model_module": "@jupyter-widgets/controls",
          "model_name": "DescriptionStyleModel",
          "model_module_version": "1.5.0",
          "state": {
            "_model_module": "@jupyter-widgets/controls",
            "_model_module_version": "1.5.0",
            "_model_name": "DescriptionStyleModel",
            "_view_count": null,
            "_view_module": "@jupyter-widgets/base",
            "_view_module_version": "1.2.0",
            "_view_name": "StyleView",
            "description_width": ""
          }
        },
        "e6db7491629a48658afc72735bb1df8c": {
          "model_module": "@jupyter-widgets/base",
          "model_name": "LayoutModel",
          "model_module_version": "1.2.0",
          "state": {
            "_model_module": "@jupyter-widgets/base",
            "_model_module_version": "1.2.0",
            "_model_name": "LayoutModel",
            "_view_count": null,
            "_view_module": "@jupyter-widgets/base",
            "_view_module_version": "1.2.0",
            "_view_name": "LayoutView",
            "align_content": null,
            "align_items": null,
            "align_self": null,
            "border": null,
            "bottom": null,
            "display": null,
            "flex": null,
            "flex_flow": null,
            "grid_area": null,
            "grid_auto_columns": null,
            "grid_auto_flow": null,
            "grid_auto_rows": null,
            "grid_column": null,
            "grid_gap": null,
            "grid_row": null,
            "grid_template_areas": null,
            "grid_template_columns": null,
            "grid_template_rows": null,
            "height": null,
            "justify_content": null,
            "justify_items": null,
            "left": null,
            "margin": null,
            "max_height": null,
            "max_width": null,
            "min_height": null,
            "min_width": null,
            "object_fit": null,
            "object_position": null,
            "order": null,
            "overflow": null,
            "overflow_x": null,
            "overflow_y": null,
            "padding": null,
            "right": null,
            "top": null,
            "visibility": null,
            "width": null
          }
        },
        "d99575be1b7246bc89548e514bb3da98": {
          "model_module": "@jupyter-widgets/controls",
          "model_name": "ProgressStyleModel",
          "model_module_version": "1.5.0",
          "state": {
            "_model_module": "@jupyter-widgets/controls",
            "_model_module_version": "1.5.0",
            "_model_name": "ProgressStyleModel",
            "_view_count": null,
            "_view_module": "@jupyter-widgets/base",
            "_view_module_version": "1.2.0",
            "_view_name": "StyleView",
            "bar_color": null,
            "description_width": ""
          }
        },
        "7cbb1f628a074ba7a5b0cbb5cda4edb5": {
          "model_module": "@jupyter-widgets/base",
          "model_name": "LayoutModel",
          "model_module_version": "1.2.0",
          "state": {
            "_model_module": "@jupyter-widgets/base",
            "_model_module_version": "1.2.0",
            "_model_name": "LayoutModel",
            "_view_count": null,
            "_view_module": "@jupyter-widgets/base",
            "_view_module_version": "1.2.0",
            "_view_name": "LayoutView",
            "align_content": null,
            "align_items": null,
            "align_self": null,
            "border": null,
            "bottom": null,
            "display": null,
            "flex": null,
            "flex_flow": null,
            "grid_area": null,
            "grid_auto_columns": null,
            "grid_auto_flow": null,
            "grid_auto_rows": null,
            "grid_column": null,
            "grid_gap": null,
            "grid_row": null,
            "grid_template_areas": null,
            "grid_template_columns": null,
            "grid_template_rows": null,
            "height": null,
            "justify_content": null,
            "justify_items": null,
            "left": null,
            "margin": null,
            "max_height": null,
            "max_width": null,
            "min_height": null,
            "min_width": null,
            "object_fit": null,
            "object_position": null,
            "order": null,
            "overflow": null,
            "overflow_x": null,
            "overflow_y": null,
            "padding": null,
            "right": null,
            "top": null,
            "visibility": null,
            "width": null
          }
        },
        "3f327d17006b49519a67f647347c7a40": {
          "model_module": "@jupyter-widgets/controls",
          "model_name": "DescriptionStyleModel",
          "model_module_version": "1.5.0",
          "state": {
            "_model_module": "@jupyter-widgets/controls",
            "_model_module_version": "1.5.0",
            "_model_name": "DescriptionStyleModel",
            "_view_count": null,
            "_view_module": "@jupyter-widgets/base",
            "_view_module_version": "1.2.0",
            "_view_name": "StyleView",
            "description_width": ""
          }
        },
        "5a37d1be5fd348c58278eee4e796f1c0": {
          "model_module": "@jupyter-widgets/controls",
          "model_name": "HBoxModel",
          "model_module_version": "1.5.0",
          "state": {
            "_dom_classes": [],
            "_model_module": "@jupyter-widgets/controls",
            "_model_module_version": "1.5.0",
            "_model_name": "HBoxModel",
            "_view_count": null,
            "_view_module": "@jupyter-widgets/controls",
            "_view_module_version": "1.5.0",
            "_view_name": "HBoxView",
            "box_style": "",
            "children": [
              "IPY_MODEL_2b8eae2fa4f2416c8c25d228af507f5f",
              "IPY_MODEL_3fa26581293f40ba9d9e61c1261b0f6f",
              "IPY_MODEL_8bfc962633504b459af14eaf763f163d"
            ],
            "layout": "IPY_MODEL_48d23f2d1ca645a5b3bdad54655c96dd"
          }
        },
        "2b8eae2fa4f2416c8c25d228af507f5f": {
          "model_module": "@jupyter-widgets/controls",
          "model_name": "HTMLModel",
          "model_module_version": "1.5.0",
          "state": {
            "_dom_classes": [],
            "_model_module": "@jupyter-widgets/controls",
            "_model_module_version": "1.5.0",
            "_model_name": "HTMLModel",
            "_view_count": null,
            "_view_module": "@jupyter-widgets/controls",
            "_view_module_version": "1.5.0",
            "_view_name": "HTMLView",
            "description": "",
            "description_tooltip": null,
            "layout": "IPY_MODEL_452001d24b9c4f2985164d9b8e9c3bf9",
            "placeholder": "​",
            "style": "IPY_MODEL_cba5add0aecb4663825d9d694fe9924f",
            "value": "100%"
          }
        },
        "3fa26581293f40ba9d9e61c1261b0f6f": {
          "model_module": "@jupyter-widgets/controls",
          "model_name": "FloatProgressModel",
          "model_module_version": "1.5.0",
          "state": {
            "_dom_classes": [],
            "_model_module": "@jupyter-widgets/controls",
            "_model_module_version": "1.5.0",
            "_model_name": "FloatProgressModel",
            "_view_count": null,
            "_view_module": "@jupyter-widgets/controls",
            "_view_module_version": "1.5.0",
            "_view_name": "ProgressView",
            "bar_style": "success",
            "description": "",
            "description_tooltip": null,
            "layout": "IPY_MODEL_79b4f7120e0442f1b8159b33ad3d1123",
            "max": 1648877,
            "min": 0,
            "orientation": "horizontal",
            "style": "IPY_MODEL_76250fcbb7e543f7b3770337d1c0cb79",
            "value": 1648877
          }
        },
        "8bfc962633504b459af14eaf763f163d": {
          "model_module": "@jupyter-widgets/controls",
          "model_name": "HTMLModel",
          "model_module_version": "1.5.0",
          "state": {
            "_dom_classes": [],
            "_model_module": "@jupyter-widgets/controls",
            "_model_module_version": "1.5.0",
            "_model_name": "HTMLModel",
            "_view_count": null,
            "_view_module": "@jupyter-widgets/controls",
            "_view_module_version": "1.5.0",
            "_view_name": "HTMLView",
            "description": "",
            "description_tooltip": null,
            "layout": "IPY_MODEL_a5bd31a95dee4f6e9519220a2e9762d3",
            "placeholder": "​",
            "style": "IPY_MODEL_92e3930393b7493b8a20fffba037d6a4",
            "value": " 1648877/1648877 [00:00&lt;00:00, 4223722.44it/s]"
          }
        },
        "48d23f2d1ca645a5b3bdad54655c96dd": {
          "model_module": "@jupyter-widgets/base",
          "model_name": "LayoutModel",
          "model_module_version": "1.2.0",
          "state": {
            "_model_module": "@jupyter-widgets/base",
            "_model_module_version": "1.2.0",
            "_model_name": "LayoutModel",
            "_view_count": null,
            "_view_module": "@jupyter-widgets/base",
            "_view_module_version": "1.2.0",
            "_view_name": "LayoutView",
            "align_content": null,
            "align_items": null,
            "align_self": null,
            "border": null,
            "bottom": null,
            "display": null,
            "flex": null,
            "flex_flow": null,
            "grid_area": null,
            "grid_auto_columns": null,
            "grid_auto_flow": null,
            "grid_auto_rows": null,
            "grid_column": null,
            "grid_gap": null,
            "grid_row": null,
            "grid_template_areas": null,
            "grid_template_columns": null,
            "grid_template_rows": null,
            "height": null,
            "justify_content": null,
            "justify_items": null,
            "left": null,
            "margin": null,
            "max_height": null,
            "max_width": null,
            "min_height": null,
            "min_width": null,
            "object_fit": null,
            "object_position": null,
            "order": null,
            "overflow": null,
            "overflow_x": null,
            "overflow_y": null,
            "padding": null,
            "right": null,
            "top": null,
            "visibility": null,
            "width": null
          }
        },
        "452001d24b9c4f2985164d9b8e9c3bf9": {
          "model_module": "@jupyter-widgets/base",
          "model_name": "LayoutModel",
          "model_module_version": "1.2.0",
          "state": {
            "_model_module": "@jupyter-widgets/base",
            "_model_module_version": "1.2.0",
            "_model_name": "LayoutModel",
            "_view_count": null,
            "_view_module": "@jupyter-widgets/base",
            "_view_module_version": "1.2.0",
            "_view_name": "LayoutView",
            "align_content": null,
            "align_items": null,
            "align_self": null,
            "border": null,
            "bottom": null,
            "display": null,
            "flex": null,
            "flex_flow": null,
            "grid_area": null,
            "grid_auto_columns": null,
            "grid_auto_flow": null,
            "grid_auto_rows": null,
            "grid_column": null,
            "grid_gap": null,
            "grid_row": null,
            "grid_template_areas": null,
            "grid_template_columns": null,
            "grid_template_rows": null,
            "height": null,
            "justify_content": null,
            "justify_items": null,
            "left": null,
            "margin": null,
            "max_height": null,
            "max_width": null,
            "min_height": null,
            "min_width": null,
            "object_fit": null,
            "object_position": null,
            "order": null,
            "overflow": null,
            "overflow_x": null,
            "overflow_y": null,
            "padding": null,
            "right": null,
            "top": null,
            "visibility": null,
            "width": null
          }
        },
        "cba5add0aecb4663825d9d694fe9924f": {
          "model_module": "@jupyter-widgets/controls",
          "model_name": "DescriptionStyleModel",
          "model_module_version": "1.5.0",
          "state": {
            "_model_module": "@jupyter-widgets/controls",
            "_model_module_version": "1.5.0",
            "_model_name": "DescriptionStyleModel",
            "_view_count": null,
            "_view_module": "@jupyter-widgets/base",
            "_view_module_version": "1.2.0",
            "_view_name": "StyleView",
            "description_width": ""
          }
        },
        "79b4f7120e0442f1b8159b33ad3d1123": {
          "model_module": "@jupyter-widgets/base",
          "model_name": "LayoutModel",
          "model_module_version": "1.2.0",
          "state": {
            "_model_module": "@jupyter-widgets/base",
            "_model_module_version": "1.2.0",
            "_model_name": "LayoutModel",
            "_view_count": null,
            "_view_module": "@jupyter-widgets/base",
            "_view_module_version": "1.2.0",
            "_view_name": "LayoutView",
            "align_content": null,
            "align_items": null,
            "align_self": null,
            "border": null,
            "bottom": null,
            "display": null,
            "flex": null,
            "flex_flow": null,
            "grid_area": null,
            "grid_auto_columns": null,
            "grid_auto_flow": null,
            "grid_auto_rows": null,
            "grid_column": null,
            "grid_gap": null,
            "grid_row": null,
            "grid_template_areas": null,
            "grid_template_columns": null,
            "grid_template_rows": null,
            "height": null,
            "justify_content": null,
            "justify_items": null,
            "left": null,
            "margin": null,
            "max_height": null,
            "max_width": null,
            "min_height": null,
            "min_width": null,
            "object_fit": null,
            "object_position": null,
            "order": null,
            "overflow": null,
            "overflow_x": null,
            "overflow_y": null,
            "padding": null,
            "right": null,
            "top": null,
            "visibility": null,
            "width": null
          }
        },
        "76250fcbb7e543f7b3770337d1c0cb79": {
          "model_module": "@jupyter-widgets/controls",
          "model_name": "ProgressStyleModel",
          "model_module_version": "1.5.0",
          "state": {
            "_model_module": "@jupyter-widgets/controls",
            "_model_module_version": "1.5.0",
            "_model_name": "ProgressStyleModel",
            "_view_count": null,
            "_view_module": "@jupyter-widgets/base",
            "_view_module_version": "1.2.0",
            "_view_name": "StyleView",
            "bar_color": null,
            "description_width": ""
          }
        },
        "a5bd31a95dee4f6e9519220a2e9762d3": {
          "model_module": "@jupyter-widgets/base",
          "model_name": "LayoutModel",
          "model_module_version": "1.2.0",
          "state": {
            "_model_module": "@jupyter-widgets/base",
            "_model_module_version": "1.2.0",
            "_model_name": "LayoutModel",
            "_view_count": null,
            "_view_module": "@jupyter-widgets/base",
            "_view_module_version": "1.2.0",
            "_view_name": "LayoutView",
            "align_content": null,
            "align_items": null,
            "align_self": null,
            "border": null,
            "bottom": null,
            "display": null,
            "flex": null,
            "flex_flow": null,
            "grid_area": null,
            "grid_auto_columns": null,
            "grid_auto_flow": null,
            "grid_auto_rows": null,
            "grid_column": null,
            "grid_gap": null,
            "grid_row": null,
            "grid_template_areas": null,
            "grid_template_columns": null,
            "grid_template_rows": null,
            "height": null,
            "justify_content": null,
            "justify_items": null,
            "left": null,
            "margin": null,
            "max_height": null,
            "max_width": null,
            "min_height": null,
            "min_width": null,
            "object_fit": null,
            "object_position": null,
            "order": null,
            "overflow": null,
            "overflow_x": null,
            "overflow_y": null,
            "padding": null,
            "right": null,
            "top": null,
            "visibility": null,
            "width": null
          }
        },
        "92e3930393b7493b8a20fffba037d6a4": {
          "model_module": "@jupyter-widgets/controls",
          "model_name": "DescriptionStyleModel",
          "model_module_version": "1.5.0",
          "state": {
            "_model_module": "@jupyter-widgets/controls",
            "_model_module_version": "1.5.0",
            "_model_name": "DescriptionStyleModel",
            "_view_count": null,
            "_view_module": "@jupyter-widgets/base",
            "_view_module_version": "1.2.0",
            "_view_name": "StyleView",
            "description_width": ""
          }
        },
        "18596e3dd6b245dda9fe0b44732d4b65": {
          "model_module": "@jupyter-widgets/controls",
          "model_name": "HBoxModel",
          "model_module_version": "1.5.0",
          "state": {
            "_dom_classes": [],
            "_model_module": "@jupyter-widgets/controls",
            "_model_module_version": "1.5.0",
            "_model_name": "HBoxModel",
            "_view_count": null,
            "_view_module": "@jupyter-widgets/controls",
            "_view_module_version": "1.5.0",
            "_view_name": "HBoxView",
            "box_style": "",
            "children": [
              "IPY_MODEL_1c192b9ace2040d1943c44ac46f6cb82",
              "IPY_MODEL_151c46008a6b4c61adb99fcb75dd4842",
              "IPY_MODEL_4b75206bd06b40fea4e14276a866a0a9"
            ],
            "layout": "IPY_MODEL_670fb663d26443608dba18f686fc04d2"
          }
        },
        "1c192b9ace2040d1943c44ac46f6cb82": {
          "model_module": "@jupyter-widgets/controls",
          "model_name": "HTMLModel",
          "model_module_version": "1.5.0",
          "state": {
            "_dom_classes": [],
            "_model_module": "@jupyter-widgets/controls",
            "_model_module_version": "1.5.0",
            "_model_name": "HTMLModel",
            "_view_count": null,
            "_view_module": "@jupyter-widgets/controls",
            "_view_module_version": "1.5.0",
            "_view_name": "HTMLView",
            "description": "",
            "description_tooltip": null,
            "layout": "IPY_MODEL_8a7485b795f8468c931dfad0cfdf0447",
            "placeholder": "​",
            "style": "IPY_MODEL_9c322067705c4c25906457fbd7bae97b",
            "value": "100%"
          }
        },
        "151c46008a6b4c61adb99fcb75dd4842": {
          "model_module": "@jupyter-widgets/controls",
          "model_name": "FloatProgressModel",
          "model_module_version": "1.5.0",
          "state": {
            "_dom_classes": [],
            "_model_module": "@jupyter-widgets/controls",
            "_model_module_version": "1.5.0",
            "_model_name": "FloatProgressModel",
            "_view_count": null,
            "_view_module": "@jupyter-widgets/controls",
            "_view_module_version": "1.5.0",
            "_view_name": "ProgressView",
            "bar_style": "success",
            "description": "",
            "description_tooltip": null,
            "layout": "IPY_MODEL_1f4d455ce0cd4654ab5fe79919b1611e",
            "max": 4542,
            "min": 0,
            "orientation": "horizontal",
            "style": "IPY_MODEL_23f01cb055444e9896bfc15f18eb0f9c",
            "value": 4542
          }
        },
        "4b75206bd06b40fea4e14276a866a0a9": {
          "model_module": "@jupyter-widgets/controls",
          "model_name": "HTMLModel",
          "model_module_version": "1.5.0",
          "state": {
            "_dom_classes": [],
            "_model_module": "@jupyter-widgets/controls",
            "_model_module_version": "1.5.0",
            "_model_name": "HTMLModel",
            "_view_count": null,
            "_view_module": "@jupyter-widgets/controls",
            "_view_module_version": "1.5.0",
            "_view_name": "HTMLView",
            "description": "",
            "description_tooltip": null,
            "layout": "IPY_MODEL_bd221159671c467899242f4b56362bb1",
            "placeholder": "​",
            "style": "IPY_MODEL_ec9a2e37bd9a46869796126a89648712",
            "value": " 4542/4542 [00:00&lt;00:00, 81694.61it/s]"
          }
        },
        "670fb663d26443608dba18f686fc04d2": {
          "model_module": "@jupyter-widgets/base",
          "model_name": "LayoutModel",
          "model_module_version": "1.2.0",
          "state": {
            "_model_module": "@jupyter-widgets/base",
            "_model_module_version": "1.2.0",
            "_model_name": "LayoutModel",
            "_view_count": null,
            "_view_module": "@jupyter-widgets/base",
            "_view_module_version": "1.2.0",
            "_view_name": "LayoutView",
            "align_content": null,
            "align_items": null,
            "align_self": null,
            "border": null,
            "bottom": null,
            "display": null,
            "flex": null,
            "flex_flow": null,
            "grid_area": null,
            "grid_auto_columns": null,
            "grid_auto_flow": null,
            "grid_auto_rows": null,
            "grid_column": null,
            "grid_gap": null,
            "grid_row": null,
            "grid_template_areas": null,
            "grid_template_columns": null,
            "grid_template_rows": null,
            "height": null,
            "justify_content": null,
            "justify_items": null,
            "left": null,
            "margin": null,
            "max_height": null,
            "max_width": null,
            "min_height": null,
            "min_width": null,
            "object_fit": null,
            "object_position": null,
            "order": null,
            "overflow": null,
            "overflow_x": null,
            "overflow_y": null,
            "padding": null,
            "right": null,
            "top": null,
            "visibility": null,
            "width": null
          }
        },
        "8a7485b795f8468c931dfad0cfdf0447": {
          "model_module": "@jupyter-widgets/base",
          "model_name": "LayoutModel",
          "model_module_version": "1.2.0",
          "state": {
            "_model_module": "@jupyter-widgets/base",
            "_model_module_version": "1.2.0",
            "_model_name": "LayoutModel",
            "_view_count": null,
            "_view_module": "@jupyter-widgets/base",
            "_view_module_version": "1.2.0",
            "_view_name": "LayoutView",
            "align_content": null,
            "align_items": null,
            "align_self": null,
            "border": null,
            "bottom": null,
            "display": null,
            "flex": null,
            "flex_flow": null,
            "grid_area": null,
            "grid_auto_columns": null,
            "grid_auto_flow": null,
            "grid_auto_rows": null,
            "grid_column": null,
            "grid_gap": null,
            "grid_row": null,
            "grid_template_areas": null,
            "grid_template_columns": null,
            "grid_template_rows": null,
            "height": null,
            "justify_content": null,
            "justify_items": null,
            "left": null,
            "margin": null,
            "max_height": null,
            "max_width": null,
            "min_height": null,
            "min_width": null,
            "object_fit": null,
            "object_position": null,
            "order": null,
            "overflow": null,
            "overflow_x": null,
            "overflow_y": null,
            "padding": null,
            "right": null,
            "top": null,
            "visibility": null,
            "width": null
          }
        },
        "9c322067705c4c25906457fbd7bae97b": {
          "model_module": "@jupyter-widgets/controls",
          "model_name": "DescriptionStyleModel",
          "model_module_version": "1.5.0",
          "state": {
            "_model_module": "@jupyter-widgets/controls",
            "_model_module_version": "1.5.0",
            "_model_name": "DescriptionStyleModel",
            "_view_count": null,
            "_view_module": "@jupyter-widgets/base",
            "_view_module_version": "1.2.0",
            "_view_name": "StyleView",
            "description_width": ""
          }
        },
        "1f4d455ce0cd4654ab5fe79919b1611e": {
          "model_module": "@jupyter-widgets/base",
          "model_name": "LayoutModel",
          "model_module_version": "1.2.0",
          "state": {
            "_model_module": "@jupyter-widgets/base",
            "_model_module_version": "1.2.0",
            "_model_name": "LayoutModel",
            "_view_count": null,
            "_view_module": "@jupyter-widgets/base",
            "_view_module_version": "1.2.0",
            "_view_name": "LayoutView",
            "align_content": null,
            "align_items": null,
            "align_self": null,
            "border": null,
            "bottom": null,
            "display": null,
            "flex": null,
            "flex_flow": null,
            "grid_area": null,
            "grid_auto_columns": null,
            "grid_auto_flow": null,
            "grid_auto_rows": null,
            "grid_column": null,
            "grid_gap": null,
            "grid_row": null,
            "grid_template_areas": null,
            "grid_template_columns": null,
            "grid_template_rows": null,
            "height": null,
            "justify_content": null,
            "justify_items": null,
            "left": null,
            "margin": null,
            "max_height": null,
            "max_width": null,
            "min_height": null,
            "min_width": null,
            "object_fit": null,
            "object_position": null,
            "order": null,
            "overflow": null,
            "overflow_x": null,
            "overflow_y": null,
            "padding": null,
            "right": null,
            "top": null,
            "visibility": null,
            "width": null
          }
        },
        "23f01cb055444e9896bfc15f18eb0f9c": {
          "model_module": "@jupyter-widgets/controls",
          "model_name": "ProgressStyleModel",
          "model_module_version": "1.5.0",
          "state": {
            "_model_module": "@jupyter-widgets/controls",
            "_model_module_version": "1.5.0",
            "_model_name": "ProgressStyleModel",
            "_view_count": null,
            "_view_module": "@jupyter-widgets/base",
            "_view_module_version": "1.2.0",
            "_view_name": "StyleView",
            "bar_color": null,
            "description_width": ""
          }
        },
        "bd221159671c467899242f4b56362bb1": {
          "model_module": "@jupyter-widgets/base",
          "model_name": "LayoutModel",
          "model_module_version": "1.2.0",
          "state": {
            "_model_module": "@jupyter-widgets/base",
            "_model_module_version": "1.2.0",
            "_model_name": "LayoutModel",
            "_view_count": null,
            "_view_module": "@jupyter-widgets/base",
            "_view_module_version": "1.2.0",
            "_view_name": "LayoutView",
            "align_content": null,
            "align_items": null,
            "align_self": null,
            "border": null,
            "bottom": null,
            "display": null,
            "flex": null,
            "flex_flow": null,
            "grid_area": null,
            "grid_auto_columns": null,
            "grid_auto_flow": null,
            "grid_auto_rows": null,
            "grid_column": null,
            "grid_gap": null,
            "grid_row": null,
            "grid_template_areas": null,
            "grid_template_columns": null,
            "grid_template_rows": null,
            "height": null,
            "justify_content": null,
            "justify_items": null,
            "left": null,
            "margin": null,
            "max_height": null,
            "max_width": null,
            "min_height": null,
            "min_width": null,
            "object_fit": null,
            "object_position": null,
            "order": null,
            "overflow": null,
            "overflow_x": null,
            "overflow_y": null,
            "padding": null,
            "right": null,
            "top": null,
            "visibility": null,
            "width": null
          }
        },
        "ec9a2e37bd9a46869796126a89648712": {
          "model_module": "@jupyter-widgets/controls",
          "model_name": "DescriptionStyleModel",
          "model_module_version": "1.5.0",
          "state": {
            "_model_module": "@jupyter-widgets/controls",
            "_model_module_version": "1.5.0",
            "_model_name": "DescriptionStyleModel",
            "_view_count": null,
            "_view_module": "@jupyter-widgets/base",
            "_view_module_version": "1.2.0",
            "_view_name": "StyleView",
            "description_width": ""
          }
        }
      }
    }
  },
  "cells": [
    {
      "cell_type": "markdown",
      "source": [
        "#Advanced Deep Learning (2022- 2023)\n",
        "##Assignment-1\n",
        "\n",
        "Student: Ufuk Cem Birbiri"
      ],
      "metadata": {
        "id": "6zMdgFfFDLYx"
      }
    },
    {
      "cell_type": "code",
      "execution_count": 1,
      "metadata": {
        "id": "oWK9Qjjj9faS",
        "colab": {
          "base_uri": "https://localhost:8080/",
          "height": 431,
          "referenced_widgets": [
            "c9552bca2f3c4268ad1556f9d01370a7",
            "ed6e85d3a3a7421781edd1970cdefa8b",
            "fc41ec80641242689973e8303fd225e4",
            "c5f617b9039f4138b115bb9ec3d270f5",
            "906128258f6b41208fa617b12e3950c4",
            "5604a87e108242eb87615fb5ab3a7884",
            "7b6677b5337643a886e8dbbd004c89e1",
            "84c3df1790844eaca0a981a27df5a355",
            "d740a178f5474ba69984e4f87740c706",
            "f2a475653ac848c58324c1e2054f7d20",
            "431144315518406c8108dd09cd5be0cb",
            "afed8603ee454992bb6ac9e90fd473ce",
            "8ddfa0f6c46445b395766ca7d9db40e3",
            "92b37656b6a74a39a09fbaea851d1c8d",
            "c366efcb5a6e41b7b4ea906891ce0547",
            "52f5e102ca3d48a4b1169951648d3bf2",
            "8e84ee810fe74ee7896e94dcce07437e",
            "6eeed6edd0354effafba97994ea49c76",
            "e6db7491629a48658afc72735bb1df8c",
            "d99575be1b7246bc89548e514bb3da98",
            "7cbb1f628a074ba7a5b0cbb5cda4edb5",
            "3f327d17006b49519a67f647347c7a40",
            "5a37d1be5fd348c58278eee4e796f1c0",
            "2b8eae2fa4f2416c8c25d228af507f5f",
            "3fa26581293f40ba9d9e61c1261b0f6f",
            "8bfc962633504b459af14eaf763f163d",
            "48d23f2d1ca645a5b3bdad54655c96dd",
            "452001d24b9c4f2985164d9b8e9c3bf9",
            "cba5add0aecb4663825d9d694fe9924f",
            "79b4f7120e0442f1b8159b33ad3d1123",
            "76250fcbb7e543f7b3770337d1c0cb79",
            "a5bd31a95dee4f6e9519220a2e9762d3",
            "92e3930393b7493b8a20fffba037d6a4",
            "18596e3dd6b245dda9fe0b44732d4b65",
            "1c192b9ace2040d1943c44ac46f6cb82",
            "151c46008a6b4c61adb99fcb75dd4842",
            "4b75206bd06b40fea4e14276a866a0a9",
            "670fb663d26443608dba18f686fc04d2",
            "8a7485b795f8468c931dfad0cfdf0447",
            "9c322067705c4c25906457fbd7bae97b",
            "1f4d455ce0cd4654ab5fe79919b1611e",
            "23f01cb055444e9896bfc15f18eb0f9c",
            "bd221159671c467899242f4b56362bb1",
            "ec9a2e37bd9a46869796126a89648712"
          ]
        },
        "outputId": "5eac51e9-684c-4c34-9fc4-09ab34e90ab3"
      },
      "outputs": [
        {
          "output_type": "stream",
          "name": "stdout",
          "text": [
            "Downloading http://yann.lecun.com/exdb/mnist/train-images-idx3-ubyte.gz\n",
            "Downloading http://yann.lecun.com/exdb/mnist/train-images-idx3-ubyte.gz to ./data/MNIST/raw/train-images-idx3-ubyte.gz\n"
          ]
        },
        {
          "output_type": "display_data",
          "data": {
            "text/plain": [
              "  0%|          | 0/9912422 [00:00<?, ?it/s]"
            ],
            "application/vnd.jupyter.widget-view+json": {
              "version_major": 2,
              "version_minor": 0,
              "model_id": "c9552bca2f3c4268ad1556f9d01370a7"
            }
          },
          "metadata": {}
        },
        {
          "output_type": "stream",
          "name": "stdout",
          "text": [
            "Extracting ./data/MNIST/raw/train-images-idx3-ubyte.gz to ./data/MNIST/raw\n",
            "\n",
            "Downloading http://yann.lecun.com/exdb/mnist/train-labels-idx1-ubyte.gz\n",
            "Downloading http://yann.lecun.com/exdb/mnist/train-labels-idx1-ubyte.gz to ./data/MNIST/raw/train-labels-idx1-ubyte.gz\n"
          ]
        },
        {
          "output_type": "display_data",
          "data": {
            "text/plain": [
              "  0%|          | 0/28881 [00:00<?, ?it/s]"
            ],
            "application/vnd.jupyter.widget-view+json": {
              "version_major": 2,
              "version_minor": 0,
              "model_id": "afed8603ee454992bb6ac9e90fd473ce"
            }
          },
          "metadata": {}
        },
        {
          "output_type": "stream",
          "name": "stdout",
          "text": [
            "Extracting ./data/MNIST/raw/train-labels-idx1-ubyte.gz to ./data/MNIST/raw\n",
            "\n",
            "Downloading http://yann.lecun.com/exdb/mnist/t10k-images-idx3-ubyte.gz\n",
            "Downloading http://yann.lecun.com/exdb/mnist/t10k-images-idx3-ubyte.gz to ./data/MNIST/raw/t10k-images-idx3-ubyte.gz\n"
          ]
        },
        {
          "output_type": "display_data",
          "data": {
            "text/plain": [
              "  0%|          | 0/1648877 [00:00<?, ?it/s]"
            ],
            "application/vnd.jupyter.widget-view+json": {
              "version_major": 2,
              "version_minor": 0,
              "model_id": "5a37d1be5fd348c58278eee4e796f1c0"
            }
          },
          "metadata": {}
        },
        {
          "output_type": "stream",
          "name": "stdout",
          "text": [
            "Extracting ./data/MNIST/raw/t10k-images-idx3-ubyte.gz to ./data/MNIST/raw\n",
            "\n",
            "Downloading http://yann.lecun.com/exdb/mnist/t10k-labels-idx1-ubyte.gz\n",
            "Downloading http://yann.lecun.com/exdb/mnist/t10k-labels-idx1-ubyte.gz to ./data/MNIST/raw/t10k-labels-idx1-ubyte.gz\n"
          ]
        },
        {
          "output_type": "display_data",
          "data": {
            "text/plain": [
              "  0%|          | 0/4542 [00:00<?, ?it/s]"
            ],
            "application/vnd.jupyter.widget-view+json": {
              "version_major": 2,
              "version_minor": 0,
              "model_id": "18596e3dd6b245dda9fe0b44732d4b65"
            }
          },
          "metadata": {}
        },
        {
          "output_type": "stream",
          "name": "stdout",
          "text": [
            "Extracting ./data/MNIST/raw/t10k-labels-idx1-ubyte.gz to ./data/MNIST/raw\n",
            "\n"
          ]
        }
      ],
      "source": [
        "import torch\n",
        "import torchvision  #To be able to access standard datasets more easily\n",
        "from torchvision.transforms import ToTensor\n",
        "import matplotlib.pyplot as plt\n",
        "import numpy as np  # To plot and display stuff\n",
        "import torch.optim as optim # Where the optimization modules are\n",
        "%matplotlib inline\n",
        "\n",
        "# Using torchvision we can conveniently load some datasets\n",
        "trainset = torchvision.datasets.MNIST(root='./data', train=True, download=True, transform=ToTensor())\n",
        "testset = torchvision.datasets.MNIST(root='./data', train=False, download=True, transform=ToTensor())"
      ]
    },
    {
      "cell_type": "code",
      "source": [
        "# Extract tensor of data and labels for both the training and the test set\n",
        "x, y = trainset.data.float(), trainset.targets\n",
        "x_test, y_test = testset.data.float(), testset.targets\n",
        "x.shape, y.shape, x_test.shape, y_test.shape"
      ],
      "metadata": {
        "colab": {
          "base_uri": "https://localhost:8080/"
        },
        "id": "mxPwbBgcDIV_",
        "outputId": "8f2ef1a4-9bb7-48e1-fcb8-3902a4dff30e"
      },
      "execution_count": 2,
      "outputs": [
        {
          "output_type": "execute_result",
          "data": {
            "text/plain": [
              "(torch.Size([60000, 28, 28]),\n",
              " torch.Size([60000]),\n",
              " torch.Size([10000, 28, 28]),\n",
              " torch.Size([10000]))"
            ]
          },
          "metadata": {},
          "execution_count": 2
        }
      ]
    },
    {
      "cell_type": "markdown",
      "source": [
        "Let's see how many classes we have:"
      ],
      "metadata": {
        "id": "l2KW5Z_XUDnG"
      }
    },
    {
      "cell_type": "code",
      "source": [
        "np.unique(y)"
      ],
      "metadata": {
        "colab": {
          "base_uri": "https://localhost:8080/"
        },
        "id": "7SqL-Da5DOoG",
        "outputId": "9cfb8a9b-38dd-4c86-e6d2-9a4e7447ab5e"
      },
      "execution_count": 3,
      "outputs": [
        {
          "output_type": "execute_result",
          "data": {
            "text/plain": [
              "array([0, 1, 2, 3, 4, 5, 6, 7, 8, 9])"
            ]
          },
          "metadata": {},
          "execution_count": 3
        }
      ]
    },
    {
      "cell_type": "markdown",
      "source": [
        "### Q1"
      ],
      "metadata": {
        "id": "_NGYbvL41Trs"
      }
    },
    {
      "cell_type": "markdown",
      "source": [
        "Try to load the same data directly from the \"MINST database\" website http://yann.lecun.com/exdb/mnist/\n",
        "Be careful that the images can have a different normalization and encoding"
      ],
      "metadata": {
        "id": "cbIHRuldU6N_"
      }
    },
    {
      "cell_type": "markdown",
      "source": [
        "### Answer.1\n",
        "\n",
        "This question was a lot bit tricky. I found a good code that can load the same data directly from the \"MINST database\" website. In the next cell, there is the code."
      ],
      "metadata": {
        "id": "i6htzPq5U_Jv"
      }
    },
    {
      "cell_type": "code",
      "source": [
        "import os\n",
        "import requests\n",
        "import gzip\n",
        "def load_mnist(train_data=True, test_data=False):\n",
        "    \"\"\"\n",
        "    Get mnist data from the official website and\n",
        "    load them in binary format.\n",
        "\n",
        "    Parameters\n",
        "    ----------\n",
        "    train_data : bool\n",
        "        Loads\n",
        "        'train-images-idx3-ubyte.gz'\n",
        "        'train-labels-idx1-ubyte.gz'\n",
        "    test_data : bool\n",
        "        Loads\n",
        "        't10k-images-idx3-ubyte.gz'\n",
        "        't10k-labels-idx1-ubyte.gz' \n",
        "\n",
        "    Return\n",
        "    ------\n",
        "    tuple\n",
        "    tuple[0] are images (train & test)\n",
        "    tuple[1] are labels (train & test)\n",
        "    \"\"\"\n",
        "    RESOURCES = [\n",
        "        'train-images-idx3-ubyte.gz',\n",
        "        'train-labels-idx1-ubyte.gz',\n",
        "        't10k-images-idx3-ubyte.gz',\n",
        "        't10k-labels-idx1-ubyte.gz']\n",
        "\n",
        "    if (os.path.isdir('data') == 0):\n",
        "        os.mkdir('data')\n",
        "    if (os.path.isdir('data/mnist') == 0):\n",
        "        os.mkdir('data/mnist')\n",
        "    for name in RESOURCES:\n",
        "        if (os.path.isfile('data/mnist/'+name) == 0):\n",
        "            url = 'http://yann.lecun.com/exdb/mnist/'+name\n",
        "            r = requests.get(url, allow_redirects=True)\n",
        "            open('data/mnist/'+name, 'wb').write(r.content)\n",
        "\n",
        "    return get_images(train_data, test_data), get_labels(train_data, test_data)\n",
        "\n",
        "\n",
        "def get_images(train_data=True, test_data=False):\n",
        "\n",
        "    to_return = []\n",
        "\n",
        "    if train_data:\n",
        "        with gzip.open('data/mnist/train-images-idx3-ubyte.gz', 'r') as f:\n",
        "            # first 4 bytes is a magic number\n",
        "            magic_number = int.from_bytes(f.read(4), 'big')\n",
        "            # second 4 bytes is the number of images\n",
        "            image_count = int.from_bytes(f.read(4), 'big')\n",
        "            # third 4 bytes is the row count\n",
        "            row_count = int.from_bytes(f.read(4), 'big')\n",
        "# fourth 4 bytes is the column count\n",
        "            column_count = int.from_bytes(f.read(4), 'big')\n",
        "            # rest is the image pixel data, each pixel is stored as an unsigned byte\n",
        "            # pixel values are 0 to 255\n",
        "            image_data = f.read()\n",
        "            train_images = np.frombuffer(image_data, dtype=np.uint8)\\\n",
        "                .reshape((image_count, row_count, column_count))\n",
        "            to_return.append(np.where(train_images > 127, 1, 0))\n",
        "\n",
        "    if test_data:\n",
        "        with gzip.open('data/mnist/t10k-images-idx3-ubyte.gz', 'r') as f:\n",
        "            # first 4 bytes is a magic number\n",
        "            magic_number = int.from_bytes(f.read(4), 'big')\n",
        "            # second 4 bytes is the number of images\n",
        "            image_count = int.from_bytes(f.read(4), 'big')\n",
        "            # third 4 bytes is the row count\n",
        "            row_count = int.from_bytes(f.read(4), 'big')\n",
        "            # fourth 4 bytes is the column count\n",
        "            column_count = int.from_bytes(f.read(4), 'big')\n",
        "            # rest is the image pixel data, each pixel is stored as an unsigned byte\n",
        "            # pixel values are 0 to 255\n",
        "            image_data = f.read()\n",
        "            test_images = np.frombuffer(image_data, dtype=np.uint8)\\\n",
        "                .reshape((image_count, row_count, column_count))\n",
        "            to_return.append(np.where(test_images > 127, 1, 0))\n",
        "\n",
        "    return to_return\n",
        "\n",
        "\n",
        "def get_labels(train_data=True, test_data=False):\n",
        "    to_return = []\n",
        "\n",
        "    if train_data:\n",
        "        with gzip.open('data/mnist/train-labels-idx1-ubyte.gz', 'r') as f:\n",
        "            # first 4 bytes is a magic number\n",
        "            magic_number = int.from_bytes(f.read(4), 'big')\n",
        "            # second 4 bytes is the number of labels\n",
        "            label_count = int.from_bytes(f.read(4), 'big')\n",
        "            # rest is the label data, each label is stored as unsigned byte\n",
        "            # label values are 0 to 9\n",
        "            label_data = f.read()\n",
        "            train_labels = np.frombuffer(label_data, dtype=np.uint8)\n",
        "            to_return.append(train_labels)\n",
        "    if test_data:\n",
        "        with gzip.open('data/mnist/t10k-labels-idx1-ubyte.gz', 'r') as f:\n",
        "            # first 4 bytes is a magic number\n",
        "            magic_number = int.from_bytes(f.read(4), 'big')\n",
        "            # second 4 bytes is the number of labels\n",
        "            label_count = int.from_bytes(f.read(4), 'big')\n",
        "            # rest is the label data, each label is stored as unsigned byte\n",
        "            # label values are 0 to 9\n",
        "            label_data = f.read()\n",
        "            test_labels = np.frombuffer(label_data, dtype=np.uint8)\n",
        "            to_return.append(test_labels)\n",
        "\n",
        "    return to_return"
      ],
      "metadata": {
        "id": "n2O9usJOSwTu"
      },
      "execution_count": 9,
      "outputs": []
    },
    {
      "cell_type": "markdown",
      "source": [
        "Let's load the data:"
      ],
      "metadata": {
        "id": "5cqxQiKyVu27"
      }
    },
    {
      "cell_type": "code",
      "source": [
        "import numpy as np\n",
        "x = load_mnist(train_data=True, test_data=True)\n"
      ],
      "metadata": {
        "id": "H8oZBZhKTLcI"
      },
      "execution_count": 25,
      "outputs": []
    },
    {
      "cell_type": "code",
      "source": [
        "x[0][0].shape, x[0][1].shape, x[1][0].shape, x[1][1].shape"
      ],
      "metadata": {
        "colab": {
          "base_uri": "https://localhost:8080/"
        },
        "id": "-dTxLsiDTr1o",
        "outputId": "fc72cb2c-5036-4823-ea8a-484ef7277364"
      },
      "execution_count": 32,
      "outputs": [
        {
          "output_type": "execute_result",
          "data": {
            "text/plain": [
              "((60000, 28, 28), (10000, 28, 28), (60000,), (10000,))"
            ]
          },
          "metadata": {},
          "execution_count": 32
        }
      ]
    },
    {
      "cell_type": "code",
      "source": [
        "x_train2= x[0][0] #shape = (60000, 28, 28)\n",
        "x_test2 = x[0][1] #shape = (10000,)\n",
        "\n",
        "y_train2= x[1][0] #shape=(60000,)\n",
        "y_test2 = x[1][1] #shape = (10000,)\n"
      ],
      "metadata": {
        "id": "hmE31_9LTpku"
      },
      "execution_count": 33,
      "outputs": []
    },
    {
      "cell_type": "markdown",
      "source": [
        "### Q2"
      ],
      "metadata": {
        "id": "5yJl0Ybr18Hs"
      }
    },
    {
      "cell_type": "code",
      "source": [
        "# Transform labels to one_hot encoding\n",
        "y_one_hot = torch.nn.functional.one_hot(y.to(torch.int64), num_classes=10).float()\n",
        "y_test_one_hot = torch.nn.functional.one_hot(y_test.to(torch.int64), num_classes=10).float()\n"
      ],
      "metadata": {
        "id": "XqbEVhPpWI_Q"
      },
      "execution_count": 38,
      "outputs": []
    },
    {
      "cell_type": "code",
      "source": [
        "y_one_hot.shape, y_test_one_hot.shape"
      ],
      "metadata": {
        "colab": {
          "base_uri": "https://localhost:8080/"
        },
        "id": "c9_UzAMdXxLR",
        "outputId": "1c6eca23-8235-455c-8c75-00690b0ced37"
      },
      "execution_count": 39,
      "outputs": [
        {
          "output_type": "execute_result",
          "data": {
            "text/plain": [
              "(torch.Size([60000, 10]), torch.Size([10000, 10]))"
            ]
          },
          "metadata": {},
          "execution_count": 39
        }
      ]
    },
    {
      "cell_type": "code",
      "source": [
        "### Q2\n",
        "# Using the utilities in plt and numpy display some images and check that the corresponding labels are consistent\n",
        "\n",
        "#Let's visualize the first 10 images in the dataset with their labels to chechk whether their labels are correct or not:\n",
        "pltsize=1\n",
        "plt.figure(figsize=(10*pltsize, pltsize))\n",
        "\n",
        "for i in range(10):\n",
        "    plt.subplot(1,10,i+1)\n",
        "    plt.axis('off')\n",
        "    plt.imshow(x[i,:,:,].numpy().reshape(28,28)) #, cmap=\"gray_r\")\n",
        "    plt.title('Class: '+str(y[i].item()))"
      ],
      "metadata": {
        "colab": {
          "base_uri": "https://localhost:8080/",
          "height": 94
        },
        "id": "bUQoRAcpOx7B",
        "outputId": "b9538b02-4635-4586-ff0b-2bc0edd61024"
      },
      "execution_count": 7,
      "outputs": [
        {
          "output_type": "display_data",
          "data": {
            "text/plain": [
              "<Figure size 720x72 with 10 Axes>"
            ],
            "image/png": "[encoded data removed]"
          },
          "metadata": {
            "needs_background": "light"
          }
        }
      ]
    },
    {
      "cell_type": "markdown",
      "source": [
        "It seems that their labels are correct."
      ],
      "metadata": {
        "id": "5Rgx-MbJeK8-"
      }
    },
    {
      "cell_type": "markdown",
      "source": [
        "### Q3"
      ],
      "metadata": {
        "id": "mB7LKVrjWVRk"
      }
    },
    {
      "cell_type": "code",
      "source": [
        "\n",
        "### Q3\n",
        "# Complete the code below so to have a MLP with one hidden layer with 300 neurons\n",
        "# Remember that we want one-hot outputs\n",
        "\n",
        "# Now let us define the neural network we are using\n",
        "net = torch.nn.Sequential(\n",
        "    torch.nn.Linear(28*28, 300),\n",
        "    torch.nn.Sigmoid(),\n",
        "    torch.nn.Linear(300, 10),\n",
        ")\n",
        "\n",
        "\n",
        "# Now we define the optimizer and the loss function\n",
        "loss = torch.nn.CrossEntropyLoss()\n",
        "optimizer = optim.SGD(net.parameters(), lr=0.1)"
      ],
      "metadata": {
        "id": "d_WQHLDCOy1u"
      },
      "execution_count": 8,
      "outputs": []
    },
    {
      "cell_type": "markdown",
      "source": [
        "### Q4"
      ],
      "metadata": {
        "id": "AQkNz6TxWX-k"
      }
    },
    {
      "cell_type": "code",
      "source": [
        "### Q4\n",
        "# Complete the code below to perform a GD based optimization\n",
        "import torch.nn.functional as F\n",
        "\n",
        "test_loss= []\n",
        "train_loss =[]\n",
        "\n",
        "for k in range(100):\n",
        "    optimizer.zero_grad()\n",
        "\n",
        "    inputs = torch.flatten(x, start_dim=1, end_dim=2) #shape=[60000, 784]\n",
        "    outputs = net(inputs) #shape = [60000, 10]\n",
        "    \n",
        "    labels = y_one_hot #shape = [60000, 10]\n",
        "\n",
        "    #Define the empirical risk\n",
        "    Risk = loss(outputs, labels )\n",
        "\n",
        "    #Save the training loss:\n",
        "    train_loss.append(Risk.item())\n",
        "\n",
        "    #Save the test loss:\n",
        "    x_test_flatten = torch.flatten(x_test, start_dim=1, end_dim=2) #shape=[10000, 784]\n",
        "    y_pred_test = net(x_test_flatten) #shape = [10000, 10]\n",
        "    Risk_test = loss(y_pred_test, y_test)\n",
        "    #acc = torch.sum(y_pred_test == y_test_one_hot) / y_test_one_hot.shape[0]\n",
        "    test_loss.append(Risk_test.item())\n",
        "\n",
        "    #Make the backward step (1 line instruction)\n",
        "    Risk.backward()\n",
        "\n",
        "    #Upadte the parameters (1 line instruction)\n",
        "    optimizer.step()\n",
        "\n",
        "\n",
        "    with torch.no_grad():\n",
        "        print(\"k=\", k, \"   Risk = \", Risk.item())\n"
      ],
      "metadata": {
        "id": "m27l1qiFAwUc",
        "colab": {
          "base_uri": "https://localhost:8080/"
        },
        "outputId": "7e2261bb-8986-43d9-b2e3-1046a38977ac"
      },
      "execution_count": 9,
      "outputs": [
        {
          "output_type": "stream",
          "name": "stdout",
          "text": [
            "torch.Size([60000, 10])\n",
            "tensor([[ 0.0880,  0.6203, -0.0571,  ...,  0.3549,  0.4068, -0.1799],\n",
            "        [-0.1006,  0.3435,  0.2239,  ...,  0.7770,  0.4280, -0.1715],\n",
            "        [ 0.5397,  0.3198,  0.2909,  ...,  0.2009,  0.1401,  0.1065],\n",
            "        ...,\n",
            "        [ 0.2384,  0.3107,  0.1861,  ...,  0.3782,  0.5247, -0.4312],\n",
            "        [ 0.1147, -0.0525,  0.2870,  ...,  0.4419,  0.5415, -0.1552],\n",
            "        [-0.0765, -0.1253, -0.0808,  ...,  0.3885,  0.0698,  0.1163]],\n",
            "       grad_fn=<AddmmBackward0>)\n"
          ]
        }
      ]
    },
    {
      "cell_type": "code",
      "source": [
        "### Q5\n",
        "# Compute the final accuracy on test set\n",
        "pred = net(torch.flatten(x_test, start_dim=1, end_dim=2))\n",
        "pred = pred.detach().numpy()\n",
        "from sklearn.metrics import accuracy_score\n",
        "acc = accuracy_score(y_test,np.argmax(pred,axis=1))\n",
        "\n",
        "print(\"Final accuracy on test\", acc)"
      ],
      "metadata": {
        "colab": {
          "base_uri": "https://localhost:8080/"
        },
        "id": "mEJFAVoXiPkX",
        "outputId": "c71f0d2c-4485-424c-c2c0-33e4ade2579e"
      },
      "execution_count": 24,
      "outputs": [
        {
          "output_type": "stream",
          "name": "stdout",
          "text": [
            "Final accuracy on test 0.2073\n"
          ]
        }
      ]
    },
    {
      "cell_type": "markdown",
      "source": [
        "#Exercise 2.\n",
        "\n",
        "##Q.2"
      ],
      "metadata": {
        "id": "Y-J5FWh3h4uH"
      }
    },
    {
      "cell_type": "code",
      "source": [
        "from matplotlib import pyplot as plt\n",
        "plt.plot(train_loss, label=\"train loss\")\n",
        "plt.plot(test_loss, label=\"test loss\")\n",
        "plt.xlabel(\"Epochs\")\n",
        "plt.ylabel(\"Loss\")\n",
        "plt.legend()\n",
        "plt.show()"
      ],
      "metadata": {
        "colab": {
          "base_uri": "https://localhost:8080/",
          "height": 279
        },
        "id": "rh7pQchjh0Uf",
        "outputId": "212aa4a7-a396-46b0-d561-2b580c75e1d9"
      },
      "execution_count": 16,
      "outputs": [
        {
          "output_type": "display_data",
          "data": {
            "text/plain": [
              "<Figure size 432x288 with 1 Axes>"
            ],
            "image/png": "[encoded data removed]"
          },
          "metadata": {
            "needs_background": "light"
          }
        }
      ]
    },
    {
      "cell_type": "code",
      "source": [],
      "metadata": {
        "id": "PDmdbgwijmNK"
      },
      "execution_count": 11,
      "outputs": []
    },
    {
      "cell_type": "markdown",
      "source": [
        "##Q.3\n"
      ],
      "metadata": {
        "id": "gwszO5_xLx4O"
      }
    },
    {
      "cell_type": "markdown",
      "source": [
        "#### 1. The role of number of neurons (per layer)\n",
        "\n",
        "Here we will increase the number of neurons in the hidden layer and keep the number of layers fixed."
      ],
      "metadata": {
        "id": "gwyOhBN0MK1k"
      }
    },
    {
      "cell_type": "code",
      "source": [
        "\n",
        "### Q3\n",
        "# Complete the code below so to have a MLP with one hidden layer with 300 neurons\n",
        "# Remember that we want one-hot outputs\n",
        "\n",
        "# Now let us define the neural network we are using\n",
        "net2 = torch.nn.Sequential(\n",
        "    torch.nn.Linear(28*28, 300),\n",
        "    torch.nn.ReLU(),\n",
        "    torch.nn.Linear(300, 100),\n",
        "    torch.nn.ReLU(),\n",
        "    torch.nn.Linear(100, 100),\n",
        "    torch.nn.ReLU(),\n",
        "    torch.nn.Linear(100, 100),\n",
        "    torch.nn.ReLU(),\n",
        "    torch.nn.Linear(100, 100),\n",
        "    torch.nn.Sigmoid(),\n",
        "    torch.nn.Linear(100, 10),\n",
        "\n",
        ")\n",
        "\n",
        "\n",
        "# Now we define the optimizer and the loss function\n",
        "loss2 = torch.nn.CrossEntropyLoss()\n",
        "optimizer2 = optim.SGD(net2.parameters(), lr=0.1)"
      ],
      "metadata": {
        "id": "F4wMhR0tMJo3"
      },
      "execution_count": 42,
      "outputs": []
    },
    {
      "cell_type": "code",
      "source": [
        "\n",
        "# Complete the code below to perform a GD based optimization\n",
        "import torch.nn.functional as F\n",
        "\n",
        "test_loss2= []\n",
        "train_loss2 =[]\n",
        "\n",
        "for k in range(100):\n",
        "    optimizer2.zero_grad()\n",
        "\n",
        "    inputs2 = torch.flatten(x, start_dim=1, end_dim=2) #shape=[60000, 784]\n",
        "    #print(\"inputs2\", inputs2.shape)\n",
        "    outputs2 = net2(inputs2) #shape = [60000, 10]\n",
        "    #print(\"outputs2\", outputs2.shape)\n",
        "    labels2 = y_one_hot #shape = [60000, 10]\n",
        "    #print(\"labels2\", labels2.shape)\n",
        "\n",
        "    #Define the empirical risk\n",
        "    Risk22 = loss2(outputs2, labels2 )\n",
        "    #Risk22 = loss2(outputs2.view(-1, outputs2.size(-1)), y.view(-1))\n",
        "    #Save the training loss:\n",
        "    train_loss2.append(Risk22.item())\n",
        "\n",
        "    #Save the test loss:\n",
        "    x_test_flatten = torch.flatten(x_test, start_dim=1, end_dim=2) #shape=[10000, 784]\n",
        "    y_pred_test = net2(x_test_flatten) #shape = [10000, 10]\n",
        "    Risk_test2 = loss2(y_pred_test.view(-1, y_pred_test.size(-1)), y_test.view(-1))\n",
        "    #acc = torch.sum(y_pred_test == y_test_one_hot) / y_test_one_hot.shape[0]\n",
        "    test_loss2.append(Risk_test2.item())\n",
        "\n",
        "    #Make the backward step (1 line instruction)\n",
        "    Risk22.backward()\n",
        "\n",
        "    #Upadte the parameters (1 line instruction)\n",
        "    optimizer2.step()\n",
        "\n",
        "\n",
        "    with torch.no_grad():\n",
        "        print(\"k=\", k, \"   Risk = \", Risk22.item())\n",
        "\n",
        "\n"
      ],
      "metadata": {
        "colab": {
          "base_uri": "https://localhost:8080/"
        },
        "outputId": "4f86d927-101a-4e5e-d535-474b4c3dcb8d",
        "id": "WZyG-zegLzTs"
      },
      "execution_count": 43,
      "outputs": [
        {
          "output_type": "stream",
          "name": "stdout",
          "text": [
            "k= 0    Risk =  2.3064544200897217\n",
            "k= 1    Risk =  2.240551471710205\n",
            "k= 2    Risk =  2.182539224624634\n",
            "k= 3    Risk =  2.113914728164673\n",
            "k= 4    Risk =  2.0364043712615967\n",
            "k= 5    Risk =  2.0534887313842773\n",
            "k= 6    Risk =  2.2094221115112305\n",
            "k= 7    Risk =  1.9368476867675781\n",
            "k= 8    Risk =  1.8764021396636963\n",
            "k= 9    Risk =  1.931064486503601\n",
            "k= 10    Risk =  1.9753222465515137\n",
            "k= 11    Risk =  1.828948974609375\n",
            "k= 12    Risk =  1.8851813077926636\n",
            "k= 13    Risk =  1.7568100690841675\n",
            "k= 14    Risk =  1.5358612537384033\n",
            "k= 15    Risk =  1.4650635719299316\n",
            "k= 16    Risk =  1.497066617012024\n",
            "k= 17    Risk =  1.7074240446090698\n",
            "k= 18    Risk =  1.815927267074585\n",
            "k= 19    Risk =  1.6153647899627686\n",
            "k= 20    Risk =  1.595772624015808\n",
            "k= 21    Risk =  1.4518404006958008\n",
            "k= 22    Risk =  1.3687530755996704\n",
            "k= 23    Risk =  1.2887427806854248\n",
            "k= 24    Risk =  1.2281718254089355\n",
            "k= 25    Risk =  1.094480037689209\n",
            "k= 26    Risk =  1.0253591537475586\n",
            "k= 27    Risk =  0.9848793148994446\n",
            "k= 28    Risk =  0.9716300964355469\n",
            "k= 29    Risk =  0.9999597668647766\n",
            "k= 30    Risk =  1.1002646684646606\n",
            "k= 31    Risk =  1.0190517902374268\n",
            "k= 32    Risk =  1.240509271621704\n",
            "k= 33    Risk =  1.027860164642334\n",
            "k= 34    Risk =  1.3347187042236328\n",
            "k= 35    Risk =  1.1784532070159912\n",
            "k= 36    Risk =  1.0697951316833496\n",
            "k= 37    Risk =  0.8696712851524353\n",
            "k= 38    Risk =  0.8805049061775208\n",
            "k= 39    Risk =  0.810947060585022\n",
            "k= 40    Risk =  0.7629519701004028\n",
            "k= 41    Risk =  0.7236342430114746\n",
            "k= 42    Risk =  0.7103416919708252\n",
            "k= 43    Risk =  0.7622420191764832\n",
            "k= 44    Risk =  0.760391354560852\n",
            "k= 45    Risk =  0.8463419675827026\n",
            "k= 46    Risk =  0.709517776966095\n",
            "k= 47    Risk =  0.6757000088691711\n",
            "k= 48    Risk =  0.6366222500801086\n",
            "k= 49    Risk =  0.6254230737686157\n",
            "k= 50    Risk =  0.6202080845832825\n",
            "k= 51    Risk =  0.6227549314498901\n",
            "k= 52    Risk =  0.6165643930435181\n",
            "k= 53    Risk =  0.6106019020080566\n",
            "k= 54    Risk =  0.6473609209060669\n",
            "k= 55    Risk =  0.6263204216957092\n",
            "k= 56    Risk =  0.697342038154602\n",
            "k= 57    Risk =  0.7791614532470703\n",
            "k= 58    Risk =  0.7421161532402039\n",
            "k= 59    Risk =  0.633124828338623\n",
            "k= 60    Risk =  0.5134908556938171\n",
            "k= 61    Risk =  0.4770289361476898\n",
            "k= 62    Risk =  0.465116947889328\n",
            "k= 63    Risk =  0.4783698618412018\n",
            "k= 64    Risk =  0.5063022971153259\n",
            "k= 65    Risk =  0.6035929322242737\n",
            "k= 66    Risk =  0.5900493860244751\n",
            "k= 67    Risk =  0.572054386138916\n",
            "k= 68    Risk =  0.5042426586151123\n",
            "k= 69    Risk =  0.4456039369106293\n",
            "k= 70    Risk =  0.41917240619659424\n",
            "k= 71    Risk =  0.4040173292160034\n",
            "k= 72    Risk =  0.39473581314086914\n",
            "k= 73    Risk =  0.38731443881988525\n",
            "k= 74    Risk =  0.3808820843696594\n",
            "k= 75    Risk =  0.3755430281162262\n",
            "k= 76    Risk =  0.3707433342933655\n",
            "k= 77    Risk =  0.3672310411930084\n",
            "k= 78    Risk =  0.3646353483200073\n",
            "k= 79    Risk =  0.36402198672294617\n",
            "k= 80    Risk =  0.366020143032074\n",
            "k= 81    Risk =  0.37068551778793335\n",
            "k= 82    Risk =  0.38336724042892456\n",
            "k= 83    Risk =  0.39284828305244446\n",
            "k= 84    Risk =  0.4209079146385193\n",
            "k= 85    Risk =  0.4105262756347656\n",
            "k= 86    Risk =  0.4198221266269684\n",
            "k= 87    Risk =  0.3734290301799774\n",
            "k= 88    Risk =  0.3546014130115509\n",
            "k= 89    Risk =  0.32959824800491333\n",
            "k= 90    Risk =  0.31946060061454773\n",
            "k= 91    Risk =  0.31093931198120117\n",
            "k= 92    Risk =  0.30654969811439514\n",
            "k= 93    Risk =  0.3023507595062256\n",
            "k= 94    Risk =  0.29981279373168945\n",
            "k= 95    Risk =  0.29732823371887207\n",
            "k= 96    Risk =  0.2969314455986023\n",
            "k= 97    Risk =  0.29638469219207764\n",
            "k= 98    Risk =  0.30096083879470825\n",
            "k= 99    Risk =  0.3037562072277069\n"
          ]
        }
      ]
    },
    {
      "cell_type": "code",
      "source": [
        "from matplotlib import pyplot as plt\n",
        "plt.plot(train_loss2, label=\"train loss\")\n",
        "plt.plot(test_loss2, label=\"test loss\")\n",
        "plt.xlabel(\"Epochs\")\n",
        "plt.ylabel(\"Loss\")\n",
        "plt.title(\"num hidden layer=5, num neurons=(300,100)\")\n",
        "plt.legend()\n",
        "plt.show()"
      ],
      "metadata": {
        "colab": {
          "base_uri": "https://localhost:8080/",
          "height": 295
        },
        "id": "ayFLcc0kNq2X",
        "outputId": "a54c6327-4b6a-4fdb-f4be-641cdba824f4"
      },
      "execution_count": 44,
      "outputs": [
        {
          "output_type": "display_data",
          "data": {
            "text/plain": [
              "<Figure size 432x288 with 1 Axes>"
            ],
            "image/png": "[encoded data removed]"
          },
          "metadata": {
            "needs_background": "light"
          }
        }
      ]
    },
    {
      "cell_type": "code",
      "source": [
        "\n",
        "pred2 = net2(torch.flatten(x_test, start_dim=1, end_dim=2))\n",
        "pred2 = pred2.detach().numpy()\n",
        "from sklearn.metrics import accuracy_score\n",
        "acc = accuracy_score(y_test,np.argmax(pred2,axis=1))\n",
        "\n",
        "print(\"Final accuracy on test\", acc)"
      ],
      "metadata": {
        "colab": {
          "base_uri": "https://localhost:8080/"
        },
        "id": "ydtRiVtROBWz",
        "outputId": "391ed5ec-c209-48f0-e70a-87d6435874eb"
      },
      "execution_count": 45,
      "outputs": [
        {
          "output_type": "stream",
          "name": "stdout",
          "text": [
            "Final accuracy on test 0.9186\n"
          ]
        }
      ]
    },
    {
      "cell_type": "code",
      "source": [
        "\n",
        "pred2_t = net2(torch.flatten(x, start_dim=1, end_dim=2))\n",
        "pred2_t = pred2_t.detach().numpy()\n",
        "from sklearn.metrics import accuracy_score\n",
        "acc = accuracy_score(y,np.argmax(pred2_t,axis=1))\n",
        "\n",
        "print(\"Final accuracy on train\", acc)"
      ],
      "metadata": {
        "colab": {
          "base_uri": "https://localhost:8080/"
        },
        "id": "pV1eU8_euGTd",
        "outputId": "436844a5-935f-4933-fc5a-1cff4cf65b9b"
      },
      "execution_count": 46,
      "outputs": [
        {
          "output_type": "stream",
          "name": "stdout",
          "text": [
            "Final accuracy on train 0.9203666666666667\n"
          ]
        }
      ]
    },
    {
      "cell_type": "code",
      "source": [],
      "metadata": {
        "id": "d6CZALr6uMNF"
      },
      "execution_count": null,
      "outputs": []
    }
  ]
}
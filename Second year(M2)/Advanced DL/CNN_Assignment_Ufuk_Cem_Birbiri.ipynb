{
  "cells": [
    {
      "cell_type": "markdown",
      "source": [
        "#Student Info\n",
        "\n",
        "name: Ufuk Cem Birbiri\n",
        "\n",
        "M2 Data Science & AI student"
      ],
      "metadata": {
        "id": "PAhMERMaOB0F"
      }
    },
    {
      "cell_type": "markdown",
      "metadata": {
        "id": "8RmxVsqKJjA6"
      },
      "source": [
        "# Computer Vision Assignment\n",
        "In this assignment you will be required to create a CV classifier on the [CIFAR-10](https://www.cs.toronto.edu/~kriz/cifar.html) dataset. To achieve this you will be required to create and compare different classifier. More precisely you will be asked to:\n",
        "\n",
        "*   Create the right data-loading pipeline (e.g., Data augmentation, batch size, loading strategy, etc.)\n",
        "*   Select the proper transfer learning strategy (e.g., fine-tuning, transfer learning, training from scratch) \n",
        "*   Select the right hyperparameters (e.g., learning rate, optimizer)\n",
        "\n",
        "More importantly, you are required to **explain** the choices that you make. To do so, you can also perform different experiments (e.g., comparing two different learning rates or transfer learning strategies) and provide a comment on why one perform better than the other at the end of the notebook. \n",
        "You can re-use the notebook that we have been using in the classroom.\n",
        "\n",
        "You are only provided with:\n",
        "\n",
        "\n",
        "*   The dataset (directly provided by Torchvision)\n",
        "*   The neural architecture: a Resnet18 `network = torchvision.models.resnet18()`\n",
        "\n",
        "\n",
        "\n",
        "\n"
      ]
    },
    {
      "cell_type": "code",
      "execution_count": 1,
      "metadata": {
        "colab": {
          "base_uri": "https://localhost:8080/"
        },
        "id": "QYDlJZHXJjA9",
        "outputId": "8fa39497-9630-439d-fa20-8d1e57ee50b0"
      },
      "outputs": [
        {
          "output_type": "stream",
          "name": "stdout",
          "text": [
            "Device cuda:0\n"
          ]
        }
      ],
      "source": [
        "%matplotlib inline\n",
        "\n",
        "import torch\n",
        "import torch.nn as nn\n",
        "import torch.optim as optim\n",
        "from torch.optim import lr_scheduler\n",
        "import torch.backends.cudnn as cudnn\n",
        "import numpy as np\n",
        "import torchvision\n",
        "from torchvision import datasets, models, transforms\n",
        "import matplotlib.pyplot as plt\n",
        "import time\n",
        "import os\n",
        "import copy\n",
        "import zipfile\n",
        "\n",
        "cudnn.benchmark = True\n",
        "plt.ion()   # interactive mode\n",
        "\n",
        "device = torch.device(\"cuda:0\" if torch.cuda.is_available() else \"cpu\")\n",
        "print(\"Device\", device)"
      ]
    },
    {
      "cell_type": "markdown",
      "metadata": {
        "id": "R78j-ia6JjA-"
      },
      "source": [
        "## Loading Data\n",
        "\n",
        "We will use torchvision and torch.utils.data packages for loading the\n",
        "data.\n",
        "\n",
        "The problem we're going to solve today is to train a model to classify ten different objects: *airplane, automobile, bird, cat, deer, dog, frog, horse, ship, truck*. We have 50000 training images and 10000 validation images.\n",
        "\n",
        "We can directly load the dataset from its torchvision class."
      ]
    },
    {
      "cell_type": "code",
      "execution_count": 2,
      "metadata": {
        "colab": {
          "base_uri": "https://localhost:8080/",
          "height": 188,
          "referenced_widgets": [
            "981217125d1d4d8094d57198d2fc2de8",
            "a56aaa4ad5cd469c8e0f4b41c70f814a",
            "c84eea6da7db4d199f06b2fb014364be",
            "720bfbaa9f8e437cb698747509554179",
            "e156dce69e5f4eddb5260b7effe3f2d8",
            "19e5b397ded3494bba527cd490dd54d5",
            "89ac765be4da47a296dc08bf252a47eb",
            "7e3eb2acc003445f83aa86d6372cb2e4",
            "e00a52771bd041939c4c6e4c37b3d1ac",
            "06ba238f9e1c435a879cf250ec890e16",
            "95d831e2bb8a4070ae7fdc602093ff81",
            "b56b8d7aa1454083aa10620939c70258",
            "0b3fd681a6364afcbc9b876a808278bb",
            "5ef1bb21029d40e7a657e47f2b5f39ee",
            "16065a0f0cf94bc0b03c82ceebf43e55",
            "8544e1e4fc3a42d096940b927fb5a6dc",
            "fed15c7cdcac4ef595598e1f3986e21b",
            "48c0611e7d344dbbbab7739bb0abf983",
            "a52848e6fc7e4e95849abb389ef4c8d5",
            "fd10fc7328bb45bea2856db343f364e4",
            "dca43ddd63e240458c84cc33a502e1cb",
            "c4cedb7072984bdcb97dac31e01de8a5"
          ]
        },
        "id": "PhztJbZiJjA_",
        "outputId": "aed92d7b-9453-4521-d1a2-b9bfb49dc8cd"
      },
      "outputs": [
        {
          "output_type": "stream",
          "name": "stdout",
          "text": [
            "Downloading https://www.cs.toronto.edu/~kriz/cifar-10-python.tar.gz to cifar10_train/cifar-10-python.tar.gz\n"
          ]
        },
        {
          "output_type": "display_data",
          "data": {
            "text/plain": [
              "  0%|          | 0/170498071 [00:00<?, ?it/s]"
            ],
            "application/vnd.jupyter.widget-view+json": {
              "version_major": 2,
              "version_minor": 0,
              "model_id": "981217125d1d4d8094d57198d2fc2de8"
            }
          },
          "metadata": {}
        },
        {
          "output_type": "stream",
          "name": "stdout",
          "text": [
            "Extracting cifar10_train/cifar-10-python.tar.gz to cifar10_train\n",
            "Downloading https://www.cs.toronto.edu/~kriz/cifar-10-python.tar.gz to cifar10_val/cifar-10-python.tar.gz\n"
          ]
        },
        {
          "output_type": "display_data",
          "data": {
            "text/plain": [
              "  0%|          | 0/170498071 [00:00<?, ?it/s]"
            ],
            "application/vnd.jupyter.widget-view+json": {
              "version_major": 2,
              "version_minor": 0,
              "model_id": "b56b8d7aa1454083aa10620939c70258"
            }
          },
          "metadata": {}
        },
        {
          "output_type": "stream",
          "name": "stdout",
          "text": [
            "Extracting cifar10_val/cifar-10-python.tar.gz to cifar10_val\n",
            "Dataset sizes: 50000 10000\n",
            "Class names: ['airplane', 'automobile', 'bird', 'cat', 'deer', 'dog', 'frog', 'horse', 'ship', 'truck']\n"
          ]
        }
      ],
      "source": [
        "train_dir = 'cifar10_train'\n",
        "val_dir = \"cifar10_val\"\n",
        "\n",
        "# Data augmentation and normalization for training\n",
        "train_transforms = transforms.Compose([\n",
        "     ## FILL IT YOURSELF!\n",
        "     transforms.RandomResizedCrop(224, [0.75, 1.0]),\n",
        "     transforms.RandomHorizontalFlip(),\n",
        "     transforms.ToTensor(),\n",
        "     transforms.Normalize([0.485, 0.456, 0.406], [0.229, 0.224, 0.225])\n",
        "  ])\n",
        "# Just normalization for validation\n",
        "val_transforms = transforms.Compose([\n",
        "     ## FILL IT YOURSELF!\n",
        "     transforms.Resize(256),\n",
        "      transforms.CenterCrop(224),\n",
        "      transforms.ToTensor(),\n",
        "      transforms.Normalize([0.485, 0.456, 0.406], [0.229, 0.224, 0.225])\n",
        "  ])\n",
        "\n",
        "train_dataset = torchvision.datasets.CIFAR10(root=train_dir, train=True, \n",
        "                                             transform=train_transforms, download=True)\n",
        "val_dataset = torchvision.datasets.CIFAR10(root=val_dir,train=False, \n",
        "                                           transform=val_transforms, download=True)\n",
        "                                             \n",
        "train_size = len(train_dataset)\n",
        "val_size = len(val_dataset)\n",
        "print(\"Dataset sizes:\", train_size, val_size )\n",
        "class_names = train_dataset.classes\n",
        "print(\"Class names:\", class_names)\n"
      ]
    },
    {
      "cell_type": "markdown",
      "metadata": {
        "id": "em7E7Lmj4Kf0"
      },
      "source": [
        "Now we have to create the dataloader, as we in the previous lab for the logistic regression. Notice however that we are using one more parameter:\n",
        "\n",
        "*   ``num_workers`` is used to *parallelize* the loading from disk. \n",
        "\n",
        "Indeed, image datasets are too big normally to fit in memory and images are loaded from disk at every batch. In this case we do that using 4 threads to load the 16 images in parallel (4 per thread). \n"
      ]
    },
    {
      "cell_type": "code",
      "execution_count": 3,
      "metadata": {
        "id": "3X7_Erbc4Ls4",
        "colab": {
          "base_uri": "https://localhost:8080/"
        },
        "outputId": "d008c1a9-cdfb-49ee-ac2e-4e68b836a4f5"
      },
      "outputs": [
        {
          "output_type": "stream",
          "name": "stderr",
          "text": [
            "/usr/local/lib/python3.8/dist-packages/torch/utils/data/dataloader.py:554: UserWarning: This DataLoader will create 4 worker processes in total. Our suggested max number of worker in current system is 2, which is smaller than what this DataLoader is going to create. Please be aware that excessive worker creation might get DataLoader running slow or even freeze, lower the worker number to avoid potential slowness/freeze if necessary.\n",
            "  warnings.warn(_create_warning_msg(\n"
          ]
        }
      ],
      "source": [
        "batch_size = 256\n",
        "train_dl = torch.utils.data.DataLoader(train_dataset, shuffle=True, \n",
        "                                       batch_size=batch_size, num_workers=4)\n",
        "val_dl = torch.utils.data.DataLoader(val_dataset, \n",
        "                                     batch_size=batch_size*2, num_workers=4)\n",
        "\n",
        "device = torch.device(\"cuda:0\" if torch.cuda.is_available() else \"cpu\")"
      ]
    },
    {
      "cell_type": "markdown",
      "metadata": {
        "id": "6JsrhDrRJjBA"
      },
      "source": [
        "### Visualize a few images\n",
        "Let's visualize a few training images so as to understand the data\n",
        "augmentations.\n",
        "\n"
      ]
    },
    {
      "cell_type": "code",
      "execution_count": 4,
      "metadata": {
        "colab": {
          "base_uri": "https://localhost:8080/",
          "height": 0
        },
        "id": "alNvU32AJjBA",
        "outputId": "dd2af159-6b95-48ae-f520-ffb2ed83b9f7"
      },
      "outputs": [
        {
          "output_type": "display_data",
          "data": {
            "text/plain": [
              "<Figure size 432x288 with 1 Axes>"
            ],
            "image/png": "[encoded data removed]"
          },
          "metadata": {
            "needs_background": "light"
          }
        },
        {
          "output_type": "display_data",
          "data": {
            "text/plain": [
              "<Figure size 432x288 with 1 Axes>"
            ],
            "image/png": "[encoded data removed]"
          },
          "metadata": {
            "needs_background": "light"
          }
        }
      ],
      "source": [
        "def imshow(inp, title=None):\n",
        "    \"\"\"Imshow for Tensor.\"\"\"\n",
        "    inp = inp.numpy().transpose((1, 2, 0))  # reconvert to numpy tensor\n",
        "    mean = np.array([0.485, 0.456, 0.406])\n",
        "    std = np.array([0.229, 0.224, 0.225])\n",
        "    inp = std * inp + mean                  # take out normalization\n",
        "    inp = np.clip(inp, 0, 1)\n",
        "    plt.imshow(inp)\n",
        "    if title is not None:\n",
        "        plt.title(title)\n",
        "    plt.pause(0.001)                   # pause a bit so that plots are updated\n",
        "\n",
        "\n",
        "# Get a batch of training data\n",
        "x, classes = next(iter(train_dl))\n",
        "\n",
        "# Make a grid from batch\n",
        "out = torchvision.utils.make_grid(x[:4]) # we only plot the first 4 images\n",
        "imshow(out, title=[class_names[c] for c in classes[:4]])\n",
        "\n",
        "# Redo for valid data\n",
        "x, classes = next(iter(val_dl))\n",
        "out = torchvision.utils.make_grid(x[:4]) # we only plot the first 4 images\n",
        "imshow(out, title=[class_names[c] for c in classes[:4]])"
      ]
    },
    {
      "cell_type": "markdown",
      "metadata": {
        "id": "Egi5EG3_gGFw"
      },
      "source": [
        "#0. Functions for train and validation data"
      ]
    },
    {
      "cell_type": "markdown",
      "metadata": {
        "id": "14TIH2-JgzYG"
      },
      "source": [
        "These functions are adapted from the Notebook that we used in the class. However I added a parameter to the train_model function called 'print_flag'. If we want to print the train accuracy, validation accuracy and the loss in each epoch we set the print_flag as 1. Since I will do a lot of experiments, I don't wanna print every epoch in each experiment.\n"
      ]
    },
    {
      "cell_type": "code",
      "execution_count": 4,
      "metadata": {
        "id": "Jv_KSqPMJjBD"
      },
      "outputs": [],
      "source": [
        "# Function to iterate over data while training\n",
        "def train_one_epoch(model, train_dl, loss, optim, device):        \n",
        "    model.train()  # Set model to training mode\n",
        "    cur_loss, cur_acc = 0.0, 0.0\n",
        "    for x, y in train_dl:\n",
        "        x, y = x.to(device), y.to(device)\n",
        "        # zero the parameter gradients\n",
        "        optim.zero_grad()\n",
        "        # forward\n",
        "        outputs = model(x)\n",
        "        preds = torch.argmax(outputs, 1)\n",
        "        l = loss(outputs, y)\n",
        "        # backward + optimize \n",
        "        l.backward()\n",
        "        optim.step()\n",
        "        # statistics\n",
        "        cur_loss += l.item() * x.size(0)\n",
        "        cur_acc += torch.sum(preds == y.data)\n",
        "\n",
        "    epoch_loss = cur_loss / len(train_dl.dataset)\n",
        "    epoch_acc = cur_acc.double() / len(train_dl.dataset)\n",
        "    return epoch_loss, epoch_acc\n",
        "    \n",
        "# Function to iterate over data while evaluating\n",
        "def eval_one_epoch(model, val_dl, loss, device):        \n",
        "    model.eval()  # Set model to training mode\n",
        "    cur_loss, cur_acc = 0.0, 0.0\n",
        "    with torch.no_grad():\n",
        "        for x, y in val_dl:\n",
        "            x, y = x.to(device), y.to(device)\n",
        "            \n",
        "            # forward\n",
        "            outputs = model(x)\n",
        "            preds = torch.argmax(outputs, 1)\n",
        "            l = loss(outputs, y)\n",
        "\n",
        "            # statistics\n",
        "            cur_loss += l.item() * x.size(0)\n",
        "            cur_acc += torch.sum(preds == y.data)\n",
        "\n",
        "    epoch_loss = cur_loss / len(val_dl.dataset)\n",
        "    epoch_acc = cur_acc.double() / len(val_dl.dataset)\n",
        "    return epoch_loss, epoch_acc\n",
        "\n",
        "def train_model(model, train_dl, val_dl, loss, optim, num_epochs=25, print_flag=0):\n",
        "    model.to(device)\n",
        "    since = time.time()\n",
        "    best_model_wts = copy.deepcopy(model.state_dict())\n",
        "    best_acc = 0.0\n",
        "\n",
        "    for epoch in range(num_epochs):\n",
        "        if print_flag==1:\n",
        "          print(f'Epoch {epoch}/{num_epochs - 1}')\n",
        "          print('-' * 10)\n",
        "\n",
        "        \n",
        "        train_loss, train_acc = train_one_epoch(model, train_dl, loss, optim, device)\n",
        "        if print_flag==1:\n",
        "          print(f'Train Loss: {train_loss:.4f} Acc: {train_acc:.4f}')\n",
        "\n",
        "        val_loss, val_acc = eval_one_epoch(model, val_dl, loss, device)\n",
        "        if print_flag==1:\n",
        "          print(f'Val Loss: {val_loss:.4f} Acc: {val_acc:.4f}\\n')\n",
        "\n",
        "        # save the best model\n",
        "        if val_acc > best_acc:\n",
        "            best_acc = val_acc\n",
        "            torch.save(model.state_dict(), \"temp_model.pt\")\n",
        "\n",
        "    time_elapsed = time.time() - since\n",
        "    print(f'Training complete in {time_elapsed // 60:.0f}m {time_elapsed % 60:.0f}s')\n",
        "    print(f'Best val Acc: {best_acc:4f}')\n",
        "\n",
        "    # load best model weights\n",
        "    model.load_state_dict(torch.load(\"temp_model.pt\"))\n",
        "    return model"
      ]
    },
    {
      "cell_type": "markdown",
      "metadata": {
        "id": "IA-wQc89JjBE"
      },
      "source": [
        "### Visualizing the model predictions\n",
        "\n",
        "Generic function to display model  predictions for a few images.\n",
        "\n",
        "\n"
      ]
    },
    {
      "cell_type": "code",
      "execution_count": 5,
      "metadata": {
        "id": "KAwS1YwQJjBE"
      },
      "outputs": [],
      "source": [
        "def visualize_model(model, num_images=6):\n",
        "    was_training = model.training\n",
        "    model.eval()\n",
        "    images_so_far = 0\n",
        "    fig = plt.figure()\n",
        "\n",
        "    with torch.no_grad():\n",
        "        for i, (x, y) in enumerate(val_dl):\n",
        "            x = x.to(device)\n",
        "            y = y.to(device)\n",
        "\n",
        "            outputs = model(x)\n",
        "            _, preds = torch.max(outputs, 1)\n",
        "\n",
        "            for j in range(x.size()[0]):\n",
        "                images_so_far += 1\n",
        "                ax = plt.subplot(num_images//2, 2, images_so_far)\n",
        "                ax.axis('off')\n",
        "                ax.set_title(f'predicted: {class_names[preds[j]]}')\n",
        "                imshow(x.cpu().data[j])\n",
        "\n",
        "                if images_so_far == num_images:\n",
        "                    model.train(mode=was_training)\n",
        "                    return\n",
        "        model.train(mode=was_training)"
      ]
    },
    {
      "cell_type": "markdown",
      "metadata": {
        "id": "QJvooDUHkwf3"
      },
      "source": [
        "## Using torch.data.Subset(dataset, indexes) to use a smaller version of the dataset\n",
        "\n"
      ]
    },
    {
      "cell_type": "markdown",
      "metadata": {
        "id": "7ukD7bWinxTF"
      },
      "source": [
        "I will only use the first 500 images in the train and val datasets to ensure  my code is working. Then I will use the whole dataset to interpret the results."
      ]
    },
    {
      "cell_type": "code",
      "execution_count": 6,
      "metadata": {
        "id": "js8dF2cSllMI"
      },
      "outputs": [],
      "source": [
        "#Take the indexes of first 500 images\n",
        "subset_indexes=[i for i in range(500)]\n",
        "#Use torch.utils.data.Subset\n",
        "train_subset = torch.utils.data.Subset(train_dataset, subset_indexes)\n",
        "val_subset = torch.utils.data.Subset(val_dataset, subset_indexes)\n",
        "\n",
        "batch_size = 256\n",
        "train_dl_subset = torch.utils.data.DataLoader(train_subset, shuffle=True, \n",
        "                                       batch_size=batch_size, num_workers=4)\n",
        "val_dl_subset = torch.utils.data.DataLoader(val_subset, \n",
        "                                     batch_size=batch_size*2, num_workers=4)"
      ]
    },
    {
      "cell_type": "markdown",
      "metadata": {
        "id": "3c7WhbLDWwAJ"
      },
      "source": [
        "#1. Select and compare different transfer - learning strategy\n",
        "You need to compare the 3 learning strategy and comment the results obtained:\n",
        "\n",
        "\n",
        "*   Transfer Learning (remember to directly extract the features!)\n",
        "*   Fine tuning \n",
        "*   Training from scratch\n",
        "\n",
        "\n",
        "Start simple! Traning from scratch may be very expensive with this dataset since we have 50000 images. \n",
        "\n",
        "Also, to ensure that your code is working, you can use `torch.data.Subset(dataset, indexes)` to use a smaller version of the dataset\n"
      ]
    },
    {
      "cell_type": "markdown",
      "metadata": {
        "id": "-IYK2gtUY8Jy"
      },
      "source": [
        "##1.1 Transfer Learning "
      ]
    },
    {
      "cell_type": "markdown",
      "metadata": {
        "id": "b7q1gs2QnbdZ"
      },
      "source": [
        "Before starting investigation of different learning techniques, I need to mention that hyper-parameters are fixed in each model:\n",
        "\n",
        "*   learning rate = 1e-3\n",
        "*   number of epochs = 20\n",
        "*   loss = nn.CrossEntropyLoss()\n",
        "*   optimizer = optim.AdamW()\n",
        "*   batch size = 256\n",
        "\n",
        "In the last part of the assignment, I will search for the best hyper-parameters for the best model.\n"
      ]
    },
    {
      "cell_type": "markdown",
      "metadata": {
        "id": "xcpveZRLZfnG"
      },
      "source": [
        "In transfer learning, we have two options:\n",
        "\n",
        "\n",
        "   \n",
        "\n",
        "\n",
        "\n",
        "*   **A.** Pass to the optimizer only the weights of last layer, freeze all the other layers except the final layer and do not compute the gradients(except the last layer)\n",
        "*   **B.** Create a new dataset by extract image futures from the data. Then build a network with only one Linear layer and train that layer. This option is faster since we train\n",
        " only one layer in the network.\n",
        "\n",
        "\n"
      ]
    },
    {
      "cell_type": "markdown",
      "metadata": {
        "id": "wEazuOxHzNhR"
      },
      "source": [
        "###1.1.A "
      ]
    },
    {
      "cell_type": "markdown",
      "metadata": {
        "id": "B4BDyzELzRNr"
      },
      "source": [
        "\n",
        "\n",
        "*   In this case we will freeze the gradients of all the layers(except the last Linear layer), so that the gradients will not be computed, so that there will be no 'learning' in these layers. We do the freezing by setting the ``requires_grad = False``. Also, we will pass only the last linear layer's weights to our optimizer, that means the 'learning' will happen only in the last linear layer.\n",
        "*   The data will flow forward and backward into the all layers in each epoch. However, gradient calculation will happen only in the last layer ------> this will make things faster.\n",
        "\n"
      ]
    },
    {
      "cell_type": "code",
      "execution_count": 8,
      "metadata": {
        "colab": {
          "base_uri": "https://localhost:8080/"
        },
        "id": "YJVIdgU8F2X7",
        "outputId": "b90d889b-06f0-48a7-a5ac-a137e7699dd3"
      },
      "outputs": [
        {
          "output_type": "execute_result",
          "data": {
            "text/plain": [
              "[name: \"/device:CPU:0\"\n",
              " device_type: \"CPU\"\n",
              " memory_limit: 268435456\n",
              " locality {\n",
              " }\n",
              " incarnation: 13645787032052580045\n",
              " xla_global_id: -1, name: \"/device:GPU:0\"\n",
              " device_type: \"GPU\"\n",
              " memory_limit: 13926924288\n",
              " locality {\n",
              "   bus_id: 1\n",
              "   links {\n",
              "   }\n",
              " }\n",
              " incarnation: 8132539403787460853\n",
              " physical_device_desc: \"device: 0, name: Tesla T4, pci bus id: 0000:00:04.0, compute capability: 7.5\"\n",
              " xla_global_id: 416903419]"
            ]
          },
          "metadata": {},
          "execution_count": 8
        }
      ],
      "source": [
        "from tensorflow.python.client import device_lib\n",
        "device_lib.list_local_devices()"
      ]
    },
    {
      "cell_type": "code",
      "execution_count": 9,
      "metadata": {
        "id": "2Bwt3_z2JjBG",
        "colab": {
          "base_uri": "https://localhost:8080/",
          "height": 1000,
          "referenced_widgets": [
            "62d99e713ee84f02a866dfa5719e3b06",
            "413262c2949d49208b908ec52b224a9c",
            "6b2a14d1e9d047ab8db419551c597633",
            "bc198f4de650412d9ed6825d6eec24db",
            "64cfc83d0c4a43b7b6d0aee89e1bfcb7",
            "faf1815f5b7d4d84921a4c6a1255ab3d",
            "ccdc514a8e3b4dc2ba7eb4662e63ae07",
            "786615623265452981fef0b7b17f2b33",
            "74971c5797214c84b3c737ba7994df9f",
            "cff987d842074c5aab4eb03637f6c16d",
            "cc9738532b3140199a5bc3f2846f1449"
          ]
        },
        "outputId": "763c7a7d-c7cc-4be0-acd4-b5b27c270add"
      },
      "outputs": [
        {
          "output_type": "stream",
          "name": "stderr",
          "text": [
            "/usr/local/lib/python3.8/dist-packages/torchvision/models/_utils.py:223: UserWarning: Arguments other than a weight enum or `None` for 'weights' are deprecated since 0.13 and may be removed in the future. The current behavior is equivalent to passing `weights=ResNet18_Weights.IMAGENET1K_V1`. You can also use `weights=ResNet18_Weights.DEFAULT` to get the most up-to-date weights.\n",
            "  warnings.warn(msg)\n",
            "Downloading: \"https://download.pytorch.org/models/resnet18-f37072fd.pth\" to /root/.cache/torch/hub/checkpoints/resnet18-f37072fd.pth\n"
          ]
        },
        {
          "output_type": "display_data",
          "data": {
            "text/plain": [
              "  0%|          | 0.00/44.7M [00:00<?, ?B/s]"
            ],
            "application/vnd.jupyter.widget-view+json": {
              "version_major": 2,
              "version_minor": 0,
              "model_id": "62d99e713ee84f02a866dfa5719e3b06"
            }
          },
          "metadata": {}
        },
        {
          "output_type": "stream",
          "name": "stdout",
          "text": [
            "Epoch 0/19\n",
            "----------\n"
          ]
        },
        {
          "output_type": "stream",
          "name": "stderr",
          "text": [
            "/usr/local/lib/python3.8/dist-packages/torch/utils/data/dataloader.py:554: UserWarning: This DataLoader will create 4 worker processes in total. Our suggested max number of worker in current system is 2, which is smaller than what this DataLoader is going to create. Please be aware that excessive worker creation might get DataLoader running slow or even freeze, lower the worker number to avoid potential slowness/freeze if necessary.\n",
            "  warnings.warn(_create_warning_msg(\n"
          ]
        },
        {
          "output_type": "stream",
          "name": "stdout",
          "text": [
            "Train Loss: 1.0935 Acc: 0.6583\n",
            "Val Loss: 0.7956 Acc: 0.7403\n",
            "\n",
            "Epoch 1/19\n",
            "----------\n",
            "Train Loss: 0.7528 Acc: 0.7484\n",
            "Val Loss: 0.7188 Acc: 0.7593\n",
            "\n",
            "Epoch 2/19\n",
            "----------\n",
            "Train Loss: 0.7061 Acc: 0.7598\n",
            "Val Loss: 0.6877 Acc: 0.7663\n",
            "\n",
            "Epoch 3/19\n",
            "----------\n",
            "Train Loss: 0.6773 Acc: 0.7665\n",
            "Val Loss: 0.6664 Acc: 0.7729\n",
            "\n",
            "Epoch 4/19\n",
            "----------\n",
            "Train Loss: 0.6608 Acc: 0.7725\n",
            "Val Loss: 0.6724 Acc: 0.7696\n",
            "\n",
            "Epoch 5/19\n",
            "----------\n",
            "Train Loss: 0.6545 Acc: 0.7740\n",
            "Val Loss: 0.6523 Acc: 0.7770\n",
            "\n",
            "Epoch 6/19\n",
            "----------\n",
            "Train Loss: 0.6464 Acc: 0.7760\n",
            "Val Loss: 0.6501 Acc: 0.7786\n",
            "\n",
            "Epoch 7/19\n",
            "----------\n",
            "Train Loss: 0.6365 Acc: 0.7795\n",
            "Val Loss: 0.6458 Acc: 0.7770\n",
            "\n",
            "Epoch 8/19\n",
            "----------\n",
            "Train Loss: 0.6381 Acc: 0.7777\n",
            "Val Loss: 0.6473 Acc: 0.7793\n",
            "\n",
            "Epoch 9/19\n",
            "----------\n",
            "Train Loss: 0.6298 Acc: 0.7803\n",
            "Val Loss: 0.6338 Acc: 0.7827\n",
            "\n",
            "Epoch 10/19\n",
            "----------\n",
            "Train Loss: 0.6307 Acc: 0.7807\n",
            "Val Loss: 0.6366 Acc: 0.7813\n",
            "\n",
            "Epoch 11/19\n",
            "----------\n",
            "Train Loss: 0.6296 Acc: 0.7801\n",
            "Val Loss: 0.6292 Acc: 0.7831\n",
            "\n",
            "Epoch 12/19\n",
            "----------\n",
            "Train Loss: 0.6219 Acc: 0.7862\n",
            "Val Loss: 0.6402 Acc: 0.7821\n",
            "\n",
            "Epoch 13/19\n",
            "----------\n",
            "Train Loss: 0.6229 Acc: 0.7816\n",
            "Val Loss: 0.6317 Acc: 0.7815\n",
            "\n",
            "Epoch 14/19\n",
            "----------\n",
            "Train Loss: 0.6210 Acc: 0.7833\n",
            "Val Loss: 0.6305 Acc: 0.7845\n",
            "\n",
            "Epoch 15/19\n",
            "----------\n",
            "Train Loss: 0.6227 Acc: 0.7837\n",
            "Val Loss: 0.6357 Acc: 0.7817\n",
            "\n",
            "Epoch 16/19\n",
            "----------\n",
            "Train Loss: 0.6146 Acc: 0.7850\n",
            "Val Loss: 0.6411 Acc: 0.7793\n",
            "\n",
            "Epoch 17/19\n",
            "----------\n",
            "Train Loss: 0.6173 Acc: 0.7849\n",
            "Val Loss: 0.6349 Acc: 0.7838\n",
            "\n",
            "Epoch 18/19\n",
            "----------\n",
            "Train Loss: 0.6138 Acc: 0.7858\n",
            "Val Loss: 0.6234 Acc: 0.7841\n",
            "\n",
            "Epoch 19/19\n",
            "----------\n",
            "Train Loss: 0.6122 Acc: 0.7880\n",
            "Val Loss: 0.6214 Acc: 0.7859\n",
            "\n",
            "Training complete in 43m 29s\n",
            "Best val Acc: 0.785900\n"
          ]
        }
      ],
      "source": [
        "from torchvision.models import ResNet18_Weights\n",
        "\n",
        "#define the model\n",
        "model_Feature_Extraction_A = models.resnet18(weights=ResNet18_Weights)\n",
        "\n",
        "#Freeze the layers:\n",
        "for param in model_Feature_Extraction_A.parameters():\n",
        "    param.requires_grad = False\n",
        "\n",
        "# Parameters of newly constructed modules have requires_grad=True by default\n",
        "num_ftrs = model_Feature_Extraction_A.fc.in_features\n",
        "#Define the last Linear layer:\n",
        "model_Feature_Extraction_A.fc = nn.Linear(num_ftrs, 10)\n",
        "\n",
        "model_feature_extraction_A = model_Feature_Extraction_A.to(device)\n",
        "\n",
        "# Only parameters of final layer are being optimized as opposed to before\n",
        "optimizer_fe = optim.AdamW(model_Feature_Extraction_A.fc.parameters(), lr=1e-3)\n",
        "loss = nn.CrossEntropyLoss()\n",
        "# Train and evaluate\n",
        "model_Feature_Extraction_A = train_model(model_Feature_Extraction_A, train_dl, val_dl, loss, optimizer_fe,\n",
        "                         num_epochs=20, print_flag=1)"
      ]
    },
    {
      "cell_type": "markdown",
      "metadata": {
        "id": "vhuqGLk_aCZY"
      },
      "source": [
        "We got the best validation accuracy as 0.785"
      ]
    },
    {
      "cell_type": "markdown",
      "metadata": {
        "id": "3wfETAuk2yxV"
      },
      "source": [
        "###1.1.B"
      ]
    },
    {
      "cell_type": "markdown",
      "metadata": {
        "id": "NIVwGMNm2yxW"
      },
      "source": [
        "In this option we use the Resnet18 network as a feature extractor of our dataset. We do the following steps:\n",
        "\n",
        "\n",
        "1.   Define a Resnet18 model with pretrained Resnet18 weights\n",
        "2.   Remove the last fully-connected layer of the model and put an ``torch.nn.Identity()``. This layer will just return the input without any manipulation.\n",
        "3.   Forward the train data from the netwrok just once. At the end of this step we will have the image features created by this network and actually we have created a new dataset! (We didn't use the data augmentation this time\n",
        "4.  Load the new dataset to a DataLoader\n",
        "5.  Do the steps 3 and 4 for the validation data too\n",
        "6.  Build a network with only one layer that is a Linear layer.\n",
        "7.  Give this network's parameters to the optimizer so that only this layer will be in the learning process.\n",
        "8.  Train the model\n",
        "\n",
        "\n"
      ]
    },
    {
      "cell_type": "code",
      "execution_count": 11,
      "metadata": {
        "id": "uwl7cAH29Z-0"
      },
      "outputs": [],
      "source": [
        "from torch.utils.data.dataloader import DataLoader\n",
        "from torch.utils.data import TensorDataset\n",
        "from torchvision.models import ResNet18_Weights\n",
        "\n",
        "#Define the feature extracted network:\n",
        "model_Feature_Extraction_B = models.resnet18(weights=ResNet18_Weights)\n",
        "num_ftrs = model_Feature_Extraction_B.fc.in_features\n",
        "#Put the identity layer at the end of the network and remove the Linear layer:\n",
        "model_Feature_Extraction_B.fc = torch.nn.Identity()\n",
        "\n",
        "#Extract features and create a new dataset:\n",
        "def extract_features(model, train_dl, device):\n",
        "    model.to(device)\n",
        "    x_extr, y_extr = [], []\n",
        "    with torch.no_grad():\n",
        "        for x, y in train_dl:\n",
        "            x, y = x.to(device), y.to(device)\n",
        "            preds = model_Feature_Extraction_B(x)\n",
        "            #print(preds.size())\n",
        "            x_extr.append(preds)\n",
        "            y_extr.append(y)\n",
        "        x_extr = torch.cat(x_extr, dim=0)\n",
        "        y_extr = torch.cat(y_extr, dim=0)\n",
        "        dataset_extr = TensorDataset(x_extr, y_extr)  \n",
        "    return dataset_extr\n",
        "\n",
        "# Extract the training dataset\n",
        "trainset_extr = extract_features(model_Feature_Extraction_B, train_dl, device)\n",
        "#Put the new training dataset into a DataLoader\n",
        "train_dl_extr = DataLoader(trainset_extr, batch_size=256, shuffle=True)\n",
        "\n",
        "# Extract the validation dataset\n",
        "valset_extr = extract_features(model_Feature_Extraction_B, val_dl, device)\n",
        "#Put the new validation dataset into a DataLoader\n",
        "val_dl_extr = DataLoader(trainset_extr, batch_size=256)"
      ]
    },
    {
      "cell_type": "code",
      "execution_count": 12,
      "metadata": {
        "id": "8BcKsyaMB03o",
        "colab": {
          "base_uri": "https://localhost:8080/"
        },
        "outputId": "c06b506a-0050-4eb9-ca7a-d668cf2e2dd4"
      },
      "outputs": [
        {
          "output_type": "stream",
          "name": "stdout",
          "text": [
            "Epoch 0/19\n",
            "----------\n",
            "Train Loss: 1.1191 Acc: 0.6488\n",
            "Val Loss: 0.7969 Acc: 0.7416\n",
            "\n",
            "Epoch 1/19\n",
            "----------\n",
            "Train Loss: 0.7473 Acc: 0.7523\n",
            "Val Loss: 0.7136 Acc: 0.7592\n",
            "\n",
            "Epoch 2/19\n",
            "----------\n",
            "Train Loss: 0.6905 Acc: 0.7678\n",
            "Val Loss: 0.6694 Acc: 0.7729\n",
            "\n",
            "Epoch 3/19\n",
            "----------\n",
            "Train Loss: 0.6653 Acc: 0.7725\n",
            "Val Loss: 0.6450 Acc: 0.7812\n",
            "\n",
            "Epoch 4/19\n",
            "----------\n",
            "Train Loss: 0.6495 Acc: 0.7772\n",
            "Val Loss: 0.6383 Acc: 0.7816\n",
            "\n",
            "Epoch 5/19\n",
            "----------\n",
            "Train Loss: 0.6399 Acc: 0.7807\n",
            "Val Loss: 0.6295 Acc: 0.7842\n",
            "\n",
            "Epoch 6/19\n",
            "----------\n",
            "Train Loss: 0.6295 Acc: 0.7842\n",
            "Val Loss: 0.6280 Acc: 0.7823\n",
            "\n",
            "Epoch 7/19\n",
            "----------\n",
            "Train Loss: 0.6243 Acc: 0.7854\n",
            "Val Loss: 0.6105 Acc: 0.7899\n",
            "\n",
            "Epoch 8/19\n",
            "----------\n",
            "Train Loss: 0.6182 Acc: 0.7870\n",
            "Val Loss: 0.6076 Acc: 0.7896\n",
            "\n",
            "Epoch 9/19\n",
            "----------\n",
            "Train Loss: 0.6164 Acc: 0.7874\n",
            "Val Loss: 0.6019 Acc: 0.7925\n",
            "\n",
            "Epoch 10/19\n",
            "----------\n",
            "Train Loss: 0.6099 Acc: 0.7886\n",
            "Val Loss: 0.6069 Acc: 0.7895\n",
            "\n",
            "Epoch 11/19\n",
            "----------\n",
            "Train Loss: 0.6077 Acc: 0.7898\n",
            "Val Loss: 0.5941 Acc: 0.7959\n",
            "\n",
            "Epoch 12/19\n",
            "----------\n",
            "Train Loss: 0.6036 Acc: 0.7917\n",
            "Val Loss: 0.5960 Acc: 0.7951\n",
            "\n",
            "Epoch 13/19\n",
            "----------\n",
            "Train Loss: 0.6008 Acc: 0.7922\n",
            "Val Loss: 0.6018 Acc: 0.7912\n",
            "\n",
            "Epoch 14/19\n",
            "----------\n",
            "Train Loss: 0.5992 Acc: 0.7929\n",
            "Val Loss: 0.5859 Acc: 0.7970\n",
            "\n",
            "Epoch 15/19\n",
            "----------\n",
            "Train Loss: 0.5978 Acc: 0.7936\n",
            "Val Loss: 0.5874 Acc: 0.7975\n",
            "\n",
            "Epoch 16/19\n",
            "----------\n",
            "Train Loss: 0.5951 Acc: 0.7957\n",
            "Val Loss: 0.5952 Acc: 0.7928\n",
            "\n",
            "Epoch 17/19\n",
            "----------\n",
            "Train Loss: 0.5918 Acc: 0.7953\n",
            "Val Loss: 0.5899 Acc: 0.7967\n",
            "\n",
            "Epoch 18/19\n",
            "----------\n",
            "Train Loss: 0.5929 Acc: 0.7956\n",
            "Val Loss: 0.5861 Acc: 0.7971\n",
            "\n",
            "Epoch 19/19\n",
            "----------\n",
            "Train Loss: 0.5907 Acc: 0.7955\n",
            "Val Loss: 0.5894 Acc: 0.7972\n",
            "\n",
            "Training complete in 0m 15s\n",
            "Best val Acc: 0.797540\n"
          ]
        },
        {
          "output_type": "execute_result",
          "data": {
            "text/plain": [
              "Linear(in_features=512, out_features=10, bias=True)"
            ]
          },
          "metadata": {},
          "execution_count": 12
        }
      ],
      "source": [
        "model_fe2 = nn.Linear(num_ftrs, 10)\n",
        "optimizer_fe2 = optim.AdamW(model_fe2.parameters(),lr=1e-3)\n",
        "loss = nn.CrossEntropyLoss()\n",
        "\n",
        "\n",
        "train_model(model_fe2, train_dl_extr, val_dl_extr, loss, optimizer_fe2, num_epochs=20, print_flag=1)"
      ]
    },
    {
      "cell_type": "markdown",
      "metadata": {
        "id": "jdy3wfusbxyX"
      },
      "source": [
        "We got the best validation accuracy as 0.797"
      ]
    },
    {
      "cell_type": "markdown",
      "metadata": {
        "id": "7aYLCi10b34x"
      },
      "source": [
        "##1.2 Fine Tuning"
      ]
    },
    {
      "cell_type": "markdown",
      "metadata": {
        "id": "7JEY9QH0cJoN"
      },
      "source": [
        "In fine tuning a CNN, we don't initialize the networks weights to random or a specific values, instead we use weights of a pretrained network. Since in this homework we are using Resnet18, we will use its weights(``weights=torchvision.models.ResNet18_Weights``). We will apply the following steps:\n",
        "\n",
        "1.   Define the Resnet18 model from torch vision library\n",
        "2.   Assign the pretrained Resnet18 weights to our model\n",
        "3.   Define a new Linear layer ``nn.Linear()`` for the last layer of our network: We are doing this because we need to adapt the Resnet18 model to our dataset. We have 10 classes to predict, so the last Linear layer output should be 10.\n",
        "\n",
        "Let's build our network:\n",
        "\n",
        "\n"
      ]
    },
    {
      "cell_type": "code",
      "execution_count": 13,
      "metadata": {
        "id": "oxc51rMNspV5",
        "colab": {
          "base_uri": "https://localhost:8080/"
        },
        "outputId": "41843c93-9221-4037-bdcb-dde42a056e81"
      },
      "outputs": [
        {
          "output_type": "stream",
          "name": "stdout",
          "text": [
            "Epoch 0/19\n",
            "----------\n",
            "Train Loss: 0.4723 Acc: 0.8373\n",
            "Val Loss: 0.4910 Acc: 0.8387\n",
            "\n",
            "Epoch 1/19\n",
            "----------\n",
            "Train Loss: 0.2830 Acc: 0.9029\n",
            "Val Loss: 0.3493 Acc: 0.8794\n",
            "\n",
            "Epoch 2/19\n",
            "----------\n",
            "Train Loss: 0.2222 Acc: 0.9244\n",
            "Val Loss: 0.2931 Acc: 0.9015\n",
            "\n",
            "Epoch 3/19\n",
            "----------\n",
            "Train Loss: 0.1852 Acc: 0.9361\n",
            "Val Loss: 0.3157 Acc: 0.8936\n",
            "\n",
            "Epoch 4/19\n",
            "----------\n",
            "Train Loss: 0.1595 Acc: 0.9444\n",
            "Val Loss: 0.3031 Acc: 0.9010\n",
            "\n",
            "Epoch 5/19\n",
            "----------\n",
            "Train Loss: 0.1497 Acc: 0.9472\n",
            "Val Loss: 0.2489 Acc: 0.9203\n",
            "\n",
            "Epoch 6/19\n",
            "----------\n",
            "Train Loss: 0.1248 Acc: 0.9564\n",
            "Val Loss: 0.2384 Acc: 0.9191\n",
            "\n",
            "Epoch 7/19\n",
            "----------\n",
            "Train Loss: 0.1105 Acc: 0.9612\n",
            "Val Loss: 0.2432 Acc: 0.9186\n",
            "\n",
            "Epoch 8/19\n",
            "----------\n",
            "Train Loss: 0.1003 Acc: 0.9654\n",
            "Val Loss: 0.2761 Acc: 0.9122\n",
            "\n",
            "Epoch 9/19\n",
            "----------\n",
            "Train Loss: 0.1001 Acc: 0.9645\n",
            "Val Loss: 0.2412 Acc: 0.9252\n",
            "\n",
            "Epoch 10/19\n",
            "----------\n",
            "Train Loss: 0.0874 Acc: 0.9688\n",
            "Val Loss: 0.2516 Acc: 0.9268\n",
            "\n",
            "Epoch 11/19\n",
            "----------\n",
            "Train Loss: 0.0780 Acc: 0.9731\n",
            "Val Loss: 0.2504 Acc: 0.9262\n",
            "\n",
            "Epoch 12/19\n",
            "----------\n",
            "Train Loss: 0.0829 Acc: 0.9712\n",
            "Val Loss: 0.2609 Acc: 0.9247\n",
            "\n",
            "Epoch 13/19\n",
            "----------\n",
            "Train Loss: 0.0716 Acc: 0.9750\n",
            "Val Loss: 0.2361 Acc: 0.9326\n",
            "\n",
            "Epoch 14/19\n",
            "----------\n",
            "Train Loss: 0.0672 Acc: 0.9762\n",
            "Val Loss: 0.2503 Acc: 0.9262\n",
            "\n",
            "Epoch 15/19\n",
            "----------\n",
            "Train Loss: 0.0615 Acc: 0.9784\n",
            "Val Loss: 0.2451 Acc: 0.9279\n",
            "\n",
            "Epoch 16/19\n",
            "----------\n",
            "Train Loss: 0.0647 Acc: 0.9773\n",
            "Val Loss: 0.2337 Acc: 0.9325\n",
            "\n",
            "Epoch 17/19\n",
            "----------\n",
            "Train Loss: 0.0590 Acc: 0.9798\n",
            "Val Loss: 0.2445 Acc: 0.9295\n",
            "\n",
            "Epoch 18/19\n",
            "----------\n",
            "Train Loss: 0.0615 Acc: 0.9787\n",
            "Val Loss: 0.2612 Acc: 0.9270\n",
            "\n",
            "Epoch 19/19\n",
            "----------\n",
            "Train Loss: 0.0561 Acc: 0.9809\n",
            "Val Loss: 0.2572 Acc: 0.9268\n",
            "\n",
            "Training complete in 58m 39s\n",
            "Best val Acc: 0.932600\n"
          ]
        }
      ],
      "source": [
        "from torchvision.models import ResNet18_Weights\n",
        "\n",
        "#Define the original Resnet18 model:\n",
        "model_FineTuning = models.resnet18(weights=ResNet18_Weights)\n",
        "\n",
        "#Take the number of input features of the last Linear layer of the original Resnet18 model. Call it num_input_features\n",
        "num_input_features = model_FineTuning.fc.in_features\n",
        "#Create our new Linear layer with the number of classes=10\n",
        "model_FineTuning.fc = nn.Linear(num_input_features, 10)\n",
        "\n",
        "model_FineTuning = model_FineTuning.to(device)\n",
        "optimizer_ft = optim.AdamW(model_FineTuning.parameters(), lr=1e-3)\n",
        "\n",
        "loss = nn.CrossEntropyLoss()\n",
        "\n",
        "# Train and evaluate\n",
        "model_FineTuning = train_model(model_FineTuning, train_dl, val_dl, loss, optimizer_ft, \n",
        "                       num_epochs=20, print_flag=1)"
      ]
    },
    {
      "cell_type": "markdown",
      "source": [
        "With fine tunning model, we get the 0.932 accuracy in validation dataset."
      ],
      "metadata": {
        "id": "63jynnbcxS3n"
      }
    },
    {
      "cell_type": "code",
      "execution_count": 15,
      "metadata": {
        "id": "IAwK6dy3spV6",
        "colab": {
          "base_uri": "https://localhost:8080/",
          "height": 533
        },
        "outputId": "d9e46ad5-964f-4c29-ba11-f7cfe6fa6225"
      },
      "outputs": [
        {
          "output_type": "display_data",
          "data": {
            "text/plain": [
              "<Figure size 432x288 with 1 Axes>"
            ],
            "image/png": "[encoded data removed]"
          },
          "metadata": {
            "needs_background": "light"
          }
        },
        {
          "output_type": "display_data",
          "data": {
            "text/plain": [
              "<Figure size 432x288 with 1 Axes>"
            ],
            "image/png": "[encoded data removed]"
          },
          "metadata": {
            "needs_background": "light"
          }
        },
        {
          "output_type": "display_data",
          "data": {
            "text/plain": [
              "<Figure size 432x288 with 1 Axes>"
            ],
            "image/png": "[encoded data removed]"
          },
          "metadata": {
            "needs_background": "light"
          }
        },
        {
          "output_type": "display_data",
          "data": {
            "text/plain": [
              "<Figure size 432x288 with 1 Axes>"
            ],
            "image/png": "[encoded data removed]"
          },
          "metadata": {
            "needs_background": "light"
          }
        }
      ],
      "source": [
        "#Let's visualize some results:\n",
        "visualize_model(model_FineTuning,4)"
      ]
    },
    {
      "cell_type": "markdown",
      "metadata": {
        "id": "RekWhYvEb_b1"
      },
      "source": [
        "##1.3 Training from scratch"
      ]
    },
    {
      "cell_type": "markdown",
      "metadata": {
        "id": "EW1HkTfwqQXX"
      },
      "source": [
        "Training a Resnet18 model from scratch is easy. We just define the pre-implemented Resnet18 network from the torchvision.models, and we will not change it. We will just give the ''num_classes'' parameter as 10 because we have 10 classes to predict."
      ]
    },
    {
      "cell_type": "code",
      "execution_count": 16,
      "metadata": {
        "id": "IUQDpGJJcGKW",
        "colab": {
          "base_uri": "https://localhost:8080/"
        },
        "outputId": "23ca29a8-550f-4d66-cc6e-7f0bf80c50c0"
      },
      "outputs": [
        {
          "output_type": "stream",
          "name": "stdout",
          "text": [
            "Epoch 0/19\n",
            "----------\n",
            "Train Loss: 1.4291 Acc: 0.4816\n",
            "Val Loss: 1.6479 Acc: 0.4595\n",
            "\n",
            "Epoch 1/19\n",
            "----------\n",
            "Train Loss: 0.9324 Acc: 0.6688\n",
            "Val Loss: 0.9619 Acc: 0.6730\n",
            "\n",
            "Epoch 2/19\n",
            "----------\n",
            "Train Loss: 0.7111 Acc: 0.7500\n",
            "Val Loss: 0.8060 Acc: 0.7155\n",
            "\n",
            "Epoch 3/19\n",
            "----------\n",
            "Train Loss: 0.5918 Acc: 0.7942\n",
            "Val Loss: 1.1085 Acc: 0.6425\n",
            "\n",
            "Epoch 4/19\n",
            "----------\n",
            "Train Loss: 0.5180 Acc: 0.8190\n",
            "Val Loss: 0.6125 Acc: 0.7934\n",
            "\n",
            "Epoch 5/19\n",
            "----------\n",
            "Train Loss: 0.4587 Acc: 0.8391\n",
            "Val Loss: 0.5896 Acc: 0.8024\n",
            "\n",
            "Epoch 6/19\n",
            "----------\n",
            "Train Loss: 0.4131 Acc: 0.8561\n",
            "Val Loss: 0.6781 Acc: 0.7869\n",
            "\n",
            "Epoch 7/19\n",
            "----------\n",
            "Train Loss: 0.3718 Acc: 0.8698\n",
            "Val Loss: 0.5943 Acc: 0.8050\n",
            "\n",
            "Epoch 8/19\n",
            "----------\n",
            "Train Loss: 0.3447 Acc: 0.8808\n",
            "Val Loss: 0.5599 Acc: 0.8152\n",
            "\n",
            "Epoch 9/19\n",
            "----------\n",
            "Train Loss: 0.3136 Acc: 0.8912\n",
            "Val Loss: 0.6378 Acc: 0.8023\n",
            "\n",
            "Epoch 10/19\n",
            "----------\n",
            "Train Loss: 0.2915 Acc: 0.8987\n",
            "Val Loss: 0.4833 Acc: 0.8388\n",
            "\n",
            "Epoch 11/19\n",
            "----------\n",
            "Train Loss: 0.2687 Acc: 0.9057\n",
            "Val Loss: 0.4722 Acc: 0.8444\n",
            "\n",
            "Epoch 12/19\n",
            "----------\n",
            "Train Loss: 0.2452 Acc: 0.9153\n",
            "Val Loss: 0.4292 Acc: 0.8600\n",
            "\n",
            "Epoch 13/19\n",
            "----------\n",
            "Train Loss: 0.2341 Acc: 0.9181\n",
            "Val Loss: 0.3943 Acc: 0.8730\n",
            "\n",
            "Epoch 14/19\n",
            "----------\n",
            "Train Loss: 0.2148 Acc: 0.9239\n",
            "Val Loss: 0.3487 Acc: 0.8814\n",
            "\n",
            "Epoch 15/19\n",
            "----------\n",
            "Train Loss: 0.2045 Acc: 0.9287\n",
            "Val Loss: 0.3467 Acc: 0.8838\n",
            "\n",
            "Epoch 16/19\n",
            "----------\n",
            "Train Loss: 0.1853 Acc: 0.9366\n",
            "Val Loss: 0.3266 Acc: 0.8945\n",
            "\n",
            "Epoch 17/19\n",
            "----------\n",
            "Train Loss: 0.1718 Acc: 0.9407\n",
            "Val Loss: 0.3499 Acc: 0.8876\n",
            "\n",
            "Epoch 18/19\n",
            "----------\n",
            "Train Loss: 0.1588 Acc: 0.9444\n",
            "Val Loss: 0.3505 Acc: 0.8902\n",
            "\n",
            "Epoch 19/19\n",
            "----------\n",
            "Train Loss: 0.1427 Acc: 0.9502\n",
            "Val Loss: 0.3592 Acc: 0.8895\n",
            "\n",
            "Training complete in 66m 18s\n",
            "Best val Acc: 0.894500\n"
          ]
        }
      ],
      "source": [
        "model_from_scratch = models.resnet18(num_classes=10)\n",
        "model_from_scratch = model_from_scratch.to(device)\n",
        "\n",
        "loss = nn.CrossEntropyLoss()\n",
        "\n",
        "# Observe that all parameters are being optimized\n",
        "optimizer = optim.AdamW(model_from_scratch.parameters(), lr=1e-3)\n",
        "\n",
        "# Train and evaluate\n",
        "model_from_scratch = train_model(model_from_scratch, train_dl, val_dl, loss, optimizer, \n",
        "                       num_epochs=20, print_flag=1)"
      ]
    },
    {
      "cell_type": "markdown",
      "source": [
        "When we train our model from scratch, we got the accuracy as 0.894"
      ],
      "metadata": {
        "id": "voZekW2Vxdu6"
      }
    },
    {
      "cell_type": "markdown",
      "metadata": {
        "id": "DUIv5iFeXp43"
      },
      "source": [
        "#2. Select and compare hyperparameters\n",
        "Once you found the best transfer learning strategy, I want you to find the best hyperparameters: \n",
        "\n",
        "\n",
        "*   Learning Rate\n",
        "*   Data augmentation\n",
        "*   Optional: optimizer, batch size, etc.\n",
        "\n",
        "\n"
      ]
    },
    {
      "cell_type": "markdown",
      "metadata": {
        "id": "cO6aO_5v9fHl"
      },
      "source": [
        "The validation accuracies of the different networks with using the whole dataset(50000 images) is show in below table."
      ]
    },
    {
      "cell_type": "markdown",
      "metadata": {
        "id": "GIlF6AJi0hY3"
      },
      "source": [
        "\\begin{array}{|c|c|} \\hline\n",
        "model & validation\\_accuracy   \\\\ \\hline\n",
        "Transfer\\_learning(1.1.A) & 0.785  \\\\\n",
        "Transfer\\_learning(1.1.B) & 0.797   \\\\\n",
        "Fine\\_Tuning & 0.932  \\\\ \n",
        "From\\_Scratch & 0.894 &  \\\\\\hline\n",
        "\\end{array}"
      ]
    },
    {
      "cell_type": "markdown",
      "metadata": {
        "id": "Occ2tbaG9tUy"
      },
      "source": [
        "It is interesting that the Fine Tuning method got the best val accuracy(I expect that Transfer learning would be more effective). According to results, I chose the Fine Tuning network to select the best hyper-parameters."
      ]
    },
    {
      "cell_type": "markdown",
      "metadata": {
        "id": "TDV6aa7d69vF"
      },
      "source": [
        "##2.1 Learning rate "
      ]
    },
    {
      "cell_type": "markdown",
      "metadata": {
        "id": "QI4Urq8HAQH-"
      },
      "source": [
        "As a reminder, the default hyper-parameters of the previous networks were:\n",
        "\n",
        "*   learning rate = 1e-3\n",
        "*   number of epochs = 20\n",
        "*   loss = nn.CrossEntropyLoss()\n",
        "*   optimizer = optim.AdamW()\n",
        "*   batch size = 256\n"
      ]
    },
    {
      "cell_type": "markdown",
      "metadata": {
        "id": "Jj7sHfDc-nf_"
      },
      "source": [
        "I will test the performance of the Fine Tuning network sunig the learning rates: [1, 0.1, 0.01, 0.001, 0.0001, 0.00001]. Using the whole dataset will take a lot of time so again I will use a subset of the data(10000 images). The other hyper-parameters will be fixed."
      ]
    },
    {
      "cell_type": "code",
      "execution_count": 17,
      "metadata": {
        "id": "r_QgiXQI142y"
      },
      "outputs": [],
      "source": [
        "#Take the indexes of first 10000 images\n",
        "subset_indexes=[i for i in range(1000)]\n",
        "#Use torch.utils.data.Subset\n",
        "train_subset = torch.utils.data.Subset(train_dataset, subset_indexes)\n",
        "val_subset = torch.utils.data.Subset(val_dataset, subset_indexes)\n",
        "\n",
        "batch_size = 256\n",
        "train_dl_subset = torch.utils.data.DataLoader(train_subset, shuffle=True, \n",
        "                                       batch_size=batch_size, num_workers=4)\n",
        "val_dl_subset = torch.utils.data.DataLoader(val_subset, \n",
        "                                     batch_size=batch_size*2, num_workers=4)"
      ]
    },
    {
      "cell_type": "code",
      "execution_count": 18,
      "metadata": {
        "id": "r6Aoy63_YOgl",
        "colab": {
          "base_uri": "https://localhost:8080/"
        },
        "outputId": "05225e8f-256f-4bb1-c771-8c2634444209"
      },
      "outputs": [
        {
          "output_type": "stream",
          "name": "stdout",
          "text": [
            "Learning rate ==  1\n",
            "Training complete in 3m 24s\n",
            "Best val Acc: 0.121000\n",
            "\n",
            "Learning rate ==  0.1\n",
            "Training complete in 3m 16s\n",
            "Best val Acc: 0.188000\n",
            "\n",
            "Learning rate ==  0.01\n",
            "Training complete in 3m 20s\n",
            "Best val Acc: 0.252000\n",
            "\n",
            "Learning rate ==  0.001\n",
            "Training complete in 3m 21s\n",
            "Best val Acc: 0.743000\n",
            "\n",
            "Learning rate ==  0.0001\n",
            "Training complete in 3m 20s\n",
            "Best val Acc: 0.795000\n",
            "\n",
            "Learning rate ==  1e-05\n",
            "Training complete in 3m 31s\n",
            "Best val Acc: 0.631000\n",
            "\n"
          ]
        }
      ],
      "source": [
        "from torchvision.models import ResNet18_Weights\n",
        "\n",
        "loss = nn.CrossEntropyLoss()\n",
        "learning_rates=[1, 0.1, 0.01, 0.001, 0.0001, 0.00001]\n",
        "#1 ->0.112\n",
        "\n",
        "for lr in learning_rates:\n",
        "  #Define the original Resnet18 model:\n",
        "  model_FineTuning2 = models.resnet18(weights=ResNet18_Weights)\n",
        "  num_input_features = model_FineTuning2.fc.in_features\n",
        "  model_FineTuning2.fc = nn.Linear(num_input_features, 10)\n",
        "  model_FineTuning2 = model_FineTuning2.to(device)\n",
        "  \n",
        "  optimizer_fe2 = optim.Adam(model_FineTuning2.parameters(), lr=lr)\n",
        "  print(\"Learning rate == \", lr)\n",
        "  train_model(model_FineTuning2, train_dl_subset, val_dl_subset, loss, optimizer_fe2, num_epochs=20, print_flag=0)\n",
        "  print()"
      ]
    },
    {
      "cell_type": "markdown",
      "metadata": {
        "id": "TePCfWyg4b38"
      },
      "source": [
        "The validation accuracies of different rates using the subset of the data(10000 images)is shown in the below table."
      ]
    },
    {
      "cell_type": "markdown",
      "metadata": {
        "id": "18ywQQ2u_kch"
      },
      "source": [
        "\\begin{array}{|c|c|} \\hline\n",
        "learning\\_rate & validation\\_accuracy   \\\\ \\hline\n",
        "1 & 0.121  \\\\\n",
        "0.1 & 0.188   \\\\\n",
        "0.01 & 0.252  \\\\ \n",
        "0.001 & 0.743 \\\\\n",
        "0.0001 & 0.795 \\\\\n",
        "1e-05 & 0.631 \\\\\\hline\n",
        "\\end{array}"
      ]
    },
    {
      "cell_type": "markdown",
      "metadata": {
        "id": "EE1rOLOaArRj"
      },
      "source": [
        "Since the learning rate of 0.0001 got the highest accuracy, I will use it withthe whole dataset(50000 images)."
      ]
    },
    {
      "cell_type": "code",
      "execution_count": 19,
      "metadata": {
        "colab": {
          "base_uri": "https://localhost:8080/"
        },
        "id": "ShL_ReEoBrlR",
        "outputId": "3f3ccaa3-5366-41c1-92d5-09d3f7734b9f"
      },
      "outputs": [
        {
          "output_type": "stream",
          "name": "stdout",
          "text": [
            "Learning rate ==  0.0001\n",
            "Epoch 0/19\n",
            "----------\n",
            "Train Loss: 0.4512 Acc: 0.8551\n",
            "Val Loss: 0.2420 Acc: 0.9187\n",
            "\n",
            "Epoch 1/19\n",
            "----------\n",
            "Train Loss: 0.1712 Acc: 0.9440\n",
            "Val Loss: 0.1888 Acc: 0.9364\n",
            "\n",
            "Epoch 2/19\n",
            "----------\n",
            "Train Loss: 0.1147 Acc: 0.9618\n",
            "Val Loss: 0.1743 Acc: 0.9408\n",
            "\n",
            "Epoch 3/19\n",
            "----------\n",
            "Train Loss: 0.0808 Acc: 0.9738\n",
            "Val Loss: 0.1670 Acc: 0.9437\n",
            "\n",
            "Epoch 4/19\n",
            "----------\n",
            "Train Loss: 0.0625 Acc: 0.9798\n",
            "Val Loss: 0.1632 Acc: 0.9451\n",
            "\n",
            "Epoch 5/19\n",
            "----------\n",
            "Train Loss: 0.0487 Acc: 0.9845\n",
            "Val Loss: 0.1660 Acc: 0.9472\n",
            "\n",
            "Epoch 6/19\n",
            "----------\n",
            "Train Loss: 0.0398 Acc: 0.9879\n",
            "Val Loss: 0.1667 Acc: 0.9480\n",
            "\n",
            "Epoch 7/19\n",
            "----------\n",
            "Train Loss: 0.0327 Acc: 0.9903\n",
            "Val Loss: 0.1629 Acc: 0.9488\n",
            "\n",
            "Epoch 8/19\n",
            "----------\n",
            "Train Loss: 0.0295 Acc: 0.9903\n",
            "Val Loss: 0.1699 Acc: 0.9485\n",
            "\n",
            "Epoch 9/19\n",
            "----------\n",
            "Train Loss: 0.0258 Acc: 0.9921\n",
            "Val Loss: 0.1685 Acc: 0.9511\n",
            "\n",
            "Epoch 10/19\n",
            "----------\n",
            "Train Loss: 0.0240 Acc: 0.9928\n",
            "Val Loss: 0.1753 Acc: 0.9488\n",
            "\n",
            "Epoch 11/19\n",
            "----------\n",
            "Train Loss: 0.0227 Acc: 0.9927\n",
            "Val Loss: 0.1683 Acc: 0.9504\n",
            "\n",
            "Epoch 12/19\n",
            "----------\n",
            "Train Loss: 0.0211 Acc: 0.9932\n",
            "Val Loss: 0.1918 Acc: 0.9462\n",
            "\n",
            "Epoch 13/19\n",
            "----------\n",
            "Train Loss: 0.0212 Acc: 0.9933\n",
            "Val Loss: 0.1801 Acc: 0.9517\n",
            "\n",
            "Epoch 14/19\n",
            "----------\n",
            "Train Loss: 0.0211 Acc: 0.9930\n",
            "Val Loss: 0.1783 Acc: 0.9482\n",
            "\n",
            "Epoch 15/19\n",
            "----------\n",
            "Train Loss: 0.0197 Acc: 0.9937\n",
            "Val Loss: 0.1836 Acc: 0.9504\n",
            "\n",
            "Epoch 16/19\n",
            "----------\n",
            "Train Loss: 0.0170 Acc: 0.9945\n",
            "Val Loss: 0.1834 Acc: 0.9475\n",
            "\n",
            "Epoch 17/19\n",
            "----------\n",
            "Train Loss: 0.0171 Acc: 0.9943\n",
            "Val Loss: 0.1891 Acc: 0.9490\n",
            "\n",
            "Epoch 18/19\n",
            "----------\n",
            "Train Loss: 0.0127 Acc: 0.9964\n",
            "Val Loss: 0.1953 Acc: 0.9480\n",
            "\n",
            "Epoch 19/19\n",
            "----------\n",
            "Train Loss: 0.0168 Acc: 0.9944\n",
            "Val Loss: 0.1885 Acc: 0.9507\n",
            "\n",
            "Training complete in 66m 31s\n",
            "Best val Acc: 0.951700\n",
            "\n"
          ]
        }
      ],
      "source": [
        "from torchvision.models import ResNet18_Weights\n",
        "loss = nn.CrossEntropyLoss()\n",
        "\n",
        "\n",
        "#Define the original Resnet18 model:\n",
        "model_FineTuning2 = models.resnet18(weights=ResNet18_Weights)\n",
        "num_input_features = model_FineTuning2.fc.in_features\n",
        "model_FineTuning2.fc = nn.Linear(num_input_features, 10)\n",
        "model_FineTuning2 = model_FineTuning2.to(device)\n",
        "\n",
        "lr= 0.0001\n",
        "optimizer_fe2 = optim.Adam(model_FineTuning2.parameters(), lr=lr)\n",
        "print(\"Learning rate == \", lr)\n",
        "train_model(model_FineTuning2, train_dl, val_dl, loss, optimizer_fe2, num_epochs=20, print_flag=1)\n",
        "print()"
      ]
    },
    {
      "cell_type": "markdown",
      "source": [
        "When the learning rate = 0.0001, the validation accuracy increased from 0.932 to 0.951"
      ],
      "metadata": {
        "id": "kGZP8lmryHU_"
      }
    },
    {
      "cell_type": "markdown",
      "metadata": {
        "id": "M7ZEOroa8rwv"
      },
      "source": [
        "##2.2 Data Augmentation"
      ]
    },
    {
      "cell_type": "markdown",
      "metadata": {
        "id": "94Ku0pOm8vpY"
      },
      "source": [
        "###WITH Data augmentation"
      ]
    },
    {
      "cell_type": "markdown",
      "metadata": {
        "id": "Flqs6yMV82Bj"
      },
      "source": [
        "We already know the val accuracy result with data augmentation that is 0.94. Let's train our model without any augmentation."
      ]
    },
    {
      "cell_type": "markdown",
      "metadata": {
        "id": "4Ui3ryuY92bu"
      },
      "source": [
        "###WITHOUT Data augmentation"
      ]
    },
    {
      "cell_type": "code",
      "execution_count": 20,
      "metadata": {
        "colab": {
          "base_uri": "https://localhost:8080/"
        },
        "id": "axCwT0Dy98WL",
        "outputId": "fc1c9ff6-8d5c-41bf-df1b-28eff65a2463"
      },
      "outputs": [
        {
          "output_type": "stream",
          "name": "stdout",
          "text": [
            "Files already downloaded and verified\n",
            "Files already downloaded and verified\n"
          ]
        }
      ],
      "source": [
        "train_dir = 'cifar10_train'\n",
        "val_dir = \"cifar10_val\"\n",
        "\n",
        "# Data augmentation and normalization for training\n",
        "train_transforms_without_augmentation = transforms.Compose([\n",
        "     ## FILL IT YOURSELF!\n",
        "     #transforms.RandomResizedCrop(224, [0.75, 1.0]),\n",
        "     #transforms.RandomHorizontalFlip(),\n",
        "     transforms.ToTensor(),\n",
        "     transforms.Normalize([0.485, 0.456, 0.406], [0.229, 0.224, 0.225])\n",
        "  ])\n",
        "# Just normalization for validation\n",
        "val_transforms_without_augmentation = transforms.Compose([\n",
        "     ## FILL IT YOURSELF!\n",
        "     #transforms.Resize(256),\n",
        "      #transforms.CenterCrop(224),\n",
        "      transforms.ToTensor(),\n",
        "      transforms.Normalize([0.485, 0.456, 0.406], [0.229, 0.224, 0.225])\n",
        "  ])\n",
        "\n",
        "train_no_aug = torchvision.datasets.CIFAR10(root=train_dir, train=True, \n",
        "                                             transform=train_transforms_without_augmentation, download=True)\n",
        "val_no_aug = torchvision.datasets.CIFAR10(root=val_dir,train=False, \n",
        "                                           transform=val_transforms_without_augmentation, download=True)\n",
        "                                             \n",
        "\n",
        "batch_size = 256\n",
        "train_dl_subset_without_augmentation = torch.utils.data.DataLoader(train_no_aug, shuffle=True, \n",
        "                                       batch_size=batch_size, num_workers=4)\n",
        "val_dl_subset_without_augmentation = torch.utils.data.DataLoader(val_no_aug, \n",
        "                                     batch_size=batch_size*2, num_workers=4)\n",
        "\n"
      ]
    },
    {
      "cell_type": "markdown",
      "source": [
        "I will use the learning rate=0.0001 that increased the accuracy in the previous question."
      ],
      "metadata": {
        "id": "Q8qBdCtbyx2e"
      }
    },
    {
      "cell_type": "code",
      "execution_count": 21,
      "metadata": {
        "colab": {
          "base_uri": "https://localhost:8080/"
        },
        "id": "dBuLSwdRbW_g",
        "outputId": "8963dfe0-e687-4916-f543-e8ba164426ad"
      },
      "outputs": [
        {
          "output_type": "stream",
          "name": "stdout",
          "text": [
            "Learning rate ==  0.0001\n",
            "Epoch 0/19\n",
            "----------\n",
            "Train Loss: 1.1187 Acc: 0.6134\n",
            "Val Loss: 0.7542 Acc: 0.7352\n",
            "\n",
            "Epoch 1/19\n",
            "----------\n",
            "Train Loss: 0.5801 Acc: 0.7987\n",
            "Val Loss: 0.6575 Acc: 0.7711\n",
            "\n",
            "Epoch 2/19\n",
            "----------\n",
            "Train Loss: 0.3668 Acc: 0.8753\n",
            "Val Loss: 0.6590 Acc: 0.7869\n",
            "\n",
            "Epoch 3/19\n",
            "----------\n",
            "Train Loss: 0.2109 Acc: 0.9315\n",
            "Val Loss: 0.7156 Acc: 0.7880\n",
            "\n",
            "Epoch 4/19\n",
            "----------\n",
            "Train Loss: 0.1142 Acc: 0.9655\n",
            "Val Loss: 0.8088 Acc: 0.7807\n",
            "\n",
            "Epoch 5/19\n",
            "----------\n",
            "Train Loss: 0.0648 Acc: 0.9815\n",
            "Val Loss: 0.8769 Acc: 0.7842\n",
            "\n",
            "Epoch 6/19\n",
            "----------\n",
            "Train Loss: 0.0455 Acc: 0.9868\n",
            "Val Loss: 0.9177 Acc: 0.7924\n",
            "\n",
            "Epoch 7/19\n",
            "----------\n",
            "Train Loss: 0.0394 Acc: 0.9880\n",
            "Val Loss: 0.9750 Acc: 0.7881\n",
            "\n",
            "Epoch 8/19\n",
            "----------\n",
            "Train Loss: 0.0357 Acc: 0.9895\n",
            "Val Loss: 1.0021 Acc: 0.7848\n",
            "\n",
            "Epoch 9/19\n",
            "----------\n",
            "Train Loss: 0.0334 Acc: 0.9895\n",
            "Val Loss: 1.0323 Acc: 0.7896\n",
            "\n",
            "Epoch 10/19\n",
            "----------\n",
            "Train Loss: 0.0367 Acc: 0.9880\n",
            "Val Loss: 1.0566 Acc: 0.7832\n",
            "\n",
            "Epoch 11/19\n",
            "----------\n",
            "Train Loss: 0.0378 Acc: 0.9870\n",
            "Val Loss: 1.0587 Acc: 0.7914\n",
            "\n",
            "Epoch 12/19\n",
            "----------\n",
            "Train Loss: 0.0318 Acc: 0.9897\n",
            "Val Loss: 1.0847 Acc: 0.7885\n",
            "\n",
            "Epoch 13/19\n",
            "----------\n",
            "Train Loss: 0.0365 Acc: 0.9877\n",
            "Val Loss: 1.1050 Acc: 0.7884\n",
            "\n",
            "Epoch 14/19\n",
            "----------\n",
            "Train Loss: 0.0415 Acc: 0.9857\n",
            "Val Loss: 1.0752 Acc: 0.7915\n",
            "\n",
            "Epoch 15/19\n",
            "----------\n",
            "Train Loss: 0.0263 Acc: 0.9914\n",
            "Val Loss: 1.0850 Acc: 0.7934\n",
            "\n",
            "Epoch 16/19\n",
            "----------\n",
            "Train Loss: 0.0238 Acc: 0.9921\n",
            "Val Loss: 1.1020 Acc: 0.7970\n",
            "\n",
            "Epoch 17/19\n",
            "----------\n",
            "Train Loss: 0.0200 Acc: 0.9938\n",
            "Val Loss: 1.1108 Acc: 0.7990\n",
            "\n",
            "Epoch 18/19\n",
            "----------\n",
            "Train Loss: 0.0171 Acc: 0.9944\n",
            "Val Loss: 1.1319 Acc: 0.7959\n",
            "\n",
            "Epoch 19/19\n",
            "----------\n",
            "Train Loss: 0.0126 Acc: 0.9959\n",
            "Val Loss: 1.1425 Acc: 0.8018\n",
            "\n",
            "Training complete in 5m 14s\n",
            "Best val Acc: 0.801800\n",
            "\n"
          ]
        }
      ],
      "source": [
        "from torchvision.models import ResNet18_Weights\n",
        "loss = nn.CrossEntropyLoss()\n",
        "\n",
        "\n",
        "#Define the original Resnet18 model:\n",
        "model_FineTuning3 = models.resnet18(weights=ResNet18_Weights)\n",
        "num_input_features = model_FineTuning3.fc.in_features\n",
        "model_FineTuning3.fc = nn.Linear(num_input_features, 10)\n",
        "model_FineTuning3 = model_FineTuning3.to(device)\n",
        "\n",
        "lr= 0.0001\n",
        "optimizer_fe3 = optim.Adam(model_FineTuning3.parameters(), lr=lr)\n",
        "print(\"Learning rate == \", lr)\n",
        "train_model(model_FineTuning3, train_dl_subset_without_augmentation, val_dl_subset_without_augmentation, loss, optimizer_fe3, num_epochs=20, print_flag=1)\n",
        "print()"
      ]
    },
    {
      "cell_type": "markdown",
      "source": [
        "The validation accuracy without data augmentation is 0.801. It seems that data augmentation is a good idea in this problem"
      ],
      "metadata": {
        "id": "DBvbKTCzzBv-"
      }
    },
    {
      "cell_type": "markdown",
      "metadata": {
        "id": "ZCHuP-5S_OxY"
      },
      "source": [
        "##2.3 Optimizer"
      ]
    },
    {
      "cell_type": "markdown",
      "metadata": {
        "id": "J83StQGE_Vzv"
      },
      "source": [
        "###2.3.1 SGD"
      ]
    },
    {
      "cell_type": "code",
      "execution_count": 7,
      "metadata": {
        "colab": {
          "base_uri": "https://localhost:8080/",
          "height": 1000,
          "referenced_widgets": [
            "36ae0286b5894a6487090074e3d16d72",
            "13aa6846ba934bc687f4b0eb9195bde9",
            "65f7acc4c96a4c34904af2339c6269e5",
            "a7bc6b38da6a4c91bf442b82bf61ffdf",
            "4bdd55970f2642359c833e2bb2cd310c",
            "2d9da6d61ca6429db1fc48975cec094d",
            "7cc081d116af4442b2827d1a8af700d2",
            "d764c0888f054d3aa5eb170621c65c57",
            "c906b995eede41b0bd1cc7c4a495a297",
            "af1cbdbe118044fea5f8257bba8c266a",
            "79cc1c9089924aab9c7c5aeb876d5d06"
          ]
        },
        "id": "v_36XoNi0-nn",
        "outputId": "344ea902-82ca-4f27-83eb-9a96251784b5"
      },
      "outputs": [
        {
          "output_type": "stream",
          "name": "stderr",
          "text": [
            "/usr/local/lib/python3.8/dist-packages/torchvision/models/_utils.py:223: UserWarning: Arguments other than a weight enum or `None` for 'weights' are deprecated since 0.13 and may be removed in the future. The current behavior is equivalent to passing `weights=ResNet18_Weights.IMAGENET1K_V1`. You can also use `weights=ResNet18_Weights.DEFAULT` to get the most up-to-date weights.\n",
            "  warnings.warn(msg)\n",
            "Downloading: \"https://download.pytorch.org/models/resnet18-f37072fd.pth\" to /root/.cache/torch/hub/checkpoints/resnet18-f37072fd.pth\n"
          ]
        },
        {
          "output_type": "display_data",
          "data": {
            "text/plain": [
              "  0%|          | 0.00/44.7M [00:00<?, ?B/s]"
            ],
            "application/vnd.jupyter.widget-view+json": {
              "version_major": 2,
              "version_minor": 0,
              "model_id": "36ae0286b5894a6487090074e3d16d72"
            }
          },
          "metadata": {}
        },
        {
          "output_type": "stream",
          "name": "stdout",
          "text": [
            "Learning rate ==  0.0001\n",
            "Epoch 0/19\n",
            "----------\n",
            "Train Loss: 2.3066 Acc: 0.1404\n",
            "Val Loss: 2.2309 Acc: 0.1689\n",
            "\n",
            "Epoch 1/19\n",
            "----------\n",
            "Train Loss: 2.1896 Acc: 0.1998\n",
            "Val Loss: 2.1408 Acc: 0.2302\n",
            "\n",
            "Epoch 2/19\n",
            "----------\n",
            "Train Loss: 2.1032 Acc: 0.2600\n",
            "Val Loss: 2.0624 Acc: 0.2899\n",
            "\n",
            "Epoch 3/19\n",
            "----------\n",
            "Train Loss: 2.0271 Acc: 0.3163\n",
            "Val Loss: 1.9896 Acc: 0.3457\n",
            "\n",
            "Epoch 4/19\n",
            "----------\n",
            "Train Loss: 1.9566 Acc: 0.3651\n",
            "Val Loss: 1.9175 Acc: 0.3936\n",
            "\n",
            "Epoch 5/19\n",
            "----------\n",
            "Train Loss: 1.8875 Acc: 0.4099\n",
            "Val Loss: 1.8534 Acc: 0.4330\n",
            "\n",
            "Epoch 6/19\n",
            "----------\n",
            "Train Loss: 1.8212 Acc: 0.4456\n",
            "Val Loss: 1.7869 Acc: 0.4692\n",
            "\n",
            "Epoch 7/19\n",
            "----------\n",
            "Train Loss: 1.7551 Acc: 0.4801\n",
            "Val Loss: 1.7272 Acc: 0.4989\n",
            "\n",
            "Epoch 8/19\n",
            "----------\n",
            "Train Loss: 1.6965 Acc: 0.5091\n",
            "Val Loss: 1.6677 Acc: 0.5248\n",
            "\n",
            "Epoch 9/19\n",
            "----------\n",
            "Train Loss: 1.6373 Acc: 0.5365\n",
            "Val Loss: 1.6101 Acc: 0.5472\n",
            "\n",
            "Epoch 10/19\n",
            "----------\n",
            "Train Loss: 1.5834 Acc: 0.5572\n",
            "Val Loss: 1.5535 Acc: 0.5712\n",
            "\n",
            "Epoch 11/19\n",
            "----------\n",
            "Train Loss: 1.5312 Acc: 0.5768\n",
            "Val Loss: 1.5042 Acc: 0.5880\n",
            "\n",
            "Epoch 12/19\n",
            "----------\n",
            "Train Loss: 1.4813 Acc: 0.5963\n",
            "Val Loss: 1.4546 Acc: 0.6058\n",
            "\n",
            "Epoch 13/19\n",
            "----------\n",
            "Train Loss: 1.4346 Acc: 0.6096\n",
            "Val Loss: 1.4108 Acc: 0.6156\n",
            "\n",
            "Epoch 14/19\n",
            "----------\n",
            "Train Loss: 1.3892 Acc: 0.6215\n",
            "Val Loss: 1.3651 Acc: 0.6302\n",
            "\n",
            "Epoch 15/19\n",
            "----------\n",
            "Train Loss: 1.3452 Acc: 0.6361\n",
            "Val Loss: 1.3230 Acc: 0.6445\n",
            "\n",
            "Epoch 16/19\n",
            "----------\n",
            "Train Loss: 1.3086 Acc: 0.6454\n",
            "Val Loss: 1.2828 Acc: 0.6539\n",
            "\n",
            "Epoch 17/19\n",
            "----------\n",
            "Train Loss: 1.2682 Acc: 0.6574\n",
            "Val Loss: 1.2459 Acc: 0.6623\n",
            "\n",
            "Epoch 18/19\n",
            "----------\n",
            "Train Loss: 1.2333 Acc: 0.6678\n",
            "Val Loss: 1.2147 Acc: 0.6695\n",
            "\n",
            "Epoch 19/19\n",
            "----------\n",
            "Train Loss: 1.2009 Acc: 0.6756\n",
            "Val Loss: 1.1828 Acc: 0.6784\n",
            "\n",
            "Training complete in 60m 11s\n",
            "Best val Acc: 0.678400\n",
            "\n"
          ]
        }
      ],
      "source": [
        "from torchvision.models import ResNet18_Weights\n",
        "loss = nn.CrossEntropyLoss()\n",
        "\n",
        "\n",
        "#Define the original Resnet18 model:\n",
        "model_FineTuning4 = models.resnet18(weights=ResNet18_Weights)\n",
        "num_input_features = model_FineTuning4.fc.in_features\n",
        "model_FineTuning4.fc = nn.Linear(num_input_features, 10)\n",
        "model_FineTuning4 = model_FineTuning4.to(device)\n",
        "\n",
        "lr= 0.0001\n",
        "\n",
        "#We are using SGD optimizer\n",
        "optimizer_fe4 = optim.SGD(model_FineTuning4.parameters(), lr=lr)\n",
        "print(\"Learning rate == \", lr)\n",
        "train_model(model_FineTuning4, train_dl, val_dl, loss, optimizer_fe4, num_epochs=20, print_flag=1)\n",
        "print()"
      ]
    },
    {
      "cell_type": "markdown",
      "source": [
        "When I use the SGD optimizer instead of Adam, I got the val accuracy as 0.678. Adam works better than SGD."
      ],
      "metadata": {
        "id": "louWH98KGV0H"
      }
    },
    {
      "cell_type": "markdown",
      "metadata": {
        "id": "O3xFlijtZFf-"
      },
      "source": [
        "#3. Evaluation of the assignment\n",
        "The evaluation of the assignment will be based on 3 different aspects:\n",
        "\n",
        "*   Percentage of assignment completed (50 % of the grade)\n",
        "*   Correctness of the comments used to explain the result (40% of the grade)\n",
        "*   Validation accuracy of the final model provided (10 % of the grade)\n",
        "\n"
      ]
    },
    {
      "cell_type": "code",
      "execution_count": null,
      "metadata": {
        "id": "H1lkB9ELb1Qd"
      },
      "outputs": [],
      "source": []
    }
  ],
  "metadata": {
    "accelerator": "GPU",
    "colab": {
      "collapsed_sections": [
        "6JsrhDrRJjBA",
        "Egi5EG3_gGFw",
        "IA-wQc89JjBE"
      ],
      "provenance": []
    },
    "gpuClass": "standard",
    "kernelspec": {
      "display_name": "Python 3",
      "language": "python",
      "name": "python3"
    },
    "language_info": {
      "codemirror_mode": {
        "name": "ipython",
        "version": 3
      },
      "file_extension": ".py",
      "mimetype": "text/x-python",
      "name": "python",
      "nbconvert_exporter": "python",
      "pygments_lexer": "ipython3",
      "version": "3.7.13"
    },
    "widgets": {
      "application/vnd.jupyter.widget-state+json": {
        "981217125d1d4d8094d57198d2fc2de8": {
          "model_module": "@jupyter-widgets/controls",
          "model_name": "HBoxModel",
          "model_module_version": "1.5.0",
          "state": {
            "_dom_classes": [],
            "_model_module": "@jupyter-widgets/controls",
            "_model_module_version": "1.5.0",
            "_model_name": "HBoxModel",
            "_view_count": null,
            "_view_module": "@jupyter-widgets/controls",
            "_view_module_version": "1.5.0",
            "_view_name": "HBoxView",
            "box_style": "",
            "children": [
              "IPY_MODEL_a56aaa4ad5cd469c8e0f4b41c70f814a",
              "IPY_MODEL_c84eea6da7db4d199f06b2fb014364be",
              "IPY_MODEL_720bfbaa9f8e437cb698747509554179"
            ],
            "layout": "IPY_MODEL_e156dce69e5f4eddb5260b7effe3f2d8"
          }
        },
        "a56aaa4ad5cd469c8e0f4b41c70f814a": {
          "model_module": "@jupyter-widgets/controls",
          "model_name": "HTMLModel",
          "model_module_version": "1.5.0",
          "state": {
            "_dom_classes": [],
            "_model_module": "@jupyter-widgets/controls",
            "_model_module_version": "1.5.0",
            "_model_name": "HTMLModel",
            "_view_count": null,
            "_view_module": "@jupyter-widgets/controls",
            "_view_module_version": "1.5.0",
            "_view_name": "HTMLView",
            "description": "",
            "description_tooltip": null,
            "layout": "IPY_MODEL_19e5b397ded3494bba527cd490dd54d5",
            "placeholder": "​",
            "style": "IPY_MODEL_89ac765be4da47a296dc08bf252a47eb",
            "value": "100%"
          }
        },
        "c84eea6da7db4d199f06b2fb014364be": {
          "model_module": "@jupyter-widgets/controls",
          "model_name": "FloatProgressModel",
          "model_module_version": "1.5.0",
          "state": {
            "_dom_classes": [],
            "_model_module": "@jupyter-widgets/controls",
            "_model_module_version": "1.5.0",
            "_model_name": "FloatProgressModel",
            "_view_count": null,
            "_view_module": "@jupyter-widgets/controls",
            "_view_module_version": "1.5.0",
            "_view_name": "ProgressView",
            "bar_style": "success",
            "description": "",
            "description_tooltip": null,
            "layout": "IPY_MODEL_7e3eb2acc003445f83aa86d6372cb2e4",
            "max": 170498071,
            "min": 0,
            "orientation": "horizontal",
            "style": "IPY_MODEL_e00a52771bd041939c4c6e4c37b3d1ac",
            "value": 170498071
          }
        },
        "720bfbaa9f8e437cb698747509554179": {
          "model_module": "@jupyter-widgets/controls",
          "model_name": "HTMLModel",
          "model_module_version": "1.5.0",
          "state": {
            "_dom_classes": [],
            "_model_module": "@jupyter-widgets/controls",
            "_model_module_version": "1.5.0",
            "_model_name": "HTMLModel",
            "_view_count": null,
            "_view_module": "@jupyter-widgets/controls",
            "_view_module_version": "1.5.0",
            "_view_name": "HTMLView",
            "description": "",
            "description_tooltip": null,
            "layout": "IPY_MODEL_06ba238f9e1c435a879cf250ec890e16",
            "placeholder": "​",
            "style": "IPY_MODEL_95d831e2bb8a4070ae7fdc602093ff81",
            "value": " 170498071/170498071 [00:13&lt;00:00, 13125294.61it/s]"
          }
        },
        "e156dce69e5f4eddb5260b7effe3f2d8": {
          "model_module": "@jupyter-widgets/base",
          "model_name": "LayoutModel",
          "model_module_version": "1.2.0",
          "state": {
            "_model_module": "@jupyter-widgets/base",
            "_model_module_version": "1.2.0",
            "_model_name": "LayoutModel",
            "_view_count": null,
            "_view_module": "@jupyter-widgets/base",
            "_view_module_version": "1.2.0",
            "_view_name": "LayoutView",
            "align_content": null,
            "align_items": null,
            "align_self": null,
            "border": null,
            "bottom": null,
            "display": null,
            "flex": null,
            "flex_flow": null,
            "grid_area": null,
            "grid_auto_columns": null,
            "grid_auto_flow": null,
            "grid_auto_rows": null,
            "grid_column": null,
            "grid_gap": null,
            "grid_row": null,
            "grid_template_areas": null,
            "grid_template_columns": null,
            "grid_template_rows": null,
            "height": null,
            "justify_content": null,
            "justify_items": null,
            "left": null,
            "margin": null,
            "max_height": null,
            "max_width": null,
            "min_height": null,
            "min_width": null,
            "object_fit": null,
            "object_position": null,
            "order": null,
            "overflow": null,
            "overflow_x": null,
            "overflow_y": null,
            "padding": null,
            "right": null,
            "top": null,
            "visibility": null,
            "width": null
          }
        },
        "19e5b397ded3494bba527cd490dd54d5": {
          "model_module": "@jupyter-widgets/base",
          "model_name": "LayoutModel",
          "model_module_version": "1.2.0",
          "state": {
            "_model_module": "@jupyter-widgets/base",
            "_model_module_version": "1.2.0",
            "_model_name": "LayoutModel",
            "_view_count": null,
            "_view_module": "@jupyter-widgets/base",
            "_view_module_version": "1.2.0",
            "_view_name": "LayoutView",
            "align_content": null,
            "align_items": null,
            "align_self": null,
            "border": null,
            "bottom": null,
            "display": null,
            "flex": null,
            "flex_flow": null,
            "grid_area": null,
            "grid_auto_columns": null,
            "grid_auto_flow": null,
            "grid_auto_rows": null,
            "grid_column": null,
            "grid_gap": null,
            "grid_row": null,
            "grid_template_areas": null,
            "grid_template_columns": null,
            "grid_template_rows": null,
            "height": null,
            "justify_content": null,
            "justify_items": null,
            "left": null,
            "margin": null,
            "max_height": null,
            "max_width": null,
            "min_height": null,
            "min_width": null,
            "object_fit": null,
            "object_position": null,
            "order": null,
            "overflow": null,
            "overflow_x": null,
            "overflow_y": null,
            "padding": null,
            "right": null,
            "top": null,
            "visibility": null,
            "width": null
          }
        },
        "89ac765be4da47a296dc08bf252a47eb": {
          "model_module": "@jupyter-widgets/controls",
          "model_name": "DescriptionStyleModel",
          "model_module_version": "1.5.0",
          "state": {
            "_model_module": "@jupyter-widgets/controls",
            "_model_module_version": "1.5.0",
            "_model_name": "DescriptionStyleModel",
            "_view_count": null,
            "_view_module": "@jupyter-widgets/base",
            "_view_module_version": "1.2.0",
            "_view_name": "StyleView",
            "description_width": ""
          }
        },
        "7e3eb2acc003445f83aa86d6372cb2e4": {
          "model_module": "@jupyter-widgets/base",
          "model_name": "LayoutModel",
          "model_module_version": "1.2.0",
          "state": {
            "_model_module": "@jupyter-widgets/base",
            "_model_module_version": "1.2.0",
            "_model_name": "LayoutModel",
            "_view_count": null,
            "_view_module": "@jupyter-widgets/base",
            "_view_module_version": "1.2.0",
            "_view_name": "LayoutView",
            "align_content": null,
            "align_items": null,
            "align_self": null,
            "border": null,
            "bottom": null,
            "display": null,
            "flex": null,
            "flex_flow": null,
            "grid_area": null,
            "grid_auto_columns": null,
            "grid_auto_flow": null,
            "grid_auto_rows": null,
            "grid_column": null,
            "grid_gap": null,
            "grid_row": null,
            "grid_template_areas": null,
            "grid_template_columns": null,
            "grid_template_rows": null,
            "height": null,
            "justify_content": null,
            "justify_items": null,
            "left": null,
            "margin": null,
            "max_height": null,
            "max_width": null,
            "min_height": null,
            "min_width": null,
            "object_fit": null,
            "object_position": null,
            "order": null,
            "overflow": null,
            "overflow_x": null,
            "overflow_y": null,
            "padding": null,
            "right": null,
            "top": null,
            "visibility": null,
            "width": null
          }
        },
        "e00a52771bd041939c4c6e4c37b3d1ac": {
          "model_module": "@jupyter-widgets/controls",
          "model_name": "ProgressStyleModel",
          "model_module_version": "1.5.0",
          "state": {
            "_model_module": "@jupyter-widgets/controls",
            "_model_module_version": "1.5.0",
            "_model_name": "ProgressStyleModel",
            "_view_count": null,
            "_view_module": "@jupyter-widgets/base",
            "_view_module_version": "1.2.0",
            "_view_name": "StyleView",
            "bar_color": null,
            "description_width": ""
          }
        },
        "06ba238f9e1c435a879cf250ec890e16": {
          "model_module": "@jupyter-widgets/base",
          "model_name": "LayoutModel",
          "model_module_version": "1.2.0",
          "state": {
            "_model_module": "@jupyter-widgets/base",
            "_model_module_version": "1.2.0",
            "_model_name": "LayoutModel",
            "_view_count": null,
            "_view_module": "@jupyter-widgets/base",
            "_view_module_version": "1.2.0",
            "_view_name": "LayoutView",
            "align_content": null,
            "align_items": null,
            "align_self": null,
            "border": null,
            "bottom": null,
            "display": null,
            "flex": null,
            "flex_flow": null,
            "grid_area": null,
            "grid_auto_columns": null,
            "grid_auto_flow": null,
            "grid_auto_rows": null,
            "grid_column": null,
            "grid_gap": null,
            "grid_row": null,
            "grid_template_areas": null,
            "grid_template_columns": null,
            "grid_template_rows": null,
            "height": null,
            "justify_content": null,
            "justify_items": null,
            "left": null,
            "margin": null,
            "max_height": null,
            "max_width": null,
            "min_height": null,
            "min_width": null,
            "object_fit": null,
            "object_position": null,
            "order": null,
            "overflow": null,
            "overflow_x": null,
            "overflow_y": null,
            "padding": null,
            "right": null,
            "top": null,
            "visibility": null,
            "width": null
          }
        },
        "95d831e2bb8a4070ae7fdc602093ff81": {
          "model_module": "@jupyter-widgets/controls",
          "model_name": "DescriptionStyleModel",
          "model_module_version": "1.5.0",
          "state": {
            "_model_module": "@jupyter-widgets/controls",
            "_model_module_version": "1.5.0",
            "_model_name": "DescriptionStyleModel",
            "_view_count": null,
            "_view_module": "@jupyter-widgets/base",
            "_view_module_version": "1.2.0",
            "_view_name": "StyleView",
            "description_width": ""
          }
        },
        "b56b8d7aa1454083aa10620939c70258": {
          "model_module": "@jupyter-widgets/controls",
          "model_name": "HBoxModel",
          "model_module_version": "1.5.0",
          "state": {
            "_dom_classes": [],
            "_model_module": "@jupyter-widgets/controls",
            "_model_module_version": "1.5.0",
            "_model_name": "HBoxModel",
            "_view_count": null,
            "_view_module": "@jupyter-widgets/controls",
            "_view_module_version": "1.5.0",
            "_view_name": "HBoxView",
            "box_style": "",
            "children": [
              "IPY_MODEL_0b3fd681a6364afcbc9b876a808278bb",
              "IPY_MODEL_5ef1bb21029d40e7a657e47f2b5f39ee",
              "IPY_MODEL_16065a0f0cf94bc0b03c82ceebf43e55"
            ],
            "layout": "IPY_MODEL_8544e1e4fc3a42d096940b927fb5a6dc"
          }
        },
        "0b3fd681a6364afcbc9b876a808278bb": {
          "model_module": "@jupyter-widgets/controls",
          "model_name": "HTMLModel",
          "model_module_version": "1.5.0",
          "state": {
            "_dom_classes": [],
            "_model_module": "@jupyter-widgets/controls",
            "_model_module_version": "1.5.0",
            "_model_name": "HTMLModel",
            "_view_count": null,
            "_view_module": "@jupyter-widgets/controls",
            "_view_module_version": "1.5.0",
            "_view_name": "HTMLView",
            "description": "",
            "description_tooltip": null,
            "layout": "IPY_MODEL_fed15c7cdcac4ef595598e1f3986e21b",
            "placeholder": "​",
            "style": "IPY_MODEL_48c0611e7d344dbbbab7739bb0abf983",
            "value": "100%"
          }
        },
        "5ef1bb21029d40e7a657e47f2b5f39ee": {
          "model_module": "@jupyter-widgets/controls",
          "model_name": "FloatProgressModel",
          "model_module_version": "1.5.0",
          "state": {
            "_dom_classes": [],
            "_model_module": "@jupyter-widgets/controls",
            "_model_module_version": "1.5.0",
            "_model_name": "FloatProgressModel",
            "_view_count": null,
            "_view_module": "@jupyter-widgets/controls",
            "_view_module_version": "1.5.0",
            "_view_name": "ProgressView",
            "bar_style": "success",
            "description": "",
            "description_tooltip": null,
            "layout": "IPY_MODEL_a52848e6fc7e4e95849abb389ef4c8d5",
            "max": 170498071,
            "min": 0,
            "orientation": "horizontal",
            "style": "IPY_MODEL_fd10fc7328bb45bea2856db343f364e4",
            "value": 170498071
          }
        },
        "16065a0f0cf94bc0b03c82ceebf43e55": {
          "model_module": "@jupyter-widgets/controls",
          "model_name": "HTMLModel",
          "model_module_version": "1.5.0",
          "state": {
            "_dom_classes": [],
            "_model_module": "@jupyter-widgets/controls",
            "_model_module_version": "1.5.0",
            "_model_name": "HTMLModel",
            "_view_count": null,
            "_view_module": "@jupyter-widgets/controls",
            "_view_module_version": "1.5.0",
            "_view_name": "HTMLView",
            "description": "",
            "description_tooltip": null,
            "layout": "IPY_MODEL_dca43ddd63e240458c84cc33a502e1cb",
            "placeholder": "​",
            "style": "IPY_MODEL_c4cedb7072984bdcb97dac31e01de8a5",
            "value": " 170498071/170498071 [00:13&lt;00:00, 13504417.72it/s]"
          }
        },
        "8544e1e4fc3a42d096940b927fb5a6dc": {
          "model_module": "@jupyter-widgets/base",
          "model_name": "LayoutModel",
          "model_module_version": "1.2.0",
          "state": {
            "_model_module": "@jupyter-widgets/base",
            "_model_module_version": "1.2.0",
            "_model_name": "LayoutModel",
            "_view_count": null,
            "_view_module": "@jupyter-widgets/base",
            "_view_module_version": "1.2.0",
            "_view_name": "LayoutView",
            "align_content": null,
            "align_items": null,
            "align_self": null,
            "border": null,
            "bottom": null,
            "display": null,
            "flex": null,
            "flex_flow": null,
            "grid_area": null,
            "grid_auto_columns": null,
            "grid_auto_flow": null,
            "grid_auto_rows": null,
            "grid_column": null,
            "grid_gap": null,
            "grid_row": null,
            "grid_template_areas": null,
            "grid_template_columns": null,
            "grid_template_rows": null,
            "height": null,
            "justify_content": null,
            "justify_items": null,
            "left": null,
            "margin": null,
            "max_height": null,
            "max_width": null,
            "min_height": null,
            "min_width": null,
            "object_fit": null,
            "object_position": null,
            "order": null,
            "overflow": null,
            "overflow_x": null,
            "overflow_y": null,
            "padding": null,
            "right": null,
            "top": null,
            "visibility": null,
            "width": null
          }
        },
        "fed15c7cdcac4ef595598e1f3986e21b": {
          "model_module": "@jupyter-widgets/base",
          "model_name": "LayoutModel",
          "model_module_version": "1.2.0",
          "state": {
            "_model_module": "@jupyter-widgets/base",
            "_model_module_version": "1.2.0",
            "_model_name": "LayoutModel",
            "_view_count": null,
            "_view_module": "@jupyter-widgets/base",
            "_view_module_version": "1.2.0",
            "_view_name": "LayoutView",
            "align_content": null,
            "align_items": null,
            "align_self": null,
            "border": null,
            "bottom": null,
            "display": null,
            "flex": null,
            "flex_flow": null,
            "grid_area": null,
            "grid_auto_columns": null,
            "grid_auto_flow": null,
            "grid_auto_rows": null,
            "grid_column": null,
            "grid_gap": null,
            "grid_row": null,
            "grid_template_areas": null,
            "grid_template_columns": null,
            "grid_template_rows": null,
            "height": null,
            "justify_content": null,
            "justify_items": null,
            "left": null,
            "margin": null,
            "max_height": null,
            "max_width": null,
            "min_height": null,
            "min_width": null,
            "object_fit": null,
            "object_position": null,
            "order": null,
            "overflow": null,
            "overflow_x": null,
            "overflow_y": null,
            "padding": null,
            "right": null,
            "top": null,
            "visibility": null,
            "width": null
          }
        },
        "48c0611e7d344dbbbab7739bb0abf983": {
          "model_module": "@jupyter-widgets/controls",
          "model_name": "DescriptionStyleModel",
          "model_module_version": "1.5.0",
          "state": {
            "_model_module": "@jupyter-widgets/controls",
            "_model_module_version": "1.5.0",
            "_model_name": "DescriptionStyleModel",
            "_view_count": null,
            "_view_module": "@jupyter-widgets/base",
            "_view_module_version": "1.2.0",
            "_view_name": "StyleView",
            "description_width": ""
          }
        },
        "a52848e6fc7e4e95849abb389ef4c8d5": {
          "model_module": "@jupyter-widgets/base",
          "model_name": "LayoutModel",
          "model_module_version": "1.2.0",
          "state": {
            "_model_module": "@jupyter-widgets/base",
            "_model_module_version": "1.2.0",
            "_model_name": "LayoutModel",
            "_view_count": null,
            "_view_module": "@jupyter-widgets/base",
            "_view_module_version": "1.2.0",
            "_view_name": "LayoutView",
            "align_content": null,
            "align_items": null,
            "align_self": null,
            "border": null,
            "bottom": null,
            "display": null,
            "flex": null,
            "flex_flow": null,
            "grid_area": null,
            "grid_auto_columns": null,
            "grid_auto_flow": null,
            "grid_auto_rows": null,
            "grid_column": null,
            "grid_gap": null,
            "grid_row": null,
            "grid_template_areas": null,
            "grid_template_columns": null,
            "grid_template_rows": null,
            "height": null,
            "justify_content": null,
            "justify_items": null,
            "left": null,
            "margin": null,
            "max_height": null,
            "max_width": null,
            "min_height": null,
            "min_width": null,
            "object_fit": null,
            "object_position": null,
            "order": null,
            "overflow": null,
            "overflow_x": null,
            "overflow_y": null,
            "padding": null,
            "right": null,
            "top": null,
            "visibility": null,
            "width": null
          }
        },
        "fd10fc7328bb45bea2856db343f364e4": {
          "model_module": "@jupyter-widgets/controls",
          "model_name": "ProgressStyleModel",
          "model_module_version": "1.5.0",
          "state": {
            "_model_module": "@jupyter-widgets/controls",
            "_model_module_version": "1.5.0",
            "_model_name": "ProgressStyleModel",
            "_view_count": null,
            "_view_module": "@jupyter-widgets/base",
            "_view_module_version": "1.2.0",
            "_view_name": "StyleView",
            "bar_color": null,
            "description_width": ""
          }
        },
        "dca43ddd63e240458c84cc33a502e1cb": {
          "model_module": "@jupyter-widgets/base",
          "model_name": "LayoutModel",
          "model_module_version": "1.2.0",
          "state": {
            "_model_module": "@jupyter-widgets/base",
            "_model_module_version": "1.2.0",
            "_model_name": "LayoutModel",
            "_view_count": null,
            "_view_module": "@jupyter-widgets/base",
            "_view_module_version": "1.2.0",
            "_view_name": "LayoutView",
            "align_content": null,
            "align_items": null,
            "align_self": null,
            "border": null,
            "bottom": null,
            "display": null,
            "flex": null,
            "flex_flow": null,
            "grid_area": null,
            "grid_auto_columns": null,
            "grid_auto_flow": null,
            "grid_auto_rows": null,
            "grid_column": null,
            "grid_gap": null,
            "grid_row": null,
            "grid_template_areas": null,
            "grid_template_columns": null,
            "grid_template_rows": null,
            "height": null,
            "justify_content": null,
            "justify_items": null,
            "left": null,
            "margin": null,
            "max_height": null,
            "max_width": null,
            "min_height": null,
            "min_width": null,
            "object_fit": null,
            "object_position": null,
            "order": null,
            "overflow": null,
            "overflow_x": null,
            "overflow_y": null,
            "padding": null,
            "right": null,
            "top": null,
            "visibility": null,
            "width": null
          }
        },
        "c4cedb7072984bdcb97dac31e01de8a5": {
          "model_module": "@jupyter-widgets/controls",
          "model_name": "DescriptionStyleModel",
          "model_module_version": "1.5.0",
          "state": {
            "_model_module": "@jupyter-widgets/controls",
            "_model_module_version": "1.5.0",
            "_model_name": "DescriptionStyleModel",
            "_view_count": null,
            "_view_module": "@jupyter-widgets/base",
            "_view_module_version": "1.2.0",
            "_view_name": "StyleView",
            "description_width": ""
          }
        },
        "62d99e713ee84f02a866dfa5719e3b06": {
          "model_module": "@jupyter-widgets/controls",
          "model_name": "HBoxModel",
          "model_module_version": "1.5.0",
          "state": {
            "_dom_classes": [],
            "_model_module": "@jupyter-widgets/controls",
            "_model_module_version": "1.5.0",
            "_model_name": "HBoxModel",
            "_view_count": null,
            "_view_module": "@jupyter-widgets/controls",
            "_view_module_version": "1.5.0",
            "_view_name": "HBoxView",
            "box_style": "",
            "children": [
              "IPY_MODEL_413262c2949d49208b908ec52b224a9c",
              "IPY_MODEL_6b2a14d1e9d047ab8db419551c597633",
              "IPY_MODEL_bc198f4de650412d9ed6825d6eec24db"
            ],
            "layout": "IPY_MODEL_64cfc83d0c4a43b7b6d0aee89e1bfcb7"
          }
        },
        "413262c2949d49208b908ec52b224a9c": {
          "model_module": "@jupyter-widgets/controls",
          "model_name": "HTMLModel",
          "model_module_version": "1.5.0",
          "state": {
            "_dom_classes": [],
            "_model_module": "@jupyter-widgets/controls",
            "_model_module_version": "1.5.0",
            "_model_name": "HTMLModel",
            "_view_count": null,
            "_view_module": "@jupyter-widgets/controls",
            "_view_module_version": "1.5.0",
            "_view_name": "HTMLView",
            "description": "",
            "description_tooltip": null,
            "layout": "IPY_MODEL_faf1815f5b7d4d84921a4c6a1255ab3d",
            "placeholder": "​",
            "style": "IPY_MODEL_ccdc514a8e3b4dc2ba7eb4662e63ae07",
            "value": "100%"
          }
        },
        "6b2a14d1e9d047ab8db419551c597633": {
          "model_module": "@jupyter-widgets/controls",
          "model_name": "FloatProgressModel",
          "model_module_version": "1.5.0",
          "state": {
            "_dom_classes": [],
            "_model_module": "@jupyter-widgets/controls",
            "_model_module_version": "1.5.0",
            "_model_name": "FloatProgressModel",
            "_view_count": null,
            "_view_module": "@jupyter-widgets/controls",
            "_view_module_version": "1.5.0",
            "_view_name": "ProgressView",
            "bar_style": "success",
            "description": "",
            "description_tooltip": null,
            "layout": "IPY_MODEL_786615623265452981fef0b7b17f2b33",
            "max": 46830571,
            "min": 0,
            "orientation": "horizontal",
            "style": "IPY_MODEL_74971c5797214c84b3c737ba7994df9f",
            "value": 46830571
          }
        },
        "bc198f4de650412d9ed6825d6eec24db": {
          "model_module": "@jupyter-widgets/controls",
          "model_name": "HTMLModel",
          "model_module_version": "1.5.0",
          "state": {
            "_dom_classes": [],
            "_model_module": "@jupyter-widgets/controls",
            "_model_module_version": "1.5.0",
            "_model_name": "HTMLModel",
            "_view_count": null,
            "_view_module": "@jupyter-widgets/controls",
            "_view_module_version": "1.5.0",
            "_view_name": "HTMLView",
            "description": "",
            "description_tooltip": null,
            "layout": "IPY_MODEL_cff987d842074c5aab4eb03637f6c16d",
            "placeholder": "​",
            "style": "IPY_MODEL_cc9738532b3140199a5bc3f2846f1449",
            "value": " 44.7M/44.7M [00:00&lt;00:00, 114MB/s]"
          }
        },
        "64cfc83d0c4a43b7b6d0aee89e1bfcb7": {
          "model_module": "@jupyter-widgets/base",
          "model_name": "LayoutModel",
          "model_module_version": "1.2.0",
          "state": {
            "_model_module": "@jupyter-widgets/base",
            "_model_module_version": "1.2.0",
            "_model_name": "LayoutModel",
            "_view_count": null,
            "_view_module": "@jupyter-widgets/base",
            "_view_module_version": "1.2.0",
            "_view_name": "LayoutView",
            "align_content": null,
            "align_items": null,
            "align_self": null,
            "border": null,
            "bottom": null,
            "display": null,
            "flex": null,
            "flex_flow": null,
            "grid_area": null,
            "grid_auto_columns": null,
            "grid_auto_flow": null,
            "grid_auto_rows": null,
            "grid_column": null,
            "grid_gap": null,
            "grid_row": null,
            "grid_template_areas": null,
            "grid_template_columns": null,
            "grid_template_rows": null,
            "height": null,
            "justify_content": null,
            "justify_items": null,
            "left": null,
            "margin": null,
            "max_height": null,
            "max_width": null,
            "min_height": null,
            "min_width": null,
            "object_fit": null,
            "object_position": null,
            "order": null,
            "overflow": null,
            "overflow_x": null,
            "overflow_y": null,
            "padding": null,
            "right": null,
            "top": null,
            "visibility": null,
            "width": null
          }
        },
        "faf1815f5b7d4d84921a4c6a1255ab3d": {
          "model_module": "@jupyter-widgets/base",
          "model_name": "LayoutModel",
          "model_module_version": "1.2.0",
          "state": {
            "_model_module": "@jupyter-widgets/base",
            "_model_module_version": "1.2.0",
            "_model_name": "LayoutModel",
            "_view_count": null,
            "_view_module": "@jupyter-widgets/base",
            "_view_module_version": "1.2.0",
            "_view_name": "LayoutView",
            "align_content": null,
            "align_items": null,
            "align_self": null,
            "border": null,
            "bottom": null,
            "display": null,
            "flex": null,
            "flex_flow": null,
            "grid_area": null,
            "grid_auto_columns": null,
            "grid_auto_flow": null,
            "grid_auto_rows": null,
            "grid_column": null,
            "grid_gap": null,
            "grid_row": null,
            "grid_template_areas": null,
            "grid_template_columns": null,
            "grid_template_rows": null,
            "height": null,
            "justify_content": null,
            "justify_items": null,
            "left": null,
            "margin": null,
            "max_height": null,
            "max_width": null,
            "min_height": null,
            "min_width": null,
            "object_fit": null,
            "object_position": null,
            "order": null,
            "overflow": null,
            "overflow_x": null,
            "overflow_y": null,
            "padding": null,
            "right": null,
            "top": null,
            "visibility": null,
            "width": null
          }
        },
        "ccdc514a8e3b4dc2ba7eb4662e63ae07": {
          "model_module": "@jupyter-widgets/controls",
          "model_name": "DescriptionStyleModel",
          "model_module_version": "1.5.0",
          "state": {
            "_model_module": "@jupyter-widgets/controls",
            "_model_module_version": "1.5.0",
            "_model_name": "DescriptionStyleModel",
            "_view_count": null,
            "_view_module": "@jupyter-widgets/base",
            "_view_module_version": "1.2.0",
            "_view_name": "StyleView",
            "description_width": ""
          }
        },
        "786615623265452981fef0b7b17f2b33": {
          "model_module": "@jupyter-widgets/base",
          "model_name": "LayoutModel",
          "model_module_version": "1.2.0",
          "state": {
            "_model_module": "@jupyter-widgets/base",
            "_model_module_version": "1.2.0",
            "_model_name": "LayoutModel",
            "_view_count": null,
            "_view_module": "@jupyter-widgets/base",
            "_view_module_version": "1.2.0",
            "_view_name": "LayoutView",
            "align_content": null,
            "align_items": null,
            "align_self": null,
            "border": null,
            "bottom": null,
            "display": null,
            "flex": null,
            "flex_flow": null,
            "grid_area": null,
            "grid_auto_columns": null,
            "grid_auto_flow": null,
            "grid_auto_rows": null,
            "grid_column": null,
            "grid_gap": null,
            "grid_row": null,
            "grid_template_areas": null,
            "grid_template_columns": null,
            "grid_template_rows": null,
            "height": null,
            "justify_content": null,
            "justify_items": null,
            "left": null,
            "margin": null,
            "max_height": null,
            "max_width": null,
            "min_height": null,
            "min_width": null,
            "object_fit": null,
            "object_position": null,
            "order": null,
            "overflow": null,
            "overflow_x": null,
            "overflow_y": null,
            "padding": null,
            "right": null,
            "top": null,
            "visibility": null,
            "width": null
          }
        },
        "74971c5797214c84b3c737ba7994df9f": {
          "model_module": "@jupyter-widgets/controls",
          "model_name": "ProgressStyleModel",
          "model_module_version": "1.5.0",
          "state": {
            "_model_module": "@jupyter-widgets/controls",
            "_model_module_version": "1.5.0",
            "_model_name": "ProgressStyleModel",
            "_view_count": null,
            "_view_module": "@jupyter-widgets/base",
            "_view_module_version": "1.2.0",
            "_view_name": "StyleView",
            "bar_color": null,
            "description_width": ""
          }
        },
        "cff987d842074c5aab4eb03637f6c16d": {
          "model_module": "@jupyter-widgets/base",
          "model_name": "LayoutModel",
          "model_module_version": "1.2.0",
          "state": {
            "_model_module": "@jupyter-widgets/base",
            "_model_module_version": "1.2.0",
            "_model_name": "LayoutModel",
            "_view_count": null,
            "_view_module": "@jupyter-widgets/base",
            "_view_module_version": "1.2.0",
            "_view_name": "LayoutView",
            "align_content": null,
            "align_items": null,
            "align_self": null,
            "border": null,
            "bottom": null,
            "display": null,
            "flex": null,
            "flex_flow": null,
            "grid_area": null,
            "grid_auto_columns": null,
            "grid_auto_flow": null,
            "grid_auto_rows": null,
            "grid_column": null,
            "grid_gap": null,
            "grid_row": null,
            "grid_template_areas": null,
            "grid_template_columns": null,
            "grid_template_rows": null,
            "height": null,
            "justify_content": null,
            "justify_items": null,
            "left": null,
            "margin": null,
            "max_height": null,
            "max_width": null,
            "min_height": null,
            "min_width": null,
            "object_fit": null,
            "object_position": null,
            "order": null,
            "overflow": null,
            "overflow_x": null,
            "overflow_y": null,
            "padding": null,
            "right": null,
            "top": null,
            "visibility": null,
            "width": null
          }
        },
        "cc9738532b3140199a5bc3f2846f1449": {
          "model_module": "@jupyter-widgets/controls",
          "model_name": "DescriptionStyleModel",
          "model_module_version": "1.5.0",
          "state": {
            "_model_module": "@jupyter-widgets/controls",
            "_model_module_version": "1.5.0",
            "_model_name": "DescriptionStyleModel",
            "_view_count": null,
            "_view_module": "@jupyter-widgets/base",
            "_view_module_version": "1.2.0",
            "_view_name": "StyleView",
            "description_width": ""
          }
        },
        "36ae0286b5894a6487090074e3d16d72": {
          "model_module": "@jupyter-widgets/controls",
          "model_name": "HBoxModel",
          "model_module_version": "1.5.0",
          "state": {
            "_dom_classes": [],
            "_model_module": "@jupyter-widgets/controls",
            "_model_module_version": "1.5.0",
            "_model_name": "HBoxModel",
            "_view_count": null,
            "_view_module": "@jupyter-widgets/controls",
            "_view_module_version": "1.5.0",
            "_view_name": "HBoxView",
            "box_style": "",
            "children": [
              "IPY_MODEL_13aa6846ba934bc687f4b0eb9195bde9",
              "IPY_MODEL_65f7acc4c96a4c34904af2339c6269e5",
              "IPY_MODEL_a7bc6b38da6a4c91bf442b82bf61ffdf"
            ],
            "layout": "IPY_MODEL_4bdd55970f2642359c833e2bb2cd310c"
          }
        },
        "13aa6846ba934bc687f4b0eb9195bde9": {
          "model_module": "@jupyter-widgets/controls",
          "model_name": "HTMLModel",
          "model_module_version": "1.5.0",
          "state": {
            "_dom_classes": [],
            "_model_module": "@jupyter-widgets/controls",
            "_model_module_version": "1.5.0",
            "_model_name": "HTMLModel",
            "_view_count": null,
            "_view_module": "@jupyter-widgets/controls",
            "_view_module_version": "1.5.0",
            "_view_name": "HTMLView",
            "description": "",
            "description_tooltip": null,
            "layout": "IPY_MODEL_2d9da6d61ca6429db1fc48975cec094d",
            "placeholder": "​",
            "style": "IPY_MODEL_7cc081d116af4442b2827d1a8af700d2",
            "value": "100%"
          }
        },
        "65f7acc4c96a4c34904af2339c6269e5": {
          "model_module": "@jupyter-widgets/controls",
          "model_name": "FloatProgressModel",
          "model_module_version": "1.5.0",
          "state": {
            "_dom_classes": [],
            "_model_module": "@jupyter-widgets/controls",
            "_model_module_version": "1.5.0",
            "_model_name": "FloatProgressModel",
            "_view_count": null,
            "_view_module": "@jupyter-widgets/controls",
            "_view_module_version": "1.5.0",
            "_view_name": "ProgressView",
            "bar_style": "success",
            "description": "",
            "description_tooltip": null,
            "layout": "IPY_MODEL_d764c0888f054d3aa5eb170621c65c57",
            "max": 46830571,
            "min": 0,
            "orientation": "horizontal",
            "style": "IPY_MODEL_c906b995eede41b0bd1cc7c4a495a297",
            "value": 46830571
          }
        },
        "a7bc6b38da6a4c91bf442b82bf61ffdf": {
          "model_module": "@jupyter-widgets/controls",
          "model_name": "HTMLModel",
          "model_module_version": "1.5.0",
          "state": {
            "_dom_classes": [],
            "_model_module": "@jupyter-widgets/controls",
            "_model_module_version": "1.5.0",
            "_model_name": "HTMLModel",
            "_view_count": null,
            "_view_module": "@jupyter-widgets/controls",
            "_view_module_version": "1.5.0",
            "_view_name": "HTMLView",
            "description": "",
            "description_tooltip": null,
            "layout": "IPY_MODEL_af1cbdbe118044fea5f8257bba8c266a",
            "placeholder": "​",
            "style": "IPY_MODEL_79cc1c9089924aab9c7c5aeb876d5d06",
            "value": " 44.7M/44.7M [00:00&lt;00:00, 165MB/s]"
          }
        },
        "4bdd55970f2642359c833e2bb2cd310c": {
          "model_module": "@jupyter-widgets/base",
          "model_name": "LayoutModel",
          "model_module_version": "1.2.0",
          "state": {
            "_model_module": "@jupyter-widgets/base",
            "_model_module_version": "1.2.0",
            "_model_name": "LayoutModel",
            "_view_count": null,
            "_view_module": "@jupyter-widgets/base",
            "_view_module_version": "1.2.0",
            "_view_name": "LayoutView",
            "align_content": null,
            "align_items": null,
            "align_self": null,
            "border": null,
            "bottom": null,
            "display": null,
            "flex": null,
            "flex_flow": null,
            "grid_area": null,
            "grid_auto_columns": null,
            "grid_auto_flow": null,
            "grid_auto_rows": null,
            "grid_column": null,
            "grid_gap": null,
            "grid_row": null,
            "grid_template_areas": null,
            "grid_template_columns": null,
            "grid_template_rows": null,
            "height": null,
            "justify_content": null,
            "justify_items": null,
            "left": null,
            "margin": null,
            "max_height": null,
            "max_width": null,
            "min_height": null,
            "min_width": null,
            "object_fit": null,
            "object_position": null,
            "order": null,
            "overflow": null,
            "overflow_x": null,
            "overflow_y": null,
            "padding": null,
            "right": null,
            "top": null,
            "visibility": null,
            "width": null
          }
        },
        "2d9da6d61ca6429db1fc48975cec094d": {
          "model_module": "@jupyter-widgets/base",
          "model_name": "LayoutModel",
          "model_module_version": "1.2.0",
          "state": {
            "_model_module": "@jupyter-widgets/base",
            "_model_module_version": "1.2.0",
            "_model_name": "LayoutModel",
            "_view_count": null,
            "_view_module": "@jupyter-widgets/base",
            "_view_module_version": "1.2.0",
            "_view_name": "LayoutView",
            "align_content": null,
            "align_items": null,
            "align_self": null,
            "border": null,
            "bottom": null,
            "display": null,
            "flex": null,
            "flex_flow": null,
            "grid_area": null,
            "grid_auto_columns": null,
            "grid_auto_flow": null,
            "grid_auto_rows": null,
            "grid_column": null,
            "grid_gap": null,
            "grid_row": null,
            "grid_template_areas": null,
            "grid_template_columns": null,
            "grid_template_rows": null,
            "height": null,
            "justify_content": null,
            "justify_items": null,
            "left": null,
            "margin": null,
            "max_height": null,
            "max_width": null,
            "min_height": null,
            "min_width": null,
            "object_fit": null,
            "object_position": null,
            "order": null,
            "overflow": null,
            "overflow_x": null,
            "overflow_y": null,
            "padding": null,
            "right": null,
            "top": null,
            "visibility": null,
            "width": null
          }
        },
        "7cc081d116af4442b2827d1a8af700d2": {
          "model_module": "@jupyter-widgets/controls",
          "model_name": "DescriptionStyleModel",
          "model_module_version": "1.5.0",
          "state": {
            "_model_module": "@jupyter-widgets/controls",
            "_model_module_version": "1.5.0",
            "_model_name": "DescriptionStyleModel",
            "_view_count": null,
            "_view_module": "@jupyter-widgets/base",
            "_view_module_version": "1.2.0",
            "_view_name": "StyleView",
            "description_width": ""
          }
        },
        "d764c0888f054d3aa5eb170621c65c57": {
          "model_module": "@jupyter-widgets/base",
          "model_name": "LayoutModel",
          "model_module_version": "1.2.0",
          "state": {
            "_model_module": "@jupyter-widgets/base",
            "_model_module_version": "1.2.0",
            "_model_name": "LayoutModel",
            "_view_count": null,
            "_view_module": "@jupyter-widgets/base",
            "_view_module_version": "1.2.0",
            "_view_name": "LayoutView",
            "align_content": null,
            "align_items": null,
            "align_self": null,
            "border": null,
            "bottom": null,
            "display": null,
            "flex": null,
            "flex_flow": null,
            "grid_area": null,
            "grid_auto_columns": null,
            "grid_auto_flow": null,
            "grid_auto_rows": null,
            "grid_column": null,
            "grid_gap": null,
            "grid_row": null,
            "grid_template_areas": null,
            "grid_template_columns": null,
            "grid_template_rows": null,
            "height": null,
            "justify_content": null,
            "justify_items": null,
            "left": null,
            "margin": null,
            "max_height": null,
            "max_width": null,
            "min_height": null,
            "min_width": null,
            "object_fit": null,
            "object_position": null,
            "order": null,
            "overflow": null,
            "overflow_x": null,
            "overflow_y": null,
            "padding": null,
            "right": null,
            "top": null,
            "visibility": null,
            "width": null
          }
        },
        "c906b995eede41b0bd1cc7c4a495a297": {
          "model_module": "@jupyter-widgets/controls",
          "model_name": "ProgressStyleModel",
          "model_module_version": "1.5.0",
          "state": {
            "_model_module": "@jupyter-widgets/controls",
            "_model_module_version": "1.5.0",
            "_model_name": "ProgressStyleModel",
            "_view_count": null,
            "_view_module": "@jupyter-widgets/base",
            "_view_module_version": "1.2.0",
            "_view_name": "StyleView",
            "bar_color": null,
            "description_width": ""
          }
        },
        "af1cbdbe118044fea5f8257bba8c266a": {
          "model_module": "@jupyter-widgets/base",
          "model_name": "LayoutModel",
          "model_module_version": "1.2.0",
          "state": {
            "_model_module": "@jupyter-widgets/base",
            "_model_module_version": "1.2.0",
            "_model_name": "LayoutModel",
            "_view_count": null,
            "_view_module": "@jupyter-widgets/base",
            "_view_module_version": "1.2.0",
            "_view_name": "LayoutView",
            "align_content": null,
            "align_items": null,
            "align_self": null,
            "border": null,
            "bottom": null,
            "display": null,
            "flex": null,
            "flex_flow": null,
            "grid_area": null,
            "grid_auto_columns": null,
            "grid_auto_flow": null,
            "grid_auto_rows": null,
            "grid_column": null,
            "grid_gap": null,
            "grid_row": null,
            "grid_template_areas": null,
            "grid_template_columns": null,
            "grid_template_rows": null,
            "height": null,
            "justify_content": null,
            "justify_items": null,
            "left": null,
            "margin": null,
            "max_height": null,
            "max_width": null,
            "min_height": null,
            "min_width": null,
            "object_fit": null,
            "object_position": null,
            "order": null,
            "overflow": null,
            "overflow_x": null,
            "overflow_y": null,
            "padding": null,
            "right": null,
            "top": null,
            "visibility": null,
            "width": null
          }
        },
        "79cc1c9089924aab9c7c5aeb876d5d06": {
          "model_module": "@jupyter-widgets/controls",
          "model_name": "DescriptionStyleModel",
          "model_module_version": "1.5.0",
          "state": {
            "_model_module": "@jupyter-widgets/controls",
            "_model_module_version": "1.5.0",
            "_model_name": "DescriptionStyleModel",
            "_view_count": null,
            "_view_module": "@jupyter-widgets/base",
            "_view_module_version": "1.2.0",
            "_view_name": "StyleView",
            "description_width": ""
          }
        }
      }
    }
  },
  "nbformat": 4,
  "nbformat_minor": 0
}
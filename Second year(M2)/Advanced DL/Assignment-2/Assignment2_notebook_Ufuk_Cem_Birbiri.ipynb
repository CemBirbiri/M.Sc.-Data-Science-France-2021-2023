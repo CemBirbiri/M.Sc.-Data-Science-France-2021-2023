{
  "nbformat": 4,
  "nbformat_minor": 0,
  "metadata": {
    "colab": {
      "provenance": [],
      "collapsed_sections": []
    },
    "kernelspec": {
      "name": "python3",
      "display_name": "Python 3"
    },
    "language_info": {
      "name": "python"
    },
    "accelerator": "GPU",
    "gpuClass": "standard",
    "widgets": {
      "application/vnd.jupyter.widget-state+json": {
        "7075e99fcf6a40028f8f460bce409d09": {
          "model_module": "@jupyter-widgets/controls",
          "model_name": "HBoxModel",
          "model_module_version": "1.5.0",
          "state": {
            "_dom_classes": [],
            "_model_module": "@jupyter-widgets/controls",
            "_model_module_version": "1.5.0",
            "_model_name": "HBoxModel",
            "_view_count": null,
            "_view_module": "@jupyter-widgets/controls",
            "_view_module_version": "1.5.0",
            "_view_name": "HBoxView",
            "box_style": "",
            "children": [
              "IPY_MODEL_4cd163510b3447b680c06bbe8424c98f",
              "IPY_MODEL_ca6723ce4096449fa0c12c28479177b4",
              "IPY_MODEL_8e45e9bd437c43428fe849fc263b7d8a"
            ],
            "layout": "IPY_MODEL_c2520f829621455596fd845d59db9065"
          }
        },
        "4cd163510b3447b680c06bbe8424c98f": {
          "model_module": "@jupyter-widgets/controls",
          "model_name": "HTMLModel",
          "model_module_version": "1.5.0",
          "state": {
            "_dom_classes": [],
            "_model_module": "@jupyter-widgets/controls",
            "_model_module_version": "1.5.0",
            "_model_name": "HTMLModel",
            "_view_count": null,
            "_view_module": "@jupyter-widgets/controls",
            "_view_module_version": "1.5.0",
            "_view_name": "HTMLView",
            "description": "",
            "description_tooltip": null,
            "layout": "IPY_MODEL_845ecccc636e4fb78b48fdd992b109de",
            "placeholder": "​",
            "style": "IPY_MODEL_91ef64905a5d45a69c04c1cf52ec76cf",
            "value": "100%"
          }
        },
        "ca6723ce4096449fa0c12c28479177b4": {
          "model_module": "@jupyter-widgets/controls",
          "model_name": "FloatProgressModel",
          "model_module_version": "1.5.0",
          "state": {
            "_dom_classes": [],
            "_model_module": "@jupyter-widgets/controls",
            "_model_module_version": "1.5.0",
            "_model_name": "FloatProgressModel",
            "_view_count": null,
            "_view_module": "@jupyter-widgets/controls",
            "_view_module_version": "1.5.0",
            "_view_name": "ProgressView",
            "bar_style": "success",
            "description": "",
            "description_tooltip": null,
            "layout": "IPY_MODEL_896331cd0c6542429d43cb214c03554f",
            "max": 9912422,
            "min": 0,
            "orientation": "horizontal",
            "style": "IPY_MODEL_96738f73a0c0468099b4f638368e6446",
            "value": 9912422
          }
        },
        "8e45e9bd437c43428fe849fc263b7d8a": {
          "model_module": "@jupyter-widgets/controls",
          "model_name": "HTMLModel",
          "model_module_version": "1.5.0",
          "state": {
            "_dom_classes": [],
            "_model_module": "@jupyter-widgets/controls",
            "_model_module_version": "1.5.0",
            "_model_name": "HTMLModel",
            "_view_count": null,
            "_view_module": "@jupyter-widgets/controls",
            "_view_module_version": "1.5.0",
            "_view_name": "HTMLView",
            "description": "",
            "description_tooltip": null,
            "layout": "IPY_MODEL_87afbddb28154775bc1fae42abe32470",
            "placeholder": "​",
            "style": "IPY_MODEL_9495581568324894a1f548d17da2c8b5",
            "value": " 9912422/9912422 [00:00&lt;00:00, 14958040.02it/s]"
          }
        },
        "c2520f829621455596fd845d59db9065": {
          "model_module": "@jupyter-widgets/base",
          "model_name": "LayoutModel",
          "model_module_version": "1.2.0",
          "state": {
            "_model_module": "@jupyter-widgets/base",
            "_model_module_version": "1.2.0",
            "_model_name": "LayoutModel",
            "_view_count": null,
            "_view_module": "@jupyter-widgets/base",
            "_view_module_version": "1.2.0",
            "_view_name": "LayoutView",
            "align_content": null,
            "align_items": null,
            "align_self": null,
            "border": null,
            "bottom": null,
            "display": null,
            "flex": null,
            "flex_flow": null,
            "grid_area": null,
            "grid_auto_columns": null,
            "grid_auto_flow": null,
            "grid_auto_rows": null,
            "grid_column": null,
            "grid_gap": null,
            "grid_row": null,
            "grid_template_areas": null,
            "grid_template_columns": null,
            "grid_template_rows": null,
            "height": null,
            "justify_content": null,
            "justify_items": null,
            "left": null,
            "margin": null,
            "max_height": null,
            "max_width": null,
            "min_height": null,
            "min_width": null,
            "object_fit": null,
            "object_position": null,
            "order": null,
            "overflow": null,
            "overflow_x": null,
            "overflow_y": null,
            "padding": null,
            "right": null,
            "top": null,
            "visibility": null,
            "width": null
          }
        },
        "845ecccc636e4fb78b48fdd992b109de": {
          "model_module": "@jupyter-widgets/base",
          "model_name": "LayoutModel",
          "model_module_version": "1.2.0",
          "state": {
            "_model_module": "@jupyter-widgets/base",
            "_model_module_version": "1.2.0",
            "_model_name": "LayoutModel",
            "_view_count": null,
            "_view_module": "@jupyter-widgets/base",
            "_view_module_version": "1.2.0",
            "_view_name": "LayoutView",
            "align_content": null,
            "align_items": null,
            "align_self": null,
            "border": null,
            "bottom": null,
            "display": null,
            "flex": null,
            "flex_flow": null,
            "grid_area": null,
            "grid_auto_columns": null,
            "grid_auto_flow": null,
            "grid_auto_rows": null,
            "grid_column": null,
            "grid_gap": null,
            "grid_row": null,
            "grid_template_areas": null,
            "grid_template_columns": null,
            "grid_template_rows": null,
            "height": null,
            "justify_content": null,
            "justify_items": null,
            "left": null,
            "margin": null,
            "max_height": null,
            "max_width": null,
            "min_height": null,
            "min_width": null,
            "object_fit": null,
            "object_position": null,
            "order": null,
            "overflow": null,
            "overflow_x": null,
            "overflow_y": null,
            "padding": null,
            "right": null,
            "top": null,
            "visibility": null,
            "width": null
          }
        },
        "91ef64905a5d45a69c04c1cf52ec76cf": {
          "model_module": "@jupyter-widgets/controls",
          "model_name": "DescriptionStyleModel",
          "model_module_version": "1.5.0",
          "state": {
            "_model_module": "@jupyter-widgets/controls",
            "_model_module_version": "1.5.0",
            "_model_name": "DescriptionStyleModel",
            "_view_count": null,
            "_view_module": "@jupyter-widgets/base",
            "_view_module_version": "1.2.0",
            "_view_name": "StyleView",
            "description_width": ""
          }
        },
        "896331cd0c6542429d43cb214c03554f": {
          "model_module": "@jupyter-widgets/base",
          "model_name": "LayoutModel",
          "model_module_version": "1.2.0",
          "state": {
            "_model_module": "@jupyter-widgets/base",
            "_model_module_version": "1.2.0",
            "_model_name": "LayoutModel",
            "_view_count": null,
            "_view_module": "@jupyter-widgets/base",
            "_view_module_version": "1.2.0",
            "_view_name": "LayoutView",
            "align_content": null,
            "align_items": null,
            "align_self": null,
            "border": null,
            "bottom": null,
            "display": null,
            "flex": null,
            "flex_flow": null,
            "grid_area": null,
            "grid_auto_columns": null,
            "grid_auto_flow": null,
            "grid_auto_rows": null,
            "grid_column": null,
            "grid_gap": null,
            "grid_row": null,
            "grid_template_areas": null,
            "grid_template_columns": null,
            "grid_template_rows": null,
            "height": null,
            "justify_content": null,
            "justify_items": null,
            "left": null,
            "margin": null,
            "max_height": null,
            "max_width": null,
            "min_height": null,
            "min_width": null,
            "object_fit": null,
            "object_position": null,
            "order": null,
            "overflow": null,
            "overflow_x": null,
            "overflow_y": null,
            "padding": null,
            "right": null,
            "top": null,
            "visibility": null,
            "width": null
          }
        },
        "96738f73a0c0468099b4f638368e6446": {
          "model_module": "@jupyter-widgets/controls",
          "model_name": "ProgressStyleModel",
          "model_module_version": "1.5.0",
          "state": {
            "_model_module": "@jupyter-widgets/controls",
            "_model_module_version": "1.5.0",
            "_model_name": "ProgressStyleModel",
            "_view_count": null,
            "_view_module": "@jupyter-widgets/base",
            "_view_module_version": "1.2.0",
            "_view_name": "StyleView",
            "bar_color": null,
            "description_width": ""
          }
        },
        "87afbddb28154775bc1fae42abe32470": {
          "model_module": "@jupyter-widgets/base",
          "model_name": "LayoutModel",
          "model_module_version": "1.2.0",
          "state": {
            "_model_module": "@jupyter-widgets/base",
            "_model_module_version": "1.2.0",
            "_model_name": "LayoutModel",
            "_view_count": null,
            "_view_module": "@jupyter-widgets/base",
            "_view_module_version": "1.2.0",
            "_view_name": "LayoutView",
            "align_content": null,
            "align_items": null,
            "align_self": null,
            "border": null,
            "bottom": null,
            "display": null,
            "flex": null,
            "flex_flow": null,
            "grid_area": null,
            "grid_auto_columns": null,
            "grid_auto_flow": null,
            "grid_auto_rows": null,
            "grid_column": null,
            "grid_gap": null,
            "grid_row": null,
            "grid_template_areas": null,
            "grid_template_columns": null,
            "grid_template_rows": null,
            "height": null,
            "justify_content": null,
            "justify_items": null,
            "left": null,
            "margin": null,
            "max_height": null,
            "max_width": null,
            "min_height": null,
            "min_width": null,
            "object_fit": null,
            "object_position": null,
            "order": null,
            "overflow": null,
            "overflow_x": null,
            "overflow_y": null,
            "padding": null,
            "right": null,
            "top": null,
            "visibility": null,
            "width": null
          }
        },
        "9495581568324894a1f548d17da2c8b5": {
          "model_module": "@jupyter-widgets/controls",
          "model_name": "DescriptionStyleModel",
          "model_module_version": "1.5.0",
          "state": {
            "_model_module": "@jupyter-widgets/controls",
            "_model_module_version": "1.5.0",
            "_model_name": "DescriptionStyleModel",
            "_view_count": null,
            "_view_module": "@jupyter-widgets/base",
            "_view_module_version": "1.2.0",
            "_view_name": "StyleView",
            "description_width": ""
          }
        },
        "ca5dd826b673410886b2c30476fb441a": {
          "model_module": "@jupyter-widgets/controls",
          "model_name": "HBoxModel",
          "model_module_version": "1.5.0",
          "state": {
            "_dom_classes": [],
            "_model_module": "@jupyter-widgets/controls",
            "_model_module_version": "1.5.0",
            "_model_name": "HBoxModel",
            "_view_count": null,
            "_view_module": "@jupyter-widgets/controls",
            "_view_module_version": "1.5.0",
            "_view_name": "HBoxView",
            "box_style": "",
            "children": [
              "IPY_MODEL_c1d663f5f950468db3fe6c9ea20aaf6e",
              "IPY_MODEL_4ffbdf1c1c504f749cc691f37a07900a",
              "IPY_MODEL_4181eb9efca441759d1639f91e5180b7"
            ],
            "layout": "IPY_MODEL_69d79781c2a3429da0b05a10dcb3fae9"
          }
        },
        "c1d663f5f950468db3fe6c9ea20aaf6e": {
          "model_module": "@jupyter-widgets/controls",
          "model_name": "HTMLModel",
          "model_module_version": "1.5.0",
          "state": {
            "_dom_classes": [],
            "_model_module": "@jupyter-widgets/controls",
            "_model_module_version": "1.5.0",
            "_model_name": "HTMLModel",
            "_view_count": null,
            "_view_module": "@jupyter-widgets/controls",
            "_view_module_version": "1.5.0",
            "_view_name": "HTMLView",
            "description": "",
            "description_tooltip": null,
            "layout": "IPY_MODEL_a0830e0dc05043c6874c1594c42f5cec",
            "placeholder": "​",
            "style": "IPY_MODEL_54445349eefe4806be1537a31cb3eafb",
            "value": "100%"
          }
        },
        "4ffbdf1c1c504f749cc691f37a07900a": {
          "model_module": "@jupyter-widgets/controls",
          "model_name": "FloatProgressModel",
          "model_module_version": "1.5.0",
          "state": {
            "_dom_classes": [],
            "_model_module": "@jupyter-widgets/controls",
            "_model_module_version": "1.5.0",
            "_model_name": "FloatProgressModel",
            "_view_count": null,
            "_view_module": "@jupyter-widgets/controls",
            "_view_module_version": "1.5.0",
            "_view_name": "ProgressView",
            "bar_style": "success",
            "description": "",
            "description_tooltip": null,
            "layout": "IPY_MODEL_a251f76ed8394b2989fd6855a3df7da0",
            "max": 28881,
            "min": 0,
            "orientation": "horizontal",
            "style": "IPY_MODEL_31edd1e86746406885d3ffc91b66c227",
            "value": 28881
          }
        },
        "4181eb9efca441759d1639f91e5180b7": {
          "model_module": "@jupyter-widgets/controls",
          "model_name": "HTMLModel",
          "model_module_version": "1.5.0",
          "state": {
            "_dom_classes": [],
            "_model_module": "@jupyter-widgets/controls",
            "_model_module_version": "1.5.0",
            "_model_name": "HTMLModel",
            "_view_count": null,
            "_view_module": "@jupyter-widgets/controls",
            "_view_module_version": "1.5.0",
            "_view_name": "HTMLView",
            "description": "",
            "description_tooltip": null,
            "layout": "IPY_MODEL_91dd85bb90ee44aaa65d9bdc69b8624a",
            "placeholder": "​",
            "style": "IPY_MODEL_98904c5fd6f841f895af3514864ba2d8",
            "value": " 28881/28881 [00:00&lt;00:00, 563254.17it/s]"
          }
        },
        "69d79781c2a3429da0b05a10dcb3fae9": {
          "model_module": "@jupyter-widgets/base",
          "model_name": "LayoutModel",
          "model_module_version": "1.2.0",
          "state": {
            "_model_module": "@jupyter-widgets/base",
            "_model_module_version": "1.2.0",
            "_model_name": "LayoutModel",
            "_view_count": null,
            "_view_module": "@jupyter-widgets/base",
            "_view_module_version": "1.2.0",
            "_view_name": "LayoutView",
            "align_content": null,
            "align_items": null,
            "align_self": null,
            "border": null,
            "bottom": null,
            "display": null,
            "flex": null,
            "flex_flow": null,
            "grid_area": null,
            "grid_auto_columns": null,
            "grid_auto_flow": null,
            "grid_auto_rows": null,
            "grid_column": null,
            "grid_gap": null,
            "grid_row": null,
            "grid_template_areas": null,
            "grid_template_columns": null,
            "grid_template_rows": null,
            "height": null,
            "justify_content": null,
            "justify_items": null,
            "left": null,
            "margin": null,
            "max_height": null,
            "max_width": null,
            "min_height": null,
            "min_width": null,
            "object_fit": null,
            "object_position": null,
            "order": null,
            "overflow": null,
            "overflow_x": null,
            "overflow_y": null,
            "padding": null,
            "right": null,
            "top": null,
            "visibility": null,
            "width": null
          }
        },
        "a0830e0dc05043c6874c1594c42f5cec": {
          "model_module": "@jupyter-widgets/base",
          "model_name": "LayoutModel",
          "model_module_version": "1.2.0",
          "state": {
            "_model_module": "@jupyter-widgets/base",
            "_model_module_version": "1.2.0",
            "_model_name": "LayoutModel",
            "_view_count": null,
            "_view_module": "@jupyter-widgets/base",
            "_view_module_version": "1.2.0",
            "_view_name": "LayoutView",
            "align_content": null,
            "align_items": null,
            "align_self": null,
            "border": null,
            "bottom": null,
            "display": null,
            "flex": null,
            "flex_flow": null,
            "grid_area": null,
            "grid_auto_columns": null,
            "grid_auto_flow": null,
            "grid_auto_rows": null,
            "grid_column": null,
            "grid_gap": null,
            "grid_row": null,
            "grid_template_areas": null,
            "grid_template_columns": null,
            "grid_template_rows": null,
            "height": null,
            "justify_content": null,
            "justify_items": null,
            "left": null,
            "margin": null,
            "max_height": null,
            "max_width": null,
            "min_height": null,
            "min_width": null,
            "object_fit": null,
            "object_position": null,
            "order": null,
            "overflow": null,
            "overflow_x": null,
            "overflow_y": null,
            "padding": null,
            "right": null,
            "top": null,
            "visibility": null,
            "width": null
          }
        },
        "54445349eefe4806be1537a31cb3eafb": {
          "model_module": "@jupyter-widgets/controls",
          "model_name": "DescriptionStyleModel",
          "model_module_version": "1.5.0",
          "state": {
            "_model_module": "@jupyter-widgets/controls",
            "_model_module_version": "1.5.0",
            "_model_name": "DescriptionStyleModel",
            "_view_count": null,
            "_view_module": "@jupyter-widgets/base",
            "_view_module_version": "1.2.0",
            "_view_name": "StyleView",
            "description_width": ""
          }
        },
        "a251f76ed8394b2989fd6855a3df7da0": {
          "model_module": "@jupyter-widgets/base",
          "model_name": "LayoutModel",
          "model_module_version": "1.2.0",
          "state": {
            "_model_module": "@jupyter-widgets/base",
            "_model_module_version": "1.2.0",
            "_model_name": "LayoutModel",
            "_view_count": null,
            "_view_module": "@jupyter-widgets/base",
            "_view_module_version": "1.2.0",
            "_view_name": "LayoutView",
            "align_content": null,
            "align_items": null,
            "align_self": null,
            "border": null,
            "bottom": null,
            "display": null,
            "flex": null,
            "flex_flow": null,
            "grid_area": null,
            "grid_auto_columns": null,
            "grid_auto_flow": null,
            "grid_auto_rows": null,
            "grid_column": null,
            "grid_gap": null,
            "grid_row": null,
            "grid_template_areas": null,
            "grid_template_columns": null,
            "grid_template_rows": null,
            "height": null,
            "justify_content": null,
            "justify_items": null,
            "left": null,
            "margin": null,
            "max_height": null,
            "max_width": null,
            "min_height": null,
            "min_width": null,
            "object_fit": null,
            "object_position": null,
            "order": null,
            "overflow": null,
            "overflow_x": null,
            "overflow_y": null,
            "padding": null,
            "right": null,
            "top": null,
            "visibility": null,
            "width": null
          }
        },
        "31edd1e86746406885d3ffc91b66c227": {
          "model_module": "@jupyter-widgets/controls",
          "model_name": "ProgressStyleModel",
          "model_module_version": "1.5.0",
          "state": {
            "_model_module": "@jupyter-widgets/controls",
            "_model_module_version": "1.5.0",
            "_model_name": "ProgressStyleModel",
            "_view_count": null,
            "_view_module": "@jupyter-widgets/base",
            "_view_module_version": "1.2.0",
            "_view_name": "StyleView",
            "bar_color": null,
            "description_width": ""
          }
        },
        "91dd85bb90ee44aaa65d9bdc69b8624a": {
          "model_module": "@jupyter-widgets/base",
          "model_name": "LayoutModel",
          "model_module_version": "1.2.0",
          "state": {
            "_model_module": "@jupyter-widgets/base",
            "_model_module_version": "1.2.0",
            "_model_name": "LayoutModel",
            "_view_count": null,
            "_view_module": "@jupyter-widgets/base",
            "_view_module_version": "1.2.0",
            "_view_name": "LayoutView",
            "align_content": null,
            "align_items": null,
            "align_self": null,
            "border": null,
            "bottom": null,
            "display": null,
            "flex": null,
            "flex_flow": null,
            "grid_area": null,
            "grid_auto_columns": null,
            "grid_auto_flow": null,
            "grid_auto_rows": null,
            "grid_column": null,
            "grid_gap": null,
            "grid_row": null,
            "grid_template_areas": null,
            "grid_template_columns": null,
            "grid_template_rows": null,
            "height": null,
            "justify_content": null,
            "justify_items": null,
            "left": null,
            "margin": null,
            "max_height": null,
            "max_width": null,
            "min_height": null,
            "min_width": null,
            "object_fit": null,
            "object_position": null,
            "order": null,
            "overflow": null,
            "overflow_x": null,
            "overflow_y": null,
            "padding": null,
            "right": null,
            "top": null,
            "visibility": null,
            "width": null
          }
        },
        "98904c5fd6f841f895af3514864ba2d8": {
          "model_module": "@jupyter-widgets/controls",
          "model_name": "DescriptionStyleModel",
          "model_module_version": "1.5.0",
          "state": {
            "_model_module": "@jupyter-widgets/controls",
            "_model_module_version": "1.5.0",
            "_model_name": "DescriptionStyleModel",
            "_view_count": null,
            "_view_module": "@jupyter-widgets/base",
            "_view_module_version": "1.2.0",
            "_view_name": "StyleView",
            "description_width": ""
          }
        },
        "79ca1566294a42b8ad70e8eaf678fb48": {
          "model_module": "@jupyter-widgets/controls",
          "model_name": "HBoxModel",
          "model_module_version": "1.5.0",
          "state": {
            "_dom_classes": [],
            "_model_module": "@jupyter-widgets/controls",
            "_model_module_version": "1.5.0",
            "_model_name": "HBoxModel",
            "_view_count": null,
            "_view_module": "@jupyter-widgets/controls",
            "_view_module_version": "1.5.0",
            "_view_name": "HBoxView",
            "box_style": "",
            "children": [
              "IPY_MODEL_0100e5eb657c45c98604319067c0dd4d",
              "IPY_MODEL_1a19207888054842b45c05493c7e62a8",
              "IPY_MODEL_353d1010103b4f2286c6231fec6da485"
            ],
            "layout": "IPY_MODEL_fcde83b6ffdd4a26942f96f0188c7589"
          }
        },
        "0100e5eb657c45c98604319067c0dd4d": {
          "model_module": "@jupyter-widgets/controls",
          "model_name": "HTMLModel",
          "model_module_version": "1.5.0",
          "state": {
            "_dom_classes": [],
            "_model_module": "@jupyter-widgets/controls",
            "_model_module_version": "1.5.0",
            "_model_name": "HTMLModel",
            "_view_count": null,
            "_view_module": "@jupyter-widgets/controls",
            "_view_module_version": "1.5.0",
            "_view_name": "HTMLView",
            "description": "",
            "description_tooltip": null,
            "layout": "IPY_MODEL_cc0dd6fb82c4448b94555f265d0d76c9",
            "placeholder": "​",
            "style": "IPY_MODEL_61482fe4004d48a8bbe0db2e713473e1",
            "value": "100%"
          }
        },
        "1a19207888054842b45c05493c7e62a8": {
          "model_module": "@jupyter-widgets/controls",
          "model_name": "FloatProgressModel",
          "model_module_version": "1.5.0",
          "state": {
            "_dom_classes": [],
            "_model_module": "@jupyter-widgets/controls",
            "_model_module_version": "1.5.0",
            "_model_name": "FloatProgressModel",
            "_view_count": null,
            "_view_module": "@jupyter-widgets/controls",
            "_view_module_version": "1.5.0",
            "_view_name": "ProgressView",
            "bar_style": "success",
            "description": "",
            "description_tooltip": null,
            "layout": "IPY_MODEL_6c9fa25e9b514c01bd229a7754a64028",
            "max": 1648877,
            "min": 0,
            "orientation": "horizontal",
            "style": "IPY_MODEL_32b8c4d05091430e87399b19eccf075f",
            "value": 1648877
          }
        },
        "353d1010103b4f2286c6231fec6da485": {
          "model_module": "@jupyter-widgets/controls",
          "model_name": "HTMLModel",
          "model_module_version": "1.5.0",
          "state": {
            "_dom_classes": [],
            "_model_module": "@jupyter-widgets/controls",
            "_model_module_version": "1.5.0",
            "_model_name": "HTMLModel",
            "_view_count": null,
            "_view_module": "@jupyter-widgets/controls",
            "_view_module_version": "1.5.0",
            "_view_name": "HTMLView",
            "description": "",
            "description_tooltip": null,
            "layout": "IPY_MODEL_e3e25b7809ce43cfb2aac3f63c1bc8f8",
            "placeholder": "​",
            "style": "IPY_MODEL_21b28962185a48bc83e14d707e044a22",
            "value": " 1648877/1648877 [00:00&lt;00:00, 12117931.01it/s]"
          }
        },
        "fcde83b6ffdd4a26942f96f0188c7589": {
          "model_module": "@jupyter-widgets/base",
          "model_name": "LayoutModel",
          "model_module_version": "1.2.0",
          "state": {
            "_model_module": "@jupyter-widgets/base",
            "_model_module_version": "1.2.0",
            "_model_name": "LayoutModel",
            "_view_count": null,
            "_view_module": "@jupyter-widgets/base",
            "_view_module_version": "1.2.0",
            "_view_name": "LayoutView",
            "align_content": null,
            "align_items": null,
            "align_self": null,
            "border": null,
            "bottom": null,
            "display": null,
            "flex": null,
            "flex_flow": null,
            "grid_area": null,
            "grid_auto_columns": null,
            "grid_auto_flow": null,
            "grid_auto_rows": null,
            "grid_column": null,
            "grid_gap": null,
            "grid_row": null,
            "grid_template_areas": null,
            "grid_template_columns": null,
            "grid_template_rows": null,
            "height": null,
            "justify_content": null,
            "justify_items": null,
            "left": null,
            "margin": null,
            "max_height": null,
            "max_width": null,
            "min_height": null,
            "min_width": null,
            "object_fit": null,
            "object_position": null,
            "order": null,
            "overflow": null,
            "overflow_x": null,
            "overflow_y": null,
            "padding": null,
            "right": null,
            "top": null,
            "visibility": null,
            "width": null
          }
        },
        "cc0dd6fb82c4448b94555f265d0d76c9": {
          "model_module": "@jupyter-widgets/base",
          "model_name": "LayoutModel",
          "model_module_version": "1.2.0",
          "state": {
            "_model_module": "@jupyter-widgets/base",
            "_model_module_version": "1.2.0",
            "_model_name": "LayoutModel",
            "_view_count": null,
            "_view_module": "@jupyter-widgets/base",
            "_view_module_version": "1.2.0",
            "_view_name": "LayoutView",
            "align_content": null,
            "align_items": null,
            "align_self": null,
            "border": null,
            "bottom": null,
            "display": null,
            "flex": null,
            "flex_flow": null,
            "grid_area": null,
            "grid_auto_columns": null,
            "grid_auto_flow": null,
            "grid_auto_rows": null,
            "grid_column": null,
            "grid_gap": null,
            "grid_row": null,
            "grid_template_areas": null,
            "grid_template_columns": null,
            "grid_template_rows": null,
            "height": null,
            "justify_content": null,
            "justify_items": null,
            "left": null,
            "margin": null,
            "max_height": null,
            "max_width": null,
            "min_height": null,
            "min_width": null,
            "object_fit": null,
            "object_position": null,
            "order": null,
            "overflow": null,
            "overflow_x": null,
            "overflow_y": null,
            "padding": null,
            "right": null,
            "top": null,
            "visibility": null,
            "width": null
          }
        },
        "61482fe4004d48a8bbe0db2e713473e1": {
          "model_module": "@jupyter-widgets/controls",
          "model_name": "DescriptionStyleModel",
          "model_module_version": "1.5.0",
          "state": {
            "_model_module": "@jupyter-widgets/controls",
            "_model_module_version": "1.5.0",
            "_model_name": "DescriptionStyleModel",
            "_view_count": null,
            "_view_module": "@jupyter-widgets/base",
            "_view_module_version": "1.2.0",
            "_view_name": "StyleView",
            "description_width": ""
          }
        },
        "6c9fa25e9b514c01bd229a7754a64028": {
          "model_module": "@jupyter-widgets/base",
          "model_name": "LayoutModel",
          "model_module_version": "1.2.0",
          "state": {
            "_model_module": "@jupyter-widgets/base",
            "_model_module_version": "1.2.0",
            "_model_name": "LayoutModel",
            "_view_count": null,
            "_view_module": "@jupyter-widgets/base",
            "_view_module_version": "1.2.0",
            "_view_name": "LayoutView",
            "align_content": null,
            "align_items": null,
            "align_self": null,
            "border": null,
            "bottom": null,
            "display": null,
            "flex": null,
            "flex_flow": null,
            "grid_area": null,
            "grid_auto_columns": null,
            "grid_auto_flow": null,
            "grid_auto_rows": null,
            "grid_column": null,
            "grid_gap": null,
            "grid_row": null,
            "grid_template_areas": null,
            "grid_template_columns": null,
            "grid_template_rows": null,
            "height": null,
            "justify_content": null,
            "justify_items": null,
            "left": null,
            "margin": null,
            "max_height": null,
            "max_width": null,
            "min_height": null,
            "min_width": null,
            "object_fit": null,
            "object_position": null,
            "order": null,
            "overflow": null,
            "overflow_x": null,
            "overflow_y": null,
            "padding": null,
            "right": null,
            "top": null,
            "visibility": null,
            "width": null
          }
        },
        "32b8c4d05091430e87399b19eccf075f": {
          "model_module": "@jupyter-widgets/controls",
          "model_name": "ProgressStyleModel",
          "model_module_version": "1.5.0",
          "state": {
            "_model_module": "@jupyter-widgets/controls",
            "_model_module_version": "1.5.0",
            "_model_name": "ProgressStyleModel",
            "_view_count": null,
            "_view_module": "@jupyter-widgets/base",
            "_view_module_version": "1.2.0",
            "_view_name": "StyleView",
            "bar_color": null,
            "description_width": ""
          }
        },
        "e3e25b7809ce43cfb2aac3f63c1bc8f8": {
          "model_module": "@jupyter-widgets/base",
          "model_name": "LayoutModel",
          "model_module_version": "1.2.0",
          "state": {
            "_model_module": "@jupyter-widgets/base",
            "_model_module_version": "1.2.0",
            "_model_name": "LayoutModel",
            "_view_count": null,
            "_view_module": "@jupyter-widgets/base",
            "_view_module_version": "1.2.0",
            "_view_name": "LayoutView",
            "align_content": null,
            "align_items": null,
            "align_self": null,
            "border": null,
            "bottom": null,
            "display": null,
            "flex": null,
            "flex_flow": null,
            "grid_area": null,
            "grid_auto_columns": null,
            "grid_auto_flow": null,
            "grid_auto_rows": null,
            "grid_column": null,
            "grid_gap": null,
            "grid_row": null,
            "grid_template_areas": null,
            "grid_template_columns": null,
            "grid_template_rows": null,
            "height": null,
            "justify_content": null,
            "justify_items": null,
            "left": null,
            "margin": null,
            "max_height": null,
            "max_width": null,
            "min_height": null,
            "min_width": null,
            "object_fit": null,
            "object_position": null,
            "order": null,
            "overflow": null,
            "overflow_x": null,
            "overflow_y": null,
            "padding": null,
            "right": null,
            "top": null,
            "visibility": null,
            "width": null
          }
        },
        "21b28962185a48bc83e14d707e044a22": {
          "model_module": "@jupyter-widgets/controls",
          "model_name": "DescriptionStyleModel",
          "model_module_version": "1.5.0",
          "state": {
            "_model_module": "@jupyter-widgets/controls",
            "_model_module_version": "1.5.0",
            "_model_name": "DescriptionStyleModel",
            "_view_count": null,
            "_view_module": "@jupyter-widgets/base",
            "_view_module_version": "1.2.0",
            "_view_name": "StyleView",
            "description_width": ""
          }
        },
        "1a6fa4ebb19146328723e73253291657": {
          "model_module": "@jupyter-widgets/controls",
          "model_name": "HBoxModel",
          "model_module_version": "1.5.0",
          "state": {
            "_dom_classes": [],
            "_model_module": "@jupyter-widgets/controls",
            "_model_module_version": "1.5.0",
            "_model_name": "HBoxModel",
            "_view_count": null,
            "_view_module": "@jupyter-widgets/controls",
            "_view_module_version": "1.5.0",
            "_view_name": "HBoxView",
            "box_style": "",
            "children": [
              "IPY_MODEL_ec7e9f36a30a46bc8872a54f87377e95",
              "IPY_MODEL_38806f92f1a84a45a4be4949ff395e2b",
              "IPY_MODEL_901521dcde674aa4afbc8a5c0a5f5bf2"
            ],
            "layout": "IPY_MODEL_2cb34d24934f4336a98459fb34d31051"
          }
        },
        "ec7e9f36a30a46bc8872a54f87377e95": {
          "model_module": "@jupyter-widgets/controls",
          "model_name": "HTMLModel",
          "model_module_version": "1.5.0",
          "state": {
            "_dom_classes": [],
            "_model_module": "@jupyter-widgets/controls",
            "_model_module_version": "1.5.0",
            "_model_name": "HTMLModel",
            "_view_count": null,
            "_view_module": "@jupyter-widgets/controls",
            "_view_module_version": "1.5.0",
            "_view_name": "HTMLView",
            "description": "",
            "description_tooltip": null,
            "layout": "IPY_MODEL_82c08543c9c74cd2a1990c0f5b9210c1",
            "placeholder": "​",
            "style": "IPY_MODEL_81f0e2f9529141a48742d30ee3794d8e",
            "value": "100%"
          }
        },
        "38806f92f1a84a45a4be4949ff395e2b": {
          "model_module": "@jupyter-widgets/controls",
          "model_name": "FloatProgressModel",
          "model_module_version": "1.5.0",
          "state": {
            "_dom_classes": [],
            "_model_module": "@jupyter-widgets/controls",
            "_model_module_version": "1.5.0",
            "_model_name": "FloatProgressModel",
            "_view_count": null,
            "_view_module": "@jupyter-widgets/controls",
            "_view_module_version": "1.5.0",
            "_view_name": "ProgressView",
            "bar_style": "success",
            "description": "",
            "description_tooltip": null,
            "layout": "IPY_MODEL_f4b3a8ee1acd4f088c5ac670d65adf5e",
            "max": 4542,
            "min": 0,
            "orientation": "horizontal",
            "style": "IPY_MODEL_59e5d9872d4e4dd3aea427e45754e6d0",
            "value": 4542
          }
        },
        "901521dcde674aa4afbc8a5c0a5f5bf2": {
          "model_module": "@jupyter-widgets/controls",
          "model_name": "HTMLModel",
          "model_module_version": "1.5.0",
          "state": {
            "_dom_classes": [],
            "_model_module": "@jupyter-widgets/controls",
            "_model_module_version": "1.5.0",
            "_model_name": "HTMLModel",
            "_view_count": null,
            "_view_module": "@jupyter-widgets/controls",
            "_view_module_version": "1.5.0",
            "_view_name": "HTMLView",
            "description": "",
            "description_tooltip": null,
            "layout": "IPY_MODEL_887b57584a364c0c920866d6eba2d70d",
            "placeholder": "​",
            "style": "IPY_MODEL_10413af4d70e49db8df6f58929c08777",
            "value": " 4542/4542 [00:00&lt;00:00, 123883.32it/s]"
          }
        },
        "2cb34d24934f4336a98459fb34d31051": {
          "model_module": "@jupyter-widgets/base",
          "model_name": "LayoutModel",
          "model_module_version": "1.2.0",
          "state": {
            "_model_module": "@jupyter-widgets/base",
            "_model_module_version": "1.2.0",
            "_model_name": "LayoutModel",
            "_view_count": null,
            "_view_module": "@jupyter-widgets/base",
            "_view_module_version": "1.2.0",
            "_view_name": "LayoutView",
            "align_content": null,
            "align_items": null,
            "align_self": null,
            "border": null,
            "bottom": null,
            "display": null,
            "flex": null,
            "flex_flow": null,
            "grid_area": null,
            "grid_auto_columns": null,
            "grid_auto_flow": null,
            "grid_auto_rows": null,
            "grid_column": null,
            "grid_gap": null,
            "grid_row": null,
            "grid_template_areas": null,
            "grid_template_columns": null,
            "grid_template_rows": null,
            "height": null,
            "justify_content": null,
            "justify_items": null,
            "left": null,
            "margin": null,
            "max_height": null,
            "max_width": null,
            "min_height": null,
            "min_width": null,
            "object_fit": null,
            "object_position": null,
            "order": null,
            "overflow": null,
            "overflow_x": null,
            "overflow_y": null,
            "padding": null,
            "right": null,
            "top": null,
            "visibility": null,
            "width": null
          }
        },
        "82c08543c9c74cd2a1990c0f5b9210c1": {
          "model_module": "@jupyter-widgets/base",
          "model_name": "LayoutModel",
          "model_module_version": "1.2.0",
          "state": {
            "_model_module": "@jupyter-widgets/base",
            "_model_module_version": "1.2.0",
            "_model_name": "LayoutModel",
            "_view_count": null,
            "_view_module": "@jupyter-widgets/base",
            "_view_module_version": "1.2.0",
            "_view_name": "LayoutView",
            "align_content": null,
            "align_items": null,
            "align_self": null,
            "border": null,
            "bottom": null,
            "display": null,
            "flex": null,
            "flex_flow": null,
            "grid_area": null,
            "grid_auto_columns": null,
            "grid_auto_flow": null,
            "grid_auto_rows": null,
            "grid_column": null,
            "grid_gap": null,
            "grid_row": null,
            "grid_template_areas": null,
            "grid_template_columns": null,
            "grid_template_rows": null,
            "height": null,
            "justify_content": null,
            "justify_items": null,
            "left": null,
            "margin": null,
            "max_height": null,
            "max_width": null,
            "min_height": null,
            "min_width": null,
            "object_fit": null,
            "object_position": null,
            "order": null,
            "overflow": null,
            "overflow_x": null,
            "overflow_y": null,
            "padding": null,
            "right": null,
            "top": null,
            "visibility": null,
            "width": null
          }
        },
        "81f0e2f9529141a48742d30ee3794d8e": {
          "model_module": "@jupyter-widgets/controls",
          "model_name": "DescriptionStyleModel",
          "model_module_version": "1.5.0",
          "state": {
            "_model_module": "@jupyter-widgets/controls",
            "_model_module_version": "1.5.0",
            "_model_name": "DescriptionStyleModel",
            "_view_count": null,
            "_view_module": "@jupyter-widgets/base",
            "_view_module_version": "1.2.0",
            "_view_name": "StyleView",
            "description_width": ""
          }
        },
        "f4b3a8ee1acd4f088c5ac670d65adf5e": {
          "model_module": "@jupyter-widgets/base",
          "model_name": "LayoutModel",
          "model_module_version": "1.2.0",
          "state": {
            "_model_module": "@jupyter-widgets/base",
            "_model_module_version": "1.2.0",
            "_model_name": "LayoutModel",
            "_view_count": null,
            "_view_module": "@jupyter-widgets/base",
            "_view_module_version": "1.2.0",
            "_view_name": "LayoutView",
            "align_content": null,
            "align_items": null,
            "align_self": null,
            "border": null,
            "bottom": null,
            "display": null,
            "flex": null,
            "flex_flow": null,
            "grid_area": null,
            "grid_auto_columns": null,
            "grid_auto_flow": null,
            "grid_auto_rows": null,
            "grid_column": null,
            "grid_gap": null,
            "grid_row": null,
            "grid_template_areas": null,
            "grid_template_columns": null,
            "grid_template_rows": null,
            "height": null,
            "justify_content": null,
            "justify_items": null,
            "left": null,
            "margin": null,
            "max_height": null,
            "max_width": null,
            "min_height": null,
            "min_width": null,
            "object_fit": null,
            "object_position": null,
            "order": null,
            "overflow": null,
            "overflow_x": null,
            "overflow_y": null,
            "padding": null,
            "right": null,
            "top": null,
            "visibility": null,
            "width": null
          }
        },
        "59e5d9872d4e4dd3aea427e45754e6d0": {
          "model_module": "@jupyter-widgets/controls",
          "model_name": "ProgressStyleModel",
          "model_module_version": "1.5.0",
          "state": {
            "_model_module": "@jupyter-widgets/controls",
            "_model_module_version": "1.5.0",
            "_model_name": "ProgressStyleModel",
            "_view_count": null,
            "_view_module": "@jupyter-widgets/base",
            "_view_module_version": "1.2.0",
            "_view_name": "StyleView",
            "bar_color": null,
            "description_width": ""
          }
        },
        "887b57584a364c0c920866d6eba2d70d": {
          "model_module": "@jupyter-widgets/base",
          "model_name": "LayoutModel",
          "model_module_version": "1.2.0",
          "state": {
            "_model_module": "@jupyter-widgets/base",
            "_model_module_version": "1.2.0",
            "_model_name": "LayoutModel",
            "_view_count": null,
            "_view_module": "@jupyter-widgets/base",
            "_view_module_version": "1.2.0",
            "_view_name": "LayoutView",
            "align_content": null,
            "align_items": null,
            "align_self": null,
            "border": null,
            "bottom": null,
            "display": null,
            "flex": null,
            "flex_flow": null,
            "grid_area": null,
            "grid_auto_columns": null,
            "grid_auto_flow": null,
            "grid_auto_rows": null,
            "grid_column": null,
            "grid_gap": null,
            "grid_row": null,
            "grid_template_areas": null,
            "grid_template_columns": null,
            "grid_template_rows": null,
            "height": null,
            "justify_content": null,
            "justify_items": null,
            "left": null,
            "margin": null,
            "max_height": null,
            "max_width": null,
            "min_height": null,
            "min_width": null,
            "object_fit": null,
            "object_position": null,
            "order": null,
            "overflow": null,
            "overflow_x": null,
            "overflow_y": null,
            "padding": null,
            "right": null,
            "top": null,
            "visibility": null,
            "width": null
          }
        },
        "10413af4d70e49db8df6f58929c08777": {
          "model_module": "@jupyter-widgets/controls",
          "model_name": "DescriptionStyleModel",
          "model_module_version": "1.5.0",
          "state": {
            "_model_module": "@jupyter-widgets/controls",
            "_model_module_version": "1.5.0",
            "_model_name": "DescriptionStyleModel",
            "_view_count": null,
            "_view_module": "@jupyter-widgets/base",
            "_view_module_version": "1.2.0",
            "_view_name": "StyleView",
            "description_width": ""
          }
        }
      }
    }
  },
  "cells": [
    {
      "cell_type": "markdown",
      "source": [
        "#Advanced Deep Learning (2022- 2023)\n",
        "##Assignment-2\n",
        "\n",
        "Student: Ufuk Cem Birbiri"
      ],
      "metadata": {
        "id": "5FPZ1LsFCgBp"
      }
    },
    {
      "cell_type": "code",
      "execution_count": 1,
      "metadata": {
        "id": "oWK9Qjjj9faS",
        "colab": {
          "base_uri": "https://localhost:8080/",
          "height": 431,
          "referenced_widgets": [
            "7075e99fcf6a40028f8f460bce409d09",
            "4cd163510b3447b680c06bbe8424c98f",
            "ca6723ce4096449fa0c12c28479177b4",
            "8e45e9bd437c43428fe849fc263b7d8a",
            "c2520f829621455596fd845d59db9065",
            "845ecccc636e4fb78b48fdd992b109de",
            "91ef64905a5d45a69c04c1cf52ec76cf",
            "896331cd0c6542429d43cb214c03554f",
            "96738f73a0c0468099b4f638368e6446",
            "87afbddb28154775bc1fae42abe32470",
            "9495581568324894a1f548d17da2c8b5",
            "ca5dd826b673410886b2c30476fb441a",
            "c1d663f5f950468db3fe6c9ea20aaf6e",
            "4ffbdf1c1c504f749cc691f37a07900a",
            "4181eb9efca441759d1639f91e5180b7",
            "69d79781c2a3429da0b05a10dcb3fae9",
            "a0830e0dc05043c6874c1594c42f5cec",
            "54445349eefe4806be1537a31cb3eafb",
            "a251f76ed8394b2989fd6855a3df7da0",
            "31edd1e86746406885d3ffc91b66c227",
            "91dd85bb90ee44aaa65d9bdc69b8624a",
            "98904c5fd6f841f895af3514864ba2d8",
            "79ca1566294a42b8ad70e8eaf678fb48",
            "0100e5eb657c45c98604319067c0dd4d",
            "1a19207888054842b45c05493c7e62a8",
            "353d1010103b4f2286c6231fec6da485",
            "fcde83b6ffdd4a26942f96f0188c7589",
            "cc0dd6fb82c4448b94555f265d0d76c9",
            "61482fe4004d48a8bbe0db2e713473e1",
            "6c9fa25e9b514c01bd229a7754a64028",
            "32b8c4d05091430e87399b19eccf075f",
            "e3e25b7809ce43cfb2aac3f63c1bc8f8",
            "21b28962185a48bc83e14d707e044a22",
            "1a6fa4ebb19146328723e73253291657",
            "ec7e9f36a30a46bc8872a54f87377e95",
            "38806f92f1a84a45a4be4949ff395e2b",
            "901521dcde674aa4afbc8a5c0a5f5bf2",
            "2cb34d24934f4336a98459fb34d31051",
            "82c08543c9c74cd2a1990c0f5b9210c1",
            "81f0e2f9529141a48742d30ee3794d8e",
            "f4b3a8ee1acd4f088c5ac670d65adf5e",
            "59e5d9872d4e4dd3aea427e45754e6d0",
            "887b57584a364c0c920866d6eba2d70d",
            "10413af4d70e49db8df6f58929c08777"
          ]
        },
        "outputId": "17d5a74a-fc21-406d-99bc-efc3eb4e5a60"
      },
      "outputs": [
        {
          "output_type": "stream",
          "name": "stdout",
          "text": [
            "Downloading http://yann.lecun.com/exdb/mnist/train-images-idx3-ubyte.gz\n",
            "Downloading http://yann.lecun.com/exdb/mnist/train-images-idx3-ubyte.gz to ./data/MNIST/raw/train-images-idx3-ubyte.gz\n"
          ]
        },
        {
          "output_type": "display_data",
          "data": {
            "text/plain": [
              "  0%|          | 0/9912422 [00:00<?, ?it/s]"
            ],
            "application/vnd.jupyter.widget-view+json": {
              "version_major": 2,
              "version_minor": 0,
              "model_id": "7075e99fcf6a40028f8f460bce409d09"
            }
          },
          "metadata": {}
        },
        {
          "output_type": "stream",
          "name": "stdout",
          "text": [
            "Extracting ./data/MNIST/raw/train-images-idx3-ubyte.gz to ./data/MNIST/raw\n",
            "\n",
            "Downloading http://yann.lecun.com/exdb/mnist/train-labels-idx1-ubyte.gz\n",
            "Downloading http://yann.lecun.com/exdb/mnist/train-labels-idx1-ubyte.gz to ./data/MNIST/raw/train-labels-idx1-ubyte.gz\n"
          ]
        },
        {
          "output_type": "display_data",
          "data": {
            "text/plain": [
              "  0%|          | 0/28881 [00:00<?, ?it/s]"
            ],
            "application/vnd.jupyter.widget-view+json": {
              "version_major": 2,
              "version_minor": 0,
              "model_id": "ca5dd826b673410886b2c30476fb441a"
            }
          },
          "metadata": {}
        },
        {
          "output_type": "stream",
          "name": "stdout",
          "text": [
            "Extracting ./data/MNIST/raw/train-labels-idx1-ubyte.gz to ./data/MNIST/raw\n",
            "\n",
            "Downloading http://yann.lecun.com/exdb/mnist/t10k-images-idx3-ubyte.gz\n",
            "Downloading http://yann.lecun.com/exdb/mnist/t10k-images-idx3-ubyte.gz to ./data/MNIST/raw/t10k-images-idx3-ubyte.gz\n"
          ]
        },
        {
          "output_type": "display_data",
          "data": {
            "text/plain": [
              "  0%|          | 0/1648877 [00:00<?, ?it/s]"
            ],
            "application/vnd.jupyter.widget-view+json": {
              "version_major": 2,
              "version_minor": 0,
              "model_id": "79ca1566294a42b8ad70e8eaf678fb48"
            }
          },
          "metadata": {}
        },
        {
          "output_type": "stream",
          "name": "stdout",
          "text": [
            "Extracting ./data/MNIST/raw/t10k-images-idx3-ubyte.gz to ./data/MNIST/raw\n",
            "\n",
            "Downloading http://yann.lecun.com/exdb/mnist/t10k-labels-idx1-ubyte.gz\n",
            "Downloading http://yann.lecun.com/exdb/mnist/t10k-labels-idx1-ubyte.gz to ./data/MNIST/raw/t10k-labels-idx1-ubyte.gz\n"
          ]
        },
        {
          "output_type": "display_data",
          "data": {
            "text/plain": [
              "  0%|          | 0/4542 [00:00<?, ?it/s]"
            ],
            "application/vnd.jupyter.widget-view+json": {
              "version_major": 2,
              "version_minor": 0,
              "model_id": "1a6fa4ebb19146328723e73253291657"
            }
          },
          "metadata": {}
        },
        {
          "output_type": "stream",
          "name": "stdout",
          "text": [
            "Extracting ./data/MNIST/raw/t10k-labels-idx1-ubyte.gz to ./data/MNIST/raw\n",
            "\n"
          ]
        }
      ],
      "source": [
        "import torch\n",
        "import torchvision  #To be able to access standard datasets more easily\n",
        "from torchvision.transforms import ToTensor\n",
        "import matplotlib.pyplot as plt\n",
        "import numpy as np  # To plot and display stuff\n",
        "import torch.optim as optim # Where the optimization modules are\n",
        "%matplotlib inline\n",
        "\n",
        "# Using torchvision we can conveniently load some datasets\n",
        "trainset = torchvision.datasets.MNIST(root='./data', train=True, download=True, transform=ToTensor())\n",
        "testset = torchvision.datasets.MNIST(root='./data', train=False, download=True, transform=ToTensor())"
      ]
    },
    {
      "cell_type": "code",
      "source": [
        "# Extract tensor of data and labels for both the training and the test set\n",
        "x, y = trainset.data.float(), trainset.targets\n",
        "x_test, y_test = testset.data.float(), testset.targets\n",
        "x.shape, y.shape, x_test.shape, y_test.shape"
      ],
      "metadata": {
        "colab": {
          "base_uri": "https://localhost:8080/"
        },
        "id": "mxPwbBgcDIV_",
        "outputId": "e88d6864-b8a2-4c65-d85c-cdcb021161a1"
      },
      "execution_count": 2,
      "outputs": [
        {
          "output_type": "execute_result",
          "data": {
            "text/plain": [
              "(torch.Size([60000, 28, 28]),\n",
              " torch.Size([60000]),\n",
              " torch.Size([10000, 28, 28]),\n",
              " torch.Size([10000]))"
            ]
          },
          "metadata": {},
          "execution_count": 2
        }
      ]
    },
    {
      "cell_type": "code",
      "source": [
        "# Transform labels to one_hot encoding\n",
        "y_one_hot = torch.nn.functional.one_hot(y.to(torch.int64), num_classes=10).float()\n",
        "y_test_one_hot = torch.nn.functional.one_hot(y_test.to(torch.int64), num_classes=10).float()"
      ],
      "metadata": {
        "id": "apc8mZglOwqf"
      },
      "execution_count": 3,
      "outputs": []
    },
    {
      "cell_type": "markdown",
      "source": [
        "#Exercise-1\n",
        "\n",
        "Modify the code of mnist-assignment.py to train the chosen network using SGD with\n",
        "minibatches of different sizes (starting from size 1). Discuss how the SGD method with various\n",
        "minibatch sizes compares in terms of speed of convergence and final accuracy on test set with\n",
        "GD."
      ],
      "metadata": {
        "id": "7sxLeiL2T5CS"
      }
    },
    {
      "cell_type": "code",
      "source": [
        "\n",
        "# Now let us define the neural network we are using\n",
        "net = torch.nn.Sequential(\n",
        "    torch.nn.Linear(28*28, 300),\n",
        "    torch.nn.ReLU(),\n",
        "    torch.nn.Linear(300, 100),\n",
        "    torch.nn.Sigmoid(),\n",
        "    torch.nn.Linear(100, 10),\n",
        ")\n",
        "\n",
        "# Now we define the optimizer and the loss function\n",
        "loss = torch.nn.CrossEntropyLoss()\n",
        "optimizer = optim.SGD(net.parameters(), lr = 0.1)"
      ],
      "metadata": {
        "id": "d_WQHLDCOy1u"
      },
      "execution_count": 4,
      "outputs": []
    },
    {
      "cell_type": "code",
      "source": [
        "import time\n",
        "\n",
        "n_epochs = 100\n",
        "print(\"n_epochs = \", n_epochs)\n",
        "batch_size = 1 #We change the epoch number here.\n",
        "print(\"batch_size = \", batch_size)\n",
        "\n",
        "train_losses = []\n",
        "test_losses = []\n",
        "times = []\n",
        "\n",
        "for epoch in range(n_epochs):\n",
        "    start_epoch = time.time()\n",
        "    # X is a torch Variable\n",
        "    permutation = torch.randperm(x.size()[0])\n",
        "\n",
        "    train_loss_temp = 0\n",
        "    test_loss_temp = 0\n",
        "    for i in range(0, x.size()[0], batch_size):\n",
        "        optimizer.zero_grad()\n",
        "\n",
        "        indices = permutation[i : i+batch_size] #shape = [batch_size]\n",
        "        \n",
        "        batch_x = x[indices]  #shape = [batch_size, 28, 28]\n",
        "        batch_y = y_one_hot[indices] #shape = [batch_size, 10]\n",
        "        \n",
        "        inputs = torch.flatten(batch_x, start_dim=1, end_dim=2) #shape=[batch_size, 784]\n",
        "        outputs = net(inputs) #shape = [batch_size, 10]    \n",
        "\n",
        "        #Define the empirical risk\n",
        "        Risk = loss(outputs, batch_y )\n",
        "        #Save the training loss:\n",
        "        train_loss_temp += Risk.item()\n",
        "\n",
        "        #Save the test loss:\n",
        "        x_test_flatten = torch.flatten(x_test, start_dim=1, end_dim=2) #shape=[10000, 784]\n",
        "        y_pred_test = net(x_test_flatten) #shape = [10000, 10]\n",
        "        Risk_test = loss(y_pred_test, y_test)\n",
        "        \n",
        "        test_loss_temp += Risk_test.item()\n",
        "\n",
        "        #Make the backward step (1 line instruction)\n",
        "        Risk.backward()\n",
        "\n",
        "        #Upadte the parameters (1 line instruction)\n",
        "        optimizer.step()\n",
        "\n",
        "    \n",
        "    train_losses.append(train_loss_temp)\n",
        "    test_losses.append(test_loss_temp)\n",
        "    with torch.no_grad():\n",
        "      print(\"epoch=\", epoch, \"   Risk train = \", train_loss_temp)\n",
        "    \n",
        "    end_epoch = time.time()\n",
        "    elapsed = end_epoch - start_epoch\n",
        "    print(elapsed)\n",
        "    times.append(elapsed)\n",
        "\n",
        "sum_time = sum(times)\n",
        "print(\"sum_time =\", sum_time)"
      ],
      "metadata": {
        "colab": {
          "base_uri": "https://localhost:8080/"
        },
        "id": "hT7J1romnN_X",
        "outputId": "1fd1e1c5-dba4-4998-dd33-fa08aa723bed"
      },
      "execution_count": null,
      "outputs": [
        {
          "output_type": "stream",
          "name": "stdout",
          "text": [
            "n_epochs =  100\n",
            "batch_size =  1\n",
            "epoch= 0    Risk train =  223938.05880898237\n",
            "6303.699912309647\n",
            "epoch= 1    Risk train =  219856.91940948367\n",
            "6541.3144109249115\n",
            "epoch= 2    Risk train =  219244.98778911307\n",
            "6369.176593780518\n"
          ]
        }
      ]
    },
    {
      "cell_type": "code",
      "source": [
        "from matplotlib import pyplot as plt\n",
        "plt.plot(train_losses, label=\"train loss\")\n",
        "plt.plot(test_losses, label=\"test loss\")\n",
        "plt.xlabel(\"Epochs\")\n",
        "plt.ylabel(\"Loss\")\n",
        "plt.title(\"batch size = 100\")\n",
        "plt.legend()\n",
        "plt.show()"
      ],
      "metadata": {
        "colab": {
          "base_uri": "https://localhost:8080/",
          "height": 295
        },
        "id": "rh7pQchjh0Uf",
        "outputId": "2f52b4cc-4a68-4d77-fa2c-041dd77b5ed5"
      },
      "execution_count": 68,
      "outputs": [
        {
          "output_type": "display_data",
          "data": {
            "text/plain": [
              "<Figure size 432x288 with 1 Axes>"
            ],
            "image/png": "[encoded data removed]"
          },
          "metadata": {
            "needs_background": "light"
          }
        }
      ]
    },
    {
      "cell_type": "code",
      "source": [
        "from sklearn.metrics import accuracy_score\n",
        "\n",
        "# Compute the final accuracy on test set\n",
        "pred_test = net(torch.flatten(x_test, start_dim=1, end_dim=2))\n",
        "pred_test = pred_test.detach().numpy()\n",
        "\n",
        "acc_test = accuracy_score(y_test, np.argmax(pred_test, axis=1))\n",
        "\n",
        "print(\"Final accuracy on test\", acc_test)"
      ],
      "metadata": {
        "colab": {
          "base_uri": "https://localhost:8080/"
        },
        "id": "mEJFAVoXiPkX",
        "outputId": "454419a4-d67b-4e9b-9a4b-e231cff986c3"
      },
      "execution_count": 71,
      "outputs": [
        {
          "output_type": "stream",
          "name": "stdout",
          "text": [
            "Final accuracy on test 0.8622\n"
          ]
        }
      ]
    },
    {
      "cell_type": "code",
      "source": [
        "from sklearn.metrics import accuracy_score\n",
        "\n",
        "pred_train = net(torch.flatten(x, start_dim=1, end_dim=2))\n",
        "pred_train = pred_train.detach().numpy()\n",
        "\n",
        "acc_train = accuracy_score(y, np.argmax(pred_train, axis=1))\n",
        "\n",
        "print(\"Final accuracy on train\", acc_train)"
      ],
      "metadata": {
        "colab": {
          "base_uri": "https://localhost:8080/"
        },
        "id": "pV1eU8_euGTd",
        "outputId": "330ddd74-a7ee-4819-aa7e-c7cfc5094a69"
      },
      "execution_count": 72,
      "outputs": [
        {
          "output_type": "stream",
          "name": "stdout",
          "text": [
            "Final accuracy on train 0.8641666666666666\n"
          ]
        }
      ]
    },
    {
      "cell_type": "code",
      "source": [],
      "metadata": {
        "id": "lWzukWUzTERs"
      },
      "execution_count": 51,
      "outputs": []
    },
    {
      "cell_type": "markdown",
      "source": [
        "#Exercise-2\n",
        "\n",
        "Initialize all the weights and all biases to a common value (for instance 0). Try to train\n",
        "the network either with GD or SGD. What happens? Why?"
      ],
      "metadata": {
        "id": "OoPEOnFpUCXO"
      }
    },
    {
      "cell_type": "code",
      "source": [
        "\n",
        "# Now let us define the neural network we are using\n",
        "net = torch.nn.Sequential(\n",
        "    torch.nn.Linear(28*28, 300),\n",
        "    torch.nn.ReLU(),\n",
        "    torch.nn.Linear(300, 100),\n",
        "    torch.nn.Sigmoid(),\n",
        "    torch.nn.Linear(100, 10),\n",
        ")\n",
        "\n",
        "# Now we define the optimizer and the loss function\n",
        "loss = torch.nn.CrossEntropyLoss()\n",
        "optimizer = optim.SGD(net.parameters(), lr = 0.1)"
      ],
      "metadata": {
        "id": "8lz3YU6KeBOp"
      },
      "execution_count": 88,
      "outputs": []
    },
    {
      "cell_type": "code",
      "source": [
        "#Initialize the network's weigths and bias to zero:\n",
        "def init_weights(module):\n",
        "  if isinstance(module, torch.nn.Linear):\n",
        "    torch.nn.init.constant_(module.weight, 0)\n",
        "    if module.bias is not None:\n",
        "      module.bias.data.zero_()\n",
        "    module.bias.data.fill_(0)\n",
        "    torch.nn.init.constant_(module.bias, 0)\n",
        "\n",
        "net.apply(init_weights)"
      ],
      "metadata": {
        "colab": {
          "base_uri": "https://localhost:8080/"
        },
        "id": "BW0em2Ftetop",
        "outputId": "19b6dfb1-a6aa-44e4-f9bd-d81b38e8c44a"
      },
      "execution_count": 89,
      "outputs": [
        {
          "output_type": "execute_result",
          "data": {
            "text/plain": [
              "Sequential(\n",
              "  (0): Linear(in_features=784, out_features=300, bias=True)\n",
              "  (1): ReLU()\n",
              "  (2): Linear(in_features=300, out_features=100, bias=True)\n",
              "  (3): Sigmoid()\n",
              "  (4): Linear(in_features=100, out_features=10, bias=True)\n",
              ")"
            ]
          },
          "metadata": {},
          "execution_count": 89
        }
      ]
    },
    {
      "cell_type": "markdown",
      "source": [
        "Let's check that the weights are biases are initialized to zero or not:"
      ],
      "metadata": {
        "id": "_UxW_YP8gM44"
      }
    },
    {
      "cell_type": "code",
      "source": [
        "print( net[0].weight)\n",
        "print( net[0].bias,\"\\n\")\n",
        "print()\n",
        "print( net[2].weight)\n",
        "print( net[2].bias)\n",
        "print()\n",
        "print( net[4].weight)\n",
        "print( net[4].bias)"
      ],
      "metadata": {
        "colab": {
          "base_uri": "https://localhost:8080/"
        },
        "id": "NQ__J8Kdf8IO",
        "outputId": "75edd9ba-64d2-4566-c19d-b64ff5de5df4"
      },
      "execution_count": 90,
      "outputs": [
        {
          "output_type": "stream",
          "name": "stdout",
          "text": [
            "Parameter containing:\n",
            "tensor([[0., 0., 0.,  ..., 0., 0., 0.],\n",
            "        [0., 0., 0.,  ..., 0., 0., 0.],\n",
            "        [0., 0., 0.,  ..., 0., 0., 0.],\n",
            "        ...,\n",
            "        [0., 0., 0.,  ..., 0., 0., 0.],\n",
            "        [0., 0., 0.,  ..., 0., 0., 0.],\n",
            "        [0., 0., 0.,  ..., 0., 0., 0.]], requires_grad=True)\n",
            "Parameter containing:\n",
            "tensor([0., 0., 0., 0., 0., 0., 0., 0., 0., 0., 0., 0., 0., 0., 0., 0., 0., 0., 0., 0., 0., 0., 0., 0.,\n",
            "        0., 0., 0., 0., 0., 0., 0., 0., 0., 0., 0., 0., 0., 0., 0., 0., 0., 0., 0., 0., 0., 0., 0., 0.,\n",
            "        0., 0., 0., 0., 0., 0., 0., 0., 0., 0., 0., 0., 0., 0., 0., 0., 0., 0., 0., 0., 0., 0., 0., 0.,\n",
            "        0., 0., 0., 0., 0., 0., 0., 0., 0., 0., 0., 0., 0., 0., 0., 0., 0., 0., 0., 0., 0., 0., 0., 0.,\n",
            "        0., 0., 0., 0., 0., 0., 0., 0., 0., 0., 0., 0., 0., 0., 0., 0., 0., 0., 0., 0., 0., 0., 0., 0.,\n",
            "        0., 0., 0., 0., 0., 0., 0., 0., 0., 0., 0., 0., 0., 0., 0., 0., 0., 0., 0., 0., 0., 0., 0., 0.,\n",
            "        0., 0., 0., 0., 0., 0., 0., 0., 0., 0., 0., 0., 0., 0., 0., 0., 0., 0., 0., 0., 0., 0., 0., 0.,\n",
            "        0., 0., 0., 0., 0., 0., 0., 0., 0., 0., 0., 0., 0., 0., 0., 0., 0., 0., 0., 0., 0., 0., 0., 0.,\n",
            "        0., 0., 0., 0., 0., 0., 0., 0., 0., 0., 0., 0., 0., 0., 0., 0., 0., 0., 0., 0., 0., 0., 0., 0.,\n",
            "        0., 0., 0., 0., 0., 0., 0., 0., 0., 0., 0., 0., 0., 0., 0., 0., 0., 0., 0., 0., 0., 0., 0., 0.,\n",
            "        0., 0., 0., 0., 0., 0., 0., 0., 0., 0., 0., 0., 0., 0., 0., 0., 0., 0., 0., 0., 0., 0., 0., 0.,\n",
            "        0., 0., 0., 0., 0., 0., 0., 0., 0., 0., 0., 0., 0., 0., 0., 0., 0., 0., 0., 0., 0., 0., 0., 0.,\n",
            "        0., 0., 0., 0., 0., 0., 0., 0., 0., 0., 0., 0.], requires_grad=True) \n",
            "\n",
            "\n",
            "Parameter containing:\n",
            "tensor([[0., 0., 0.,  ..., 0., 0., 0.],\n",
            "        [0., 0., 0.,  ..., 0., 0., 0.],\n",
            "        [0., 0., 0.,  ..., 0., 0., 0.],\n",
            "        ...,\n",
            "        [0., 0., 0.,  ..., 0., 0., 0.],\n",
            "        [0., 0., 0.,  ..., 0., 0., 0.],\n",
            "        [0., 0., 0.,  ..., 0., 0., 0.]], requires_grad=True)\n",
            "Parameter containing:\n",
            "tensor([0., 0., 0., 0., 0., 0., 0., 0., 0., 0., 0., 0., 0., 0., 0., 0., 0., 0., 0., 0., 0., 0., 0., 0.,\n",
            "        0., 0., 0., 0., 0., 0., 0., 0., 0., 0., 0., 0., 0., 0., 0., 0., 0., 0., 0., 0., 0., 0., 0., 0.,\n",
            "        0., 0., 0., 0., 0., 0., 0., 0., 0., 0., 0., 0., 0., 0., 0., 0., 0., 0., 0., 0., 0., 0., 0., 0.,\n",
            "        0., 0., 0., 0., 0., 0., 0., 0., 0., 0., 0., 0., 0., 0., 0., 0., 0., 0., 0., 0., 0., 0., 0., 0.,\n",
            "        0., 0., 0., 0.], requires_grad=True)\n",
            "\n",
            "Parameter containing:\n",
            "tensor([[0., 0., 0., 0., 0., 0., 0., 0., 0., 0., 0., 0., 0., 0., 0., 0., 0., 0., 0., 0., 0., 0., 0., 0.,\n",
            "         0., 0., 0., 0., 0., 0., 0., 0., 0., 0., 0., 0., 0., 0., 0., 0., 0., 0., 0., 0., 0., 0., 0., 0.,\n",
            "         0., 0., 0., 0., 0., 0., 0., 0., 0., 0., 0., 0., 0., 0., 0., 0., 0., 0., 0., 0., 0., 0., 0., 0.,\n",
            "         0., 0., 0., 0., 0., 0., 0., 0., 0., 0., 0., 0., 0., 0., 0., 0., 0., 0., 0., 0., 0., 0., 0., 0.,\n",
            "         0., 0., 0., 0.],\n",
            "        [0., 0., 0., 0., 0., 0., 0., 0., 0., 0., 0., 0., 0., 0., 0., 0., 0., 0., 0., 0., 0., 0., 0., 0.,\n",
            "         0., 0., 0., 0., 0., 0., 0., 0., 0., 0., 0., 0., 0., 0., 0., 0., 0., 0., 0., 0., 0., 0., 0., 0.,\n",
            "         0., 0., 0., 0., 0., 0., 0., 0., 0., 0., 0., 0., 0., 0., 0., 0., 0., 0., 0., 0., 0., 0., 0., 0.,\n",
            "         0., 0., 0., 0., 0., 0., 0., 0., 0., 0., 0., 0., 0., 0., 0., 0., 0., 0., 0., 0., 0., 0., 0., 0.,\n",
            "         0., 0., 0., 0.],\n",
            "        [0., 0., 0., 0., 0., 0., 0., 0., 0., 0., 0., 0., 0., 0., 0., 0., 0., 0., 0., 0., 0., 0., 0., 0.,\n",
            "         0., 0., 0., 0., 0., 0., 0., 0., 0., 0., 0., 0., 0., 0., 0., 0., 0., 0., 0., 0., 0., 0., 0., 0.,\n",
            "         0., 0., 0., 0., 0., 0., 0., 0., 0., 0., 0., 0., 0., 0., 0., 0., 0., 0., 0., 0., 0., 0., 0., 0.,\n",
            "         0., 0., 0., 0., 0., 0., 0., 0., 0., 0., 0., 0., 0., 0., 0., 0., 0., 0., 0., 0., 0., 0., 0., 0.,\n",
            "         0., 0., 0., 0.],\n",
            "        [0., 0., 0., 0., 0., 0., 0., 0., 0., 0., 0., 0., 0., 0., 0., 0., 0., 0., 0., 0., 0., 0., 0., 0.,\n",
            "         0., 0., 0., 0., 0., 0., 0., 0., 0., 0., 0., 0., 0., 0., 0., 0., 0., 0., 0., 0., 0., 0., 0., 0.,\n",
            "         0., 0., 0., 0., 0., 0., 0., 0., 0., 0., 0., 0., 0., 0., 0., 0., 0., 0., 0., 0., 0., 0., 0., 0.,\n",
            "         0., 0., 0., 0., 0., 0., 0., 0., 0., 0., 0., 0., 0., 0., 0., 0., 0., 0., 0., 0., 0., 0., 0., 0.,\n",
            "         0., 0., 0., 0.],\n",
            "        [0., 0., 0., 0., 0., 0., 0., 0., 0., 0., 0., 0., 0., 0., 0., 0., 0., 0., 0., 0., 0., 0., 0., 0.,\n",
            "         0., 0., 0., 0., 0., 0., 0., 0., 0., 0., 0., 0., 0., 0., 0., 0., 0., 0., 0., 0., 0., 0., 0., 0.,\n",
            "         0., 0., 0., 0., 0., 0., 0., 0., 0., 0., 0., 0., 0., 0., 0., 0., 0., 0., 0., 0., 0., 0., 0., 0.,\n",
            "         0., 0., 0., 0., 0., 0., 0., 0., 0., 0., 0., 0., 0., 0., 0., 0., 0., 0., 0., 0., 0., 0., 0., 0.,\n",
            "         0., 0., 0., 0.],\n",
            "        [0., 0., 0., 0., 0., 0., 0., 0., 0., 0., 0., 0., 0., 0., 0., 0., 0., 0., 0., 0., 0., 0., 0., 0.,\n",
            "         0., 0., 0., 0., 0., 0., 0., 0., 0., 0., 0., 0., 0., 0., 0., 0., 0., 0., 0., 0., 0., 0., 0., 0.,\n",
            "         0., 0., 0., 0., 0., 0., 0., 0., 0., 0., 0., 0., 0., 0., 0., 0., 0., 0., 0., 0., 0., 0., 0., 0.,\n",
            "         0., 0., 0., 0., 0., 0., 0., 0., 0., 0., 0., 0., 0., 0., 0., 0., 0., 0., 0., 0., 0., 0., 0., 0.,\n",
            "         0., 0., 0., 0.],\n",
            "        [0., 0., 0., 0., 0., 0., 0., 0., 0., 0., 0., 0., 0., 0., 0., 0., 0., 0., 0., 0., 0., 0., 0., 0.,\n",
            "         0., 0., 0., 0., 0., 0., 0., 0., 0., 0., 0., 0., 0., 0., 0., 0., 0., 0., 0., 0., 0., 0., 0., 0.,\n",
            "         0., 0., 0., 0., 0., 0., 0., 0., 0., 0., 0., 0., 0., 0., 0., 0., 0., 0., 0., 0., 0., 0., 0., 0.,\n",
            "         0., 0., 0., 0., 0., 0., 0., 0., 0., 0., 0., 0., 0., 0., 0., 0., 0., 0., 0., 0., 0., 0., 0., 0.,\n",
            "         0., 0., 0., 0.],\n",
            "        [0., 0., 0., 0., 0., 0., 0., 0., 0., 0., 0., 0., 0., 0., 0., 0., 0., 0., 0., 0., 0., 0., 0., 0.,\n",
            "         0., 0., 0., 0., 0., 0., 0., 0., 0., 0., 0., 0., 0., 0., 0., 0., 0., 0., 0., 0., 0., 0., 0., 0.,\n",
            "         0., 0., 0., 0., 0., 0., 0., 0., 0., 0., 0., 0., 0., 0., 0., 0., 0., 0., 0., 0., 0., 0., 0., 0.,\n",
            "         0., 0., 0., 0., 0., 0., 0., 0., 0., 0., 0., 0., 0., 0., 0., 0., 0., 0., 0., 0., 0., 0., 0., 0.,\n",
            "         0., 0., 0., 0.],\n",
            "        [0., 0., 0., 0., 0., 0., 0., 0., 0., 0., 0., 0., 0., 0., 0., 0., 0., 0., 0., 0., 0., 0., 0., 0.,\n",
            "         0., 0., 0., 0., 0., 0., 0., 0., 0., 0., 0., 0., 0., 0., 0., 0., 0., 0., 0., 0., 0., 0., 0., 0.,\n",
            "         0., 0., 0., 0., 0., 0., 0., 0., 0., 0., 0., 0., 0., 0., 0., 0., 0., 0., 0., 0., 0., 0., 0., 0.,\n",
            "         0., 0., 0., 0., 0., 0., 0., 0., 0., 0., 0., 0., 0., 0., 0., 0., 0., 0., 0., 0., 0., 0., 0., 0.,\n",
            "         0., 0., 0., 0.],\n",
            "        [0., 0., 0., 0., 0., 0., 0., 0., 0., 0., 0., 0., 0., 0., 0., 0., 0., 0., 0., 0., 0., 0., 0., 0.,\n",
            "         0., 0., 0., 0., 0., 0., 0., 0., 0., 0., 0., 0., 0., 0., 0., 0., 0., 0., 0., 0., 0., 0., 0., 0.,\n",
            "         0., 0., 0., 0., 0., 0., 0., 0., 0., 0., 0., 0., 0., 0., 0., 0., 0., 0., 0., 0., 0., 0., 0., 0.,\n",
            "         0., 0., 0., 0., 0., 0., 0., 0., 0., 0., 0., 0., 0., 0., 0., 0., 0., 0., 0., 0., 0., 0., 0., 0.,\n",
            "         0., 0., 0., 0.]], requires_grad=True)\n",
            "Parameter containing:\n",
            "tensor([0., 0., 0., 0., 0., 0., 0., 0., 0., 0.], requires_grad=True)\n"
          ]
        }
      ]
    },
    {
      "cell_type": "markdown",
      "source": [
        "Ok, they are initialized as zero. Let's run the network:"
      ],
      "metadata": {
        "id": "f4i7TBuugmlZ"
      }
    },
    {
      "cell_type": "code",
      "source": [
        "#Build the network\n",
        "import time\n",
        "\n",
        "n_epochs = 100\n",
        "print(\"n_epochs = \", n_epochs)\n",
        "batch_size = 10000 #We change the epoch number here.\n",
        "print(\"batch_size = \", batch_size)\n",
        "\n",
        "train_losses = []\n",
        "test_losses = []\n",
        "times = []\n",
        "\n",
        "for epoch in range(n_epochs):\n",
        "    start_epoch = time.time()\n",
        "    # X is a torch Variable\n",
        "    permutation = torch.randperm(x.size()[0])\n",
        "\n",
        "    train_loss_temp = 0\n",
        "    test_loss_temp = 0\n",
        "    for i in range(0, x.size()[0], batch_size):\n",
        "        optimizer.zero_grad()\n",
        "        \n",
        "        indices = permutation[i : i+batch_size] #shape = [batch_size]\n",
        "        \n",
        "        batch_x = x[indices]  #shape = [batch_size, 28, 28]\n",
        "        batch_y = y_one_hot[indices] #shape = [batch_size, 10]\n",
        "        \n",
        "        inputs = torch.flatten(batch_x, start_dim=1, end_dim=2) #shape=[batch_size, 784]\n",
        "        outputs = net(inputs) #shape = [batch_size, 10]    \n",
        "\n",
        "        #Define the empirical risk\n",
        "        Risk = loss(outputs, batch_y )\n",
        "        #Save the training loss:\n",
        "        train_loss_temp += Risk.item()\n",
        "\n",
        "        #Save the test loss:\n",
        "        x_test_flatten = torch.flatten(x_test, start_dim=1, end_dim=2) #shape=[10000, 784]\n",
        "        y_pred_test = net(x_test_flatten) #shape = [10000, 10]\n",
        "        Risk_test = loss(y_pred_test, y_test)\n",
        "        \n",
        "        test_loss_temp += Risk_test.item()\n",
        "\n",
        "        #Make the backward step (1 line instruction)\n",
        "        Risk.backward()\n",
        "\n",
        "        #Upadte the parameters (1 line instruction)\n",
        "        optimizer.step()\n",
        "\n",
        "    \n",
        "    train_losses.append(train_loss_temp)\n",
        "    test_losses.append(test_loss_temp)\n",
        "    with torch.no_grad():\n",
        "      print(\"epoch=\", epoch, \"   Risk train = \", train_loss_temp)\n",
        "    \n",
        "    end_epoch = time.time()\n",
        "    elapsed = end_epoch - start_epoch\n",
        "    times.append(elapsed)\n",
        "\n",
        "sum_time = sum(times)\n",
        "print(\"sum_time =\", sum_time)"
      ],
      "metadata": {
        "colab": {
          "base_uri": "https://localhost:8080/"
        },
        "id": "-wFkk6zseKll",
        "outputId": "455d61fb-f9a3-4f95-8fe8-d46999df99b9"
      },
      "execution_count": 91,
      "outputs": [
        {
          "output_type": "stream",
          "name": "stdout",
          "text": [
            "n_epochs =  100\n",
            "batch_size =  10000\n",
            "epoch= 0    Risk train =  13.810812950134277\n",
            "epoch= 1    Risk train =  13.8078453540802\n",
            "epoch= 2    Risk train =  13.807703018188477\n",
            "epoch= 3    Risk train =  13.807300329208374\n",
            "epoch= 4    Risk train =  13.807468175888062\n",
            "epoch= 5    Risk train =  13.807505369186401\n",
            "epoch= 6    Risk train =  13.807483911514282\n",
            "epoch= 7    Risk train =  13.807597637176514\n",
            "epoch= 8    Risk train =  13.807602405548096\n",
            "epoch= 9    Risk train =  13.807602167129517\n",
            "epoch= 10    Risk train =  13.807511806488037\n",
            "epoch= 11    Risk train =  13.807416439056396\n",
            "epoch= 12    Risk train =  13.807730436325073\n",
            "epoch= 13    Risk train =  13.807512998580933\n",
            "epoch= 14    Risk train =  13.807636737823486\n",
            "epoch= 15    Risk train =  13.807410955429077\n",
            "epoch= 16    Risk train =  13.807512760162354\n",
            "epoch= 17    Risk train =  13.807353019714355\n",
            "epoch= 18    Risk train =  13.807684898376465\n",
            "epoch= 19    Risk train =  13.807480335235596\n",
            "epoch= 20    Risk train =  13.807442426681519\n",
            "epoch= 21    Risk train =  13.80750584602356\n",
            "epoch= 22    Risk train =  13.807431697845459\n",
            "epoch= 23    Risk train =  13.807597875595093\n",
            "epoch= 24    Risk train =  13.807496786117554\n",
            "epoch= 25    Risk train =  13.807442426681519\n",
            "epoch= 26    Risk train =  13.807464838027954\n",
            "epoch= 27    Risk train =  13.807523250579834\n",
            "epoch= 28    Risk train =  13.807579278945923\n",
            "epoch= 29    Risk train =  13.80749225616455\n",
            "epoch= 30    Risk train =  13.807686805725098\n",
            "epoch= 31    Risk train =  13.80757999420166\n",
            "epoch= 32    Risk train =  13.80748200416565\n",
            "epoch= 33    Risk train =  13.807602882385254\n",
            "epoch= 34    Risk train =  13.807524681091309\n",
            "epoch= 35    Risk train =  13.8075852394104\n",
            "epoch= 36    Risk train =  13.807337999343872\n",
            "epoch= 37    Risk train =  13.807720422744751\n",
            "epoch= 38    Risk train =  13.807589054107666\n",
            "epoch= 39    Risk train =  13.807588338851929\n",
            "epoch= 40    Risk train =  13.807307243347168\n",
            "epoch= 41    Risk train =  13.807516813278198\n",
            "epoch= 42    Risk train =  13.807350635528564\n",
            "epoch= 43    Risk train =  13.807807922363281\n",
            "epoch= 44    Risk train =  13.807520389556885\n",
            "epoch= 45    Risk train =  13.80750036239624\n",
            "epoch= 46    Risk train =  13.807532787322998\n",
            "epoch= 47    Risk train =  13.807443141937256\n",
            "epoch= 48    Risk train =  13.807655096054077\n",
            "epoch= 49    Risk train =  13.807507514953613\n",
            "epoch= 50    Risk train =  13.807495594024658\n",
            "epoch= 51    Risk train =  13.807422876358032\n",
            "epoch= 52    Risk train =  13.807542562484741\n",
            "epoch= 53    Risk train =  13.807387113571167\n",
            "epoch= 54    Risk train =  13.807528495788574\n",
            "epoch= 55    Risk train =  13.80760931968689\n",
            "epoch= 56    Risk train =  13.80729079246521\n",
            "epoch= 57    Risk train =  13.807441711425781\n",
            "epoch= 58    Risk train =  13.807528972625732\n",
            "epoch= 59    Risk train =  13.807470560073853\n",
            "epoch= 60    Risk train =  13.807794570922852\n",
            "epoch= 61    Risk train =  13.807446241378784\n",
            "epoch= 62    Risk train =  13.807334184646606\n",
            "epoch= 63    Risk train =  13.807446479797363\n",
            "epoch= 64    Risk train =  13.807551145553589\n",
            "epoch= 65    Risk train =  13.8074951171875\n",
            "epoch= 66    Risk train =  13.8074209690094\n",
            "epoch= 67    Risk train =  13.807348489761353\n",
            "epoch= 68    Risk train =  13.807300806045532\n",
            "epoch= 69    Risk train =  13.807595014572144\n",
            "epoch= 70    Risk train =  13.807714939117432\n",
            "epoch= 71    Risk train =  13.807404518127441\n",
            "epoch= 72    Risk train =  13.807602167129517\n",
            "epoch= 73    Risk train =  13.80747365951538\n",
            "epoch= 74    Risk train =  13.80754280090332\n",
            "epoch= 75    Risk train =  13.807409048080444\n",
            "epoch= 76    Risk train =  13.807505369186401\n",
            "epoch= 77    Risk train =  13.807519912719727\n",
            "epoch= 78    Risk train =  13.807489156723022\n",
            "epoch= 79    Risk train =  13.807448625564575\n",
            "epoch= 80    Risk train =  13.80773663520813\n",
            "epoch= 81    Risk train =  13.80764651298523\n",
            "epoch= 82    Risk train =  13.807657718658447\n",
            "epoch= 83    Risk train =  13.807327032089233\n",
            "epoch= 84    Risk train =  13.807693243026733\n",
            "epoch= 85    Risk train =  13.807517766952515\n",
            "epoch= 86    Risk train =  13.807490348815918\n",
            "epoch= 87    Risk train =  13.807716608047485\n",
            "epoch= 88    Risk train =  13.8076491355896\n",
            "epoch= 89    Risk train =  13.807384490966797\n",
            "epoch= 90    Risk train =  13.807352542877197\n",
            "epoch= 91    Risk train =  13.80742859840393\n",
            "epoch= 92    Risk train =  13.807456016540527\n",
            "epoch= 93    Risk train =  13.807522535324097\n",
            "epoch= 94    Risk train =  13.807803869247437\n",
            "epoch= 95    Risk train =  13.807364702224731\n",
            "epoch= 96    Risk train =  13.80743670463562\n",
            "epoch= 97    Risk train =  13.807388067245483\n",
            "epoch= 98    Risk train =  13.807924509048462\n",
            "epoch= 99    Risk train =  13.807615041732788\n",
            "sum_time = 207.22435021400452\n"
          ]
        }
      ]
    },
    {
      "cell_type": "code",
      "source": [
        "from matplotlib import pyplot as plt\n",
        "plt.plot(train_losses, label=\"train loss\")\n",
        "plt.plot(test_losses, label=\"test loss\")\n",
        "plt.xlabel(\"Epochs\")\n",
        "plt.ylabel(\"Loss\")\n",
        "plt.title(\"weights and bias initialized as zero \")\n",
        "plt.legend()\n",
        "plt.show()"
      ],
      "metadata": {
        "colab": {
          "base_uri": "https://localhost:8080/",
          "height": 295
        },
        "outputId": "12f1b65b-4752-425b-ad96-5dc74b61b3e2",
        "id": "_IJfPJiq7w4s"
      },
      "execution_count": 95,
      "outputs": [
        {
          "output_type": "display_data",
          "data": {
            "text/plain": [
              "<Figure size 432x288 with 1 Axes>"
            ],
            "image/png": "[encoded data removed]"
          },
          "metadata": {
            "needs_background": "light"
          }
        }
      ]
    },
    {
      "cell_type": "code",
      "source": [
        "from sklearn.metrics import accuracy_score\n",
        "\n",
        "# Compute the final accuracy on test set\n",
        "pred_test = net(torch.flatten(x_test, start_dim=1, end_dim=2))\n",
        "pred_test = pred_test.detach().numpy()\n",
        "\n",
        "acc_test = accuracy_score(y_test, np.argmax(pred_test, axis=1))\n",
        "\n",
        "print(\"Final accuracy on test\", acc_test)"
      ],
      "metadata": {
        "colab": {
          "base_uri": "https://localhost:8080/"
        },
        "outputId": "56433a03-6910-40ee-d23b-1b95d4338cb6",
        "id": "Tj3R5no47w4s"
      },
      "execution_count": 93,
      "outputs": [
        {
          "output_type": "stream",
          "name": "stdout",
          "text": [
            "Final accuracy on test 0.1135\n"
          ]
        }
      ]
    },
    {
      "cell_type": "code",
      "source": [
        "from sklearn.metrics import accuracy_score\n",
        "\n",
        "pred_train = net(torch.flatten(x, start_dim=1, end_dim=2))\n",
        "pred_train = pred_train.detach().numpy()\n",
        "\n",
        "acc_train = accuracy_score(y, np.argmax(pred_train, axis=1))\n",
        "\n",
        "print(\"Final accuracy on train\", acc_train)"
      ],
      "metadata": {
        "colab": {
          "base_uri": "https://localhost:8080/"
        },
        "outputId": "e6c89159-05de-4500-b167-6b9719b0a077",
        "id": "cd7flkiw7w4s"
      },
      "execution_count": 94,
      "outputs": [
        {
          "output_type": "stream",
          "name": "stdout",
          "text": [
            "Final accuracy on train 0.11236666666666667\n"
          ]
        }
      ]
    },
    {
      "cell_type": "code",
      "source": [],
      "metadata": {
        "id": "eT9reF6n74q3"
      },
      "execution_count": null,
      "outputs": []
    },
    {
      "cell_type": "markdown",
      "source": [
        "#Exercise-3"
      ],
      "metadata": {
        "id": "oQMsH81W2yJn"
      }
    },
    {
      "cell_type": "markdown",
      "source": [
        "Let's sort the x and y, according to class labels(y) in ascending order i.e. order the MNIST dataset in order to have first all the “zeros”, then all the “ones”, then all the “twos” and so on:"
      ],
      "metadata": {
        "id": "EknSp-2Q_Xas"
      }
    },
    {
      "cell_type": "code",
      "source": [
        "#First, we will take a permutation of all the 60000 images to shuffle them randomly:\n",
        "\n",
        "permutation = torch.randperm(x.size()[0])\n",
        "print(\"permutation.shape = \",permutation.shape)\n",
        "indices = permutation #shape = [60000]\n",
        "permut_x = x[indices]  #shape = [60000, 28, 28]\n",
        "permut_y = y[indices] #shape = [60000]\n",
        "\n",
        "print(permut_y.shape, permut_x.shape)"
      ],
      "metadata": {
        "colab": {
          "base_uri": "https://localhost:8080/"
        },
        "id": "RlogTXp8sqbc",
        "outputId": "1674b856-7810-4937-fd03-ebc16726dc65"
      },
      "execution_count": 4,
      "outputs": [
        {
          "output_type": "stream",
          "name": "stdout",
          "text": [
            "permutation.shape =  torch.Size([60000])\n",
            "torch.Size([60000]) torch.Size([60000, 28, 28])\n"
          ]
        }
      ]
    },
    {
      "cell_type": "code",
      "source": [
        "#Now, we sort the class labels(y) in ascending order:\n",
        "idx   = np.argsort(permut_y)\n",
        "#We rearrange the x and y accroding to indeces of new sorted labels:\n",
        "y_new = np.array(permut_y)[idx]\n",
        "x_new = np.array(permut_x)[idx]\n",
        "\n",
        "#Convert them to torch tensors:\n",
        "x_new_torch = torch.from_numpy(x_new)\n",
        "y_new_torch = torch.from_numpy(y_new)\n",
        "print(x_new_torch.shape, y_new_torch.shape)"
      ],
      "metadata": {
        "colab": {
          "base_uri": "https://localhost:8080/"
        },
        "id": "eaU66aeM5rCf",
        "outputId": "5b64e6d4-bcb2-433c-cd88-0f0d73826d91"
      },
      "execution_count": 5,
      "outputs": [
        {
          "output_type": "stream",
          "name": "stdout",
          "text": [
            "torch.Size([60000, 28, 28]) torch.Size([60000])\n"
          ]
        }
      ]
    },
    {
      "cell_type": "code",
      "source": [
        "y_one_hot_new = torch.nn.functional.one_hot(y_new_torch, num_classes=10).float()\n",
        "y_one_hot_new.shape"
      ],
      "metadata": {
        "colab": {
          "base_uri": "https://localhost:8080/"
        },
        "id": "s6nsFDZqrM09",
        "outputId": "30107831-35f1-4c65-e0af-81334b76859b"
      },
      "execution_count": 6,
      "outputs": [
        {
          "output_type": "execute_result",
          "data": {
            "text/plain": [
              "torch.Size([60000, 10])"
            ]
          },
          "metadata": {},
          "execution_count": 6
        }
      ]
    },
    {
      "cell_type": "code",
      "source": [
        "y_one_hot_new"
      ],
      "metadata": {
        "colab": {
          "base_uri": "https://localhost:8080/"
        },
        "id": "pKzI-N3hr86o",
        "outputId": "a6496a06-ff39-45fb-ed7e-26a8d5b8cc71"
      },
      "execution_count": 7,
      "outputs": [
        {
          "output_type": "execute_result",
          "data": {
            "text/plain": [
              "tensor([[1., 0., 0.,  ..., 0., 0., 0.],\n",
              "        [1., 0., 0.,  ..., 0., 0., 0.],\n",
              "        [1., 0., 0.,  ..., 0., 0., 0.],\n",
              "        ...,\n",
              "        [0., 0., 0.,  ..., 0., 0., 1.],\n",
              "        [0., 0., 0.,  ..., 0., 0., 1.],\n",
              "        [0., 0., 0.,  ..., 0., 0., 1.]])"
            ]
          },
          "metadata": {},
          "execution_count": 7
        }
      ]
    },
    {
      "cell_type": "code",
      "source": [
        "\n",
        "# Now let us define the neural network we are using\n",
        "net = torch.nn.Sequential(\n",
        "    torch.nn.Linear(28*28, 300),\n",
        "    torch.nn.ReLU(),\n",
        "    torch.nn.Linear(300, 100),\n",
        "    torch.nn.Sigmoid(),\n",
        "    torch.nn.Linear(100, 10),\n",
        ")\n",
        "\n",
        "# Now we define the optimizer and the loss function\n",
        "loss = torch.nn.CrossEntropyLoss()\n",
        "optimizer = optim.SGD(net.parameters(), lr = 0.0001)"
      ],
      "metadata": {
        "id": "ROk_4D1x_1_u"
      },
      "execution_count": 9,
      "outputs": []
    },
    {
      "cell_type": "code",
      "source": [
        "import time\n",
        "\n",
        "train_losses = []\n",
        "test_losses = []\n",
        "times = []\n",
        "\n",
        "epoch=0\n",
        "is_begining = 1\n",
        "\n",
        "start_epoch = time.time()\n",
        "    \n",
        "train_loss_temp = 0\n",
        "#test_loss_temp = 0\n",
        "for i in range(0, 60000 * 100):\n",
        "  \n",
        "\n",
        "  optimizer.zero_grad()\n",
        "\n",
        "  #Take the modulo of 60000\n",
        "  i_current = i % 60000\n",
        "  batch_x = x_new_torch[i_current]  #shape = [1, 28, 28]\n",
        "  batch_y = y_one_hot_new[i_current] #shape = [1, 10]\n",
        "\n",
        "  inputs = torch.flatten(batch_x, start_dim=0, end_dim=1) #shape=[1, 784]\n",
        "  outputs = net(inputs) #shape = [1, 10]\n",
        "\n",
        "  #Define the empirical risk\n",
        "  Risk = loss(outputs, batch_y )\n",
        "  #Save the training loss:\n",
        "  train_loss_temp += Risk.item()\n",
        "\n",
        "  #Save the test loss:\n",
        "  #x_test_flatten = torch.flatten(x_test, start_dim=1, end_dim=2) #shape=[10000, 784]\n",
        "  #y_pred_test = net(x_test_flatten) #shape = [10000, 10]\n",
        "  #Risk_test = loss(y_pred_test, y_test)\n",
        "        \n",
        "  #test_loss_temp += Risk_test.item()\n",
        "\n",
        "  #Make the backward step (1 line instruction)\n",
        "  Risk.backward()\n",
        "\n",
        "  #Upadte the parameters (1 line instruction)\n",
        "  optimizer.step()\n",
        "  \n",
        "  \n",
        "\n",
        "  with torch.no_grad():\n",
        "    if i_current == 0 & is_begining == 0:\n",
        "      train_losses.append(train_loss_temp)\n",
        "      #test_losses.append(test_loss_temp)\n",
        "      \n",
        "      \n",
        "      epoch +=1\n",
        "      print(\"epoch=\", epoch, \"   Risk train = \", train_loss_temp)\n",
        "      #test_loss_temp=0\n",
        "      train_loss_temp=0\n",
        "  \n",
        "  is_begining = 0\n",
        "\n",
        "\n",
        "end_epoch = time.time()\n",
        "elapsed = end_epoch - start_epoch\n",
        "\n",
        "print(\"sum_time =\", elapsed)\n",
        "\n",
        "\n",
        "\n",
        "\n",
        "\n"
      ],
      "metadata": {
        "colab": {
          "base_uri": "https://localhost:8080/"
        },
        "outputId": "ba981010-cf45-4b85-d84c-5a4dc725c653",
        "id": "PTJERt42_1_u"
      },
      "execution_count": 10,
      "outputs": [
        {
          "output_type": "stream",
          "name": "stdout",
          "text": [
            "epoch= 1    Risk train =  1.9747848510742188\n",
            "epoch= 2    Risk train =  50894.83209144324\n",
            "epoch= 3    Risk train =  40381.3078892082\n",
            "epoch= 4    Risk train =  30395.21406905353\n",
            "epoch= 5    Risk train =  22481.047263797373\n",
            "epoch= 6    Risk train =  16509.96112939343\n",
            "epoch= 7    Risk train =  13432.889819905162\n",
            "epoch= 8    Risk train =  12531.78449484706\n",
            "epoch= 9    Risk train =  10847.455036830157\n",
            "epoch= 10    Risk train =  9446.891519419849\n",
            "epoch= 11    Risk train =  8921.127047481015\n",
            "epoch= 12    Risk train =  8502.725046169013\n",
            "epoch= 13    Risk train =  8120.51422396116\n",
            "epoch= 14    Risk train =  7750.658567832783\n",
            "epoch= 15    Risk train =  8236.368038843386\n",
            "epoch= 16    Risk train =  8488.723258406855\n",
            "epoch= 17    Risk train =  9326.013053953648\n",
            "epoch= 18    Risk train =  9564.969646711834\n",
            "epoch= 19    Risk train =  9829.581696334295\n",
            "epoch= 20    Risk train =  9268.331192416139\n",
            "epoch= 21    Risk train =  9402.104732577689\n",
            "epoch= 22    Risk train =  8967.174925494939\n",
            "epoch= 23    Risk train =  9156.6966504585\n",
            "epoch= 24    Risk train =  9624.028320480138\n",
            "epoch= 25    Risk train =  9122.424856053665\n",
            "epoch= 26    Risk train =  8717.433485676534\n",
            "epoch= 27    Risk train =  8864.698989930097\n",
            "epoch= 28    Risk train =  9559.89305933332\n",
            "epoch= 29    Risk train =  9834.629517914727\n",
            "epoch= 30    Risk train =  9275.232482635416\n",
            "epoch= 31    Risk train =  9814.461746203713\n",
            "epoch= 32    Risk train =  10391.63048769487\n",
            "epoch= 33    Risk train =  9362.038230325328\n",
            "epoch= 34    Risk train =  9627.52313530771\n",
            "epoch= 35    Risk train =  10594.257836587261\n",
            "epoch= 36    Risk train =  10106.837638515513\n",
            "epoch= 37    Risk train =  9904.70897218911\n",
            "epoch= 38    Risk train =  10861.375624866225\n",
            "epoch= 39    Risk train =  10327.640825652983\n",
            "epoch= 40    Risk train =  10733.312993551139\n",
            "epoch= 41    Risk train =  10315.36715996312\n",
            "epoch= 42    Risk train =  11096.25466967607\n",
            "epoch= 43    Risk train =  10070.389514769427\n",
            "epoch= 44    Risk train =  11084.905971739674\n",
            "epoch= 45    Risk train =  10772.26898987242\n",
            "epoch= 46    Risk train =  10868.455667278962\n",
            "epoch= 47    Risk train =  12442.411520648282\n",
            "epoch= 48    Risk train =  11605.654182800441\n",
            "epoch= 49    Risk train =  11220.93679785321\n",
            "epoch= 50    Risk train =  11767.215539322584\n",
            "epoch= 51    Risk train =  11461.155709396233\n",
            "epoch= 52    Risk train =  12133.800123186898\n",
            "epoch= 53    Risk train =  12437.501943007344\n",
            "epoch= 54    Risk train =  12406.6341511379\n",
            "epoch= 55    Risk train =  12658.023574369377\n",
            "epoch= 56    Risk train =  12970.835561930086\n",
            "epoch= 57    Risk train =  13293.4550996318\n",
            "epoch= 58    Risk train =  12662.085034439107\n",
            "epoch= 59    Risk train =  12879.051384123159\n",
            "epoch= 60    Risk train =  12554.096436519409\n",
            "epoch= 61    Risk train =  12881.098720741924\n",
            "epoch= 62    Risk train =  11910.041662488598\n",
            "epoch= 63    Risk train =  13278.93329365569\n",
            "epoch= 64    Risk train =  12511.5638131437\n",
            "epoch= 65    Risk train =  13057.9445313022\n",
            "epoch= 66    Risk train =  12237.399599927885\n",
            "epoch= 67    Risk train =  13062.462461823423\n",
            "epoch= 68    Risk train =  12791.62282210216\n",
            "epoch= 69    Risk train =  12376.083922900143\n",
            "epoch= 70    Risk train =  12579.776772671728\n",
            "epoch= 71    Risk train =  14068.471485331422\n",
            "epoch= 72    Risk train =  13178.082101559325\n",
            "epoch= 73    Risk train =  13679.867842755048\n",
            "epoch= 74    Risk train =  13991.109862190206\n",
            "epoch= 75    Risk train =  12941.685594513314\n",
            "epoch= 76    Risk train =  14111.85350129893\n",
            "epoch= 77    Risk train =  12929.501744716545\n",
            "epoch= 78    Risk train =  13338.101432365715\n",
            "epoch= 79    Risk train =  13618.27377446834\n",
            "epoch= 80    Risk train =  13674.230689781136\n",
            "epoch= 81    Risk train =  13456.448771692812\n",
            "epoch= 82    Risk train =  13935.612192696193\n",
            "epoch= 83    Risk train =  13781.392943080864\n",
            "epoch= 84    Risk train =  13029.383701451821\n",
            "epoch= 85    Risk train =  13040.15576271026\n",
            "epoch= 86    Risk train =  13594.497981876251\n",
            "epoch= 87    Risk train =  13127.297125563724\n",
            "epoch= 88    Risk train =  13478.491908776516\n",
            "epoch= 89    Risk train =  13660.207731431467\n",
            "epoch= 90    Risk train =  13513.035351708764\n",
            "epoch= 91    Risk train =  13274.31724441942\n",
            "epoch= 92    Risk train =  12202.349392291857\n",
            "epoch= 93    Risk train =  14160.673955563223\n",
            "epoch= 94    Risk train =  14049.235375926655\n",
            "epoch= 95    Risk train =  13838.704508774099\n",
            "epoch= 96    Risk train =  14076.837563731591\n",
            "epoch= 97    Risk train =  13688.192502917256\n",
            "epoch= 98    Risk train =  13912.006674220785\n",
            "epoch= 99    Risk train =  13782.05582647468\n",
            "epoch= 100    Risk train =  13746.744031020266\n",
            "sum_time = 3134.857438802719\n"
          ]
        }
      ]
    },
    {
      "cell_type": "code",
      "source": [
        "train2 = train_losses"
      ],
      "metadata": {
        "id": "Pp1Y9BY_JSYo"
      },
      "execution_count": 11,
      "outputs": []
    },
    {
      "cell_type": "code",
      "source": [
        "\n",
        "from matplotlib import pyplot as plt\n",
        "plt.plot(train_losses, label=\"test loss\")\n",
        "plt.plot(train_losses, label=\"train loss\")\n",
        "\n",
        "plt.xlabel(\"Epochs\")\n",
        "plt.ylabel(\"Loss\")\n",
        "plt.title(\"Online GD, lr= 0.0001\")\n",
        "plt.legend()\n",
        "plt.show()"
      ],
      "metadata": {
        "colab": {
          "base_uri": "https://localhost:8080/",
          "height": 295
        },
        "outputId": "a6743544-e731-41de-9765-bde84609cd07",
        "id": "8FYNoV93_1_u"
      },
      "execution_count": 13,
      "outputs": [
        {
          "output_type": "display_data",
          "data": {
            "text/plain": [
              "<Figure size 432x288 with 1 Axes>"
            ],
            "image/png": "[encoded data removed]"
          },
          "metadata": {
            "needs_background": "light"
          }
        }
      ]
    },
    {
      "cell_type": "code",
      "source": [
        "from sklearn.metrics import accuracy_score\n",
        "\n",
        "# Compute the final accuracy on test set\n",
        "pred_test = net(torch.flatten(x_test, start_dim=1, end_dim=2))\n",
        "pred_test = pred_test.detach().numpy()\n",
        "\n",
        "acc_test = accuracy_score(y_test, np.argmax(pred_test, axis=1))\n",
        "\n",
        "print(\"Final accuracy on test\", acc_test)"
      ],
      "metadata": {
        "colab": {
          "base_uri": "https://localhost:8080/"
        },
        "outputId": "67ff8526-63a9-4c1e-f482-c3f19183e20b",
        "id": "LWMjWGeP_1_u"
      },
      "execution_count": 14,
      "outputs": [
        {
          "output_type": "stream",
          "name": "stdout",
          "text": [
            "Final accuracy on test 0.7424\n"
          ]
        }
      ]
    },
    {
      "cell_type": "code",
      "source": [
        "from sklearn.metrics import accuracy_score\n",
        "\n",
        "pred_train = net(torch.flatten(x, start_dim=1, end_dim=2))\n",
        "pred_train = pred_train.detach().numpy()\n",
        "\n",
        "acc_train = accuracy_score(y, np.argmax(pred_train, axis=1))\n",
        "\n",
        "print(\"Final accuracy on train\", acc_train)"
      ],
      "metadata": {
        "colab": {
          "base_uri": "https://localhost:8080/"
        },
        "outputId": "4facde24-f8eb-4248-c994-0da13b7d2f5e",
        "id": "wtHm3kzP_1_u"
      },
      "execution_count": 15,
      "outputs": [
        {
          "output_type": "stream",
          "name": "stdout",
          "text": [
            "Final accuracy on train 0.7420666666666667\n"
          ]
        }
      ]
    },
    {
      "cell_type": "markdown",
      "source": [
        "#Exercise-4\n",
        "\n",
        " Set up an experiment on MNIST to compare SGD and ADAM in terms of\n",
        "-  Sensibility to the learning rate \n",
        "-  Speed of convergence.\n",
        "-  Final accuracy on test set."
      ],
      "metadata": {
        "id": "hccw_psGNlOx"
      }
    },
    {
      "cell_type": "markdown",
      "source": [
        "I will do experiments by using both Adam and SGD optimizations. I will use a batch size of 1000 to make the training faster( batch size of 1 is very very slow so I don't prefer to use it). I will try different learning rates in both optimizers and show the test accuracy. I will keep the other parameters fixed: number of epochs = 100, number of hidden layers=2, number of neurons in hidden layers=300 and 100 respectively, batch size=1000."
      ],
      "metadata": {
        "id": "VstaU0CLRDR3"
      }
    },
    {
      "cell_type": "code",
      "source": [
        "\n",
        "# Now let us define the neural network we are using\n",
        "net = torch.nn.Sequential(\n",
        "    torch.nn.Linear(28*28, 300),\n",
        "    torch.nn.ReLU(),\n",
        "    torch.nn.Linear(300, 100),\n",
        "    torch.nn.Sigmoid(),\n",
        "    torch.nn.Linear(100, 10),\n",
        ")\n",
        "\n",
        "# Now we define the optimizer and the loss function\n",
        "loss = torch.nn.CrossEntropyLoss()\n"
      ],
      "metadata": {
        "id": "jX_gaxGHN9Z3"
      },
      "execution_count": 4,
      "outputs": []
    },
    {
      "cell_type": "markdown",
      "source": [
        "We can select the optimizer here:"
      ],
      "metadata": {
        "id": "gXnrJAF4CWd8"
      }
    },
    {
      "cell_type": "code",
      "source": [
        "#optimizer = optim.SGD(net.parameters(), lr = 1)\n",
        "optimizer = optim.Adam(net.parameters(), lr = .001)"
      ],
      "metadata": {
        "id": "VxBjJY5XCV_d"
      },
      "execution_count": null,
      "outputs": []
    },
    {
      "cell_type": "code",
      "source": [
        "import time\n",
        "\n",
        "n_epochs = 100\n",
        "print(\"n_epochs = \", n_epochs)\n",
        "batch_size = 1000 #We change the epoch number here.\n",
        "print(\"batch_size = \", batch_size)\n",
        "\n",
        "train_losses = []\n",
        "test_losses = []\n",
        "times = []\n",
        "\n",
        "for epoch in range(n_epochs):\n",
        "    start_epoch = time.time()\n",
        "    # X is a torch Variable\n",
        "    permutation = torch.randperm(x.size()[0])\n",
        "\n",
        "    train_loss_temp = 0\n",
        "    test_loss_temp = 0\n",
        "    for i in range(0, x.size()[0], batch_size):\n",
        "        optimizer.zero_grad()\n",
        "\n",
        "        indices = permutation[i : i+batch_size] #shape = [batch_size]\n",
        "        \n",
        "        batch_x = x[indices]  #shape = [batch_size, 28, 28]\n",
        "        batch_y = y_one_hot[indices] #shape = [batch_size, 10]\n",
        "        \n",
        "        inputs = torch.flatten(batch_x, start_dim=1, end_dim=2) #shape=[batch_size, 784]\n",
        "        outputs = net(inputs) #shape = [batch_size, 10]    \n",
        "\n",
        "        #Define the empirical risk\n",
        "        Risk = loss(outputs, batch_y )\n",
        "        #Save the training loss:\n",
        "        train_loss_temp += Risk.item()\n",
        "\n",
        "        #Save the test loss:\n",
        "        x_test_flatten = torch.flatten(x_test, start_dim=1, end_dim=2) #shape=[10000, 784]\n",
        "        y_pred_test = net(x_test_flatten) #shape = [10000, 10]\n",
        "        Risk_test = loss(y_pred_test, y_test)\n",
        "        \n",
        "        test_loss_temp += Risk_test.item()\n",
        "\n",
        "        #Make the backward step (1 line instruction)\n",
        "        Risk.backward()\n",
        "\n",
        "        #Upadte the parameters (1 line instruction)\n",
        "        optimizer.step()\n",
        "\n",
        "    \n",
        "    train_losses.append(train_loss_temp)\n",
        "    test_losses.append(test_loss_temp)\n",
        "    with torch.no_grad():\n",
        "      print(\"epoch=\", epoch, \"   Risk train = \", train_loss_temp)\n",
        "    \n",
        "    end_epoch = time.time()\n",
        "    elapsed = end_epoch - start_epoch\n",
        "    times.append(elapsed)\n",
        "\n",
        "sum_time = sum(times)\n",
        "print(\"sum_time =\", sum_time)"
      ],
      "metadata": {
        "colab": {
          "base_uri": "https://localhost:8080/"
        },
        "id": "HlPMLSjSN9Z3",
        "outputId": "3a488f78-bec6-4b79-ae6a-c6f5803763dd"
      },
      "execution_count": 5,
      "outputs": [
        {
          "output_type": "stream",
          "name": "stdout",
          "text": [
            "n_epochs =  100\n",
            "batch_size =  1000\n",
            "epoch= 0    Risk train =  50.951696932315826\n",
            "epoch= 1    Risk train =  15.328673467040062\n",
            "epoch= 2    Risk train =  8.704951897263527\n",
            "epoch= 3    Risk train =  6.0608091577887535\n",
            "epoch= 4    Risk train =  4.351857740432024\n",
            "epoch= 5    Risk train =  3.411055739969015\n",
            "epoch= 6    Risk train =  2.7016474790871143\n",
            "epoch= 7    Risk train =  2.198097014799714\n",
            "epoch= 8    Risk train =  1.862985884770751\n",
            "epoch= 9    Risk train =  1.3463176852092147\n",
            "epoch= 10    Risk train =  1.0145810395479202\n",
            "epoch= 11    Risk train =  0.8268701327033341\n",
            "epoch= 12    Risk train =  0.606918606441468\n",
            "epoch= 13    Risk train =  0.4725432158447802\n",
            "epoch= 14    Risk train =  0.3613713134545833\n",
            "epoch= 15    Risk train =  0.30898047611117363\n",
            "epoch= 16    Risk train =  0.2781551524531096\n",
            "epoch= 17    Risk train =  0.2468529073521495\n",
            "epoch= 18    Risk train =  0.22533799649681896\n",
            "epoch= 19    Risk train =  0.22233103215694427\n",
            "epoch= 20    Risk train =  0.28767997375689447\n",
            "epoch= 21    Risk train =  0.48621281213127077\n",
            "epoch= 22    Risk train =  1.2388324532657862\n",
            "epoch= 23    Risk train =  1.3255589408800006\n",
            "epoch= 24    Risk train =  1.071381675079465\n",
            "epoch= 25    Risk train =  0.7754785800352693\n",
            "epoch= 26    Risk train =  0.47415605350397527\n",
            "epoch= 27    Risk train =  0.28759887302294374\n",
            "epoch= 28    Risk train =  0.19046763377264142\n",
            "epoch= 29    Risk train =  0.11346323788166046\n",
            "epoch= 30    Risk train =  0.07628087437478825\n",
            "epoch= 31    Risk train =  0.06093804485863075\n",
            "epoch= 32    Risk train =  0.05332337226718664\n",
            "epoch= 33    Risk train =  0.0480317845067475\n",
            "epoch= 34    Risk train =  0.044523799122544006\n",
            "epoch= 35    Risk train =  0.0418277608405333\n",
            "epoch= 36    Risk train =  0.03970411833142862\n",
            "epoch= 37    Risk train =  0.037875133770285174\n",
            "epoch= 38    Risk train =  0.035925695847254246\n",
            "epoch= 39    Risk train =  0.03457359180902131\n",
            "epoch= 40    Risk train =  0.0332954746845644\n",
            "epoch= 41    Risk train =  0.032172659382922575\n",
            "epoch= 42    Risk train =  0.031113695818930864\n",
            "epoch= 43    Risk train =  0.030141564551740885\n",
            "epoch= 44    Risk train =  0.029264597993460484\n",
            "epoch= 45    Risk train =  0.028399688613717444\n",
            "epoch= 46    Risk train =  0.027536381167010404\n",
            "epoch= 47    Risk train =  0.026765016722492874\n",
            "epoch= 48    Risk train =  0.026028267180663534\n",
            "epoch= 49    Risk train =  0.025168099877191707\n",
            "epoch= 50    Risk train =  0.024436134597635828\n",
            "epoch= 51    Risk train =  0.0238169931108132\n",
            "epoch= 52    Risk train =  0.023167811334133148\n",
            "epoch= 53    Risk train =  0.022653130188700743\n",
            "epoch= 54    Risk train =  0.022075299100833945\n",
            "epoch= 55    Risk train =  0.021610341675113887\n",
            "epoch= 56    Risk train =  0.021091291768243536\n",
            "epoch= 57    Risk train =  0.02063970705785323\n",
            "epoch= 58    Risk train =  0.020143391942838207\n",
            "epoch= 59    Risk train =  0.019665442225232255\n",
            "epoch= 60    Risk train =  0.01915432767418679\n",
            "epoch= 61    Risk train =  0.018775562777591404\n",
            "epoch= 62    Risk train =  0.018362801623879932\n",
            "epoch= 63    Risk train =  0.017981647863052785\n",
            "epoch= 64    Risk train =  0.017541031855216715\n",
            "epoch= 65    Risk train =  0.01708916532516014\n",
            "epoch= 66    Risk train =  0.016703574503480922\n",
            "epoch= 67    Risk train =  0.016354166371456813\n",
            "epoch= 68    Risk train =  0.01595752731373068\n",
            "epoch= 69    Risk train =  0.015610600450600032\n",
            "epoch= 70    Risk train =  0.015210185665637255\n",
            "epoch= 71    Risk train =  0.01493897321051918\n",
            "epoch= 72    Risk train =  0.014632376500230748\n",
            "epoch= 73    Risk train =  0.014290102102677338\n",
            "epoch= 74    Risk train =  0.013942241152108181\n",
            "epoch= 75    Risk train =  0.013661327888257802\n",
            "epoch= 76    Risk train =  0.013388414292421658\n",
            "epoch= 77    Risk train =  0.013049022367340513\n",
            "epoch= 78    Risk train =  0.012817391245334875\n",
            "epoch= 79    Risk train =  0.012521858217951376\n",
            "epoch= 80    Risk train =  0.012243181408848614\n",
            "epoch= 81    Risk train =  0.011991339139058255\n",
            "epoch= 82    Risk train =  0.011658531428111019\n",
            "epoch= 83    Risk train =  0.011440676462370902\n",
            "epoch= 84    Risk train =  0.011169163131853566\n",
            "epoch= 85    Risk train =  0.01081654713198077\n",
            "epoch= 86    Risk train =  0.010577476205071434\n",
            "epoch= 87    Risk train =  0.010354516191000585\n",
            "epoch= 88    Risk train =  0.010101796007802477\n",
            "epoch= 89    Risk train =  0.009819472339586355\n",
            "epoch= 90    Risk train =  0.009620761535188649\n",
            "epoch= 91    Risk train =  0.009353126759378938\n",
            "epoch= 92    Risk train =  0.009114527922065463\n",
            "epoch= 93    Risk train =  0.008829118793073576\n",
            "epoch= 94    Risk train =  0.00857826918218052\n",
            "epoch= 95    Risk train =  0.008376418318221113\n",
            "epoch= 96    Risk train =  0.00819655176383094\n",
            "epoch= 97    Risk train =  0.007883774258516496\n",
            "epoch= 98    Risk train =  0.0076622334418061655\n",
            "epoch= 99    Risk train =  0.007371540490566986\n",
            "sum_time = 959.8790493011475\n"
          ]
        }
      ]
    },
    {
      "cell_type": "code",
      "source": [
        "from matplotlib import pyplot as plt\n",
        "plt.plot(train_losses, label=\"train loss\")\n",
        "plt.plot(test_losses, label=\"test loss\")\n",
        "plt.xlabel(\"Epochs\")\n",
        "plt.ylabel(\"Loss\")\n",
        "plt.title(\"SGD, lr=1\")\n",
        "plt.legend()\n",
        "plt.show()"
      ],
      "metadata": {
        "colab": {
          "base_uri": "https://localhost:8080/",
          "height": 295
        },
        "outputId": "1fee6c2b-f8d8-4470-b598-b8d40c667dbd",
        "id": "E1m8NEy4N9Z3"
      },
      "execution_count": 63,
      "outputs": [
        {
          "output_type": "display_data",
          "data": {
            "text/plain": [
              "<Figure size 432x288 with 1 Axes>"
            ],
            "image/png": "[encoded data removed]"
          },
          "metadata": {
            "needs_background": "light"
          }
        }
      ]
    },
    {
      "cell_type": "code",
      "source": [
        "from sklearn.metrics import accuracy_score\n",
        "\n",
        "# Compute the final accuracy on test set\n",
        "pred_test = net(torch.flatten(x_test, start_dim=1, end_dim=2))\n",
        "pred_test = pred_test.detach().numpy()\n",
        "\n",
        "acc_test = accuracy_score(y_test, np.argmax(pred_test, axis=1))\n",
        "\n",
        "print(\"Final accuracy on test\", acc_test)"
      ],
      "metadata": {
        "colab": {
          "base_uri": "https://localhost:8080/"
        },
        "outputId": "52a29b74-2740-49bf-ced4-7de3ea84e82f",
        "id": "MZzOaojmN9Z3"
      },
      "execution_count": 64,
      "outputs": [
        {
          "output_type": "stream",
          "name": "stdout",
          "text": [
            "Final accuracy on test 0.552\n"
          ]
        }
      ]
    },
    {
      "cell_type": "code",
      "source": [
        "from sklearn.metrics import accuracy_score\n",
        "\n",
        "pred_train = net(torch.flatten(x, start_dim=1, end_dim=2))\n",
        "pred_train = pred_train.detach().numpy()\n",
        "\n",
        "acc_train = accuracy_score(y, np.argmax(pred_train, axis=1))\n",
        "\n",
        "print(\"Final accuracy on train\", acc_train)"
      ],
      "metadata": {
        "colab": {
          "base_uri": "https://localhost:8080/"
        },
        "outputId": "b864e843-7e18-4f64-cfbf-65f7e3305f61",
        "id": "kQEcEY3XN9Z3"
      },
      "execution_count": 38,
      "outputs": [
        {
          "output_type": "stream",
          "name": "stdout",
          "text": [
            "Final accuracy on train 0.8356\n"
          ]
        }
      ]
    }
  ]
}
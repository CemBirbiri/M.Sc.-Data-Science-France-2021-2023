{
  "cells": [
    {
      "cell_type": "markdown",
      "source": [
        "STUDENT = UFUK CEM BIRBIRI"
      ],
      "metadata": {
        "id": "GjS-4VN6_Nd8"
      }
    },
    {
      "cell_type": "code",
      "source": [],
      "metadata": {
        "id": "9wnDtbyZ_QHG"
      },
      "execution_count": null,
      "outputs": []
    },
    {
      "cell_type": "markdown",
      "source": [
        "###tools.py"
      ],
      "metadata": {
        "id": "dpKqQUjmyQML"
      }
    },
    {
      "cell_type": "code",
      "source": [
        "import numpy as np \n",
        "import matplotlib.pyplot as plt\n",
        "import pandas as pd\n",
        "\n",
        "from scipy.optimize import minimize\n",
        "from scipy.stats import norm, uniform, binom\n",
        "from scipy.stats import gaussian_kde\n",
        "from scipy.stats import multivariate_normal\n",
        "\n",
        "def laplace_solution(params, other_params, data, lik, priors):\n",
        "  \n",
        "    def evaluate_log_post(params, other_params, data, lik, priors):\n",
        "        model_list = { 'gaussian' : norm, 'uniform': uniform, 'binomial' : binom}\n",
        "    \n",
        "        model_lik = model_list[lik]\n",
        "    \n",
        "        #Computing log-priors\n",
        "        log_prior = 0\n",
        "        for i,mod in enumerate(priors):\n",
        "            log_prior += model_list[mod[0]].logpdf(params[i], *mod[1])\n",
        "\n",
        "            \n",
        "        #Computing log-likelihood\n",
        "        if lik == 'gaussian':\n",
        "            # Dirty trick for guaranteeing positive variance\n",
        "            params[-1] = np.abs(params[-1])\n",
        "                \n",
        "        if len(other_params)>0:\n",
        "            log_lik = np.sum([model_list[lik].logpdf(point, *(params,other_params)) for point in data])\n",
        "        else:\n",
        "            log_lik = np.sum([model_list[lik].logpdf(point, *params) for point in data])\n",
        "        return - (log_lik + log_prior)\n",
        "    \n",
        "    minimum =  minimize(evaluate_log_post, params,  \n",
        "                        args = (other_params, data, lik, priors), method = 'BFGS')\n",
        "    print(minimum)\n",
        "    return [minimum.x, minimum.hess_inv]\n",
        "\n",
        "\n",
        "def laplace_solution_regression(expression, data, lik, priors):\n",
        "    model_list = { 'gaussian' : norm, 'uniform': uniform, 'binomial' : binom}\n",
        "    \n",
        "    def evaluate_log_post(params, var_names, data, lik, priors):\n",
        "        model_list = { 'gaussian' : norm, 'uniform': uniform, 'binomial' : binom}\n",
        "        model_lik = model_list[lik]\n",
        "    \n",
        "        #Computing log-priors\n",
        "        log_prior = 0\n",
        "        for i,mod in enumerate(priors):\n",
        "            log_prior += model_list[mod[0]].logpdf(params[i], *mod[1])\n",
        "\n",
        "        #Evaluating expression\n",
        "        target, predictors = var_names[0], var_names[1]\n",
        "        \n",
        "        mu = np.ones(len(data[predictors[0]])) * params[0]\n",
        "        \n",
        "        for i in range(len(predictors)):\n",
        "            mu += params[i+1] * data[predictors[i]].values\n",
        "            \n",
        "        sigma = np.abs(params[-1])\n",
        "        \n",
        "        t = data[target].values\n",
        "        N = len(t)\n",
        "               \n",
        "        log_lik = np.sum([model_list['gaussian'].logpdf(t[i], mu[i], sigma) for i in range(N)])\n",
        "        return -(log_lik + log_prior)\n",
        "    \n",
        "    collapsed_expression = expression.replace(\" \", \"\")\n",
        "    target, independent = collapsed_expression.split('~') \n",
        "    independent = independent.split('+')\n",
        "    var_names = [target, independent]\n",
        "    \n",
        "    params = []\n",
        "    for i in range(len(priors)):\n",
        "        params.append(model_list[priors[i][0]].rvs(*priors[i][1]))\n",
        "    \n",
        "    minimum =  minimize(evaluate_log_post, params, args = (var_names, data, lik, priors), method = 'BFGS')\n",
        "    print(minimum)\n",
        "    return [minimum.x, minimum.hess_inv]\n",
        "\n",
        "def post_sample_Laplace(solution, N_sample):\n",
        "    posterior_samples = multivariate_normal.rvs(solution[0], solution[1], size = N_sample)\n",
        "    return posterior_samples\n",
        "\n",
        "def posterior_stats(solution, names, plot = False):\n",
        "    posterior_samples = post_sample_Laplace(solution, 1000)\n",
        "    post_quantiles = np.quantile(posterior_samples, q = [0.075, 0.925], axis = 0)\n",
        "    # sd\n",
        "    post_sd = np.std(posterior_samples, axis = 0)\n",
        "    # mean\n",
        "    post_mean = np.mean(posterior_samples, axis = 0)\n",
        "    summary_stats = [post_mean, post_sd, post_quantiles[0,:],post_quantiles[1,:]]\n",
        "    summary_stats = pd.DataFrame(summary_stats).transpose()\n",
        "    summary_stats.columns = ['mean', 'SD', '7.5%', '92.5%']\n",
        "    summary_stats.index = names\n",
        "    #summary_stats.rename(index=list(names), inplace=True)\n",
        "    print(summary_stats)\n",
        "    if plot:\n",
        "        boxes = []\n",
        "        for i in range(len(post_mean)):\n",
        "            boxes.append(posterior_samples[:,i])\n",
        "        plt.boxplot(boxes,vert=0)\n",
        "        plt.yticks(range(len(post_mean)+1)[1:], names)\n",
        "        plt.axvline(x=0, color = 'black', alpha = 0.1)\n",
        "        plt.show()\n",
        "\n",
        "def posterior_plot_univariate_regression(solution, x_range, data, center = 0, names = ['x','y'], N_samples = 500):\n",
        "    post_samples = post_sample_Laplace(solution, N_samples)\n",
        "    degree = post_samples.shape[1] - 1\n",
        "\n",
        "    post_mean = np.mean(post_samples, axis = 0)\n",
        "\n",
        "    mean_prediction = np.zeros(len(x_range))\n",
        "    for i in range(degree):\n",
        "        mean_prediction += post_mean[i] * x_range**i \n",
        "\n",
        "    plt.plot(x_range + center, mean_prediction, lw = 2, color = 'black')\n",
        "    plt.title('regression result')\n",
        "    plt.ylabel(names[1])\n",
        "    plt.xlabel(names[0])\n",
        "\n",
        "    list_model_samples = []\n",
        "    #sampling from the posterior to get a predictive interval\n",
        "    for n in range(N_samples):\n",
        "        mod_sample = np.zeros(len(x_range))\n",
        "        for i in range(degree):\n",
        "            mod_sample += post_samples[n,i] * x_range**i\n",
        "        list_model_samples.append(mod_sample)\n",
        "\n",
        "    prediction_noise = []\n",
        "    for i,mod_sample in enumerate(list_model_samples):\n",
        "        prediction_noise.append(norm.rvs( mod_sample, post_samples[i,-1]))  \n",
        "\n",
        "    # Plotting the uncertainty\n",
        "    for i in range(N_samples): \n",
        "        plt.scatter(x_range + center, prediction_noise[i], alpha = 0.05, color = 'grey')\n",
        "        plt.scatter(x_range + center, list_model_samples[i], alpha = 0.05, color = 'green')\n",
        "\n",
        "    plt.scatter( data[names[0]] + center, data[names[1]])\n",
        " \n"
      ],
      "metadata": {
        "id": "XY7pN4S1yS5K"
      },
      "execution_count": 91,
      "outputs": []
    },
    {
      "cell_type": "markdown",
      "metadata": {
        "id": "i0iC5KxqpWjU"
      },
      "source": [
        "## Exercise 1\n",
        "\n",
        "Consider the following bivariate distribution:"
      ]
    },
    {
      "cell_type": "code",
      "execution_count": 45,
      "metadata": {
        "colab": {
          "base_uri": "https://localhost:8080/",
          "height": 297
        },
        "id": "lxO3wNzbpWjX",
        "outputId": "7cd0d558-76d2-46c0-d7d2-4bfd39943fac"
      },
      "outputs": [
        {
          "output_type": "display_data",
          "data": {
            "text/plain": [
              "<Figure size 432x288 with 1 Axes>"
            ],
            "image/png": "[encoded data removed]"
          },
          "metadata": {
            "needs_background": "light"
          }
        }
      ],
      "source": [
        "import matplotlib.pyplot as plt\n",
        "import numpy as np\n",
        "\n",
        "freq = [[0.,0.,0.2],[0.1,0.1,0.2],[0.1,0.15,0.15]]\n",
        "\n",
        "plt.clf()\n",
        "plt.imshow(freq, interpolation='nearest', cmap=plt.cm.Wistia)\n",
        "X_values = ['1','2','3']\n",
        "Y_values = ['5','10','15']\n",
        "plt.ylabel('Y')\n",
        "plt.xlabel('X') \n",
        "plt.title('P(X,Y)') \n",
        "plt.xticks(np.arange(len(X_values)), X_values, rotation=45)\n",
        "plt.yticks(np.arange(len(Y_values)), Y_values)\n",
        "for i in range(len(X_values)):\n",
        "    for j in range(len(Y_values)):\n",
        "        plt.text(j,i, str(freq[i][j]))\n",
        "plt.show()"
      ]
    },
    {
      "cell_type": "markdown",
      "source": [
        "**1) Show that P(X) is a valid distribution function.**"
      ],
      "metadata": {
        "id": "TLj3DiThp8Z9"
      }
    },
    {
      "cell_type": "markdown",
      "source": [
        "Above table represents the joint probability mass function $p(X,Y)$, for each value of the random variables. Let's first compute the marginal probabilities:"
      ],
      "metadata": {
        "id": "xsG--CWQqspy"
      }
    },
    {
      "cell_type": "code",
      "source": [
        "freq"
      ],
      "metadata": {
        "colab": {
          "base_uri": "https://localhost:8080/"
        },
        "id": "e0LSLdEqQNYK",
        "outputId": "fc0b6822-ea9a-4da5-903d-080d3aef3fe4"
      },
      "execution_count": 104,
      "outputs": [
        {
          "output_type": "execute_result",
          "data": {
            "text/plain": [
              "[[0.1, 0.0, 0.35, 0.05], [0.05, 0.15, 0.0, 0.05], [0.1, 0.0, 0.15, 0.0]]"
            ]
          },
          "metadata": {},
          "execution_count": 104
        }
      ]
    },
    {
      "cell_type": "code",
      "source": [
        "#Let's start by calculating amrginal distirbutions\n",
        "marginal_X = np.sum(np.array(freq),0)\n",
        "marginal_Y = np.sum(np.array(freq),1)\n",
        "\n",
        "print('p(X) = ', marginal_X)\n",
        "print('p(Y) = ', marginal_Y)\n"
      ],
      "metadata": {
        "colab": {
          "base_uri": "https://localhost:8080/"
        },
        "id": "sBmyMVGbp6rw",
        "outputId": "7ec48e73-99a2-4707-cc42-aa1269ad1df7"
      },
      "execution_count": 46,
      "outputs": [
        {
          "output_type": "stream",
          "name": "stdout",
          "text": [
            "p(X) =  [0.2  0.25 0.55]\n",
            "p(Y) =  [0.2 0.4 0.4]\n"
          ]
        }
      ]
    },
    {
      "cell_type": "code",
      "source": [
        "print('p(X = 1) + p(X = 2) + p(X = 3) = ', np.sum(marginal_X))\n",
        "print('p(Y = 5) + p(Y = 10) + p(Y = 15) = ', np.sum(marginal_Y))"
      ],
      "metadata": {
        "colab": {
          "base_uri": "https://localhost:8080/"
        },
        "id": "PHyEZmmLrBb0",
        "outputId": "3f34b9cd-51e6-4dcc-ea10-f3bc4d5ac182"
      },
      "execution_count": 47,
      "outputs": [
        {
          "output_type": "stream",
          "name": "stdout",
          "text": [
            "p(X = 1) + p(X = 2) + p(X = 3) =  1.0\n",
            "p(Y = 5) + p(Y = 10) + p(Y = 15) =  1.0\n"
          ]
        }
      ]
    },
    {
      "cell_type": "markdown",
      "source": [
        "The marginal probabilites sum to 1, so they are valid distributions"
      ],
      "metadata": {
        "id": "j-t-y9JLrNvf"
      }
    },
    {
      "cell_type": "markdown",
      "source": [
        "\n",
        "**2) Show that X and Y are not independent.**\n"
      ],
      "metadata": {
        "id": "ejQZDPxaqBEI"
      }
    },
    {
      "cell_type": "markdown",
      "source": [
        "If the variables are independent, the following constraint should be true:\n",
        "\n",
        "$$p(X,Y)=p(X)p(Y)$$"
      ],
      "metadata": {
        "id": "XH6kwZYKrdu2"
      }
    },
    {
      "cell_type": "markdown",
      "source": [
        "Let's check one example such that is $p(X=1, Y=5)$ equal to $p(X=1)p(Y=5)$?"
      ],
      "metadata": {
        "id": "Ds3Ue2UQrsBK"
      }
    },
    {
      "cell_type": "code",
      "source": [
        "print('p(X=1,Y=5)=', freq[0][0])\n",
        "print('p(X=1)p(Y=5)=', marginal_X[0]*marginal_Y[0])"
      ],
      "metadata": {
        "colab": {
          "base_uri": "https://localhost:8080/"
        },
        "id": "j1jrbbs0qB8e",
        "outputId": "54ff112d-bb6b-4812-ad60-2ae27a5525c8"
      },
      "execution_count": 48,
      "outputs": [
        {
          "output_type": "stream",
          "name": "stdout",
          "text": [
            "p(X=1,Y=5)= 0.0\n",
            "p(X=1)p(Y=5)= 0.04000000000000001\n"
          ]
        }
      ]
    },
    {
      "cell_type": "markdown",
      "source": [
        "They are not independent since $p(X=1, Y=5)$ is not equal to $p(X=1)p(Y=5)$"
      ],
      "metadata": {
        "id": "aHERN-lhsbuF"
      }
    },
    {
      "cell_type": "markdown",
      "source": [
        "\n",
        "**3) Find the marginal distribution of X.**"
      ],
      "metadata": {
        "id": "4zWTtiwjqEER"
      }
    },
    {
      "cell_type": "markdown",
      "source": [
        "Let's compute the marginal distributions again"
      ],
      "metadata": {
        "id": "hj13rX3RszAy"
      }
    },
    {
      "cell_type": "code",
      "source": [
        "marginal_X = np.sum(np.array(freq),0)\n",
        "marginal_Y = np.sum(np.array(freq),1)\n",
        "\n",
        "print('p(X) = ', marginal_X)\n",
        "\n",
        "print('p(Y) = ', marginal_Y)"
      ],
      "metadata": {
        "colab": {
          "base_uri": "https://localhost:8080/"
        },
        "id": "GgtuN-NJqE0I",
        "outputId": "c6f6e37b-4c28-4a53-be88-5f614b2738b0"
      },
      "execution_count": 49,
      "outputs": [
        {
          "output_type": "stream",
          "name": "stdout",
          "text": [
            "p(X) =  [0.2  0.25 0.55]\n",
            "p(Y) =  [0.2 0.4 0.4]\n"
          ]
        }
      ]
    },
    {
      "cell_type": "markdown",
      "source": [
        "\n",
        "**4) Find P(Y=10 | X < 2).**"
      ],
      "metadata": {
        "id": "KqJ7PMV6qHQ9"
      }
    },
    {
      "cell_type": "markdown",
      "source": [
        "We are gonna find the conditional probability of $P(Y=10 | X < 2)$ :\n",
        "$$X\\in\\{1, 2, 3\\}$$\n",
        "$$y\\in\\{5, 10, 15\\}$$\n",
        "\n",
        "$$P(Y=10 | X<2) = \\frac{P(Y=10, X < 2)}{P(X < 2)}$$\n",
        "$$= \\frac{P(Y=10, X=1)}{P(X=1)}$$\n",
        "\n",
        "\n",
        "$$= 0.1 / (0.1 + 0.1 + 0.0)$$\n",
        "$$0.5$$\n"
      ],
      "metadata": {
        "id": "nS8smnBdtjiv"
      }
    },
    {
      "cell_type": "code",
      "source": [
        "freq"
      ],
      "metadata": {
        "colab": {
          "base_uri": "https://localhost:8080/"
        },
        "id": "vKjkA7I1wE7r",
        "outputId": "af391acc-483e-44ef-d701-07d12c68ceab"
      },
      "execution_count": 50,
      "outputs": [
        {
          "output_type": "execute_result",
          "data": {
            "text/plain": [
              "[[0.0, 0.0, 0.2], [0.1, 0.1, 0.2], [0.1, 0.15, 0.15]]"
            ]
          },
          "metadata": {},
          "execution_count": 50
        }
      ]
    },
    {
      "cell_type": "code",
      "source": [
        "prob_Y10_X1 = freq[1][0]\n",
        "print(prob_Y10_X1)\n",
        "prob_X1 = np.sum(freq[0][0] + freq[1][0] + freq[2][0])\n",
        "print(prob_X1)\n",
        "\n",
        "prob_Y10_given_X2 = prob_Y10_X1/prob_X1\n",
        "print(prob_Y10_given_X2)"
      ],
      "metadata": {
        "colab": {
          "base_uri": "https://localhost:8080/"
        },
        "id": "U1TRC9LSqI0X",
        "outputId": "9d144fed-6a85-4f27-8e56-be6a0733e442"
      },
      "execution_count": 51,
      "outputs": [
        {
          "output_type": "stream",
          "name": "stdout",
          "text": [
            "0.1\n",
            "0.2\n",
            "0.5\n"
          ]
        }
      ]
    },
    {
      "cell_type": "markdown",
      "metadata": {
        "id": "BQbBy7r7pWjZ"
      },
      "source": [
        "## Exercise 2\n",
        "\n",
        "Let's suppose the following joint probability distribution is known for a medicine:"
      ]
    },
    {
      "cell_type": "code",
      "execution_count": 52,
      "metadata": {
        "colab": {
          "base_uri": "https://localhost:8080/",
          "height": 247
        },
        "id": "MFBOdMljpWjZ",
        "outputId": "bda29342-7a5e-4e19-eb64-b38a7f625645"
      },
      "outputs": [
        {
          "output_type": "display_data",
          "data": {
            "text/plain": [
              "<Figure size 432x288 with 1 Axes>"
            ],
            "image/png": "[encoded data removed]"
          },
          "metadata": {
            "needs_background": "light"
          }
        }
      ],
      "source": [
        "freq = [[0.05,0.05,0.05, 0.15],[0.15,0.25,0.05,0.25]]\n",
        "\n",
        "plt.clf()\n",
        "plt.imshow(freq, interpolation='nearest', cmap=plt.cm.Wistia)\n",
        "X_values = ['1','2','3','4']\n",
        "Y_values = ['0','1']\n",
        "plt.ylabel('Treatment effect (Y)')\n",
        "plt.xlabel('Days sick before treatment (X)') \n",
        "plt.title('P(X,Y)') \n",
        "plt.xticks(np.arange(len(X_values)), X_values, rotation=45)\n",
        "plt.yticks(np.arange(len(Y_values)), Y_values)\n",
        "for i in range(len(X_values)):\n",
        "    for j in range(len(Y_values)):\n",
        "        plt.text(i,j, str(freq[j][i]))\n",
        "plt.show()"
      ]
    },
    {
      "cell_type": "markdown",
      "metadata": {
        "id": "cZ3GDUK-pWja"
      },
      "source": [
        "Let Y represent the treatment outcome (0 = not recovered, 1 = recovered) and X represent the number of days sick before treatment. Find:\n",
        "\n",
        "**1) P(Y=1)**\n",
        "\n"
      ]
    },
    {
      "cell_type": "markdown",
      "source": [
        "P(Y=1) is equal to:\n",
        "$$ P(Y=1) = \\underset{x=1}{\\overset{4}{\\sum}}P(X=x, Y=1)$$\n",
        "$$ P(X=1\\cup X=2\\cup X=3\\cup X=4, Y=1)$$\n",
        "\n",
        "$$= P(X=1, Y=1) + P(X=2, Y=1) + P(X=3, Y=1) + P(X=4, Y=1)$$\n",
        "$$= 0.15 + 0.25 + 0.05 + 0.25$$\n",
        "$$= 0.7$$\n"
      ],
      "metadata": {
        "id": "nYUD8L03wns-"
      }
    },
    {
      "cell_type": "code",
      "source": [
        "\n",
        "prob_Y1 = np.sum(freq[1])\n",
        "print(\"P(Y=1) = \",prob_Y1)"
      ],
      "metadata": {
        "colab": {
          "base_uri": "https://localhost:8080/"
        },
        "id": "Ee1m2oP2wm0A",
        "outputId": "0a2ada82-033d-49c5-c239-3186a31f2a8c"
      },
      "execution_count": 53,
      "outputs": [
        {
          "output_type": "stream",
          "name": "stdout",
          "text": [
            "P(Y=1) =  0.7\n"
          ]
        }
      ]
    },
    {
      "cell_type": "markdown",
      "source": [
        "**2) P(Y=1 | X=4)**\n",
        "\n"
      ],
      "metadata": {
        "id": "obB5vIvRwmI8"
      }
    },
    {
      "cell_type": "markdown",
      "source": [
        "$$P(Y=1|X=4)$$ = $$\\frac{P(Y=1, X=4)}{P(X=4)}$$\n",
        "$$ = \\frac{P(Y=1, X=4)}{P(Y=0,X=4)+P(Y=1, X=4)}$$\n",
        "$$= 0.25 / (0.25+0.15)$$\n",
        "$$= 0.625 $$\n",
        "\n"
      ],
      "metadata": {
        "id": "qJXKctr4x_31"
      }
    },
    {
      "cell_type": "code",
      "source": [
        "freq"
      ],
      "metadata": {
        "colab": {
          "base_uri": "https://localhost:8080/"
        },
        "id": "vu59OmUwzJgl",
        "outputId": "85e9813e-2ce8-45d8-c0e1-31341960456a"
      },
      "execution_count": 54,
      "outputs": [
        {
          "output_type": "execute_result",
          "data": {
            "text/plain": [
              "[[0.05, 0.05, 0.05, 0.15], [0.15, 0.25, 0.05, 0.25]]"
            ]
          },
          "metadata": {},
          "execution_count": 54
        }
      ]
    },
    {
      "cell_type": "code",
      "source": [
        "P_Y1_X4 = freq[1][3]\n",
        "print(\"P(Y=1, X=4)=\", P_Y1_X4)\n",
        "\n",
        "P_X4 = np.sum(freq, axis=0)[3]\n",
        "print(\"P(X=4)=\",P_X4)\n",
        "\n",
        "print(\"P(Y=1|X=4)=\", P_Y1_X4/P_X4)"
      ],
      "metadata": {
        "colab": {
          "base_uri": "https://localhost:8080/"
        },
        "id": "eMpQcc2Ux5lb",
        "outputId": "76791ef1-bc1b-4acf-f977-6a9d1597228c"
      },
      "execution_count": 55,
      "outputs": [
        {
          "output_type": "stream",
          "name": "stdout",
          "text": [
            "P(Y=1, X=4)= 0.25\n",
            "P(X=4)= 0.4\n",
            "P(Y=1|X=4)= 0.625\n"
          ]
        }
      ]
    },
    {
      "cell_type": "markdown",
      "source": [
        "**3) P(Y=1 | X<=4)**\n",
        "\n",
        "\n",
        "\n",
        "\n",
        "\n"
      ],
      "metadata": {
        "id": "LrExwmNqx53g"
      }
    },
    {
      "cell_type": "markdown",
      "source": [
        "$$P(Y=1|X<=4)$$ \n",
        "$$= \\frac{P(Y=1, X<=4)}{P(X<=4)}$$\n",
        "$$ = \\frac{P(Y=1, X=1 \\cup X=2 \\cup X=3 \\cup X=4)}{\\underset{Y}{\\sum}P(Y, X<=4)}$$\n",
        "\n",
        "$$= 0.7 / 1$$\n",
        "$$= 0.7 $$\n"
      ],
      "metadata": {
        "id": "FCioeCKDz4wu"
      }
    },
    {
      "cell_type": "code",
      "source": [
        "freq"
      ],
      "metadata": {
        "colab": {
          "base_uri": "https://localhost:8080/"
        },
        "id": "igS1D7wI134p",
        "outputId": "7c2c1a72-ebdd-4850-ab72-67464d62f667"
      },
      "execution_count": 56,
      "outputs": [
        {
          "output_type": "execute_result",
          "data": {
            "text/plain": [
              "[[0.05, 0.05, 0.05, 0.15], [0.15, 0.25, 0.05, 0.25]]"
            ]
          },
          "metadata": {},
          "execution_count": 56
        }
      ]
    },
    {
      "cell_type": "code",
      "source": [
        "print(\"prob_Y1_X4 = \", np.sum(freq[1]))\n",
        "print(np.sum(freq))\n",
        "print(\"result =\",  np.sum(freq[1])/ (np.sum(freq)))\n"
      ],
      "metadata": {
        "colab": {
          "base_uri": "https://localhost:8080/"
        },
        "id": "Z66xTE4C1s_B",
        "outputId": "f185f7c4-6089-4117-93ff-b4b3577b7d8d"
      },
      "execution_count": 57,
      "outputs": [
        {
          "output_type": "stream",
          "name": "stdout",
          "text": [
            "prob_Y1_X4 =  0.7\n",
            "1.0\n",
            "result = 0.7\n"
          ]
        }
      ]
    },
    {
      "cell_type": "markdown",
      "source": [
        "\n",
        "**4) P(X=4 | Y=1)**\n",
        "\n"
      ],
      "metadata": {
        "id": "e0JTRJhqz1YA"
      }
    },
    {
      "cell_type": "markdown",
      "source": [
        "$$P(X=4|Y=1)$$ = $$\\frac{P(X=4, Y=1)}{P(Y=1)}$$\n",
        "$$ = \\frac{P( X=4, Y=1)}{P(Y=1,X=0)+P(Y=1,X=1)+P(Y=1,X=2)+P(Y=1,X=3)}$$\n",
        "$$= 0.25 / (0.25+0.15+0.25+0.05)$$\n",
        "$$= 0.357 $$\n",
        "\n"
      ],
      "metadata": {
        "id": "OkCzhLfm2T-j"
      }
    },
    {
      "cell_type": "code",
      "source": [
        "freq"
      ],
      "metadata": {
        "colab": {
          "base_uri": "https://localhost:8080/"
        },
        "id": "-gzwpKE83Bs-",
        "outputId": "885899d5-d725-4397-d1a3-230a83a22b57"
      },
      "execution_count": 58,
      "outputs": [
        {
          "output_type": "execute_result",
          "data": {
            "text/plain": [
              "[[0.05, 0.05, 0.05, 0.15], [0.15, 0.25, 0.05, 0.25]]"
            ]
          },
          "metadata": {},
          "execution_count": 58
        }
      ]
    },
    {
      "cell_type": "code",
      "source": [
        "print(freq[1][3]/ np.sum(freq[1]))"
      ],
      "metadata": {
        "colab": {
          "base_uri": "https://localhost:8080/"
        },
        "id": "24L-ngeV3ERf",
        "outputId": "7232a8bd-8938-4801-cd3e-9527a46c46ba"
      },
      "execution_count": 59,
      "outputs": [
        {
          "output_type": "stream",
          "name": "stdout",
          "text": [
            "0.35714285714285715\n"
          ]
        }
      ]
    },
    {
      "cell_type": "markdown",
      "source": [
        "**5) P(X<=4 | Y=0)**;"
      ],
      "metadata": {
        "id": "R4XKMv3j2TB4"
      }
    },
    {
      "cell_type": "markdown",
      "source": [
        "$$P(X<=4|Y=0)$$ = $$\\frac{P(X<=4, Y=0)}{P(Y=0)}$$\n",
        "$$= \\frac{\\overset{4}{\\underset{x=1}{\\sum}}P(X=x,Y=0)}{\\overset{4}{\\underset{x=1}{\\sum}}P(X=x,Y=0)}$$\n",
        "$$ = \\frac{P( X=1 \\cup X=2 \\cup X=3 \\cup X=4, Y=0)}{P(Y=0,X=0)+P(Y=0,X=1)+P(Y=0,X=2)+P(Y=0,X=3)}$$\n",
        "$$=1$$\n",
        "\n"
      ],
      "metadata": {
        "id": "kQQL1-973UCU"
      }
    },
    {
      "cell_type": "code",
      "source": [
        "freq"
      ],
      "metadata": {
        "colab": {
          "base_uri": "https://localhost:8080/"
        },
        "id": "V5gB1fsp3uUe",
        "outputId": "1b681e35-0ee5-4179-dd96-d28a77982189"
      },
      "execution_count": 60,
      "outputs": [
        {
          "output_type": "execute_result",
          "data": {
            "text/plain": [
              "[[0.05, 0.05, 0.05, 0.15], [0.15, 0.25, 0.05, 0.25]]"
            ]
          },
          "metadata": {},
          "execution_count": 60
        }
      ]
    },
    {
      "cell_type": "code",
      "source": [
        "print(np.sum(freq[0]) / np.sum(freq[0]))"
      ],
      "metadata": {
        "colab": {
          "base_uri": "https://localhost:8080/"
        },
        "id": "cVtBgpog3DXl",
        "outputId": "777784b4-eca6-4281-ded3-ed3bbfc9e22b"
      },
      "execution_count": 61,
      "outputs": [
        {
          "output_type": "stream",
          "name": "stdout",
          "text": [
            "1.0\n"
          ]
        }
      ]
    },
    {
      "cell_type": "markdown",
      "metadata": {
        "id": "C8EaqaJ5pWja"
      },
      "source": [
        "## Exercise 3\n",
        "\n",
        "A hospital has 5 ambulances, two of them have one bed inside while the rest have two beds inside. Let X = number of two beds ambulances used on any given day and Y = number of one bed ambulances used on any given day.\n",
        "\n",
        "Suppose the joint probability of X and Y is as follows:"
      ]
    },
    {
      "cell_type": "code",
      "execution_count": 66,
      "metadata": {
        "colab": {
          "base_uri": "https://localhost:8080/",
          "height": 297
        },
        "id": "enPFvZP0pWja",
        "outputId": "bbaf36ad-9296-4eec-95a0-5e3074c3ded1"
      },
      "outputs": [
        {
          "output_type": "display_data",
          "data": {
            "text/plain": [
              "<Figure size 432x288 with 1 Axes>"
            ],
            "image/png": "[encoded data removed]"
          },
          "metadata": {
            "needs_background": "light"
          }
        }
      ],
      "source": [
        "freq = [[0.1,0.0,0.35, 0.05],[0.05,0.15,0.,0.05],[0.10, 0.0, 0.15,0.0]]\n",
        "\n",
        "plt.clf()\n",
        "plt.imshow(freq, interpolation='nearest', cmap=plt.cm.Wistia)\n",
        "X_values = ['0','1','2','3']\n",
        "Y_values = ['0','1', '2']\n",
        "plt.ylabel('Y')\n",
        "plt.xlabel('X') \n",
        "plt.title('P(X,Y)') \n",
        "plt.xticks(np.arange(len(X_values)), X_values, rotation=45)\n",
        "plt.yticks(np.arange(len(Y_values)), Y_values)\n",
        "for i in range(len(X_values)):\n",
        "    for j in range(len(Y_values)):\n",
        "        plt.text(i,j, str(freq[j][i]))\n",
        "plt.show()"
      ]
    },
    {
      "cell_type": "markdown",
      "metadata": {
        "id": "tU8XgQ8YpWjb"
      },
      "source": [
        "Find the probability that, on any given day:\n",
        "\n",
        "**1) None of the ambulances are hired.**\n",
        "\n"
      ]
    },
    {
      "cell_type": "markdown",
      "source": [
        "\n",
        "In this case there is no ambulances get hired, so $X=0$ and $Y=0$ and we need to find $$P(X=0, Y=0)$$\n",
        "$$= 0.1$$\n"
      ],
      "metadata": {
        "id": "SK_zzDoe5RN7"
      }
    },
    {
      "cell_type": "code",
      "source": [
        "print(\"P(X=0, Y=0)\", )"
      ],
      "metadata": {
        "colab": {
          "base_uri": "https://localhost:8080/"
        },
        "id": "um_zy8aK5Y2Z",
        "outputId": "fd285813-acfd-42e5-eff8-0ac431287d32"
      },
      "execution_count": 63,
      "outputs": [
        {
          "output_type": "stream",
          "name": "stdout",
          "text": [
            "P(X=0, Y=0)\n"
          ]
        }
      ]
    },
    {
      "cell_type": "code",
      "source": [],
      "metadata": {
        "id": "58sfpb4n5Y42"
      },
      "execution_count": 63,
      "outputs": []
    },
    {
      "cell_type": "code",
      "source": [],
      "metadata": {
        "id": "qWetecoi5Y7T"
      },
      "execution_count": 63,
      "outputs": []
    },
    {
      "cell_type": "markdown",
      "source": [
        "**2) All of the one bed ambulances are hired**\n",
        "\n"
      ],
      "metadata": {
        "id": "pYe2mM1b5VgN"
      }
    },
    {
      "cell_type": "markdown",
      "source": [
        "$$P(X, Y=2)$$ \n",
        "$$={\\overset{3}{\\underset{x=0}{\\sum}}P(X=x,Y=2)}$$\n",
        "$$=P( X=0,Y=2,) + P( X=1,Y=2) + P(X=2,Y=2) + P(X=3,Y=2)$$\n",
        "$$0.1+ 0.0+0.15+0.0 = 0.25$$"
      ],
      "metadata": {
        "id": "Vhp-abRN6YMp"
      }
    },
    {
      "cell_type": "code",
      "source": [
        "freq"
      ],
      "metadata": {
        "colab": {
          "base_uri": "https://localhost:8080/"
        },
        "id": "jD1d4qjK8NH5",
        "outputId": "ee4a2be9-ad78-4e49-f371-cb1e2f29a260"
      },
      "execution_count": 68,
      "outputs": [
        {
          "output_type": "execute_result",
          "data": {
            "text/plain": [
              "[[0.1, 0.0, 0.35, 0.05], [0.05, 0.15, 0.0, 0.05], [0.1, 0.0, 0.15, 0.0]]"
            ]
          },
          "metadata": {},
          "execution_count": 68
        }
      ]
    },
    {
      "cell_type": "code",
      "source": [
        "print(\"P(X, Y=2) = \", np.sum(freq[2]))\n"
      ],
      "metadata": {
        "colab": {
          "base_uri": "https://localhost:8080/"
        },
        "id": "aQpskmXr8Xv-",
        "outputId": "951e4252-5264-4885-e193-91141bdeb6c9"
      },
      "execution_count": 69,
      "outputs": [
        {
          "output_type": "stream",
          "name": "stdout",
          "text": [
            "P(X, Y=2) =  0.25\n"
          ]
        }
      ]
    },
    {
      "cell_type": "markdown",
      "source": [
        "**3) At least 2 of the ambulances are hired.**"
      ],
      "metadata": {
        "id": "94ecZxlQ8tpW"
      }
    },
    {
      "cell_type": "markdown",
      "source": [
        "At least 2 of the ambulances are hired means that we want to find$P(X+Y)\\ge2$. We don't consider the number of beds. \n",
        "\n",
        "\n",
        "$$P((X+Y)\\ge 2)$$\n",
        "$$=P(Y=0,X\\ge2) + P(Y=1,X\\ge1) + P(Y=2, X\\ge0)$$\n",
        "$$=\\underset{x=2}{\\overset{3}{\\sum}}P(Y=0,X=x) + \\underset{x=1}{\\overset{3}{\\sum}}P(Y=1,X=x) + \\underset{x=0}{\\overset{3}{\\sum}}P(Y=2,X=x)$$\n",
        "$$=(0.35 + 0.05)+(0.15+0+0.05)+(0.1+0+0.15+0)$$\n",
        "$$= 0.85$$\n"
      ],
      "metadata": {
        "id": "oFDTYTS_8x0n"
      }
    },
    {
      "cell_type": "code",
      "source": [
        "freq"
      ],
      "metadata": {
        "colab": {
          "base_uri": "https://localhost:8080/"
        },
        "id": "1DmBcRkx9tw0",
        "outputId": "542bfe9f-0c20-49ff-c3ed-4bfa417b9e4a"
      },
      "execution_count": 71,
      "outputs": [
        {
          "output_type": "execute_result",
          "data": {
            "text/plain": [
              "[[0.1, 0.0, 0.35, 0.05], [0.05, 0.15, 0.0, 0.05], [0.1, 0.0, 0.15, 0.0]]"
            ]
          },
          "metadata": {},
          "execution_count": 71
        }
      ]
    },
    {
      "cell_type": "code",
      "source": [
        "print(\"Result =\", (freq[0][2] + freq[0][3] )+ freq[1][1] + freq[1][2]+ freq[1][3] + np.sum(freq[2]))\n"
      ],
      "metadata": {
        "colab": {
          "base_uri": "https://localhost:8080/"
        },
        "id": "xkdojpPr8uUH",
        "outputId": "3c4def24-2ada-4851-8d0f-3178d32c54c3"
      },
      "execution_count": 74,
      "outputs": [
        {
          "output_type": "stream",
          "name": "stdout",
          "text": [
            "Result = 0.85\n"
          ]
        }
      ]
    },
    {
      "cell_type": "code",
      "source": [],
      "metadata": {
        "id": "7in84xwP8uWx"
      },
      "execution_count": null,
      "outputs": []
    },
    {
      "cell_type": "markdown",
      "source": [
        "\n",
        "\n",
        "**4) All of the one bed ambulances are hired, if all the 2 beds ambulances have been hired.\n",
        "Compare your answer to (2) and reason whether X and Y are independent.**"
      ],
      "metadata": {
        "id": "Z5mu5gxQ6YV5"
      }
    },
    {
      "cell_type": "markdown",
      "source": [
        "This statement equals to $P(Y=2|X=3)$.\n",
        "\n",
        "Let's compute it:\n",
        "\n",
        "\n",
        "$$P(Y=2|X=3)$$\n",
        "$$=\\frac{P(X=3, Y=2)}{P(X=3)}$$\n",
        "$$=\\frac{0.0}{P(X=3)}=0$$\n",
        "\n"
      ],
      "metadata": {
        "id": "desdCA2O-hx5"
      }
    },
    {
      "cell_type": "markdown",
      "metadata": {
        "id": "KCYPtSN9pWjb"
      },
      "source": [
        "## Exercise 4\n",
        "\n",
        "Let's consider the following data:"
      ]
    },
    {
      "cell_type": "code",
      "execution_count": 84,
      "metadata": {
        "colab": {
          "base_uri": "https://localhost:8080/",
          "height": 313
        },
        "id": "KpxTy5RepWjb",
        "outputId": "989265f7-ad5b-4f15-9b92-6cdb44b611a7"
      },
      "outputs": [
        {
          "output_type": "stream",
          "name": "stdout",
          "text": [
            "(2, 352)\n"
          ]
        },
        {
          "output_type": "display_data",
          "data": {
            "text/plain": [
              "<Figure size 432x288 with 1 Axes>"
            ],
            "image/png": "[encoded data removed]"
          },
          "metadata": {
            "needs_background": "light"
          }
        }
      ],
      "source": [
        "import pandas as pd\n",
        "\n",
        "\n",
        "data = np.load('./data_exercise4.npy')\n",
        "print(data.shape)\n",
        "x = data[0,:] - np.mean(data[0,:])\n",
        "y = data[1,:]\n",
        "\n",
        "plt.scatter(x,y)\n",
        "plt.title('Data')\n",
        "plt.xlabel('x')\n",
        "plt.ylabel('y')\n",
        "plt.show()\n",
        "\n",
        "df = pd.DataFrame({'x':x, 'y':y})"
      ]
    },
    {
      "cell_type": "markdown",
      "metadata": {
        "id": "RN0mYQiepWjb"
      },
      "source": [
        "According to the plot above, a linear relationship seems to exist between x and y. Therefore, we model the data according to $y_i = \\mathcal{N}(\\mu_i, \\sigma^{2})$ with $\\mu_i = a + b*x_i$. We find a posterior distribution for the parameters a, b and $\\sigma^{2}$ using a Laplace approximation."
      ]
    },
    {
      "cell_type": "code",
      "execution_count": 85,
      "metadata": {
        "colab": {
          "base_uri": "https://localhost:8080/"
        },
        "id": "qsEL3IjMpWjc",
        "outputId": "98abe283-1bb4-4a4b-e79c-cf113d014008"
      },
      "outputs": [
        {
          "output_type": "stream",
          "name": "stderr",
          "text": [
            "/usr/local/lib/python3.8/dist-packages/scipy/optimize/_numdiff.py:557: RuntimeWarning: invalid value encountered in subtract\n",
            "  df = fun(x) - f0\n",
            "/usr/local/lib/python3.8/dist-packages/scipy/optimize/_numdiff.py:557: RuntimeWarning: invalid value encountered in subtract\n",
            "  df = fun(x) - f0\n",
            "/usr/local/lib/python3.8/dist-packages/scipy/optimize/_numdiff.py:557: RuntimeWarning: invalid value encountered in subtract\n",
            "  df = fun(x) - f0\n",
            "/usr/local/lib/python3.8/dist-packages/scipy/optimize/_numdiff.py:557: RuntimeWarning: invalid value encountered in subtract\n",
            "  df = fun(x) - f0\n"
          ]
        },
        {
          "output_type": "stream",
          "name": "stdout",
          "text": [
            "      fun: 2533.2168549719977\n",
            " hess_inv: array([[ 9.17505038e-01,  2.39795129e-02, -4.07301545e-01],\n",
            "       [ 2.39795129e-02,  1.65664055e-01, -4.79350041e-04],\n",
            "       [-4.07301545e-01, -4.79350041e-04,  1.39735142e+00]])\n",
            "      jac: array([  0.46664429,  -4.76559448, -13.81817627])\n",
            "  message: 'Desired error not necessarily achieved due to precision loss.'\n",
            "     nfev: 93\n",
            "      nit: 5\n",
            "     njev: 20\n",
            "   status: 2\n",
            "  success: False\n",
            "        x: array([20.19626306, -0.50929623, 69.73077477])\n"
          ]
        }
      ],
      "source": [
        "expr = 'y ~ x'\n",
        "\n",
        "# Initializing the likelihood\n",
        "likelihood = 'gaussian'\n",
        "\n",
        "# Defining the prior with hyperparameters \n",
        "prior_a_mean = 10\n",
        "prior_a_sigma = 1\n",
        "prior_a = ['gaussian', [prior_a_mean, prior_a_sigma]]\n",
        "\n",
        "prior_b_mean = 0\n",
        "prior_b_sigma = 1\n",
        "prior_b = ['gaussian', [prior_b_mean, prior_b_sigma]]\n",
        "\n",
        "sigma_inf = 20\n",
        "sigma_sup = 50\n",
        "prior_sigma_unif = [sigma_inf, sigma_sup]\n",
        "prior_sigma = ['uniform', prior_sigma_unif]\n",
        "\n",
        "priors = [prior_a, prior_b, prior_sigma]\n",
        "\n",
        "solution_regression = laplace_solution_regression(expr, df, likelihood, priors)"
      ]
    },
    {
      "cell_type": "markdown",
      "metadata": {
        "id": "QDQ4x2LGpWjc"
      },
      "source": [
        "**1) Examine the posterior distribution for the regression parameters, and decide if the solution is correct or not.**\n",
        "\n"
      ]
    },
    {
      "cell_type": "markdown",
      "source": [
        "It is written in the above result that \"success: False\". It seems solution is not correct. I will do sampling and see the mean/std/CI of the values a, b, sigma"
      ],
      "metadata": {
        "id": "5ed3tH68Fz6T"
      }
    },
    {
      "cell_type": "code",
      "source": [
        "# Sampling:\n",
        "posterior_samples = posterior_samples = multivariate_normal.rvs(solution_regression[0], solution_regression[1], size = 1000)\n",
        "#### We compute 85% CI\n",
        "post_quantiles = np.quantile(posterior_samples, q = [0.075, 0.925], axis = 0)\n",
        "# Std\n",
        "post_sd = np.std(posterior_samples, axis = 0)\n",
        "#Mean\n",
        "post_mean = np.mean(posterior_samples, axis = 0)\n",
        "####\n",
        "summary_stats = [post_mean, post_sd, post_quantiles[0,:],post_quantiles[1,:]]\n",
        "summary_stats = pd.DataFrame(summary_stats).transpose()\n",
        "summary_stats.columns = ['mean', 'SD', '2.5%', '97.5%']\n",
        "summary_stats.rename(index={0:'a',1:'b', 2:'sigma'}, inplace=True)\n",
        "print(summary_stats, \"\\n\")"
      ],
      "metadata": {
        "colab": {
          "base_uri": "https://localhost:8080/"
        },
        "id": "vzheEk71JOJL",
        "outputId": "b36dc68a-80e0-4a5a-d67a-19621b89ca0e"
      },
      "execution_count": 95,
      "outputs": [
        {
          "output_type": "stream",
          "name": "stdout",
          "text": [
            "            mean        SD       2.5%      97.5%\n",
            "a      20.150622  0.948932  18.799084  21.509483\n",
            "b      -0.515062  0.408726  -1.086511   0.070648\n",
            "sigma  69.706277  1.147965  68.062543  71.325989 \n",
            "\n"
          ]
        }
      ]
    },
    {
      "cell_type": "markdown",
      "source": [
        "1. The mean of sampled b is -0.51\n",
        "2. The mean of sampled a is 20.15. Our decleration was 10 which is not good enough. We need to increase the mean of a."
      ],
      "metadata": {
        "id": "JjF33BgKOOSl"
      }
    },
    {
      "cell_type": "markdown",
      "source": [
        "**2) In case there is any problem with the model, modify the code above in order to get a proper solution**"
      ],
      "metadata": {
        "id": "6KX-e9bK_ceh"
      }
    },
    {
      "cell_type": "markdown",
      "source": [
        "In the class, we see that changing the prior mean and sigma can give us better solutions. Prior parameter a's mean and sigma is very low such that it cannot find a good solution. I will try to increase both mean and sigma to achieve success. \n",
        "\n",
        "Also, we can decrease the \"sigma_inf\" to increase the range of the sigma. Let's try:"
      ],
      "metadata": {
        "id": "7A2VUv_pMyum"
      }
    },
    {
      "cell_type": "code",
      "source": [
        "expr = 'y ~ x'\n",
        "\n",
        "# Initializing the likelihood\n",
        "likelihood = 'gaussian'\n",
        "\n",
        "# Defining the prior with hyperparameters \n",
        "prior_a_mean = 100\n",
        "prior_a_sigma = 10\n",
        "prior_a = ['gaussian', [prior_a_mean, prior_a_sigma]]\n",
        "\n",
        "prior_b_mean = 0\n",
        "prior_b_sigma = 1\n",
        "prior_b = ['gaussian', [prior_b_mean, prior_b_sigma]]\n",
        "\n",
        "sigma_inf = 1\n",
        "sigma_sup = 50\n",
        "prior_sigma_unif = [sigma_inf, sigma_sup]\n",
        "prior_sigma = ['uniform', prior_sigma_unif]\n",
        "\n",
        "priors = [prior_a, prior_b, prior_sigma]\n",
        "\n",
        "solution_regression = laplace_solution_regression(expr, df, likelihood, priors)"
      ],
      "metadata": {
        "colab": {
          "base_uri": "https://localhost:8080/"
        },
        "id": "aZhlxSPCMyLY",
        "outputId": "5b9fe0f2-3056-46d5-c27b-764a9a692c03"
      },
      "execution_count": 101,
      "outputs": [
        {
          "output_type": "stream",
          "name": "stdout",
          "text": [
            "      fun: 1094.3664943446927\n",
            " hess_inv: array([[ 4.54652791e-02, -9.56016015e-05, -1.24321412e-02],\n",
            "       [-9.56016015e-05,  1.71813580e-03,  1.81371433e-05],\n",
            "       [-1.24321412e-02,  1.81371433e-05,  1.26235714e-02]])\n",
            "      jac: array([0., 0., 0.])\n",
            "  message: 'Optimization terminated successfully.'\n",
            "     nfev: 136\n",
            "      nit: 25\n",
            "     njev: 34\n",
            "   status: 0\n",
            "  success: True\n",
            "        x: array([154.55721963,   0.9034408 ,   5.07203294])\n"
          ]
        }
      ]
    },
    {
      "cell_type": "markdown",
      "source": [
        "With our new declerations, we succed."
      ],
      "metadata": {
        "id": "-s8MtcgcOu3p"
      }
    },
    {
      "cell_type": "markdown",
      "metadata": {
        "id": "hT1v_Ft5pWjc"
      },
      "source": [
        "## Exercise 5\n",
        "\n",
        "Consider the following function on the interval [0, 3]:"
      ]
    },
    {
      "cell_type": "code",
      "execution_count": 78,
      "metadata": {
        "colab": {
          "base_uri": "https://localhost:8080/",
          "height": 265
        },
        "id": "H8gaCpjEpWjc",
        "outputId": "019c4840-fd2f-4750-82f1-b3e8b2e63bad"
      },
      "outputs": [
        {
          "output_type": "display_data",
          "data": {
            "text/plain": [
              "<Figure size 432x288 with 1 Axes>"
            ],
            "image/png": "[encoded data removed]"
          },
          "metadata": {
            "needs_background": "light"
          }
        }
      ],
      "source": [
        "x = np.linspace(0., 3., 100)\n",
        "\n",
        "# f = exp(x^2 sin(x))\n",
        "f = np.exp(x**2*np.sin(x))\n",
        "\n",
        "plt.plot(x, f)\n",
        "plt.show()"
      ]
    },
    {
      "cell_type": "markdown",
      "metadata": {
        "id": "atqgeT0LpWjd"
      },
      "source": [
        "**1) Approximate this function using the Laplace approximation.**\n",
        "\n"
      ]
    },
    {
      "cell_type": "markdown",
      "source": [
        "Let's find the Laplace approximation for the model $f(x) = exp(x*sin(x))$.\n",
        "\n",
        "1- We take logarithm:\n",
        "\n",
        "$$g(\\theta)  = \\log(f) = \\theta*sin(\\theta)$$\n",
        "\n",
        "\n",
        "2- Find the maximum of the log-distribution. we derive with respect to $\\theta$ and solve:\n",
        "\n",
        "I found the derivative of the  $\\theta*sin(\\theta)$ on the internet\n",
        "$$\\frac{\\delta g}{\\delta \\theta} = sin(\\theta) + \\theta*cos(\\theta) $$\n",
        "\n",
        "3- Then make it equal to zero and extract $\\theta$:\n",
        "\n",
        "$g'(\\theta_0) = 0$\n",
        "I used internet again to find the $\\theta$ values that makes the first derivative zero. So, \n",
        "\n",
        "$\\theta_0$ = \\{-2, 0, 2\\}\n",
        "\n",
        "Our function is defines above between 0 and 3. So we need to take $$\\theta_0 = 2$$.\n",
        "\n",
        "4- We compute the second derivative:\n",
        "\n",
        "\n",
        "$$g''(\\theta) = 2*cos(\\theta) - \\theta*sin(\\theta)$$\n",
        "\n",
        "5- Write the distirbution. The distribution is a Gaussian distribution with mean $\\theta_0$, and variance $-\\frac{1}{g''(\\theta_0)}$.\n",
        "\n",
        "So,\n",
        "\n",
        "$$N(2, \\frac{1}{2*cos(2) - 2*sin(2)}\\big)$$\n",
        "\n",
        "\n",
        "\n",
        "\n",
        "\n",
        "\n",
        "\n",
        "\n",
        "\n",
        "\n",
        "\n"
      ],
      "metadata": {
        "id": "bf2RFZVwAZvc"
      }
    },
    {
      "cell_type": "code",
      "source": [],
      "metadata": {
        "id": "W_9WO2uVBz39"
      },
      "execution_count": null,
      "outputs": []
    },
    {
      "cell_type": "markdown",
      "source": [
        "**2) Plot the original function and your approximation on the same graph.**"
      ],
      "metadata": {
        "id": "9_1ZWuvbAPnl"
      }
    },
    {
      "cell_type": "code",
      "source": [
        "\n",
        "theta_0 = 2\n",
        "hessian  = (2*np.cos(2)-2*np.sin(2))\n",
        "variance  = -1/hessian\n",
        "our_distribution = norm(theta_0, np.sqrt(variance))\n",
        "\n",
        "plt.figure()\n",
        "plt.plot(x, f/np.sum(f), \n",
        "label=\"Default distribution\")\n",
        "plt.plot(x, our_distribution.pdf(x)/np.sum(our_distribution.pdf(x)), label=\"Laplace app.\")\n",
        "plt.legend()\n",
        "plt.show()"
      ],
      "metadata": {
        "colab": {
          "base_uri": "https://localhost:8080/",
          "height": 265
        },
        "id": "3tp1fTlsECsm",
        "outputId": "f8dcca8b-ee9e-4a69-b968-981ddb2ff67c"
      },
      "execution_count": 80,
      "outputs": [
        {
          "output_type": "display_data",
          "data": {
            "text/plain": [
              "<Figure size 432x288 with 1 Axes>"
            ],
            "image/png": "[encoded data removed]"
          },
          "metadata": {
            "needs_background": "light"
          }
        }
      ]
    },
    {
      "cell_type": "code",
      "source": [],
      "metadata": {
        "id": "X6HymafkECup"
      },
      "execution_count": null,
      "outputs": []
    },
    {
      "cell_type": "code",
      "source": [],
      "metadata": {
        "id": "Bf1LC9_RECw3"
      },
      "execution_count": null,
      "outputs": []
    },
    {
      "cell_type": "code",
      "source": [],
      "metadata": {
        "id": "1GjQ2Sq6ECzg"
      },
      "execution_count": null,
      "outputs": []
    },
    {
      "cell_type": "markdown",
      "metadata": {
        "id": "VckSUAPlpWjd"
      },
      "source": [
        "## Exercise 6\n",
        "\n",
        "From the file grades.csv we are interested in predicting the final evaluation score from the midterm one. \n",
        "\n",
        "- (6.1) Find appropriate priors for a linear model. Sample from the priors to verify that the choice of all the priors parameters is compatible with the regression problem\n",
        "\n",
        "\n"
      ]
    },
    {
      "cell_type": "code",
      "source": [
        "data = pd.read_csv(\"grades.csv\", sep=\",\")\n",
        "data.describe()"
      ],
      "metadata": {
        "colab": {
          "base_uri": "https://localhost:8080/",
          "height": 300
        },
        "id": "aQFHPqa0PS96",
        "outputId": "484cca61-6ae4-423f-d0ca-078579291902"
      },
      "execution_count": 103,
      "outputs": [
        {
          "output_type": "execute_result",
          "data": {
            "text/plain": [
              "         student    midterm       final\n",
              "count  52.000000  52.000000   52.000000\n",
              "mean   26.500000  78.596154  119.807692\n",
              "std    15.154757   9.632990   16.102659\n",
              "min     1.000000  53.000000   78.000000\n",
              "25%    13.750000  71.000000  115.500000\n",
              "50%    26.500000  79.000000  122.000000\n",
              "75%    39.250000  88.000000  130.250000\n",
              "max    52.000000  96.000000  145.000000"
            ],
            "text/html": [
              "\n",
              "  <div id=\"df-9b0c8e8b-4eb6-4714-8d07-c5fad3ae6e60\">\n",
              "    <div class=\"colab-df-container\">\n",
              "      <div>\n",
              "<style scoped>\n",
              "    .dataframe tbody tr th:only-of-type {\n",
              "        vertical-align: middle;\n",
              "    }\n",
              "\n",
              "    .dataframe tbody tr th {\n",
              "        vertical-align: top;\n",
              "    }\n",
              "\n",
              "    .dataframe thead th {\n",
              "        text-align: right;\n",
              "    }\n",
              "</style>\n",
              "<table border=\"1\" class=\"dataframe\">\n",
              "  <thead>\n",
              "    <tr style=\"text-align: right;\">\n",
              "      <th></th>\n",
              "      <th>student</th>\n",
              "      <th>midterm</th>\n",
              "      <th>final</th>\n",
              "    </tr>\n",
              "  </thead>\n",
              "  <tbody>\n",
              "    <tr>\n",
              "      <th>count</th>\n",
              "      <td>52.000000</td>\n",
              "      <td>52.000000</td>\n",
              "      <td>52.000000</td>\n",
              "    </tr>\n",
              "    <tr>\n",
              "      <th>mean</th>\n",
              "      <td>26.500000</td>\n",
              "      <td>78.596154</td>\n",
              "      <td>119.807692</td>\n",
              "    </tr>\n",
              "    <tr>\n",
              "      <th>std</th>\n",
              "      <td>15.154757</td>\n",
              "      <td>9.632990</td>\n",
              "      <td>16.102659</td>\n",
              "    </tr>\n",
              "    <tr>\n",
              "      <th>min</th>\n",
              "      <td>1.000000</td>\n",
              "      <td>53.000000</td>\n",
              "      <td>78.000000</td>\n",
              "    </tr>\n",
              "    <tr>\n",
              "      <th>25%</th>\n",
              "      <td>13.750000</td>\n",
              "      <td>71.000000</td>\n",
              "      <td>115.500000</td>\n",
              "    </tr>\n",
              "    <tr>\n",
              "      <th>50%</th>\n",
              "      <td>26.500000</td>\n",
              "      <td>79.000000</td>\n",
              "      <td>122.000000</td>\n",
              "    </tr>\n",
              "    <tr>\n",
              "      <th>75%</th>\n",
              "      <td>39.250000</td>\n",
              "      <td>88.000000</td>\n",
              "      <td>130.250000</td>\n",
              "    </tr>\n",
              "    <tr>\n",
              "      <th>max</th>\n",
              "      <td>52.000000</td>\n",
              "      <td>96.000000</td>\n",
              "      <td>145.000000</td>\n",
              "    </tr>\n",
              "  </tbody>\n",
              "</table>\n",
              "</div>\n",
              "      <button class=\"colab-df-convert\" onclick=\"convertToInteractive('df-9b0c8e8b-4eb6-4714-8d07-c5fad3ae6e60')\"\n",
              "              title=\"Convert this dataframe to an interactive table.\"\n",
              "              style=\"display:none;\">\n",
              "        \n",
              "  <svg xmlns=\"http://www.w3.org/2000/svg\" height=\"24px\"viewBox=\"0 0 24 24\"\n",
              "       width=\"24px\">\n",
              "    <path d=\"M0 0h24v24H0V0z\" fill=\"none\"/>\n",
              "    <path d=\"M18.56 5.44l.94 2.06.94-2.06 2.06-.94-2.06-.94-.94-2.06-.94 2.06-2.06.94zm-11 1L8.5 8.5l.94-2.06 2.06-.94-2.06-.94L8.5 2.5l-.94 2.06-2.06.94zm10 10l.94 2.06.94-2.06 2.06-.94-2.06-.94-.94-2.06-.94 2.06-2.06.94z\"/><path d=\"M17.41 7.96l-1.37-1.37c-.4-.4-.92-.59-1.43-.59-.52 0-1.04.2-1.43.59L10.3 9.45l-7.72 7.72c-.78.78-.78 2.05 0 2.83L4 21.41c.39.39.9.59 1.41.59.51 0 1.02-.2 1.41-.59l7.78-7.78 2.81-2.81c.8-.78.8-2.07 0-2.86zM5.41 20L4 18.59l7.72-7.72 1.47 1.35L5.41 20z\"/>\n",
              "  </svg>\n",
              "      </button>\n",
              "      \n",
              "  <style>\n",
              "    .colab-df-container {\n",
              "      display:flex;\n",
              "      flex-wrap:wrap;\n",
              "      gap: 12px;\n",
              "    }\n",
              "\n",
              "    .colab-df-convert {\n",
              "      background-color: #E8F0FE;\n",
              "      border: none;\n",
              "      border-radius: 50%;\n",
              "      cursor: pointer;\n",
              "      display: none;\n",
              "      fill: #1967D2;\n",
              "      height: 32px;\n",
              "      padding: 0 0 0 0;\n",
              "      width: 32px;\n",
              "    }\n",
              "\n",
              "    .colab-df-convert:hover {\n",
              "      background-color: #E2EBFA;\n",
              "      box-shadow: 0px 1px 2px rgba(60, 64, 67, 0.3), 0px 1px 3px 1px rgba(60, 64, 67, 0.15);\n",
              "      fill: #174EA6;\n",
              "    }\n",
              "\n",
              "    [theme=dark] .colab-df-convert {\n",
              "      background-color: #3B4455;\n",
              "      fill: #D2E3FC;\n",
              "    }\n",
              "\n",
              "    [theme=dark] .colab-df-convert:hover {\n",
              "      background-color: #434B5C;\n",
              "      box-shadow: 0px 1px 3px 1px rgba(0, 0, 0, 0.15);\n",
              "      filter: drop-shadow(0px 1px 2px rgba(0, 0, 0, 0.3));\n",
              "      fill: #FFFFFF;\n",
              "    }\n",
              "  </style>\n",
              "\n",
              "      <script>\n",
              "        const buttonEl =\n",
              "          document.querySelector('#df-9b0c8e8b-4eb6-4714-8d07-c5fad3ae6e60 button.colab-df-convert');\n",
              "        buttonEl.style.display =\n",
              "          google.colab.kernel.accessAllowed ? 'block' : 'none';\n",
              "\n",
              "        async function convertToInteractive(key) {\n",
              "          const element = document.querySelector('#df-9b0c8e8b-4eb6-4714-8d07-c5fad3ae6e60');\n",
              "          const dataTable =\n",
              "            await google.colab.kernel.invokeFunction('convertToInteractive',\n",
              "                                                     [key], {});\n",
              "          if (!dataTable) return;\n",
              "\n",
              "          const docLinkHtml = 'Like what you see? Visit the ' +\n",
              "            '<a target=\"_blank\" href=https://colab.research.google.com/notebooks/data_table.ipynb>data table notebook</a>'\n",
              "            + ' to learn more about interactive tables.';\n",
              "          element.innerHTML = '';\n",
              "          dataTable['output_type'] = 'display_data';\n",
              "          await google.colab.output.renderOutput(dataTable, element);\n",
              "          const docLink = document.createElement('div');\n",
              "          docLink.innerHTML = docLinkHtml;\n",
              "          element.appendChild(docLink);\n",
              "        }\n",
              "      </script>\n",
              "    </div>\n",
              "  </div>\n",
              "  "
            ]
          },
          "metadata": {},
          "execution_count": 103
        }
      ]
    },
    {
      "cell_type": "code",
      "source": [
        "\n",
        "mu = 40\n",
        "sigma = 20 \n",
        "\n",
        "a = 0\n",
        "b = 40\n",
        "mu0 = 78\n",
        "tau = 10\n",
        "n_samples = 1000\n",
        "\n",
        "# Initializing the likelihood\n",
        "likelihood = 'gaussian'\n",
        "parameters = [mu, sigma]\n",
        "\n",
        "# Defining the prior with hyperparameters \n",
        "prior_mu_mean = mu0\n",
        "prior_mu_sigma = tau\n",
        "prior_mu = ['gaussian', [prior_mu_mean, prior_mu_sigma]]\n",
        "\n",
        "sigma_inf = a\n",
        "sigma_sup = b\n",
        "prior_sigma_unif = [sigma_inf, sigma_sup]\n",
        "prior_sigma = ['uniform', prior_sigma_unif]\n",
        "\n",
        "solution = laplace_solution([mu,sigma], [], data[\"midterm\"], likelihood, [prior_mu, prior_sigma])"
      ],
      "metadata": {
        "colab": {
          "base_uri": "https://localhost:8080/"
        },
        "id": "SjMHg74FPTAZ",
        "outputId": "17411e5a-d0c3-446f-afeb-8fb8a85437f6"
      },
      "execution_count": 106,
      "outputs": [
        {
          "output_type": "stream",
          "name": "stdout",
          "text": [
            "      fun: 197.98215316733427\n",
            " hess_inv: array([[1.6838178 , 0.01086516],\n",
            "       [0.01086516, 0.87032445]])\n",
            "      jac: array([ 1.90734863e-06, -1.90734863e-06])\n",
            "  message: 'Optimization terminated successfully.'\n",
            "     nfev: 60\n",
            "      nit: 17\n",
            "     njev: 20\n",
            "   status: 0\n",
            "  success: True\n",
            "        x: array([78.58590526,  9.53992225])\n"
          ]
        }
      ]
    },
    {
      "cell_type": "code",
      "source": [],
      "metadata": {
        "id": "qrMU5SsyPTFl"
      },
      "execution_count": null,
      "outputs": []
    },
    {
      "cell_type": "markdown",
      "source": [
        "- (6.2) Fit a regression model using these priors (you can use either your Laplace implementation or Stan)\n",
        "- (6.3) Sample from the posterior and plot the related regression function. Is this simulation compatible with the observations?\n",
        "- (6.4) Compute the standard deviation for the final score of a student with midterm score of 44.\n",
        "- (6.5) Fit a quadratic model and compare it to the linear one for this regression problem. Which model would you prefer? Why?"
      ],
      "metadata": {
        "id": "z0_CkCW9PSTl"
      }
    },
    {
      "cell_type": "markdown",
      "metadata": {
        "id": "3nK4bgENpWjd"
      },
      "source": [
        "# Exercise 7\n",
        "\n",
        "Implement the Metropolis-Hastings algorithm to estimate the posterior distribution for the parameter of a Binomial model with prior *Beta(2,3)*. Assume 40 observations with 10 successes and 30 fails."
      ]
    },
    {
      "cell_type": "code",
      "source": [
        "!pip3 install nest_asyncio"
      ],
      "metadata": {
        "colab": {
          "base_uri": "https://localhost:8080/"
        },
        "id": "DCc52d3WRcL3",
        "outputId": "e98559ea-7585-4e66-b7ca-14fd0c53d90d"
      },
      "execution_count": 105,
      "outputs": [
        {
          "output_type": "stream",
          "name": "stdout",
          "text": [
            "Looking in indexes: https://pypi.org/simple, https://us-python.pkg.dev/colab-wheels/public/simple/\n",
            "Collecting nest_asyncio\n",
            "  Downloading nest_asyncio-1.5.6-py3-none-any.whl (5.2 kB)\n",
            "Installing collected packages: nest-asyncio\n",
            "Successfully installed nest-asyncio-1.5.6\n"
          ]
        }
      ]
    },
    {
      "cell_type": "code",
      "source": [
        "import stan\n",
        "#import nest_asyncio as asyncio\n",
        "import nest_asyncio\n",
        "nest_asyncio.apply()"
      ],
      "metadata": {
        "id": "EAnYK5XARfAc"
      },
      "execution_count": null,
      "outputs": []
    },
    {
      "cell_type": "code",
      "execution_count": null,
      "metadata": {
        "id": "_4GEW5DApWjd"
      },
      "outputs": [],
      "source": [
        "binomial_model_code_2 = \"\"\"\n",
        "data {\n",
        "  int<lower=1> N;\n",
        "  int y[N];\n",
        "  real x[N];\n",
        "}\n",
        "parameters {\n",
        "  real a;\n",
        "  real b;\n",
        "\n",
        "}\n",
        "transformed parameters {\n",
        "  vector[N] p_i;\n",
        "  for (i in 1:N) {\n",
        "    p_i[i] = exp(a + b * x[i] )/(1 + exp(a + b * x[i] )); \n",
        "    }\n",
        "}\n",
        "model {\n",
        "  b ~ normal(0, 3);\n",
        "  a ~ normal(0, 3);\n",
        "  y ~ binomial(1, p_i);\n",
        "}\n",
        "\"\"\""
      ]
    }
  ],
  "metadata": {
    "kernelspec": {
      "display_name": "Python 3",
      "language": "python",
      "name": "python3"
    },
    "language_info": {
      "codemirror_mode": {
        "name": "ipython",
        "version": 3
      },
      "file_extension": ".py",
      "mimetype": "text/x-python",
      "name": "python",
      "nbconvert_exporter": "python",
      "pygments_lexer": "ipython3",
      "version": "3.6.13"
    },
    "colab": {
      "provenance": [],
      "collapsed_sections": [
        "dpKqQUjmyQML"
      ]
    }
  },
  "nbformat": 4,
  "nbformat_minor": 0
}
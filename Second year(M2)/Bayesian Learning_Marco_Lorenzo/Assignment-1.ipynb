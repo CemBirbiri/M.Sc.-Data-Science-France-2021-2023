{
  "cells": [
    {
      "cell_type": "markdown",
      "metadata": {
        "id": "VU7GoncjVIP5"
      },
      "source": [
        "## Exercise 1\n",
        "\n",
        "**Using the football dataset, estimate the following conditional probabilities in two different ways (one through relative frequencies and one using an approximated distribution):**\n",
        "\n",
        "- P1: Pr(Favorite wins | point spread = 8)\n",
        "- P2: Pr(Favorite wins by at least 8 points | point spread = 8)\n",
        "- P3: Pr(Favorite wins by at least 8 points | point spread = 8 and favorite wins)"
      ]
    },
    {
      "cell_type": "code",
      "source": [
        "import pandas as pd\n",
        "import numpy as np\n",
        "\n",
        "football_dataset_path = '/content/football_dataset.txt'\n",
        "data = pd.read_csv(football_dataset_path, index_col=False, header=0, sep=\",\")\n",
        "data.head(3)"
      ],
      "metadata": {
        "id": "FvYxj0svv4K1",
        "colab": {
          "base_uri": "https://localhost:8080/",
          "height": 143
        },
        "outputId": "bc73a045-8ecb-42fd-befb-fc61ad89d5d0"
      },
      "execution_count": 2,
      "outputs": [
        {
          "output_type": "execute_result",
          "data": {
            "text/plain": [
              "   home  favorite  underdog  spread favorite.name underdog.name  week\n",
              "0     1        21        13     2.0            TB           MIN     1\n",
              "1     1        27         0     9.5           ATL            NO     1\n",
              "2     1        31         0     4.0           BUF           NYJ     1"
            ],
            "text/html": [
              "\n",
              "  <div id=\"df-37c12bd9-fd82-4bf0-a2c4-311cbdb9b3a4\">\n",
              "    <div class=\"colab-df-container\">\n",
              "      <div>\n",
              "<style scoped>\n",
              "    .dataframe tbody tr th:only-of-type {\n",
              "        vertical-align: middle;\n",
              "    }\n",
              "\n",
              "    .dataframe tbody tr th {\n",
              "        vertical-align: top;\n",
              "    }\n",
              "\n",
              "    .dataframe thead th {\n",
              "        text-align: right;\n",
              "    }\n",
              "</style>\n",
              "<table border=\"1\" class=\"dataframe\">\n",
              "  <thead>\n",
              "    <tr style=\"text-align: right;\">\n",
              "      <th></th>\n",
              "      <th>home</th>\n",
              "      <th>favorite</th>\n",
              "      <th>underdog</th>\n",
              "      <th>spread</th>\n",
              "      <th>favorite.name</th>\n",
              "      <th>underdog.name</th>\n",
              "      <th>week</th>\n",
              "    </tr>\n",
              "  </thead>\n",
              "  <tbody>\n",
              "    <tr>\n",
              "      <th>0</th>\n",
              "      <td>1</td>\n",
              "      <td>21</td>\n",
              "      <td>13</td>\n",
              "      <td>2.0</td>\n",
              "      <td>TB</td>\n",
              "      <td>MIN</td>\n",
              "      <td>1</td>\n",
              "    </tr>\n",
              "    <tr>\n",
              "      <th>1</th>\n",
              "      <td>1</td>\n",
              "      <td>27</td>\n",
              "      <td>0</td>\n",
              "      <td>9.5</td>\n",
              "      <td>ATL</td>\n",
              "      <td>NO</td>\n",
              "      <td>1</td>\n",
              "    </tr>\n",
              "    <tr>\n",
              "      <th>2</th>\n",
              "      <td>1</td>\n",
              "      <td>31</td>\n",
              "      <td>0</td>\n",
              "      <td>4.0</td>\n",
              "      <td>BUF</td>\n",
              "      <td>NYJ</td>\n",
              "      <td>1</td>\n",
              "    </tr>\n",
              "  </tbody>\n",
              "</table>\n",
              "</div>\n",
              "      <button class=\"colab-df-convert\" onclick=\"convertToInteractive('df-37c12bd9-fd82-4bf0-a2c4-311cbdb9b3a4')\"\n",
              "              title=\"Convert this dataframe to an interactive table.\"\n",
              "              style=\"display:none;\">\n",
              "        \n",
              "  <svg xmlns=\"http://www.w3.org/2000/svg\" height=\"24px\"viewBox=\"0 0 24 24\"\n",
              "       width=\"24px\">\n",
              "    <path d=\"M0 0h24v24H0V0z\" fill=\"none\"/>\n",
              "    <path d=\"M18.56 5.44l.94 2.06.94-2.06 2.06-.94-2.06-.94-.94-2.06-.94 2.06-2.06.94zm-11 1L8.5 8.5l.94-2.06 2.06-.94-2.06-.94L8.5 2.5l-.94 2.06-2.06.94zm10 10l.94 2.06.94-2.06 2.06-.94-2.06-.94-.94-2.06-.94 2.06-2.06.94z\"/><path d=\"M17.41 7.96l-1.37-1.37c-.4-.4-.92-.59-1.43-.59-.52 0-1.04.2-1.43.59L10.3 9.45l-7.72 7.72c-.78.78-.78 2.05 0 2.83L4 21.41c.39.39.9.59 1.41.59.51 0 1.02-.2 1.41-.59l7.78-7.78 2.81-2.81c.8-.78.8-2.07 0-2.86zM5.41 20L4 18.59l7.72-7.72 1.47 1.35L5.41 20z\"/>\n",
              "  </svg>\n",
              "      </button>\n",
              "      \n",
              "  <style>\n",
              "    .colab-df-container {\n",
              "      display:flex;\n",
              "      flex-wrap:wrap;\n",
              "      gap: 12px;\n",
              "    }\n",
              "\n",
              "    .colab-df-convert {\n",
              "      background-color: #E8F0FE;\n",
              "      border: none;\n",
              "      border-radius: 50%;\n",
              "      cursor: pointer;\n",
              "      display: none;\n",
              "      fill: #1967D2;\n",
              "      height: 32px;\n",
              "      padding: 0 0 0 0;\n",
              "      width: 32px;\n",
              "    }\n",
              "\n",
              "    .colab-df-convert:hover {\n",
              "      background-color: #E2EBFA;\n",
              "      box-shadow: 0px 1px 2px rgba(60, 64, 67, 0.3), 0px 1px 3px 1px rgba(60, 64, 67, 0.15);\n",
              "      fill: #174EA6;\n",
              "    }\n",
              "\n",
              "    [theme=dark] .colab-df-convert {\n",
              "      background-color: #3B4455;\n",
              "      fill: #D2E3FC;\n",
              "    }\n",
              "\n",
              "    [theme=dark] .colab-df-convert:hover {\n",
              "      background-color: #434B5C;\n",
              "      box-shadow: 0px 1px 3px 1px rgba(0, 0, 0, 0.15);\n",
              "      filter: drop-shadow(0px 1px 2px rgba(0, 0, 0, 0.3));\n",
              "      fill: #FFFFFF;\n",
              "    }\n",
              "  </style>\n",
              "\n",
              "      <script>\n",
              "        const buttonEl =\n",
              "          document.querySelector('#df-37c12bd9-fd82-4bf0-a2c4-311cbdb9b3a4 button.colab-df-convert');\n",
              "        buttonEl.style.display =\n",
              "          google.colab.kernel.accessAllowed ? 'block' : 'none';\n",
              "\n",
              "        async function convertToInteractive(key) {\n",
              "          const element = document.querySelector('#df-37c12bd9-fd82-4bf0-a2c4-311cbdb9b3a4');\n",
              "          const dataTable =\n",
              "            await google.colab.kernel.invokeFunction('convertToInteractive',\n",
              "                                                     [key], {});\n",
              "          if (!dataTable) return;\n",
              "\n",
              "          const docLinkHtml = 'Like what you see? Visit the ' +\n",
              "            '<a target=\"_blank\" href=https://colab.research.google.com/notebooks/data_table.ipynb>data table notebook</a>'\n",
              "            + ' to learn more about interactive tables.';\n",
              "          element.innerHTML = '';\n",
              "          dataTable['output_type'] = 'display_data';\n",
              "          await google.colab.output.renderOutput(dataTable, element);\n",
              "          const docLink = document.createElement('div');\n",
              "          docLink.innerHTML = docLinkHtml;\n",
              "          element.appendChild(docLink);\n",
              "        }\n",
              "      </script>\n",
              "    </div>\n",
              "  </div>\n",
              "  "
            ]
          },
          "metadata": {},
          "execution_count": 2
        }
      ]
    },
    {
      "cell_type": "markdown",
      "source": [
        "###ANSWER-1.1: Using Relative Frequencies:"
      ],
      "metadata": {
        "id": "tXHRldszll1M"
      }
    },
    {
      "cell_type": "code",
      "source": [
        "outcome = np.array(data['favorite'] - data['underdog']) \n",
        "point_spread = np.array(data['spread'])"
      ],
      "metadata": {
        "id": "qqf_YgiH5IuZ"
      },
      "execution_count": 3,
      "outputs": []
    },
    {
      "cell_type": "code",
      "source": [
        "#P1 = Pr(Favorite wins | point spread = 8)\n",
        "\n",
        "i=0\n",
        "j=0\n",
        "\n",
        "for out, ps in zip(outcome, point_spread):\n",
        "    if ps==8 and out>0: #Favorite wins and point spread = 8\n",
        "        i+=1\n",
        "    if ps==8: #point spread = 8\n",
        "        j+=1 \n",
        "        \n",
        "P1 = i / j\n",
        "print('P1 = ' + str(P1))"
      ],
      "metadata": {
        "colab": {
          "base_uri": "https://localhost:8080/"
        },
        "id": "DOqPWQ4I5RfL",
        "outputId": "e811817b-e094-4a27-b641-a45951a23375"
      },
      "execution_count": 4,
      "outputs": [
        {
          "output_type": "stream",
          "name": "stdout",
          "text": [
            "P1 = 0.7551020408163265\n"
          ]
        }
      ]
    },
    {
      "cell_type": "code",
      "source": [
        "#P2: Pr(Favorite wins by at least 8 points | point spread = 8)\n",
        "\n",
        "i=0\n",
        "j=0\n",
        "\n",
        "for out, ps in zip(outcome, point_spread):\n",
        "    if ps==8 and out >= 8: #Favorite wins by at least 8 points and point spread = 8\n",
        "        i+=1\n",
        "    if ps==8: #point spread = 8\n",
        "        j+=1\n",
        "        \n",
        "P2 = i / j\n",
        "print('P2 = ' + str(P2))"
      ],
      "metadata": {
        "colab": {
          "base_uri": "https://localhost:8080/"
        },
        "id": "bb5WvHaB57ci",
        "outputId": "61fbb81f-8a2d-4d64-9260-3eb5e0c2ab7f"
      },
      "execution_count": 5,
      "outputs": [
        {
          "output_type": "stream",
          "name": "stdout",
          "text": [
            "P2 = 0.4489795918367347\n"
          ]
        }
      ]
    },
    {
      "cell_type": "code",
      "source": [
        "#P3: Pr(Favorite wins by at least 8 points | point spread = 8 and favorite wins)\n",
        "\n",
        "i=0\n",
        "j=0\n",
        "\n",
        "for out, ps in zip(outcome, point_spread):\n",
        "    if ps==8 and out >= 8 and out > 0: #Favorite wins by at least 8 points and point spread = 8\n",
        "        i+=1\n",
        "    if ps==8 and out >0: #point spread = 8 and and favorite wins\n",
        "        j+=1\n",
        "        \n",
        "P3 = i / j\n",
        "print('P3 = ' + str(P3))"
      ],
      "metadata": {
        "colab": {
          "base_uri": "https://localhost:8080/"
        },
        "id": "NYa-hTjO6wix",
        "outputId": "c7ca694d-6ed7-4651-d62b-c9347d5281ef"
      },
      "execution_count": 6,
      "outputs": [
        {
          "output_type": "stream",
          "name": "stdout",
          "text": [
            "P3 = 0.5945945945945946\n"
          ]
        }
      ]
    },
    {
      "cell_type": "markdown",
      "source": [
        "###ANSWER-1.2: using an approximated distribution:"
      ],
      "metadata": {
        "id": "VBHjYJbZlvs9"
      }
    },
    {
      "cell_type": "code",
      "source": [
        "#Let's denote by y the outcome of a game and x its point spread.\n",
        "import matplotlib.pyplot as plt\n",
        "y = np.array(data['favorite'] - data['underdog'])\n",
        "x = np.array(data['spread'])\n",
        "z = y - x\n",
        "\n",
        "#Now let's plot the histogram of z, and the approximated Gaussian distribution of z|x.\n",
        "\n",
        "from scipy.stats import norm\n",
        "\n",
        "sample_mean = np.mean(z)\n",
        "sample_std_dev = np.std(z)\n",
        "\n",
        "print(\"Sample mean = \" + str(sample_mean))\n",
        "print(\"Sample std dev = \" + str(sample_std_dev))\n",
        "\n",
        "#Let's create a normal distribution with sample mean and sample std:\n",
        "dist = norm(loc=sample_mean, scale=sample_std_dev)\n",
        "\n",
        "#Now we plot the histogram and approximated Normal dist.\n",
        "plt.figure()\n",
        "n, bins, patches = plt.hist(z, 50, density=True, facecolor='pink', alpha=0.75)\n",
        "plt.scatter(z, dist.pdf(z), color='blue')\n",
        "\n",
        "plt.xlabel('z = y - x')\n",
        "plt.ylabel('Probability')\n",
        "plt.grid(True)\n",
        "\n",
        "plt.show()"
      ],
      "metadata": {
        "colab": {
          "base_uri": "https://localhost:8080/",
          "height": 315
        },
        "id": "zPti7e1il2ls",
        "outputId": "4d338e2b-637b-4412-cc56-57825ff9b664"
      },
      "execution_count": 14,
      "outputs": [
        {
          "output_type": "stream",
          "name": "stdout",
          "text": [
            "Sample mean = 0.22589285714285715\n",
            "Sample std dev = 13.687140377113334\n"
          ]
        },
        {
          "output_type": "display_data",
          "data": {
            "text/plain": [
              "<Figure size 432x288 with 1 Axes>"
            ],
            "image/png": "[encoded data removed]"
          },
          "metadata": {
            "needs_background": "light"
          }
        }
      ]
    },
    {
      "cell_type": "markdown",
      "source": [
        "We see the plot of x and z above. The empricial distribution is coming from the football dataset, and we plot it as a histogram. Also we plot a normal distribution using emprical mean and std. What we see is that the empirical distribution of z is very similar to normal distribution. We can maybe suggest that the distribution of z can be independent of x. We can suggest this because they fit together very well.\n",
        "\n",
        "In the question, it is asked that we need to calculate some probabilities by using approximated distribution approach. So, we don't use the emprical dataset here, in contrast we will use the approximated distribution of $z|x \\sim \\mathcal{N}(\\mu, \\sigma^{2})$., that is a Normal distribution with mean $\\mu = 0.22$ and standard deviation of $\\sigma = 13.7$. And this is now independent of x.\n",
        "\n",
        "Now let's calculate the given probabilities:\n",
        "- P1: Pr(Favorite wins | point spread = 8)\n",
        "- P2: Pr(Favorite wins by at least 8 points | point spread = 8)\n",
        "- P3: Pr(Favorite wins by at least 8 points | point spread = 8 and favorite wins)"
      ],
      "metadata": {
        "id": "GcuPqT51nVC_"
      }
    },
    {
      "cell_type": "code",
      "source": [],
      "metadata": {
        "id": "Ouu9yR0nl2n_"
      },
      "execution_count": 7,
      "outputs": []
    },
    {
      "cell_type": "markdown",
      "source": [
        "$$\\textrm{P1} =  \\textrm{Pr(Favorite wins | point spread} = 8.5) = \\textrm{Pr}(y > 0| x=8) = \\textrm{Pr}(z+x>0|x=8) = \\textrm{Pr}(z>-x | x=8) = 1-\\textrm{Pr}(z<-x|x=8).$$"
      ],
      "metadata": {
        "id": "5L9BXeo2rCoa"
      }
    },
    {
      "cell_type": "code",
      "source": [
        "P1 = 1 - dist.cdf(-8.)\n",
        "print(\"P1 = \" + str(P1))"
      ],
      "metadata": {
        "colab": {
          "base_uri": "https://localhost:8080/"
        },
        "id": "C7xu8AgarN50",
        "outputId": "6b774cd6-cfa2-4183-9cb7-d5be0e2b6e8e"
      },
      "execution_count": 15,
      "outputs": [
        {
          "output_type": "stream",
          "name": "stdout",
          "text": [
            "P1 = 0.7260780966161547\n"
          ]
        }
      ]
    },
    {
      "cell_type": "markdown",
      "source": [
        "$$\\textrm{P2} =  \\textrm{Pr(Favorite wins >= 8 | point spread} = 8) = \\textrm{Pr}(y >= 8| x=8) = \\textrm{Pr}(z+x>=8|x=8) = \\textrm{Pr}(z>-x+8 | x=8) = 1-\\textrm{Pr}(z<-x+8|x=8).$$"
      ],
      "metadata": {
        "id": "B2oVvh6SrZY9"
      }
    },
    {
      "cell_type": "code",
      "source": [
        "P2 = 1 - dist.cdf(-8 + 8)\n",
        "print(\"P2 = \" + str(P2))"
      ],
      "metadata": {
        "colab": {
          "base_uri": "https://localhost:8080/"
        },
        "id": "38HnPk8-sVQH",
        "outputId": "9a12dd2b-32ea-40bc-f5a1-680f7832c8a0"
      },
      "execution_count": 16,
      "outputs": [
        {
          "output_type": "stream",
          "name": "stdout",
          "text": [
            "P2 = 0.5065838530278768\n"
          ]
        }
      ]
    },
    {
      "cell_type": "markdown",
      "source": [
        "$$\\textrm{P3} =  \\textrm{Pr(Favorite wins >= 8 | point spread} = 8 \\wedge (\\textrm{Favorite wins>0})) = \\textrm{Pr}(y >= 8| x=8 \\wedge (y>0)) = \\textrm{Pr}(z+x>=8|x=8 \\wedge (z+x>0)) = \\textrm{Pr}(z>-x+8 | x=8 \\wedge (z>-x)) = 1-\\textrm{Pr}(z<-x+8|x=8 \\wedge (z<-x)). $$"
      ],
      "metadata": {
        "id": "KXuPl2Mss846"
      }
    },
    {
      "cell_type": "markdown",
      "source": [
        "In above equation, x=8 and z<-x is given. So, when x=8, z<-8. We are asked that what is the probablity of (z < 0) given x=8 and (z<-8)."
      ],
      "metadata": {
        "id": "ZLca5tOFwFMN"
      }
    },
    {
      "cell_type": "code",
      "source": [
        "#I am not sure about this answer. We aldready know the that z<-8. It is asked that pr(z<0 | x=8 and z<-8). \n",
        "#So this probability could be same with P2 since every condition is same:\n",
        "\n",
        "P3 = P2\n",
        "print(\"P3 = \" + str(P3))"
      ],
      "metadata": {
        "colab": {
          "base_uri": "https://localhost:8080/"
        },
        "id": "Voa57g_LsVSY",
        "outputId": "9d3c7568-ec1f-4e50-ade9-809843e33c96"
      },
      "execution_count": 19,
      "outputs": [
        {
          "output_type": "stream",
          "name": "stdout",
          "text": [
            "P3 = 0.5065838530278768\n"
          ]
        }
      ]
    },
    {
      "cell_type": "code",
      "source": [],
      "metadata": {
        "id": "O_RI28OVsVUi"
      },
      "execution_count": null,
      "outputs": []
    },
    {
      "cell_type": "markdown",
      "metadata": {
        "id": "wPhnXcA3VIP8"
      },
      "source": [
        "## Exercise 2\n",
        "\n",
        "A random sample of n students is drawn from a large population, and their weights are measured. The average weight of the n sampled students is $y^{mean} = 70$ Kg. We assume that the weights in the population are normally distributed with unknown mean $\\theta$, and known standard deviation 10 Kg. Suppose your prior distribution for $\\theta$ is normal with mean 80 Kg and standard deviation 15 Kg.\n",
        "\n",
        "**1) Give the posterior distribution of $\\theta$ (the answer will be a function of n).**\n",
        "\n",
        "**2) For n=10, and n=100, give a 95% posterior interval for $\\theta$.**"
      ]
    },
    {
      "cell_type": "markdown",
      "source": [
        "**Answer-2.1:**\n",
        "\n",
        "The posterior $ p(\\theta | y)$ for $\\theta$ can be found by multiplying likelihood and the prior distribution:\n",
        "\n",
        "$$ p(\\theta | y) = \\frac{p(y|\\theta)p(\\theta)}{p(y)} $$\n",
        "\n",
        "where $p(y|\\theta)$ is the likelihood and $p(\\theta)$ is the prior. The term $p(y)$ is a normalization term and there is no $\\theta$ appeared, we omit this part. The posterior becomes:\n",
        "\n",
        "$$ p(\\theta | y) \\sim p(y|\\theta)p(\\theta) $$\n",
        "\n",
        "\n",
        "The prior distribution is a Normal distribution:\n",
        "$$p(\\theta)= N(\\mu_0, \\tau_0^2) = N(80, 15^2)$$\n",
        "\n",
        "and the likelihood is\n",
        "\n",
        "$$p(y|\\theta) = N(\\theta, \\sigma^2) = N(\\theta, 10^2)$$"
      ],
      "metadata": {
        "id": "RTF2WiMrX-7l"
      }
    },
    {
      "cell_type": "markdown",
      "source": [
        "\n",
        "We know from the formula that the posterior takes the form $p(\\theta|y)\\sim N(\\mu_n,\\sigma_n^2)$, with:\n",
        "\n",
        "\n",
        "$$ \\sigma_n^2 = \\frac{1}{\\frac{n}{\\sigma^2} + \\frac{1}{\\tau_0^2}} = \\frac{1}{\\frac{n}{10^2} + \\frac{1}{15^2}},$$\n",
        "\n",
        "and,\n",
        "\n",
        "$$ \\mu_n = \\frac{\\frac{n \\bar{y}}{\\sigma^2} + \\frac{\\mu_0}{\\tau_0^2}}{\\frac{n}{\\sigma^2} + \\frac{1}{\\tau_0^2}} = \\frac{\\frac{70 n }{10^2} + \\frac{80}{15^2}}{\\frac{n}{10^2} + \\frac{1}{15^2}},$$\n",
        "\n",
        "\n",
        "where $\\bar{y}$ = 70, is the average of the obsrevations."
      ],
      "metadata": {
        "id": "jZ49RAFGc179"
      }
    },
    {
      "cell_type": "code",
      "source": [
        "#Answer-2.2\n",
        "#for n=10\n",
        "\n",
        "import numpy as np\n",
        "n =10\n",
        "\n",
        "#Let's directly write the values according to results found in Answer-2.1\n",
        "post_var = ((n/10**2) + (1/15**2))**(-1)\n",
        "post_mu = ((70*n/100) + (80/225)) / ((n/100)+ (1/225))\n",
        "print(\"Posterior variance=\",post_var)\n",
        "print(\"Posterior mu =\",post_mu,\"\\n\")\n",
        "\n",
        "post_samples = np.random.normal(post_mu, np.sqrt(post_var), 10)\n",
        "\n",
        "sample_stats = np.quantile(post_samples, [0.05, 0.95])\n",
        "print(\"95% post CI (n=10):\",sample_stats[0], sample_stats[1])\n"
      ],
      "metadata": {
        "colab": {
          "base_uri": "https://localhost:8080/"
        },
        "id": "t9mCHzu5X8Mn",
        "outputId": "e47b39ff-c019-4cca-e9cc-5aac0270c0f2"
      },
      "execution_count": 8,
      "outputs": [
        {
          "output_type": "stream",
          "name": "stdout",
          "text": [
            "Posterior variance= 9.574468085106382\n",
            "Posterior mu = 70.42553191489361 \n",
            "\n",
            "95% post CI (n=10): 65.1096413416496 73.04493454830755\n"
          ]
        }
      ]
    },
    {
      "cell_type": "code",
      "source": [
        "#Answer-2.2\n",
        "#for n=100\n",
        "\n",
        "import numpy as np\n",
        "n =100\n",
        "\n",
        "#Let's directly write the values according to results found in Answer-2.1\n",
        "post_var = ((n/10**2) + (1/15**2))**(-1)\n",
        "post_mu = ((70*n/100) + (80/225)) / ((n/100)+ (1/225))\n",
        "print(\"Posterior variance=\",post_var)\n",
        "print(\"Posterior mu =\",post_mu,\"\\n\")\n",
        "\n",
        "post_samples = np.random.normal(post_mu, np.sqrt(post_var), 10)\n",
        "\n",
        "sample_stats = np.quantile(post_samples, [0.05, 0.95])\n",
        "print(\"95% post CI (n=100):\",sample_stats[0], sample_stats[1])"
      ],
      "metadata": {
        "colab": {
          "base_uri": "https://localhost:8080/"
        },
        "id": "ZVIlg31ps4VI",
        "outputId": "6b4f762e-9746-447b-8fc4-6c9b78bf972a"
      },
      "execution_count": 9,
      "outputs": [
        {
          "output_type": "stream",
          "name": "stdout",
          "text": [
            "Posterior variance= 0.995575221238938\n",
            "Posterior mu = 70.04424778761062 \n",
            "\n",
            "95% post CI (n=100): 69.23533872174924 70.66369009781579\n"
          ]
        }
      ]
    },
    {
      "cell_type": "markdown",
      "metadata": {
        "id": "PAJ2yOAaVIP9"
      },
      "source": [
        "## Exercise 3\n",
        "\n",
        "Suppose your prior distribution for $\\theta$, the proportion of Californians who support the death penalty, is Beta with mean 0.6 and standard deviation 0.3.\n",
        "\n",
        "**1) Determine the parameters $\\alpha$ and $\\beta$ of your prior distribution and plot it.**\n",
        "\n",
        "**2) A random sample of 1000 Californians is taken, 65% support the death peanlty. What are your posterior mean and variance ? Plot the posterior density function.**\n",
        "\n",
        "**3) Examine the impact of the prior parameters on the posterior distribution through different statistics (i.e mean, median, 95% posterior interval).**"
      ]
    },
    {
      "cell_type": "markdown",
      "source": [
        "**ANSWER-3.1:**\n",
        "\n",
        "The Beta distribution's expectation is $\\mathbf{E}(Beta(\\theta|\\alpha, \\beta)) = \\frac{\\alpha}{\\alpha+\\beta}$, \n",
        "\n",
        "and the variance is $Var(Beta(\\theta|\\alpha, \\beta)) = \\frac{\\alpha\\beta}{(\\alpha + \\beta)^2(\\alpha + \\beta + 1)}$.\n",
        "\n",
        "So, we have\n",
        "\n",
        "$ \\frac{\\alpha}{\\alpha+\\beta} = 0.6$ and $\\frac{\\alpha\\beta}{(\\alpha + \\beta)^2(\\alpha + \\beta + 1)} = (0.3)^2 = 0.09$\n",
        "\n",
        "From the first equation $\\alpha = \\frac{3 \\beta}{2}$. If we solve the second equation, we have $\\beta =2/3$ and $\\alpha = 1$.\n",
        "\n",
        "Our prior becomes: $p(\\theta)= Beta(\\theta |\\alpha ,\\beta) $ with $\\beta =2/3$ and $\\alpha = 1$."
      ],
      "metadata": {
        "id": "GoVaommSX9FK"
      }
    },
    {
      "cell_type": "code",
      "source": [
        "#Answer-3.1 plotting\n",
        "\n",
        "from scipy.special import beta as B\n",
        "import numpy as np\n",
        "import matplotlib.pyplot as plt\n",
        "import pandas as pd\n",
        "%matplotlib inline\n",
        "\n",
        "\n",
        "prior_alpha = 1\n",
        "prior_beta = 2/3\n",
        "#Let's define theta as:\n",
        "theta = np.arange(0,1,.01)\n",
        "\n",
        "#The Beta distribution formula is:\n",
        "Beta_prior = theta**(prior_alpha-1)*(1-theta)**(prior_beta-1)/B(prior_alpha, prior_beta)\n",
        "#Let's plot it:\n",
        "plt.plot(theta,Beta_prior, label=\"Beta prior\")\n",
        "plt.title('Beta prior distribution''\\n'r'$\\alpha=$' + str(prior_alpha) + r'$, \\beta=$' + str(prior_beta))\n",
        "plt.ylabel(r'$Beta(theta|\\alpha,\\beta)$')\n",
        "plt.xlabel('theta')\n",
        "plt.legend()\n",
        "plt.show()"
      ],
      "metadata": {
        "colab": {
          "base_uri": "https://localhost:8080/",
          "height": 312
        },
        "id": "pYX7dKeYX8Yg",
        "outputId": "99a60947-3936-4e9e-af2f-178a128c55c6"
      },
      "execution_count": 10,
      "outputs": [
        {
          "output_type": "display_data",
          "data": {
            "text/plain": [
              "<Figure size 432x288 with 1 Axes>"
            ],
            "image/png": "[encoded data removed]"
          },
          "metadata": {
            "needs_background": "light"
          }
        }
      ]
    },
    {
      "cell_type": "markdown",
      "source": [
        "**ANSWER-3.2:**\n",
        "\n",
        "2) A random sample of 1000 Californians is taken, 65% support the death peanlty. What are your posterior mean and variance ? Plot the posterior density function.\n",
        "\n",
        "Our posterior is:\n",
        "\n",
        " $ p(\\theta | y) = Beta(\\theta|y + \\alpha, n − y + \\beta)$ where $n=1000$ and $y=650$. So it becomes:\n",
        "\n",
        " $$ p(\\theta | y) = Beta(\\theta|651, 350 + (2/3))$$\n",
        "\n"
      ],
      "metadata": {
        "id": "2ApkCOn4c2G2"
      }
    },
    {
      "cell_type": "code",
      "source": [
        "#The posterior mean and variance:\n",
        "\n",
        "post_alpha = 650+ prior_alpha\n",
        "post_beta = 350.+ prior_beta\n",
        "post_beta_mean = post_alpha /(post_alpha + post_beta)\n",
        "post_beta_variance = (post_alpha * post_beta) / ((post_alpha + post_beta)**2 * (post_alpha + post_beta + 1))\n",
        "print(\"Prior Beta Mean = \",post_beta_mean)\n",
        "print(\"Prior Beta Variance = \",post_beta_variance)\n",
        "\n",
        "\n",
        "Beta_post = theta**(post_alpha-1)*(1-theta)**(post_beta - 1)/B(post_alpha, post_beta)\n",
        "\n",
        "#Let's plot it:\n",
        "plt.plot(theta,Beta_post,  label =\"Beta posterior\")\n",
        "plt.plot(theta,Beta_prior, label =\"Beta prior\")\n",
        "plt.title('Beta distribution''\\n'r'$\\alpha=$' + str(post_alpha) + r'$, \\beta=$' + str(post_beta))\n",
        "plt.ylabel(r'$Beta(theta|\\alpha,\\beta)$')\n",
        "plt.xlabel('theta')\n",
        "plt.axvline(x=post_beta_mean, linewidth=0.5, color = 'black', label=\"mean\")\n",
        "plt.legend()\n",
        "plt.show()"
      ],
      "metadata": {
        "colab": {
          "base_uri": "https://localhost:8080/",
          "height": 348
        },
        "id": "01oQQsi8X8au",
        "outputId": "d8b44fd1-bed0-4e16-a9d4-ae82937a4ff1"
      },
      "execution_count": 11,
      "outputs": [
        {
          "output_type": "stream",
          "name": "stdout",
          "text": [
            "Prior Beta Mean =  0.6499168053244592\n",
            "Prior Beta Variance =  0.00022691983192949614\n"
          ]
        },
        {
          "output_type": "display_data",
          "data": {
            "text/plain": [
              "<Figure size 432x288 with 1 Axes>"
            ],
            "image/png": "[encoded data removed]"
          },
          "metadata": {
            "needs_background": "light"
          }
        }
      ]
    },
    {
      "cell_type": "markdown",
      "source": [
        "**ANSWER-3.3:**\n",
        "\n",
        "3) Examine the impact of the prior parameters on the posterior distribution through different statistics (i.e mean, median, 95% posterior interval)."
      ],
      "metadata": {
        "id": "3WObk8kairZJ"
      }
    },
    {
      "cell_type": "code",
      "source": [
        "n =1000\n",
        "y = 650\n",
        "\n",
        "alpha_prior = [1,10,50,100]\n",
        "beta_prior = [1,10,50,100]\n",
        "pairs = [[ai, bi] for ai in alpha_prior for bi in beta_prior]\n",
        "\n",
        "results = []\n",
        "\n",
        "for a,b in pairs:\n",
        "    post_alpha = y + a -1\n",
        "    post_beta = n + b - y -1\n",
        "    sample_posterior = np.random.beta(post_alpha, post_beta, size=500) \n",
        "    sample_stats = np.quantile(sample_posterior, [0.05, 0.5, 0.95])\n",
        "    results.append([a,b, a/(a+b), sample_stats[1], [sample_stats[0], sample_stats[2]]])\n",
        "\n",
        "pd.DataFrame(results, columns=['alpha', 'beta', 'prior mean', 'post median','95% post CI'])"
      ],
      "metadata": {
        "colab": {
          "base_uri": "https://localhost:8080/",
          "height": 551
        },
        "id": "WWyGEKQpXeBh",
        "outputId": "e59075f1-093a-4edb-9145-80974175bf5a"
      },
      "execution_count": 12,
      "outputs": [
        {
          "output_type": "execute_result",
          "data": {
            "text/plain": [
              "    alpha  beta  prior mean  post median  \\\n",
              "0       1     1    0.500000     0.648108   \n",
              "1       1    10    0.090909     0.644635   \n",
              "2       1    50    0.019608     0.618695   \n",
              "3       1   100    0.009901     0.592100   \n",
              "4      10     1    0.909091     0.653949   \n",
              "5      10    10    0.500000     0.646836   \n",
              "6      10    50    0.166667     0.622157   \n",
              "7      10   100    0.090909     0.594599   \n",
              "8      50     1    0.980392     0.665655   \n",
              "9      50    10    0.833333     0.660772   \n",
              "10     50    50    0.500000     0.636370   \n",
              "11     50   100    0.333333     0.609841   \n",
              "12    100     1    0.990099     0.680701   \n",
              "13    100    10    0.909091     0.676346   \n",
              "14    100    50    0.666667     0.652559   \n",
              "15    100   100    0.500000     0.625597   \n",
              "\n",
              "                                 95% post CI  \n",
              "0   [0.6254201668186204, 0.6764666043944779]  \n",
              "1   [0.6187740684903827, 0.6676608588998948]  \n",
              "2   [0.5962598065679118, 0.6461212993506268]  \n",
              "3   [0.5675733767459386, 0.6147360260452448]  \n",
              "4   [0.6318011494021741, 0.6765286963234853]  \n",
              "5   [0.6232227373150487, 0.6701740026286431]  \n",
              "6   [0.5992306079761578, 0.6452468327794314]  \n",
              "7   [0.5715298964455059, 0.6208690538684474]  \n",
              "8   [0.6401716570963475, 0.6915601856434519]  \n",
              "9   [0.6350121284354392, 0.6848927431429055]  \n",
              "10  [0.6142626326978239, 0.6585299610864183]  \n",
              "11  [0.5856492593254066, 0.6336803227209066]  \n",
              "12   [0.6582807348270282, 0.705080817739331]  \n",
              "13  [0.6519864180924807, 0.6994577101598067]  \n",
              "14  [0.6321344077912445, 0.6751054129215737]  \n",
              "15  [0.5987494634953879, 0.6475181091729241]  "
            ],
            "text/html": [
              "\n",
              "  <div id=\"df-acdf4afb-8996-4fff-9361-1860045ed166\">\n",
              "    <div class=\"colab-df-container\">\n",
              "      <div>\n",
              "<style scoped>\n",
              "    .dataframe tbody tr th:only-of-type {\n",
              "        vertical-align: middle;\n",
              "    }\n",
              "\n",
              "    .dataframe tbody tr th {\n",
              "        vertical-align: top;\n",
              "    }\n",
              "\n",
              "    .dataframe thead th {\n",
              "        text-align: right;\n",
              "    }\n",
              "</style>\n",
              "<table border=\"1\" class=\"dataframe\">\n",
              "  <thead>\n",
              "    <tr style=\"text-align: right;\">\n",
              "      <th></th>\n",
              "      <th>alpha</th>\n",
              "      <th>beta</th>\n",
              "      <th>prior mean</th>\n",
              "      <th>post median</th>\n",
              "      <th>95% post CI</th>\n",
              "    </tr>\n",
              "  </thead>\n",
              "  <tbody>\n",
              "    <tr>\n",
              "      <th>0</th>\n",
              "      <td>1</td>\n",
              "      <td>1</td>\n",
              "      <td>0.500000</td>\n",
              "      <td>0.648108</td>\n",
              "      <td>[0.6254201668186204, 0.6764666043944779]</td>\n",
              "    </tr>\n",
              "    <tr>\n",
              "      <th>1</th>\n",
              "      <td>1</td>\n",
              "      <td>10</td>\n",
              "      <td>0.090909</td>\n",
              "      <td>0.644635</td>\n",
              "      <td>[0.6187740684903827, 0.6676608588998948]</td>\n",
              "    </tr>\n",
              "    <tr>\n",
              "      <th>2</th>\n",
              "      <td>1</td>\n",
              "      <td>50</td>\n",
              "      <td>0.019608</td>\n",
              "      <td>0.618695</td>\n",
              "      <td>[0.5962598065679118, 0.6461212993506268]</td>\n",
              "    </tr>\n",
              "    <tr>\n",
              "      <th>3</th>\n",
              "      <td>1</td>\n",
              "      <td>100</td>\n",
              "      <td>0.009901</td>\n",
              "      <td>0.592100</td>\n",
              "      <td>[0.5675733767459386, 0.6147360260452448]</td>\n",
              "    </tr>\n",
              "    <tr>\n",
              "      <th>4</th>\n",
              "      <td>10</td>\n",
              "      <td>1</td>\n",
              "      <td>0.909091</td>\n",
              "      <td>0.653949</td>\n",
              "      <td>[0.6318011494021741, 0.6765286963234853]</td>\n",
              "    </tr>\n",
              "    <tr>\n",
              "      <th>5</th>\n",
              "      <td>10</td>\n",
              "      <td>10</td>\n",
              "      <td>0.500000</td>\n",
              "      <td>0.646836</td>\n",
              "      <td>[0.6232227373150487, 0.6701740026286431]</td>\n",
              "    </tr>\n",
              "    <tr>\n",
              "      <th>6</th>\n",
              "      <td>10</td>\n",
              "      <td>50</td>\n",
              "      <td>0.166667</td>\n",
              "      <td>0.622157</td>\n",
              "      <td>[0.5992306079761578, 0.6452468327794314]</td>\n",
              "    </tr>\n",
              "    <tr>\n",
              "      <th>7</th>\n",
              "      <td>10</td>\n",
              "      <td>100</td>\n",
              "      <td>0.090909</td>\n",
              "      <td>0.594599</td>\n",
              "      <td>[0.5715298964455059, 0.6208690538684474]</td>\n",
              "    </tr>\n",
              "    <tr>\n",
              "      <th>8</th>\n",
              "      <td>50</td>\n",
              "      <td>1</td>\n",
              "      <td>0.980392</td>\n",
              "      <td>0.665655</td>\n",
              "      <td>[0.6401716570963475, 0.6915601856434519]</td>\n",
              "    </tr>\n",
              "    <tr>\n",
              "      <th>9</th>\n",
              "      <td>50</td>\n",
              "      <td>10</td>\n",
              "      <td>0.833333</td>\n",
              "      <td>0.660772</td>\n",
              "      <td>[0.6350121284354392, 0.6848927431429055]</td>\n",
              "    </tr>\n",
              "    <tr>\n",
              "      <th>10</th>\n",
              "      <td>50</td>\n",
              "      <td>50</td>\n",
              "      <td>0.500000</td>\n",
              "      <td>0.636370</td>\n",
              "      <td>[0.6142626326978239, 0.6585299610864183]</td>\n",
              "    </tr>\n",
              "    <tr>\n",
              "      <th>11</th>\n",
              "      <td>50</td>\n",
              "      <td>100</td>\n",
              "      <td>0.333333</td>\n",
              "      <td>0.609841</td>\n",
              "      <td>[0.5856492593254066, 0.6336803227209066]</td>\n",
              "    </tr>\n",
              "    <tr>\n",
              "      <th>12</th>\n",
              "      <td>100</td>\n",
              "      <td>1</td>\n",
              "      <td>0.990099</td>\n",
              "      <td>0.680701</td>\n",
              "      <td>[0.6582807348270282, 0.705080817739331]</td>\n",
              "    </tr>\n",
              "    <tr>\n",
              "      <th>13</th>\n",
              "      <td>100</td>\n",
              "      <td>10</td>\n",
              "      <td>0.909091</td>\n",
              "      <td>0.676346</td>\n",
              "      <td>[0.6519864180924807, 0.6994577101598067]</td>\n",
              "    </tr>\n",
              "    <tr>\n",
              "      <th>14</th>\n",
              "      <td>100</td>\n",
              "      <td>50</td>\n",
              "      <td>0.666667</td>\n",
              "      <td>0.652559</td>\n",
              "      <td>[0.6321344077912445, 0.6751054129215737]</td>\n",
              "    </tr>\n",
              "    <tr>\n",
              "      <th>15</th>\n",
              "      <td>100</td>\n",
              "      <td>100</td>\n",
              "      <td>0.500000</td>\n",
              "      <td>0.625597</td>\n",
              "      <td>[0.5987494634953879, 0.6475181091729241]</td>\n",
              "    </tr>\n",
              "  </tbody>\n",
              "</table>\n",
              "</div>\n",
              "      <button class=\"colab-df-convert\" onclick=\"convertToInteractive('df-acdf4afb-8996-4fff-9361-1860045ed166')\"\n",
              "              title=\"Convert this dataframe to an interactive table.\"\n",
              "              style=\"display:none;\">\n",
              "        \n",
              "  <svg xmlns=\"http://www.w3.org/2000/svg\" height=\"24px\"viewBox=\"0 0 24 24\"\n",
              "       width=\"24px\">\n",
              "    <path d=\"M0 0h24v24H0V0z\" fill=\"none\"/>\n",
              "    <path d=\"M18.56 5.44l.94 2.06.94-2.06 2.06-.94-2.06-.94-.94-2.06-.94 2.06-2.06.94zm-11 1L8.5 8.5l.94-2.06 2.06-.94-2.06-.94L8.5 2.5l-.94 2.06-2.06.94zm10 10l.94 2.06.94-2.06 2.06-.94-2.06-.94-.94-2.06-.94 2.06-2.06.94z\"/><path d=\"M17.41 7.96l-1.37-1.37c-.4-.4-.92-.59-1.43-.59-.52 0-1.04.2-1.43.59L10.3 9.45l-7.72 7.72c-.78.78-.78 2.05 0 2.83L4 21.41c.39.39.9.59 1.41.59.51 0 1.02-.2 1.41-.59l7.78-7.78 2.81-2.81c.8-.78.8-2.07 0-2.86zM5.41 20L4 18.59l7.72-7.72 1.47 1.35L5.41 20z\"/>\n",
              "  </svg>\n",
              "      </button>\n",
              "      \n",
              "  <style>\n",
              "    .colab-df-container {\n",
              "      display:flex;\n",
              "      flex-wrap:wrap;\n",
              "      gap: 12px;\n",
              "    }\n",
              "\n",
              "    .colab-df-convert {\n",
              "      background-color: #E8F0FE;\n",
              "      border: none;\n",
              "      border-radius: 50%;\n",
              "      cursor: pointer;\n",
              "      display: none;\n",
              "      fill: #1967D2;\n",
              "      height: 32px;\n",
              "      padding: 0 0 0 0;\n",
              "      width: 32px;\n",
              "    }\n",
              "\n",
              "    .colab-df-convert:hover {\n",
              "      background-color: #E2EBFA;\n",
              "      box-shadow: 0px 1px 2px rgba(60, 64, 67, 0.3), 0px 1px 3px 1px rgba(60, 64, 67, 0.15);\n",
              "      fill: #174EA6;\n",
              "    }\n",
              "\n",
              "    [theme=dark] .colab-df-convert {\n",
              "      background-color: #3B4455;\n",
              "      fill: #D2E3FC;\n",
              "    }\n",
              "\n",
              "    [theme=dark] .colab-df-convert:hover {\n",
              "      background-color: #434B5C;\n",
              "      box-shadow: 0px 1px 3px 1px rgba(0, 0, 0, 0.15);\n",
              "      filter: drop-shadow(0px 1px 2px rgba(0, 0, 0, 0.3));\n",
              "      fill: #FFFFFF;\n",
              "    }\n",
              "  </style>\n",
              "\n",
              "      <script>\n",
              "        const buttonEl =\n",
              "          document.querySelector('#df-acdf4afb-8996-4fff-9361-1860045ed166 button.colab-df-convert');\n",
              "        buttonEl.style.display =\n",
              "          google.colab.kernel.accessAllowed ? 'block' : 'none';\n",
              "\n",
              "        async function convertToInteractive(key) {\n",
              "          const element = document.querySelector('#df-acdf4afb-8996-4fff-9361-1860045ed166');\n",
              "          const dataTable =\n",
              "            await google.colab.kernel.invokeFunction('convertToInteractive',\n",
              "                                                     [key], {});\n",
              "          if (!dataTable) return;\n",
              "\n",
              "          const docLinkHtml = 'Like what you see? Visit the ' +\n",
              "            '<a target=\"_blank\" href=https://colab.research.google.com/notebooks/data_table.ipynb>data table notebook</a>'\n",
              "            + ' to learn more about interactive tables.';\n",
              "          element.innerHTML = '';\n",
              "          dataTable['output_type'] = 'display_data';\n",
              "          await google.colab.output.renderOutput(dataTable, element);\n",
              "          const docLink = document.createElement('div');\n",
              "          docLink.innerHTML = docLinkHtml;\n",
              "          element.appendChild(docLink);\n",
              "        }\n",
              "      </script>\n",
              "    </div>\n",
              "  </div>\n",
              "  "
            ]
          },
          "metadata": {},
          "execution_count": 12
        }
      ]
    },
    {
      "cell_type": "markdown",
      "metadata": {
        "id": "7oUzFWncVIP9"
      },
      "source": [
        "## Exercise 4\n",
        "\n",
        "**1) Which of the expressions below correspond to the statement: *the probability of rain on Monday* ?**\n",
        "\n",
        "- Pr(rain)\n",
        "- Pr(rain|Monday)-> THIS ONE. Because we know that it is gonna be Monday, and the question asks probability of rain. (Probability of rain given Monday)\n",
        "- Pr(Monday|rain) \n",
        "- Pr(rain, Monday) / Pr(Monday) -> and THIS ONE. Because Pr(rain, Monday) / Pr(Monday) = Pr(rain|Monday)\n",
        "\n",
        "\n",
        "**2) Which of the following statements corresponds to the expression: *Pr(Monday|rain)* ?**\n",
        "\n",
        "- The probability of rain on Monday. ==> P(rain|Monday) \n",
        "- The probability of rain, given that it is Monday.  ==> P(rain|Monday) \n",
        "- The probability that it is Monday, given that it is raining. ==> P(Monday|rain) (THIS ONE)\n",
        "- The probability that it is Monday and it is raining.==> P(Monday, rain)\n",
        "\n",
        "\n",
        "So the ANSWER is the 3rd one.\n",
        "\n",
        "**3) Which of the expressions below correspond to the statement: *the probability that it is Monday, given that it is raining* ?**\n",
        "\n",
        "- Pr(Monday|rain) YES\n",
        "- Pr(rain|Monday) NO\n",
        "- Pr(rain | Monday)Pr(Monday) NO\n",
        "- Pr(rain | Monday)Pr(Monday)/Pr(rain) YES\n",
        "- Pr(Monday|rain)Pr(rain)/Pr(Monday) NO"
      ]
    },
    {
      "cell_type": "markdown",
      "metadata": {
        "id": "8DptocZkVIP9"
      },
      "source": [
        "## Exercise 5\n",
        "\n",
        "Suppose there are two species of panda bear. Both are equally common in the wild and live in the same places. They look exactly alike and eat the same food, and there is yet no genetic assay capable of telling them appart. They differ however in their family sizes. Species A gives birth to twins 10% of the time, otherwise birthing a single infant. Species B births twins 20% of the time, otherwise birthing singleton infants. Assume these numbers are known with certainty, from many years of field research. Now suppose you are managing a captive panda breeding program. You have a new female panda of unknown species, and she has just given birth to twins. \n",
        "\n",
        "**What is the probability that her next birth will also be twins ?**"
      ]
    },
    {
      "cell_type": "code",
      "source": [
        "\n",
        "#For the first birth, the likelihood of species A to give birth to twins is:\n",
        "a_likelihood = 0.1\n",
        "#For the first birth, the likelihood of species B to give birth to twins is:\n",
        "b_likelihood = 0.2\n",
        "likelihood = np.array([a_likelihood, b_likelihood])\n",
        "\n",
        "#Assume species are equally likely accroding to given information in the question\n",
        "prior = np.array([1, 1]) \n",
        "\n",
        "#Calculate the posterior and normalize it:\n",
        "posterior = likelihood * prior\n",
        "posterior = posterior / sum(posterior)\n",
        "print(posterior)\n",
        "\n",
        "##The probability the next birth is twins is=(The probability the panda belongs to each species) * (The likelihood each species gives birth to twins)\n",
        "result = (posterior[0] * a_likelihood) + (posterior[1] * b_likelihood)\n",
        "print(\"the probability that her next birth will also be twins is\", result)"
      ],
      "metadata": {
        "colab": {
          "base_uri": "https://localhost:8080/"
        },
        "id": "reBIt2IQryGB",
        "outputId": "ba608e23-5038-49c8-f2d2-77db3710e6b0"
      },
      "execution_count": 13,
      "outputs": [
        {
          "output_type": "stream",
          "name": "stdout",
          "text": [
            "[0.33333333 0.66666667]\n",
            "the probability that her next birth will also be twins is 0.16666666666666666\n"
          ]
        }
      ]
    },
    {
      "cell_type": "code",
      "source": [],
      "metadata": {
        "id": "RkThvTX5sDvX"
      },
      "execution_count": 13,
      "outputs": []
    }
  ],
  "metadata": {
    "kernelspec": {
      "display_name": "Python 2",
      "language": "python",
      "name": "python2"
    },
    "language_info": {
      "codemirror_mode": {
        "name": "ipython",
        "version": 2
      },
      "file_extension": ".py",
      "mimetype": "text/x-python",
      "name": "python",
      "nbconvert_exporter": "python",
      "pygments_lexer": "ipython2",
      "version": "2.7.15"
    },
    "colab": {
      "provenance": [],
      "collapsed_sections": []
    }
  },
  "nbformat": 4,
  "nbformat_minor": 0
}